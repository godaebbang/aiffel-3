{
 "cells": [
  {
   "cell_type": "code",
   "execution_count": 1,
   "metadata": {
    "id": "8KJOB6nYFM_0"
   },
   "outputs": [],
   "source": [
    "import tensorflow as tf\n",
    "import tensorflow_datasets as tfds\n",
    "import os\n",
    "import re\n",
    "import numpy as np\n",
    "import matplotlib.pyplot as plt"
   ]
  },
  {
   "cell_type": "code",
   "execution_count": 2,
   "metadata": {},
   "outputs": [],
   "source": [
    "# 포지셔널 인코딩 레이어\n",
    "class PositionalEncoding(tf.keras.layers.Layer):\n",
    "\n",
    "    def __init__(self, position, d_model):\n",
    "        super(PositionalEncoding, self).__init__()\n",
    "        self.pos_encoding = self.positional_encoding(position, d_model)\n",
    "\n",
    "    def get_angles(self, position, i, d_model):\n",
    "        angles = 1 / tf.pow(10000, (2 * (i // 2)) / tf.cast(d_model, tf.float32))\n",
    "        return position * angles\n",
    "\n",
    "    def positional_encoding(self, position, d_model):\n",
    "        angle_rads = self.get_angles(\n",
    "            position=tf.range(position, dtype=tf.float32)[:, tf.newaxis],\n",
    "            i=tf.range(d_model, dtype=tf.float32)[tf.newaxis, :],\n",
    "            d_model=d_model)\n",
    "        # 배열의 짝수 인덱스에는 sin 함수 적용\n",
    "        sines = tf.math.sin(angle_rads[:, 0::2])\n",
    "        # 배열의 홀수 인덱스에는 cosine 함수 적용\n",
    "        cosines = tf.math.cos(angle_rads[:, 1::2])\n",
    "\n",
    "        pos_encoding = tf.concat([sines, cosines], axis=-1)\n",
    "        pos_encoding = pos_encoding[tf.newaxis, ...]\n",
    "        return tf.cast(pos_encoding, tf.float32)\n",
    "\n",
    "    def call(self, inputs):\n",
    "        return inputs + self.pos_encoding[:, :tf.shape(inputs)[1], :]"
   ]
  },
  {
   "cell_type": "code",
   "execution_count": 3,
   "metadata": {
    "id": "4GcAasBtK810"
   },
   "outputs": [],
   "source": [
    "# 스케일드 닷 프로덕트 어텐션 함수\n",
    "def scaled_dot_product_attention(query, key, value, mask):\n",
    "    matmul_qk = tf.matmul(query, key, transpose_b=True)\n",
    "\n",
    "    # scale matmul_qk\n",
    "    depth = tf.cast(tf.shape(key)[-1], tf.float32)\n",
    "    logits = matmul_qk / tf.math.sqrt(depth)\n",
    "\n",
    "    # add the mask to zero out padding tokens\n",
    "    if mask is not None:\n",
    "        logits += (mask * -1e9)\n",
    "\n",
    "    # softmax is normalized on the last axis (seq_len_k)\n",
    "    attention_weights = tf.nn.softmax(logits, axis=-1)\n",
    "\n",
    "    output = tf.matmul(attention_weights, value)\n",
    "\n",
    "    return output"
   ]
  },
  {
   "cell_type": "code",
   "execution_count": 4,
   "metadata": {
    "id": "rOpAvZAUWOXB"
   },
   "outputs": [],
   "source": [
    "class MultiHeadAttention(tf.keras.layers.Layer):\n",
    "\n",
    "    def __init__(self, d_model, num_heads, name=\"multi_head_attention\"):\n",
    "        super(MultiHeadAttention, self).__init__(name=name)\n",
    "        self.num_heads = num_heads\n",
    "        self.d_model = d_model\n",
    "\n",
    "        assert d_model % self.num_heads == 0\n",
    "\n",
    "        self.depth = d_model // self.num_heads\n",
    "\n",
    "        self.query_dense = tf.keras.layers.Dense(units=d_model)\n",
    "        self.key_dense = tf.keras.layers.Dense(units=d_model)\n",
    "        self.value_dense = tf.keras.layers.Dense(units=d_model)\n",
    "\n",
    "        self.dense = tf.keras.layers.Dense(units=d_model)\n",
    "\n",
    "    def split_heads(self, inputs, batch_size):\n",
    "        inputs = tf.reshape(\n",
    "            inputs, shape=(batch_size, -1, self.num_heads, self.depth))\n",
    "        return tf.transpose(inputs, perm=[0, 2, 1, 3])\n",
    "\n",
    "    def call(self, inputs):\n",
    "        query, key, value, mask = inputs['query'], inputs['key'], inputs[\n",
    "            'value'], inputs['mask']\n",
    "        batch_size = tf.shape(query)[0]\n",
    "\n",
    "        # linear layers\n",
    "        query = self.query_dense(query)\n",
    "        key = self.key_dense(key)\n",
    "        value = self.value_dense(value)\n",
    "\n",
    "        # 병렬 연산을 위한 머리를 여러 개 만듭니다.\n",
    "        query = self.split_heads(query, batch_size)\n",
    "        key = self.split_heads(key, batch_size)\n",
    "        value = self.split_heads(value, batch_size)\n",
    "\n",
    "        # 스케일드 닷 프로덕트 어텐션 함수\n",
    "        scaled_attention = scaled_dot_product_attention(query, key, value, mask)\n",
    "\n",
    "        scaled_attention = tf.transpose(scaled_attention, perm=[0, 2, 1, 3])\n",
    "\n",
    "        # 어텐션 연산 후에 각 결과를 다시 연결(concatenate)합니다.\n",
    "        concat_attention = tf.reshape(scaled_attention,\n",
    "                                      (batch_size, -1, self.d_model))\n",
    "\n",
    "        # final linear layer\n",
    "        outputs = self.dense(concat_attention)\n",
    "\n",
    "        return outputs"
   ]
  },
  {
   "cell_type": "markdown",
   "metadata": {
    "id": "r9Bsr8aVYYHW"
   },
   "source": [
    "## 패딩 마스크"
   ]
  },
  {
   "cell_type": "code",
   "execution_count": 5,
   "metadata": {
    "id": "wKvoPX2JXdXQ"
   },
   "outputs": [],
   "source": [
    "def create_padding_mask(x):\n",
    "    mask = tf.cast(tf.math.equal(x, 0), tf.float32)\n",
    "    # (batch_size, 1, 1, sequence length)\n",
    "    return mask[:, tf.newaxis, tf.newaxis, :]"
   ]
  },
  {
   "cell_type": "code",
   "execution_count": 6,
   "metadata": {
    "colab": {
     "base_uri": "https://localhost:8080/"
    },
    "id": "g0HhfoVMXodt",
    "outputId": "46d4f5ea-4677-4f34-d765-183c4d539250"
   },
   "outputs": [
    {
     "name": "stdout",
     "output_type": "stream",
     "text": [
      "tf.Tensor(\n",
      "[[[[0. 0. 1. 0. 1.]]]\n",
      "\n",
      "\n",
      " [[[1. 1. 1. 0. 0.]]]], shape=(2, 1, 1, 5), dtype=float32)\n"
     ]
    }
   ],
   "source": [
    "print(create_padding_mask(tf.constant([[1, 2, 0, 3, 0], [0, 0, 0, 4, 5]])))"
   ]
  },
  {
   "cell_type": "markdown",
   "metadata": {
    "id": "cVnw6gbeXqfZ"
   },
   "source": [
    "## Look ahead masking"
   ]
  },
  {
   "cell_type": "code",
   "execution_count": 7,
   "metadata": {
    "id": "v9nR-ArIYfHc"
   },
   "outputs": [],
   "source": [
    "def create_look_ahead_mask(x):\n",
    "    seq_len = tf.shape(x)[1]\n",
    "    look_ahead_mask = 1 - tf.linalg.band_part(tf.ones((seq_len, seq_len)), -1, 0)\n",
    "    padding_mask = create_padding_mask(x)\n",
    "    return tf.maximum(look_ahead_mask, padding_mask)"
   ]
  },
  {
   "cell_type": "code",
   "execution_count": 8,
   "metadata": {
    "colab": {
     "base_uri": "https://localhost:8080/"
    },
    "id": "Oj5lzJkCYhx-",
    "outputId": "c3599fe8-0c0f-4235-c7c5-94d5eba2d705"
   },
   "outputs": [
    {
     "name": "stdout",
     "output_type": "stream",
     "text": [
      "tf.Tensor(\n",
      "[[[[0. 1. 1. 1. 1.]\n",
      "   [0. 0. 1. 1. 1.]\n",
      "   [0. 0. 0. 1. 1.]\n",
      "   [0. 0. 0. 0. 1.]\n",
      "   [0. 0. 0. 0. 0.]]]], shape=(1, 1, 5, 5), dtype=float32)\n"
     ]
    }
   ],
   "source": [
    "print(create_look_ahead_mask(tf.constant([[1, 2, 3, 4, 5]])))"
   ]
  },
  {
   "cell_type": "code",
   "execution_count": 9,
   "metadata": {
    "colab": {
     "base_uri": "https://localhost:8080/"
    },
    "id": "MPUBqwjMYjFL",
    "outputId": "8724b7c3-761f-429c-ee03-cadb5cd30ac7"
   },
   "outputs": [
    {
     "name": "stdout",
     "output_type": "stream",
     "text": [
      "tf.Tensor(\n",
      "[[[[1. 1. 1. 1. 1.]\n",
      "   [1. 0. 1. 1. 1.]\n",
      "   [1. 0. 0. 1. 1.]\n",
      "   [1. 0. 0. 0. 1.]\n",
      "   [1. 0. 0. 0. 0.]]]], shape=(1, 1, 5, 5), dtype=float32)\n"
     ]
    }
   ],
   "source": [
    "print(create_look_ahead_mask(tf.constant([[0, 5, 1, 5, 5]])))"
   ]
  },
  {
   "cell_type": "markdown",
   "metadata": {
    "id": "u7VlmBBvYlrC"
   },
   "source": [
    "## encoder"
   ]
  },
  {
   "cell_type": "code",
   "execution_count": 10,
   "metadata": {
    "id": "hO43GH4IY6GY"
   },
   "outputs": [],
   "source": [
    "# 인코더 하나의 레이어를 함수로 구현.\n",
    "# 이 하나의 레이어 안에는 두 개의 서브 레이어가 존재합니다.\n",
    "def encoder_layer(units, d_model, num_heads, dropout, name=\"encoder_layer\"):\n",
    "    inputs = tf.keras.Input(shape=(None, d_model), name=\"inputs\")\n",
    "\n",
    "    # 패딩 마스크 사용\n",
    "    padding_mask = tf.keras.Input(shape=(1, 1, None), name=\"padding_mask\")\n",
    "\n",
    "    # 첫 번째 서브 레이어 : 멀티 헤드 어텐션 수행 (셀프 어텐션)\n",
    "    attention = MultiHeadAttention(\n",
    "      d_model, num_heads, name=\"attention\")({\n",
    "          'query': inputs,\n",
    "          'key': inputs,\n",
    "          'value': inputs,\n",
    "          'mask': padding_mask\n",
    "      })\n",
    "\n",
    "    # 어텐션의 결과는 Dropout과 Layer Normalization이라는 훈련을 돕는 테크닉을 수행\n",
    "    attention = tf.keras.layers.Dropout(rate=dropout)(attention)\n",
    "    attention = tf.keras.layers.LayerNormalization(\n",
    "      epsilon=1e-6)(inputs + attention)\n",
    "\n",
    "    # 두 번째 서브 레이어 : 2개의 완전연결층\n",
    "    outputs = tf.keras.layers.Dense(units=units, activation='relu')(attention)\n",
    "    outputs = tf.keras.layers.Dense(units=d_model)(outputs)\n",
    "\n",
    "    # 완전연결층의 결과는 Dropout과 LayerNormalization이라는 훈련을 돕는 테크닉을 수행\n",
    "    outputs = tf.keras.layers.Dropout(rate=dropout)(outputs)\n",
    "    outputs = tf.keras.layers.LayerNormalization(\n",
    "      epsilon=1e-6)(attention + outputs)\n",
    "\n",
    "    return tf.keras.Model(\n",
    "      inputs=[inputs, padding_mask], outputs=outputs, name=name)"
   ]
  },
  {
   "cell_type": "code",
   "execution_count": 11,
   "metadata": {
    "id": "KMMN7c4EY66J"
   },
   "outputs": [],
   "source": [
    "def encoder(vocab_size,\n",
    "            num_layers,\n",
    "            units,\n",
    "            d_model,\n",
    "            num_heads,\n",
    "            dropout,\n",
    "            name=\"encoder\"):\n",
    "    inputs = tf.keras.Input(shape=(None,), name=\"inputs\")\n",
    "\n",
    "    # 패딩 마스크 사용\n",
    "    padding_mask = tf.keras.Input(shape=(1, 1, None), name=\"padding_mask\")\n",
    "\n",
    "    # 임베딩 레이어\n",
    "    embeddings = tf.keras.layers.Embedding(vocab_size, d_model)(inputs)\n",
    "    embeddings *= tf.math.sqrt(tf.cast(d_model, tf.float32))\n",
    "\n",
    "    # 포지셔널 인코딩\n",
    "    embeddings = PositionalEncoding(vocab_size, d_model)(embeddings)\n",
    "\n",
    "    outputs = tf.keras.layers.Dropout(rate=dropout)(embeddings)\n",
    "\n",
    "    # num_layers만큼 쌓아올린 인코더의 층.\n",
    "    for i in range(num_layers):\n",
    "        outputs = encoder_layer(\n",
    "            units=units,\n",
    "            d_model=d_model,\n",
    "            num_heads=num_heads,\n",
    "            dropout=dropout,\n",
    "            name=\"encoder_layer_{}\".format(i),\n",
    "        )([outputs, padding_mask])\n",
    "\n",
    "    return tf.keras.Model(\n",
    "      inputs=[inputs, padding_mask], outputs=outputs, name=name)"
   ]
  },
  {
   "cell_type": "markdown",
   "metadata": {
    "id": "ORQQN36NZg52"
   },
   "source": [
    "## decoder"
   ]
  },
  {
   "cell_type": "code",
   "execution_count": 12,
   "metadata": {
    "id": "TbaSVIEbZO0B"
   },
   "outputs": [],
   "source": [
    "# 디코더 하나의 레이어를 함수로 구현.\n",
    "# 이 하나의 레이어 안에는 세 개의 서브 레이어가 존재합니다.\n",
    "def decoder_layer(units, d_model, num_heads, dropout, name=\"decoder_layer\"):\n",
    "    inputs = tf.keras.Input(shape=(None, d_model), name=\"inputs\")\n",
    "    enc_outputs = tf.keras.Input(shape=(None, d_model), name=\"encoder_outputs\")\n",
    "    look_ahead_mask = tf.keras.Input(\n",
    "      shape=(1, None, None), name=\"look_ahead_mask\")\n",
    "    padding_mask = tf.keras.Input(shape=(1, 1, None), name='padding_mask')\n",
    "\n",
    "    # 첫 번째 서브 레이어 : 멀티 헤드 어텐션 수행 (셀프 어텐션)\n",
    "    attention1 = MultiHeadAttention(\n",
    "      d_model, num_heads, name=\"attention_1\")(inputs={\n",
    "          'query': inputs,\n",
    "          'key': inputs,\n",
    "          'value': inputs,\n",
    "          'mask': look_ahead_mask\n",
    "      })\n",
    "\n",
    "    # 멀티 헤드 어텐션의 결과는 LayerNormalization이라는 훈련을 돕는 테크닉을 수행\n",
    "    attention1 = tf.keras.layers.LayerNormalization(\n",
    "      epsilon=1e-6)(attention1 + inputs)\n",
    "\n",
    "    # 두 번째 서브 레이어 : 마스크드 멀티 헤드 어텐션 수행 (인코더-디코더 어텐션)\n",
    "    attention2 = MultiHeadAttention(\n",
    "      d_model, num_heads, name=\"attention_2\")(inputs={\n",
    "          'query': attention1,\n",
    "          'key': enc_outputs,\n",
    "          'value': enc_outputs,\n",
    "          'mask': padding_mask\n",
    "      })\n",
    "\n",
    "    # 마스크드 멀티 헤드 어텐션의 결과는\n",
    "    # Dropout과 LayerNormalization이라는 훈련을 돕는 테크닉을 수행\n",
    "    attention2 = tf.keras.layers.Dropout(rate=dropout)(attention2)\n",
    "    attention2 = tf.keras.layers.LayerNormalization(\n",
    "      epsilon=1e-6)(attention2 + attention1)\n",
    "\n",
    "    # 세 번째 서브 레이어 : 2개의 완전연결층\n",
    "    outputs = tf.keras.layers.Dense(units=units, activation='relu')(attention2)\n",
    "    outputs = tf.keras.layers.Dense(units=d_model)(outputs)\n",
    "\n",
    "    # 완전연결층의 결과는 Dropout과 LayerNormalization 수행\n",
    "    outputs = tf.keras.layers.Dropout(rate=dropout)(outputs)\n",
    "    outputs = tf.keras.layers.LayerNormalization(\n",
    "      epsilon=1e-6)(outputs + attention2)\n",
    "\n",
    "    return tf.keras.Model(\n",
    "      inputs=[inputs, enc_outputs, look_ahead_mask, padding_mask],\n",
    "      outputs=outputs,\n",
    "      name=name)"
   ]
  },
  {
   "cell_type": "code",
   "execution_count": 13,
   "metadata": {
    "id": "AGSiGrXlZf6N"
   },
   "outputs": [],
   "source": [
    "def decoder(vocab_size,\n",
    "            num_layers,\n",
    "            units,\n",
    "            d_model,\n",
    "            num_heads,\n",
    "            dropout,\n",
    "            name='decoder'):\n",
    "    inputs = tf.keras.Input(shape=(None,), name='inputs')\n",
    "    enc_outputs = tf.keras.Input(shape=(None, d_model), name='encoder_outputs')\n",
    "    look_ahead_mask = tf.keras.Input(\n",
    "      shape=(1, None, None), name='look_ahead_mask')\n",
    "\n",
    "    # 패딩 마스크\n",
    "    padding_mask = tf.keras.Input(shape=(1, 1, None), name='padding_mask')\n",
    "\n",
    "    # 임베딩 레이어\n",
    "    embeddings = tf.keras.layers.Embedding(vocab_size, d_model)(inputs)\n",
    "    embeddings *= tf.math.sqrt(tf.cast(d_model, tf.float32))\n",
    "\n",
    "    # 포지셔널 인코딩\n",
    "    embeddings = PositionalEncoding(vocab_size, d_model)(embeddings)\n",
    "\n",
    "    # Dropout이라는 훈련을 돕는 테크닉을 수행\n",
    "    outputs = tf.keras.layers.Dropout(rate=dropout)(embeddings)\n",
    "\n",
    "    for i in range(num_layers):\n",
    "        outputs = decoder_layer(\n",
    "            units=units,\n",
    "            d_model=d_model,\n",
    "            num_heads=num_heads,\n",
    "            dropout=dropout,\n",
    "            name='decoder_layer_{}'.format(i),\n",
    "        )(inputs=[outputs, enc_outputs, look_ahead_mask, padding_mask])\n",
    "\n",
    "    return tf.keras.Model(\n",
    "      inputs=[inputs, enc_outputs, look_ahead_mask, padding_mask],\n",
    "      outputs=outputs,\n",
    "      name=name)"
   ]
  },
  {
   "cell_type": "markdown",
   "metadata": {
    "id": "utlefkPKZvXu"
   },
   "source": [
    "# Chat Bot"
   ]
  },
  {
   "cell_type": "code",
   "execution_count": 14,
   "metadata": {},
   "outputs": [],
   "source": [
    "import pandas as pd\n",
    "\n",
    "data = pd.read_csv('/aiffel/aiffel/workspace/14_study/quest/data/ChatbotData.csv')"
   ]
  },
  {
   "cell_type": "code",
   "execution_count": 15,
   "metadata": {},
   "outputs": [
    {
     "data": {
      "text/html": [
       "<div>\n",
       "<style scoped>\n",
       "    .dataframe tbody tr th:only-of-type {\n",
       "        vertical-align: middle;\n",
       "    }\n",
       "\n",
       "    .dataframe tbody tr th {\n",
       "        vertical-align: top;\n",
       "    }\n",
       "\n",
       "    .dataframe thead th {\n",
       "        text-align: right;\n",
       "    }\n",
       "</style>\n",
       "<table border=\"1\" class=\"dataframe\">\n",
       "  <thead>\n",
       "    <tr style=\"text-align: right;\">\n",
       "      <th></th>\n",
       "      <th>Q</th>\n",
       "      <th>A</th>\n",
       "      <th>label</th>\n",
       "    </tr>\n",
       "  </thead>\n",
       "  <tbody>\n",
       "    <tr>\n",
       "      <th>0</th>\n",
       "      <td>12시 땡!</td>\n",
       "      <td>하루가 또 가네요.</td>\n",
       "      <td>0</td>\n",
       "    </tr>\n",
       "    <tr>\n",
       "      <th>1</th>\n",
       "      <td>1지망 학교 떨어졌어</td>\n",
       "      <td>위로해 드립니다.</td>\n",
       "      <td>0</td>\n",
       "    </tr>\n",
       "    <tr>\n",
       "      <th>2</th>\n",
       "      <td>3박4일 놀러가고 싶다</td>\n",
       "      <td>여행은 언제나 좋죠.</td>\n",
       "      <td>0</td>\n",
       "    </tr>\n",
       "    <tr>\n",
       "      <th>3</th>\n",
       "      <td>3박4일 정도 놀러가고 싶다</td>\n",
       "      <td>여행은 언제나 좋죠.</td>\n",
       "      <td>0</td>\n",
       "    </tr>\n",
       "    <tr>\n",
       "      <th>4</th>\n",
       "      <td>PPL 심하네</td>\n",
       "      <td>눈살이 찌푸려지죠.</td>\n",
       "      <td>0</td>\n",
       "    </tr>\n",
       "  </tbody>\n",
       "</table>\n",
       "</div>"
      ],
      "text/plain": [
       "                 Q            A  label\n",
       "0           12시 땡!   하루가 또 가네요.      0\n",
       "1      1지망 학교 떨어졌어    위로해 드립니다.      0\n",
       "2     3박4일 놀러가고 싶다  여행은 언제나 좋죠.      0\n",
       "3  3박4일 정도 놀러가고 싶다  여행은 언제나 좋죠.      0\n",
       "4          PPL 심하네   눈살이 찌푸려지죠.      0"
      ]
     },
     "execution_count": 15,
     "metadata": {},
     "output_type": "execute_result"
    }
   ],
   "source": [
    "data.head()"
   ]
  },
  {
   "cell_type": "code",
   "execution_count": 16,
   "metadata": {},
   "outputs": [
    {
     "name": "stdout",
     "output_type": "stream",
     "text": [
      "전체 갯수 11823\n",
      "결측치\n",
      " Q        0\n",
      "A        0\n",
      "label    0\n",
      "dtype: int64\n"
     ]
    }
   ],
   "source": [
    "print('전체 갯수',len(data))\n",
    "print('결측치\\n', data.isnull().sum())"
   ]
  },
  {
   "cell_type": "code",
   "execution_count": 17,
   "metadata": {},
   "outputs": [],
   "source": [
    "def preprocess_sentence(df):\n",
    "    # 구두점에 대해서 띄어쓰기\n",
    "    # ex) 12시 땡! -> 12시 땡 !\n",
    "    sentences = []\n",
    "\n",
    "    for sentence in df:\n",
    "        sentence = re.sub(r\"([?.!,])\", r\" \\1 \", sentence)\n",
    "        sentence = sentence.strip()\n",
    "        sentences.append(sentence)\n",
    "\n",
    "    return sentences"
   ]
  },
  {
   "cell_type": "code",
   "execution_count": 18,
   "metadata": {},
   "outputs": [],
   "source": [
    "questions = preprocess_sentence(data['Q'])"
   ]
  },
  {
   "cell_type": "code",
   "execution_count": 19,
   "metadata": {},
   "outputs": [],
   "source": [
    "answers = preprocess_sentence(data['A'])"
   ]
  },
  {
   "cell_type": "code",
   "execution_count": 20,
   "metadata": {},
   "outputs": [
    {
     "name": "stdout",
     "output_type": "stream",
     "text": [
      "['12시 땡 !', '1지망 학교 떨어졌어', '3박4일 놀러가고 싶다', '3박4일 정도 놀러가고 싶다', 'PPL 심하네']\n",
      "['하루가 또 가네요 .', '위로해 드립니다 .', '여행은 언제나 좋죠 .', '여행은 언제나 좋죠 .', '눈살이 찌푸려지죠 .']\n"
     ]
    }
   ],
   "source": [
    "print(questions[:5])\n",
    "print(answers[:5])"
   ]
  },
  {
   "cell_type": "code",
   "execution_count": 21,
   "metadata": {},
   "outputs": [],
   "source": [
    "# 서브워드텍스트인코더를 사용하여 질문과 답변을 모두 포함한 단어 집합(Vocabulary) 생성\n",
    "\n",
    "tokenizer = tfds.deprecated.text.SubwordTextEncoder.build_from_corpus(\n",
    "    questions + answers, target_vocab_size=2**13)\n",
    "\n",
    "# 시작 토큰과 종료 토큰에 대한 정수 부여.\n",
    "START_TOKEN, END_TOKEN = [tokenizer.vocab_size], [tokenizer.vocab_size + 1]\n",
    "\n",
    "# 시작 토큰과 종료 토큰을 고려하여 단어 집합의 크기를 + 2\n",
    "VOCAB_SIZE = tokenizer.vocab_size + 2\n",
    "     "
   ]
  },
  {
   "cell_type": "code",
   "execution_count": 22,
   "metadata": {},
   "outputs": [
    {
     "name": "stdout",
     "output_type": "stream",
     "text": [
      "시작 토큰 번호 : [8178]\n",
      "종료 토큰 번호 : [8179]\n",
      "단어 집합의 크기 : 8180\n"
     ]
    }
   ],
   "source": [
    "print('시작 토큰 번호 :',START_TOKEN)\n",
    "print('종료 토큰 번호 :',END_TOKEN)\n",
    "print('단어 집합의 크기 :',VOCAB_SIZE)"
   ]
  },
  {
   "cell_type": "code",
   "execution_count": 23,
   "metadata": {},
   "outputs": [
    {
     "name": "stdout",
     "output_type": "stream",
     "text": [
      "Tokenized sample question: [5766, 611, 3509, 141, 685, 3747, 849]\n"
     ]
    }
   ],
   "source": [
    "# 서브워드텍스트인코더 토크나이저의 .encode()를 사용하여 텍스트 시퀀스를 정수 시퀀스로 변환.\n",
    "print('Tokenized sample question: {}'.format(tokenizer.encode(questions[20])))"
   ]
  },
  {
   "cell_type": "code",
   "execution_count": 24,
   "metadata": {},
   "outputs": [
    {
     "name": "stdout",
     "output_type": "stream",
     "text": [
      "정수 인코딩 후의 문장 [8005, 7990, 2192, 919, 78, 821]\n",
      "기존 문장: SD카드 망가졌어\n"
     ]
    }
   ],
   "source": [
    "# SubWord Text Tokenizer encode decode 확인\n",
    "\n",
    "org_string = questions[5]\n",
    "\n",
    "encode_string = tokenizer.encode(org_string)\n",
    "print ('정수 인코딩 후의 문장 {}'.format(encode_string))\n",
    "\n",
    "decode_string = tokenizer.decode(encode_string)\n",
    "print ('기존 문장: {}'.format(decode_string))"
   ]
  },
  {
   "cell_type": "code",
   "execution_count": 25,
   "metadata": {},
   "outputs": [
    {
     "name": "stdout",
     "output_type": "stream",
     "text": [
      "8005 === S\n",
      "7990 === D\n",
      "2192 === 카드 \n",
      "919 === 망\n",
      "78 === 가\n",
      "821 === 졌어\n"
     ]
    }
   ],
   "source": [
    "# 각 정수는 각 단어와 어떻게 mapping되는지 출력\n",
    "# 서브워드텍스트인코더는 의미있는 단위의 서브워드로 토크나이징한다. 띄어쓰기 단위 X 형태소 분석 단위 X\n",
    "for encode in encode_string:\n",
    "    print(f'{encode} === {tokenizer.decode([encode])}')"
   ]
  },
  {
   "cell_type": "code",
   "execution_count": 26,
   "metadata": {},
   "outputs": [],
   "source": [
    "# 최대 길이를 40으로 정의\n",
    "MAX_LENGTH = 40\n",
    "\n",
    "def tokenize_and_filter(inputs, outputs):\n",
    "    tokenized_inputs, tokenized_outputs = [], []\n",
    "\n",
    "    for (sentence1, sentence2) in zip(inputs, outputs):\n",
    "        #  정수 인코딩 + 시작 토큰과 종료 토큰 추가\n",
    "        sentence1 = START_TOKEN + tokenizer.encode(sentence1) + END_TOKEN\n",
    "        sentence2 = START_TOKEN + tokenizer.encode(sentence2) + END_TOKEN\n",
    "\n",
    "        # 최대 길이 40 이하인 경우에만 데이터셋으로 허용\n",
    "        if len(sentence1) <= MAX_LENGTH and len(sentence2) <= MAX_LENGTH:\n",
    "            tokenized_inputs.append(sentence1)\n",
    "            tokenized_outputs.append(sentence2)\n",
    "\n",
    "    # 패딩\n",
    "    tokenized_inputs = tf.keras.preprocessing.sequence.pad_sequences(\n",
    "      tokenized_inputs, maxlen=MAX_LENGTH, padding='post')\n",
    "    tokenized_outputs = tf.keras.preprocessing.sequence.pad_sequences(\n",
    "      tokenized_outputs, maxlen=MAX_LENGTH, padding='post')\n",
    "\n",
    "    return tokenized_inputs, tokenized_outputs"
   ]
  },
  {
   "cell_type": "code",
   "execution_count": 27,
   "metadata": {},
   "outputs": [
    {
     "name": "stdout",
     "output_type": "stream",
     "text": [
      "단어장의 크기 : 8180\n",
      "필터링 후의 질문 샘플 개수: 11823\n",
      "필터링 후의 답변 샘플 개수: 11823\n"
     ]
    }
   ],
   "source": [
    "questions, answers = tokenize_and_filter(questions, answers)\n",
    "print('단어장의 크기 :',(VOCAB_SIZE))\n",
    "print('필터링 후의 질문 샘플 개수: {}'.format(len(questions)))\n",
    "print('필터링 후의 답변 샘플 개수: {}'.format(len(answers)))"
   ]
  },
  {
   "cell_type": "code",
   "execution_count": 28,
   "metadata": {},
   "outputs": [
    {
     "name": "stdout",
     "output_type": "stream",
     "text": [
      "[8178 7915 4207 3060   41 8179    0    0    0    0    0    0    0    0\n",
      "    0    0    0    0    0    0    0    0    0    0    0    0    0    0\n",
      "    0    0    0    0    0    0    0    0    0    0    0    0]\n",
      "[8178 3844   74 7894    1 8179    0    0    0    0    0    0    0    0\n",
      "    0    0    0    0    0    0    0    0    0    0    0    0    0    0\n",
      "    0    0    0    0    0    0    0    0    0    0    0    0]\n"
     ]
    }
   ],
   "source": [
    "# 0번째 샘플을 임의로 출력\n",
    "print(questions[0])\n",
    "print(answers[0])"
   ]
  },
  {
   "cell_type": "code",
   "execution_count": 29,
   "metadata": {},
   "outputs": [
    {
     "name": "stdout",
     "output_type": "stream",
     "text": [
      "단어 집합의 크기(Vocab size): 8180\n",
      "전체 샘플의 수(Number of samples): 11823\n"
     ]
    }
   ],
   "source": [
    "print('단어 집합의 크기(Vocab size): {}'.format(VOCAB_SIZE))\n",
    "print('전체 샘플의 수(Number of samples): {}'.format(len(questions)))"
   ]
  },
  {
   "cell_type": "markdown",
   "metadata": {},
   "source": [
    "## teacher forcing\n",
    "샘플 : \\<START_TOKEN> I AM A STUDENT \\<END_TOKEN> \\<PAD> \\<PAD> \\<PAD> \\<PAD>\n",
    "\n",
    "입력 : \\<START_TOKEN> I AM A STUDENT \\<END_TOKEN> \\<PAD> \\<PAD> \\<PAD>\n",
    "    \n",
    "레이블 : I AM A STUDENT \\<END_TOKEN> \\<PAD> \\<PAD> \\<PAD> \\<PAD>"
   ]
  },
  {
   "cell_type": "code",
   "execution_count": 30,
   "metadata": {},
   "outputs": [
    {
     "name": "stdout",
     "output_type": "stream",
     "text": [
      "Train dataset size: 9458\n",
      "Validation dataset size: 2365\n"
     ]
    }
   ],
   "source": [
    "# 텐서플로우 dataset을 이용하여 셔플(shuffle)을 수행하되, 배치 크기로 데이터를 묶는다.\n",
    "# 또한 이 과정에서 교사 강요(teacher forcing)을 사용하기 위해서 디코더의 입력과 실제값 시퀀스를 구성한다.\n",
    "BATCH_SIZE = 64\n",
    "BUFFER_SIZE = 20000\n",
    "\n",
    "# 디코더의 실제값 시퀀스에서는 시작 토큰을 제거해야 한다.\n",
    "dataset = tf.data.Dataset.from_tensor_slices((\n",
    "    {\n",
    "        'inputs': questions,\n",
    "        'dec_inputs': answers[:, :-1] # 디코더의 입력. 마지막 패딩 토큰이 제거된다.\n",
    "    },\n",
    "    {\n",
    "        'outputs': answers[:, 1:]  # 맨처음 시작 토큰 제거\n",
    "    },\n",
    "))\n",
    "\n",
    "dataset = dataset.cache()\n",
    "dataset = dataset.shuffle(BUFFER_SIZE)\n",
    "\n",
    "# 훈련데이터셋 검증 데이터셋 나누기\n",
    "\n",
    "# 데이터셋 크기 계산\n",
    "dataset_size = len(questions)\n",
    "\n",
    "# 2. 데이터셋 분할\n",
    "train_size = int(0.8 * dataset_size)  # 예시로 80%를 train으로 사용\n",
    "val_size = dataset_size - train_size\n",
    "\n",
    "train_dataset = dataset.take(train_size)\n",
    "val_dataset = dataset.skip(train_size)\n",
    "\n",
    "# 배치 및 프리페치 적용\n",
    "train_dataset = train_dataset.batch(BATCH_SIZE)\n",
    "train_dataset = train_dataset.prefetch(tf.data.experimental.AUTOTUNE)\n",
    "\n",
    "val_dataset = val_dataset.batch(BATCH_SIZE)\n",
    "val_dataset = val_dataset.prefetch(tf.data.experimental.AUTOTUNE)\n",
    "\n",
    "# 3. 데이터셋 크기 확인\n",
    "print(f\"Train dataset size: {train_size}\")\n",
    "print(f\"Validation dataset size: {val_size}\")\n",
    "\n",
    "\n",
    "# dataset = dataset.batch(BATCH_SIZE)\n",
    "# dataset = dataset.prefetch(tf.data.experimental.AUTOTUNE)\n",
    "     "
   ]
  },
  {
   "cell_type": "code",
   "execution_count": 31,
   "metadata": {},
   "outputs": [
    {
     "name": "stdout",
     "output_type": "stream",
     "text": [
      "[8178 3844   74 7894    1 8179    0    0    0    0    0    0    0    0\n",
      "    0    0    0    0    0    0    0    0    0    0    0    0    0    0\n",
      "    0    0    0    0    0    0    0    0    0    0    0    0]\n",
      "[[8178 3844   74 7894    1 8179    0    0    0    0    0    0    0    0\n",
      "     0    0    0    0    0    0    0    0    0    0    0    0    0    0\n",
      "     0    0    0    0    0    0    0    0    0    0    0]]\n",
      "[[3844   74 7894    1 8179    0    0    0    0    0    0    0    0    0\n",
      "     0    0    0    0    0    0    0    0    0    0    0    0    0    0\n",
      "     0    0    0    0    0    0    0    0    0    0    0]]\n"
     ]
    }
   ],
   "source": [
    "# 임의의 샘플에 대해서 [:, :-1]과 [:, 1:]이 어떤 의미를 가지는지 테스트해본다.\n",
    "print(answers[0]) # 기존 샘플\n",
    "print(answers[:1][:, :-1]) # 마지막 패딩 토큰 제거하면서 길이가 39가 된다.\n",
    "print(answers[:1][:, 1:]) # 맨 처음 토큰이 제거된다. 다시 말해 시작 토큰이 제거된다. 길이는 역시 39가 된다.\n",
    "     "
   ]
  },
  {
   "cell_type": "markdown",
   "metadata": {},
   "source": [
    "# Model"
   ]
  },
  {
   "cell_type": "code",
   "execution_count": 32,
   "metadata": {},
   "outputs": [],
   "source": [
    "def transformer(vocab_size,\n",
    "                num_layers,\n",
    "                units,\n",
    "                d_model,\n",
    "                num_heads,\n",
    "                dropout,\n",
    "                name=\"transformer\"):\n",
    "    inputs = tf.keras.Input(shape=(None,), name=\"inputs\")\n",
    "    dec_inputs = tf.keras.Input(shape=(None,), name=\"dec_inputs\")\n",
    "\n",
    "    # 인코더에서 패딩을 위한 마스크\n",
    "    enc_padding_mask = tf.keras.layers.Lambda(\n",
    "      create_padding_mask, output_shape=(1, 1, None),\n",
    "      name='enc_padding_mask')(inputs)\n",
    "\n",
    "    # 디코더에서 미래의 토큰을 마스크 하기 위해서 사용합니다.\n",
    "    # 내부적으로 패딩 마스크도 포함되어져 있습니다.\n",
    "    look_ahead_mask = tf.keras.layers.Lambda(\n",
    "      create_look_ahead_mask,\n",
    "      output_shape=(1, None, None),\n",
    "      name='look_ahead_mask')(dec_inputs)\n",
    "\n",
    "    # 두 번째 어텐션 블록에서 인코더의 벡터들을 마스킹\n",
    "    # 디코더에서 패딩을 위한 마스크\n",
    "    dec_padding_mask = tf.keras.layers.Lambda(\n",
    "      create_padding_mask, output_shape=(1, 1, None),\n",
    "      name='dec_padding_mask')(inputs)\n",
    "\n",
    "    # 인코더\n",
    "    enc_outputs = encoder(\n",
    "      vocab_size=vocab_size,\n",
    "      num_layers=num_layers,\n",
    "      units=units,\n",
    "      d_model=d_model,\n",
    "      num_heads=num_heads,\n",
    "      dropout=dropout,\n",
    "    )(inputs=[inputs, enc_padding_mask])\n",
    "\n",
    "    # 디코더\n",
    "    dec_outputs = decoder(\n",
    "      vocab_size=vocab_size,\n",
    "      num_layers=num_layers,\n",
    "      units=units,\n",
    "      d_model=d_model,\n",
    "      num_heads=num_heads,\n",
    "      dropout=dropout,\n",
    "    )(inputs=[dec_inputs, enc_outputs, look_ahead_mask, dec_padding_mask])\n",
    "\n",
    "    # 완전연결층\n",
    "    outputs = tf.keras.layers.Dense(units=vocab_size, name=\"outputs\")(dec_outputs)\n",
    "\n",
    "    return tf.keras.Model(inputs=[inputs, dec_inputs], outputs=outputs, name=name)"
   ]
  },
  {
   "cell_type": "code",
   "execution_count": 33,
   "metadata": {},
   "outputs": [
    {
     "name": "stdout",
     "output_type": "stream",
     "text": [
      "Model: \"transformer\"\n",
      "__________________________________________________________________________________________________\n",
      "Layer (type)                    Output Shape         Param #     Connected to                     \n",
      "==================================================================================================\n",
      "inputs (InputLayer)             [(None, None)]       0                                            \n",
      "__________________________________________________________________________________________________\n",
      "dec_inputs (InputLayer)         [(None, None)]       0                                            \n",
      "__________________________________________________________________________________________________\n",
      "enc_padding_mask (Lambda)       (None, 1, 1, None)   0           inputs[0][0]                     \n",
      "__________________________________________________________________________________________________\n",
      "encoder (Functional)            (None, None, 256)    3148288     inputs[0][0]                     \n",
      "                                                                 enc_padding_mask[0][0]           \n",
      "__________________________________________________________________________________________________\n",
      "look_ahead_mask (Lambda)        (None, 1, None, None 0           dec_inputs[0][0]                 \n",
      "__________________________________________________________________________________________________\n",
      "dec_padding_mask (Lambda)       (None, 1, 1, None)   0           inputs[0][0]                     \n",
      "__________________________________________________________________________________________________\n",
      "decoder (Functional)            (None, None, 256)    3675648     dec_inputs[0][0]                 \n",
      "                                                                 encoder[0][0]                    \n",
      "                                                                 look_ahead_mask[0][0]            \n",
      "                                                                 dec_padding_mask[0][0]           \n",
      "__________________________________________________________________________________________________\n",
      "outputs (Dense)                 (None, None, 8180)   2102260     decoder[0][0]                    \n",
      "==================================================================================================\n",
      "Total params: 8,926,196\n",
      "Trainable params: 8,926,196\n",
      "Non-trainable params: 0\n",
      "__________________________________________________________________________________________________\n"
     ]
    }
   ],
   "source": [
    "tf.keras.backend.clear_session()\n",
    "\n",
    "# 하이퍼파라미터\n",
    "NUM_LAYERS = 2\n",
    "D_MODEL = 256\n",
    "UNITS = 512\n",
    "NUM_HEADS = 8\n",
    "DROPOUT = 0.3\n",
    "\n",
    "model = transformer(\n",
    "    vocab_size=VOCAB_SIZE,\n",
    "    num_layers=NUM_LAYERS,\n",
    "    units=UNITS,\n",
    "    d_model=D_MODEL,\n",
    "    num_heads=NUM_HEADS,\n",
    "    dropout=DROPOUT)\n",
    "\n",
    "model.summary()"
   ]
  },
  {
   "cell_type": "code",
   "execution_count": 34,
   "metadata": {},
   "outputs": [],
   "source": [
    "def loss_function(y_true, y_pred):\n",
    "    y_true = tf.reshape(y_true, shape=(-1, MAX_LENGTH - 1))\n",
    "\n",
    "    loss = tf.keras.losses.SparseCategoricalCrossentropy(\n",
    "      from_logits=True, reduction='none')(y_true, y_pred)\n",
    "\n",
    "    mask = tf.cast(tf.not_equal(y_true, 0), tf.float32)\n",
    "    loss = tf.multiply(loss, mask)\n",
    "\n",
    "    return tf.reduce_mean(loss)"
   ]
  },
  {
   "cell_type": "code",
   "execution_count": 35,
   "metadata": {},
   "outputs": [],
   "source": [
    "class CustomSchedule(tf.keras.optimizers.schedules.LearningRateSchedule):\n",
    "\n",
    "    def __init__(self, d_model, warmup_steps=4000):\n",
    "        super(CustomSchedule, self).__init__()\n",
    "\n",
    "        self.d_model = d_model\n",
    "        self.d_model = tf.cast(self.d_model, tf.float32)\n",
    "\n",
    "        self.warmup_steps = warmup_steps\n",
    "\n",
    "    def __call__(self, step):\n",
    "        arg1 = tf.math.rsqrt(step)\n",
    "        arg2 = step * (self.warmup_steps**-1.5)\n",
    "\n",
    "        return tf.math.rsqrt(self.d_model) * tf.math.minimum(arg1, arg2)"
   ]
  },
  {
   "cell_type": "code",
   "execution_count": 36,
   "metadata": {},
   "outputs": [],
   "source": [
    "learning_rate = CustomSchedule(D_MODEL)\n",
    "\n",
    "optimizer = tf.keras.optimizers.Adam(\n",
    "    learning_rate, beta_1=0.9, beta_2=0.98, epsilon=1e-9)\n",
    "\n",
    "def accuracy(y_true, y_pred):\n",
    "    y_true = tf.reshape(y_true, shape=(-1, MAX_LENGTH - 1))\n",
    "    return tf.keras.metrics.sparse_categorical_accuracy(y_true, y_pred)"
   ]
  },
  {
   "cell_type": "code",
   "execution_count": 37,
   "metadata": {},
   "outputs": [
    {
     "name": "stdout",
     "output_type": "stream",
     "text": [
      "Epoch 1/50\n",
      "148/148 [==============================] - 17s 70ms/step - loss: 1.4882 - accuracy: 0.0198 - val_loss: 1.3606 - val_accuracy: 0.0397\n",
      "\n",
      "Epoch 00001: val_accuracy improved from -inf to 0.03966, saving model to best_weights.h5\n",
      "Epoch 2/50\n",
      "148/148 [==============================] - 9s 62ms/step - loss: 1.2763 - accuracy: 0.0423 - val_loss: 1.1190 - val_accuracy: 0.0491\n",
      "\n",
      "Epoch 00002: val_accuracy improved from 0.03966 to 0.04907, saving model to best_weights.h5\n",
      "Epoch 3/50\n",
      "148/148 [==============================] - 9s 63ms/step - loss: 1.0824 - accuracy: 0.0496 - val_loss: 1.0209 - val_accuracy: 0.0498\n",
      "\n",
      "Epoch 00003: val_accuracy improved from 0.04907 to 0.04981, saving model to best_weights.h5\n",
      "Epoch 4/50\n",
      "148/148 [==============================] - 9s 62ms/step - loss: 1.0092 - accuracy: 0.0501 - val_loss: 0.9656 - val_accuracy: 0.0508\n",
      "\n",
      "Epoch 00004: val_accuracy improved from 0.04981 to 0.05082, saving model to best_weights.h5\n",
      "Epoch 5/50\n",
      "148/148 [==============================] - 9s 62ms/step - loss: 0.9606 - accuracy: 0.0518 - val_loss: 0.9185 - val_accuracy: 0.0539\n",
      "\n",
      "Epoch 00005: val_accuracy improved from 0.05082 to 0.05393, saving model to best_weights.h5\n",
      "Epoch 6/50\n",
      "148/148 [==============================] - 9s 61ms/step - loss: 0.9255 - accuracy: 0.0542 - val_loss: 0.8894 - val_accuracy: 0.0558\n",
      "\n",
      "Epoch 00006: val_accuracy improved from 0.05393 to 0.05581, saving model to best_weights.h5\n",
      "Epoch 7/50\n",
      "148/148 [==============================] - 9s 62ms/step - loss: 0.8915 - accuracy: 0.0562 - val_loss: 0.8427 - val_accuracy: 0.0579\n",
      "\n",
      "Epoch 00007: val_accuracy improved from 0.05581 to 0.05792, saving model to best_weights.h5\n",
      "Epoch 8/50\n",
      "148/148 [==============================] - 9s 62ms/step - loss: 0.8563 - accuracy: 0.0579 - val_loss: 0.7976 - val_accuracy: 0.0605\n",
      "\n",
      "Epoch 00008: val_accuracy improved from 0.05792 to 0.06047, saving model to best_weights.h5\n",
      "Epoch 9/50\n",
      "148/148 [==============================] - 9s 62ms/step - loss: 0.8273 - accuracy: 0.0599 - val_loss: 0.7506 - val_accuracy: 0.0637\n",
      "\n",
      "Epoch 00009: val_accuracy improved from 0.06047 to 0.06372, saving model to best_weights.h5\n",
      "Epoch 10/50\n",
      "148/148 [==============================] - 9s 62ms/step - loss: 0.7843 - accuracy: 0.0626 - val_loss: 0.7057 - val_accuracy: 0.0676\n",
      "\n",
      "Epoch 00010: val_accuracy improved from 0.06372 to 0.06756, saving model to best_weights.h5\n",
      "Epoch 11/50\n",
      "148/148 [==============================] - 9s 62ms/step - loss: 0.7444 - accuracy: 0.0661 - val_loss: 0.6677 - val_accuracy: 0.0721\n",
      "\n",
      "Epoch 00011: val_accuracy improved from 0.06756 to 0.07211, saving model to best_weights.h5\n",
      "Epoch 12/50\n",
      "148/148 [==============================] - 9s 62ms/step - loss: 0.7020 - accuracy: 0.0701 - val_loss: 0.6046 - val_accuracy: 0.0792\n",
      "\n",
      "Epoch 00012: val_accuracy improved from 0.07211 to 0.07923, saving model to best_weights.h5\n",
      "Epoch 13/50\n",
      "148/148 [==============================] - 9s 62ms/step - loss: 0.6510 - accuracy: 0.0751 - val_loss: 0.5569 - val_accuracy: 0.0852\n",
      "\n",
      "Epoch 00013: val_accuracy improved from 0.07923 to 0.08521, saving model to best_weights.h5\n",
      "Epoch 14/50\n",
      "148/148 [==============================] - 9s 62ms/step - loss: 0.6035 - accuracy: 0.0800 - val_loss: 0.4950 - val_accuracy: 0.0911\n",
      "\n",
      "Epoch 00014: val_accuracy improved from 0.08521 to 0.09114, saving model to best_weights.h5\n",
      "Epoch 15/50\n",
      "148/148 [==============================] - 9s 62ms/step - loss: 0.5568 - accuracy: 0.0854 - val_loss: 0.4430 - val_accuracy: 0.0976\n",
      "\n",
      "Epoch 00015: val_accuracy improved from 0.09114 to 0.09757, saving model to best_weights.h5\n",
      "Epoch 16/50\n",
      "148/148 [==============================] - 9s 62ms/step - loss: 0.5102 - accuracy: 0.0901 - val_loss: 0.3945 - val_accuracy: 0.1057\n",
      "\n",
      "Epoch 00016: val_accuracy improved from 0.09757 to 0.10570, saving model to best_weights.h5\n",
      "Epoch 17/50\n",
      "148/148 [==============================] - 9s 62ms/step - loss: 0.4666 - accuracy: 0.0955 - val_loss: 0.3377 - val_accuracy: 0.1114\n",
      "\n",
      "Epoch 00017: val_accuracy improved from 0.10570 to 0.11141, saving model to best_weights.h5\n",
      "Epoch 18/50\n",
      "148/148 [==============================] - 9s 63ms/step - loss: 0.4186 - accuracy: 0.1014 - val_loss: 0.3107 - val_accuracy: 0.1168\n",
      "\n",
      "Epoch 00018: val_accuracy improved from 0.11141 to 0.11678, saving model to best_weights.h5\n",
      "Epoch 19/50\n",
      "148/148 [==============================] - 9s 63ms/step - loss: 0.3781 - accuracy: 0.1062 - val_loss: 0.2588 - val_accuracy: 0.1231\n",
      "\n",
      "Epoch 00019: val_accuracy improved from 0.11678 to 0.12309, saving model to best_weights.h5\n",
      "Epoch 20/50\n",
      "148/148 [==============================] - 9s 62ms/step - loss: 0.3429 - accuracy: 0.1104 - val_loss: 0.2345 - val_accuracy: 0.1288\n",
      "\n",
      "Epoch 00020: val_accuracy improved from 0.12309 to 0.12882, saving model to best_weights.h5\n",
      "Epoch 21/50\n",
      "148/148 [==============================] - 9s 62ms/step - loss: 0.3106 - accuracy: 0.1150 - val_loss: 0.1979 - val_accuracy: 0.1347\n",
      "\n",
      "Epoch 00021: val_accuracy improved from 0.12882 to 0.13470, saving model to best_weights.h5\n",
      "Epoch 22/50\n",
      "148/148 [==============================] - 9s 62ms/step - loss: 0.2797 - accuracy: 0.1198 - val_loss: 0.1771 - val_accuracy: 0.1389\n",
      "\n",
      "Epoch 00022: val_accuracy improved from 0.13470 to 0.13888, saving model to best_weights.h5\n",
      "Epoch 23/50\n",
      "148/148 [==============================] - 9s 61ms/step - loss: 0.2521 - accuracy: 0.1233 - val_loss: 0.1484 - val_accuracy: 0.1441\n",
      "\n",
      "Epoch 00023: val_accuracy improved from 0.13888 to 0.14412, saving model to best_weights.h5\n",
      "Epoch 24/50\n",
      "148/148 [==============================] - 9s 62ms/step - loss: 0.2277 - accuracy: 0.1270 - val_loss: 0.1320 - val_accuracy: 0.1458\n",
      "\n",
      "Epoch 00024: val_accuracy improved from 0.14412 to 0.14580, saving model to best_weights.h5\n",
      "Epoch 25/50\n",
      "148/148 [==============================] - 9s 62ms/step - loss: 0.2049 - accuracy: 0.1304 - val_loss: 0.1116 - val_accuracy: 0.1497\n",
      "\n",
      "Epoch 00025: val_accuracy improved from 0.14580 to 0.14965, saving model to best_weights.h5\n",
      "Epoch 26/50\n",
      "148/148 [==============================] - 9s 62ms/step - loss: 0.1876 - accuracy: 0.1335 - val_loss: 0.0998 - val_accuracy: 0.1522\n",
      "\n",
      "Epoch 00026: val_accuracy improved from 0.14965 to 0.15219, saving model to best_weights.h5\n",
      "Epoch 27/50\n",
      "148/148 [==============================] - 9s 62ms/step - loss: 0.1709 - accuracy: 0.1365 - val_loss: 0.0865 - val_accuracy: 0.1561\n",
      "\n",
      "Epoch 00027: val_accuracy improved from 0.15219 to 0.15608, saving model to best_weights.h5\n",
      "Epoch 28/50\n",
      "148/148 [==============================] - 9s 62ms/step - loss: 0.1567 - accuracy: 0.1391 - val_loss: 0.0729 - val_accuracy: 0.1560\n",
      "\n",
      "Epoch 00028: val_accuracy did not improve from 0.15608\n",
      "Epoch 29/50\n",
      "148/148 [==============================] - 9s 62ms/step - loss: 0.1415 - accuracy: 0.1420 - val_loss: 0.0637 - val_accuracy: 0.1600\n",
      "\n",
      "Epoch 00029: val_accuracy improved from 0.15608 to 0.16000, saving model to best_weights.h5\n",
      "Epoch 30/50\n",
      "148/148 [==============================] - 9s 62ms/step - loss: 0.1267 - accuracy: 0.1450 - val_loss: 0.0534 - val_accuracy: 0.1617\n",
      "\n",
      "Epoch 00030: val_accuracy improved from 0.16000 to 0.16175, saving model to best_weights.h5\n",
      "Epoch 31/50\n",
      "148/148 [==============================] - 9s 62ms/step - loss: 0.1154 - accuracy: 0.1475 - val_loss: 0.0440 - val_accuracy: 0.1609\n",
      "\n",
      "Epoch 00031: val_accuracy did not improve from 0.16175\n",
      "Epoch 32/50\n",
      "148/148 [==============================] - 9s 62ms/step - loss: 0.1036 - accuracy: 0.1493 - val_loss: 0.0398 - val_accuracy: 0.1666\n",
      "\n",
      "Epoch 00032: val_accuracy improved from 0.16175 to 0.16657, saving model to best_weights.h5\n",
      "Epoch 33/50\n",
      "148/148 [==============================] - 9s 62ms/step - loss: 0.0953 - accuracy: 0.1523 - val_loss: 0.0339 - val_accuracy: 0.1672\n",
      "\n",
      "Epoch 00033: val_accuracy improved from 0.16657 to 0.16719, saving model to best_weights.h5\n",
      "Epoch 34/50\n",
      "148/148 [==============================] - 9s 62ms/step - loss: 0.0876 - accuracy: 0.1529 - val_loss: 0.0290 - val_accuracy: 0.1691\n",
      "\n",
      "Epoch 00034: val_accuracy improved from 0.16719 to 0.16907, saving model to best_weights.h5\n",
      "Epoch 35/50\n",
      "148/148 [==============================] - 9s 62ms/step - loss: 0.0809 - accuracy: 0.1548 - val_loss: 0.0269 - val_accuracy: 0.1691\n",
      "\n",
      "Epoch 00035: val_accuracy did not improve from 0.16907\n",
      "Epoch 36/50\n"
     ]
    },
    {
     "name": "stdout",
     "output_type": "stream",
     "text": [
      "148/148 [==============================] - 9s 62ms/step - loss: 0.0747 - accuracy: 0.1554 - val_loss: 0.0268 - val_accuracy: 0.1684\n",
      "\n",
      "Epoch 00036: val_accuracy did not improve from 0.16907\n",
      "Epoch 37/50\n",
      "148/148 [==============================] - 9s 62ms/step - loss: 0.0688 - accuracy: 0.1574 - val_loss: 0.0206 - val_accuracy: 0.1705\n",
      "\n",
      "Epoch 00037: val_accuracy improved from 0.16907 to 0.17047, saving model to best_weights.h5\n",
      "Epoch 38/50\n",
      "148/148 [==============================] - 9s 62ms/step - loss: 0.0645 - accuracy: 0.1586 - val_loss: 0.0201 - val_accuracy: 0.1689\n",
      "\n",
      "Epoch 00038: val_accuracy did not improve from 0.17047\n",
      "Epoch 39/50\n",
      "148/148 [==============================] - 9s 62ms/step - loss: 0.0614 - accuracy: 0.1591 - val_loss: 0.0192 - val_accuracy: 0.1705\n",
      "\n",
      "Epoch 00039: val_accuracy improved from 0.17047 to 0.17050, saving model to best_weights.h5\n",
      "Epoch 40/50\n",
      "148/148 [==============================] - 9s 61ms/step - loss: 0.0566 - accuracy: 0.1600 - val_loss: 0.0191 - val_accuracy: 0.1674\n",
      "\n",
      "Epoch 00040: val_accuracy did not improve from 0.17050\n",
      "Epoch 41/50\n",
      "148/148 [==============================] - 9s 62ms/step - loss: 0.0530 - accuracy: 0.1610 - val_loss: 0.0169 - val_accuracy: 0.1720\n",
      "\n",
      "Epoch 00041: val_accuracy improved from 0.17050 to 0.17198, saving model to best_weights.h5\n",
      "Epoch 42/50\n",
      "148/148 [==============================] - 9s 62ms/step - loss: 0.0501 - accuracy: 0.1614 - val_loss: 0.0172 - val_accuracy: 0.1700\n",
      "\n",
      "Epoch 00042: val_accuracy did not improve from 0.17198\n",
      "Epoch 43/50\n",
      "148/148 [==============================] - 9s 62ms/step - loss: 0.0474 - accuracy: 0.1624 - val_loss: 0.0144 - val_accuracy: 0.1700\n",
      "\n",
      "Epoch 00043: val_accuracy did not improve from 0.17198\n",
      "Epoch 44/50\n",
      "148/148 [==============================] - 9s 62ms/step - loss: 0.0460 - accuracy: 0.1632 - val_loss: 0.0117 - val_accuracy: 0.1736\n",
      "\n",
      "Epoch 00044: val_accuracy improved from 0.17198 to 0.17361, saving model to best_weights.h5\n",
      "Epoch 45/50\n",
      "148/148 [==============================] - 9s 62ms/step - loss: 0.0423 - accuracy: 0.1647 - val_loss: 0.0113 - val_accuracy: 0.1736\n",
      "\n",
      "Epoch 00045: val_accuracy improved from 0.17361 to 0.17362, saving model to best_weights.h5\n",
      "Epoch 46/50\n",
      "148/148 [==============================] - 9s 62ms/step - loss: 0.0408 - accuracy: 0.1645 - val_loss: 0.0117 - val_accuracy: 0.1731\n",
      "\n",
      "Epoch 00046: val_accuracy did not improve from 0.17362\n",
      "Epoch 47/50\n",
      "148/148 [==============================] - 9s 62ms/step - loss: 0.0390 - accuracy: 0.1649 - val_loss: 0.0100 - val_accuracy: 0.1737\n",
      "\n",
      "Epoch 00047: val_accuracy improved from 0.17362 to 0.17367, saving model to best_weights.h5\n",
      "Epoch 48/50\n",
      "148/148 [==============================] - 9s 62ms/step - loss: 0.0366 - accuracy: 0.1648 - val_loss: 0.0086 - val_accuracy: 0.1709\n",
      "\n",
      "Epoch 00048: val_accuracy did not improve from 0.17367\n",
      "Epoch 49/50\n",
      "148/148 [==============================] - 9s 61ms/step - loss: 0.0369 - accuracy: 0.1650 - val_loss: 0.0078 - val_accuracy: 0.1739\n",
      "\n",
      "Epoch 00049: val_accuracy improved from 0.17367 to 0.17390, saving model to best_weights.h5\n",
      "Epoch 50/50\n",
      "148/148 [==============================] - 9s 62ms/step - loss: 0.0344 - accuracy: 0.1659 - val_loss: 0.0085 - val_accuracy: 0.1717\n",
      "\n",
      "Epoch 00050: val_accuracy did not improve from 0.17390\n"
     ]
    }
   ],
   "source": [
    "from keras.callbacks import EarlyStopping, ModelCheckpoint\n",
    "\n",
    "model.compile(optimizer=optimizer, loss=loss_function, metrics=[accuracy])\n",
    "\n",
    "EPOCHS = 50\n",
    "\n",
    "weight_filename = 'best_weights.h5'\n",
    "\n",
    "# ModelCheckpoint\n",
    "model_checkpoint = ModelCheckpoint(\n",
    "    weight_filename,\n",
    "    monitor='val_accuracy',\n",
    "    verbose=1,\n",
    "    save_best_only=True,\n",
    "    save_weights_only=True\n",
    ")\n",
    "\n",
    "# EarlyStopping\n",
    "early_stop = EarlyStopping(monitor='val_loss', patience=2, verbose=1)\n",
    "\n",
    "import os\n",
    "\n",
    "if os.path.isfile(weight_filename):\n",
    "    model.load_weights(weight_filename)\n",
    "\n",
    "\n",
    "history = model.fit(\n",
    "    train_dataset,\n",
    "    validation_data=val_dataset,\n",
    "    epochs=EPOCHS,\n",
    "    callbacks=[model_checkpoint,early_stop]\n",
    ")"
   ]
  },
  {
   "cell_type": "markdown",
   "metadata": {},
   "source": [
    "## 한 30번 이후로는 거의 변화가 없음"
   ]
  },
  {
   "cell_type": "code",
   "execution_count": 38,
   "metadata": {},
   "outputs": [
    {
     "data": {
      "image/png": "[encoded data removed]",
      "text/plain": [
       "<Figure size 432x288 with 1 Axes>"
      ]
     },
     "metadata": {
      "needs_background": "light"
     },
     "output_type": "display_data"
    }
   ],
   "source": [
    "# 훈련결과 시각화\n",
    "plt.plot(history.history['loss'], label='train')\n",
    "plt.plot(history.history['val_loss'], label='test')\n",
    "plt.legend()\n",
    "plt.show()"
   ]
  },
  {
   "cell_type": "code",
   "execution_count": 39,
   "metadata": {},
   "outputs": [],
   "source": [
    "def input_sentence(sentence):\n",
    "    sentence = re.sub(r\"([?.!,])\", r\" \\1 \", sentence)\n",
    "    sentence = sentence.strip()\n",
    "    return sentence"
   ]
  },
  {
   "cell_type": "code",
   "execution_count": 40,
   "metadata": {},
   "outputs": [],
   "source": [
    "def decoder_inference(sentence):\n",
    "    sentence = input_sentence(sentence)\n",
    "\n",
    "    # 입력된 문장을 정수 인코딩 후, 시작 토큰과 종료 토큰을 앞뒤로 추가.\n",
    "    sentence = tf.expand_dims(\n",
    "      START_TOKEN + tokenizer.encode(sentence) + END_TOKEN, axis=0)\n",
    "\n",
    "    # 디코더의 현재까지의 예측한 출력 시퀀스가 지속적으로 저장되는 변수.\n",
    "    # 처음에는 예측한 내용이 없음으로 시작 토큰만 별도 저장. ex) 8331\n",
    "    output_sequence = tf.expand_dims(START_TOKEN, 0)\n",
    "\n",
    "    # 디코더의 인퍼런스 단계\n",
    "    for i in range(MAX_LENGTH):\n",
    "        # 디코더는 최대 MAX_LENGTH의 길이만큼 다음 단어 예측을 반복합니다.\n",
    "        predictions = model(inputs=[sentence, output_sequence], training=False)\n",
    "        predictions = predictions[:, -1:, :]\n",
    "\n",
    "        # 현재 예측한 단어의 정수\n",
    "        predicted_id = tf.cast(tf.argmax(predictions, axis=-1), tf.int32)\n",
    "\n",
    "        # 만약 현재 예측한 단어가 종료 토큰이라면 for문을 종료\n",
    "        if tf.equal(predicted_id, END_TOKEN[0]):\n",
    "              break\n",
    "\n",
    "        # 예측한 단어들은 지속적으로 output_sequence에 추가됩니다.\n",
    "        # 이 output_sequence는 다시 디코더의 입력이 됩니다.\n",
    "        output_sequence = tf.concat([output_sequence, predicted_id], axis=-1)\n",
    "\n",
    "    return tf.squeeze(output_sequence, axis=0)"
   ]
  },
  {
   "cell_type": "code",
   "execution_count": 41,
   "metadata": {},
   "outputs": [],
   "source": [
    "def sentence_generation(sentence):\n",
    "    prediction = decoder_inference(sentence)\n",
    "\n",
    "    predicted_sentence = tokenizer.decode(\n",
    "      [i for i in prediction if i < tokenizer.vocab_size])\n",
    "\n",
    "    print('Input: {}'.format(sentence))\n",
    "    print('Output: {}'.format(predicted_sentence))\n",
    "\n",
    "    return predicted_sentence"
   ]
  },
  {
   "cell_type": "code",
   "execution_count": 42,
   "metadata": {},
   "outputs": [
    {
     "data": {
      "text/html": [
       "<div>\n",
       "<style scoped>\n",
       "    .dataframe tbody tr th:only-of-type {\n",
       "        vertical-align: middle;\n",
       "    }\n",
       "\n",
       "    .dataframe tbody tr th {\n",
       "        vertical-align: top;\n",
       "    }\n",
       "\n",
       "    .dataframe thead th {\n",
       "        text-align: right;\n",
       "    }\n",
       "</style>\n",
       "<table border=\"1\" class=\"dataframe\">\n",
       "  <thead>\n",
       "    <tr style=\"text-align: right;\">\n",
       "      <th></th>\n",
       "      <th>Q</th>\n",
       "      <th>A</th>\n",
       "      <th>label</th>\n",
       "    </tr>\n",
       "  </thead>\n",
       "  <tbody>\n",
       "    <tr>\n",
       "      <th>306</th>\n",
       "      <td>그 시절엔 다 그랬지</td>\n",
       "      <td>추억에 잠길 때도 필요해요.</td>\n",
       "      <td>0</td>\n",
       "    </tr>\n",
       "    <tr>\n",
       "      <th>1379</th>\n",
       "      <td>듬직한 사람이 좋아</td>\n",
       "      <td>의지할 수 있는 사람이 곁에 있다는 건 큰 행운일 거예요.</td>\n",
       "      <td>0</td>\n",
       "    </tr>\n",
       "    <tr>\n",
       "      <th>3313</th>\n",
       "      <td>오늘 좀 바쁘네</td>\n",
       "      <td>바빠도 힘내세요!</td>\n",
       "      <td>0</td>\n",
       "    </tr>\n",
       "    <tr>\n",
       "      <th>3169</th>\n",
       "      <td>여자친구가 전화하는 걸 안 좋아해</td>\n",
       "      <td>다른 연락을 많이 하거나 더 자주 만나세요.</td>\n",
       "      <td>0</td>\n",
       "    </tr>\n",
       "    <tr>\n",
       "      <th>11091</th>\n",
       "      <td>좋아하는 사람 언제까지 기다릴 수 있을까요.</td>\n",
       "      <td>마음이 허락하는 데까지 아닐까요.</td>\n",
       "      <td>2</td>\n",
       "    </tr>\n",
       "    <tr>\n",
       "      <th>8467</th>\n",
       "      <td>할 말이 많은데.</td>\n",
       "      <td>말해보세요.</td>\n",
       "      <td>1</td>\n",
       "    </tr>\n",
       "    <tr>\n",
       "      <th>6523</th>\n",
       "      <td>불금에 혼자 혼술</td>\n",
       "      <td>혼술 적당히 하세요.</td>\n",
       "      <td>1</td>\n",
       "    </tr>\n",
       "    <tr>\n",
       "      <th>1061</th>\n",
       "      <td>눈 또 와</td>\n",
       "      <td>눈 내리는게 싫은가 봐요.</td>\n",
       "      <td>0</td>\n",
       "    </tr>\n",
       "    <tr>\n",
       "      <th>3597</th>\n",
       "      <td>위로받고 싶은 날</td>\n",
       "      <td>제가 위로 많이 해드릴게요.</td>\n",
       "      <td>0</td>\n",
       "    </tr>\n",
       "    <tr>\n",
       "      <th>2162</th>\n",
       "      <td>부케 뭐로 하지</td>\n",
       "      <td>당신이 좋아하는 꽃으로 만들어보세요.</td>\n",
       "      <td>0</td>\n",
       "    </tr>\n",
       "  </tbody>\n",
       "</table>\n",
       "</div>"
      ],
      "text/plain": [
       "                              Q                                 A  label\n",
       "306                 그 시절엔 다 그랬지                   추억에 잠길 때도 필요해요.      0\n",
       "1379                 듬직한 사람이 좋아  의지할 수 있는 사람이 곁에 있다는 건 큰 행운일 거예요.      0\n",
       "3313                   오늘 좀 바쁘네                         바빠도 힘내세요!      0\n",
       "3169         여자친구가 전화하는 걸 안 좋아해          다른 연락을 많이 하거나 더 자주 만나세요.      0\n",
       "11091  좋아하는 사람 언제까지 기다릴 수 있을까요.                마음이 허락하는 데까지 아닐까요.      2\n",
       "8467                  할 말이 많은데.                            말해보세요.      1\n",
       "6523                  불금에 혼자 혼술                       혼술 적당히 하세요.      1\n",
       "1061                      눈 또 와                    눈 내리는게 싫은가 봐요.      0\n",
       "3597                  위로받고 싶은 날                   제가 위로 많이 해드릴게요.      0\n",
       "2162                   부케 뭐로 하지              당신이 좋아하는 꽃으로 만들어보세요.      0"
      ]
     },
     "execution_count": 42,
     "metadata": {},
     "output_type": "execute_result"
    }
   ],
   "source": [
    "test = data.sample(10)\n",
    "test_question = test['Q']\n",
    "test"
   ]
  },
  {
   "cell_type": "code",
   "execution_count": 43,
   "metadata": {},
   "outputs": [
    {
     "name": "stdout",
     "output_type": "stream",
     "text": [
      "------------------------------\n",
      "Input: 그 시절엔 다 그랬지\n",
      "Output: 추억에 잠길 때도 필요해요 .\n",
      "------------------------------\n",
      "Input: 듬직한 사람이 좋아\n",
      "Output: 의지할 수 있는 사람이 곁에 있다는 건 큰 행운일 거예요 .\n",
      "------------------------------\n",
      "Input: 오늘 좀 바쁘네\n",
      "Output: 바빠도 힘내세요 !\n",
      "------------------------------\n",
      "Input: 여자친구가 전화하는 걸 안 좋아해\n",
      "Output: 다른 연락을 많이 하거나 더 자주 만나세요 .\n",
      "------------------------------\n",
      "Input: 좋아하는 사람 언제까지 기다릴 수 있을까요.\n",
      "Output: 마음이 허락하는 데까지 아닐까요 .\n",
      "------------------------------\n",
      "Input: 할 말이 많은데.\n",
      "Output: 말해보세요 .\n",
      "------------------------------\n",
      "Input: 불금에 혼자 혼술\n",
      "Output: 혼술 적당히 하세요 .\n",
      "------------------------------\n",
      "Input: 눈 또 와\n",
      "Output: 눈 내리는게 싫은가 봐요 .\n",
      "------------------------------\n",
      "Input: 위로받고 싶은 날\n",
      "Output: 제가 위로 많이 해드릴게요 .\n",
      "------------------------------\n",
      "Input: 부케 뭐로 하지\n",
      "Output: 당신이 좋아하는 꽃으로 만들어보세요 .\n"
     ]
    }
   ],
   "source": [
    "for question in test_question:\n",
    "    print('-'*30)\n",
    "    sentence_generation(question)"
   ]
  },
  {
   "cell_type": "code",
   "execution_count": 51,
   "metadata": {},
   "outputs": [
    {
     "name": "stdout",
     "output_type": "stream",
     "text": [
      "------------------------------\n",
      "Input: 그시절엔 다그랬나\n",
      "Output: 추억에 잠길 때도 필요해요 .\n",
      "------------------------------\n",
      "Input: 듬직한 사람이 좋아?\n",
      "Output: 의지할 수 있는 사람이 곁에 있다는 건 큰 행운일 거예요 .\n",
      "------------------------------\n",
      "Input: 바쁘다\n",
      "Output: 바빠도 힘내세요 !\n",
      "------------------------------\n",
      "Input: 좋아하는 사람 언제까지 기다릴 수 있을까?\n",
      "Output: 작은 것 하나라도 챙겨준다면 센스있는 사람이라고 생각할 거예요 .\n",
      "------------------------------\n",
      "Input: 할 말이 많음\n",
      "Output: 다른일로 바쁘면 조금 덜할 거예요 .\n",
      "------------------------------\n",
      "Input: 나는 혼술이 좋아\n",
      "Output: 캬아 맛있는 안주랑 드세요\n",
      "------------------------------\n",
      "Input: 혼술중\n",
      "Output: 캬아 맛있는 안주랑 드세요\n",
      "------------------------------\n",
      "Input: 눈이또와\n",
      "Output: 잠시 거리를 두고 생각해보세요 .\n",
      "------------------------------\n",
      "Input: 나 우울해 위로해줘\n",
      "Output: 많이 힘들었죠 .\n",
      "------------------------------\n",
      "Input: 부케가 뭘로할까\n",
      "Output: 잘 골라보세요 .\n"
     ]
    },
    {
     "data": {
      "text/plain": [
       "'잘 골라보세요 .'"
      ]
     },
     "execution_count": 51,
     "metadata": {},
     "output_type": "execute_result"
    }
   ],
   "source": [
    "print('-'*30)\n",
    "sentence_generation('그시절엔 다그랬나')\n",
    "print('-'*30)\n",
    "sentence_generation('듬직한 사람이 좋아?')\n",
    "print('-'*30)\n",
    "sentence_generation('바쁘다')\n",
    "print('-'*30)\n",
    "sentence_generation('좋아하는 사람 언제까지 기다릴 수 있을까?')\n",
    "print('-'*30)\n",
    "sentence_generation('할 말이 많음')\n",
    "print('-'*30)\n",
    "sentence_generation('나는 혼술이 좋아')\n",
    "print('-'*30)\n",
    "sentence_generation('혼술중')\n",
    "print('-'*30)\n",
    "sentence_generation('눈이또와')\n",
    "print('-'*30)\n",
    "sentence_generation('나 우울해 위로해줘')\n",
    "print('-'*30)\n",
    "sentence_generation('부케가 뭘로할까')\n"
   ]
  },
  {
   "cell_type": "markdown",
   "metadata": {},
   "source": [
    "# 회고\n",
    "- 배운점\n",
    "    - 한국어를 이해할 수 있게 하는 원리 (인코더 디코더 어텐션 등)\n",
    "- 아쉬운점\n",
    "    - Q: 할 말이 많음 A: 다른일로 바쁘면 조금 덜할 거예요. 처럼 답변이 이상한 답변이 있다.\n",
    "- 어려웠던점\n",
    "    - keras tuner로 최적의 하이퍼 파라미터를 찾아주고 싶었는데 이는 적용하지 못했고 수동으로 바꿔주었다.\n",
    "- 느낀점\n",
    "    - 다른 팀원분은 데이터 전처리 과정에서 숫자 없애거나 말거나 (박 일 / 3박4일) -> 와 같은 전처리를 추가로 진행하신 분도 있었는데 나는 그런부분까지는 생각하지 못했던거같다. 전처리 과정에 좀더 다른 전처리가 필요하지 않을까? 라는 궁금증을 가져야겠다."
   ]
  },
  {
   "cell_type": "code",
   "execution_count": null,
   "metadata": {},
   "outputs": [],
   "source": []
  }
 ],
 "metadata": {
  "colab": {
   "provenance": []
  },
  "kernelspec": {
   "display_name": "Python 3 (ipykernel)",
   "language": "python",
   "name": "python3"
  },
  "language_info": {
   "codemirror_mode": {
    "name": "ipython",
    "version": 3
   },
   "file_extension": ".py",
   "mimetype": "text/x-python",
   "name": "python",
   "nbconvert_exporter": "python",
   "pygments_lexer": "ipython3",
   "version": "3.9.7"
  }
 },
 "nbformat": 4,
 "nbformat_minor": 1
}
