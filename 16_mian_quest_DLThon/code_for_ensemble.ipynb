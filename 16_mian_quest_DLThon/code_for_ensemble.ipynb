{
 "cells": [
  {
   "cell_type": "markdown",
   "id": "24da3180",
   "metadata": {},
   "source": [
    "# 앙상블"
   ]
  },
  {
   "cell_type": "code",
   "execution_count": 10,
   "id": "21a70f79",
   "metadata": {},
   "outputs": [],
   "source": [
    "import numpy as np\n",
    "import pandas as pd"
   ]
  },
  {
   "cell_type": "code",
   "execution_count": 11,
   "id": "0944b61a",
   "metadata": {},
   "outputs": [],
   "source": [
    "lstm = np.load('lstm_predictions.npy')\n",
    "transformer = np.load('transformer_predictions.npy')\n",
    "fasttext = np.load('fasttext_lstm_predictions.npy')"
   ]
  },
  {
   "cell_type": "code",
   "execution_count": 12,
   "id": "ad9ab496",
   "metadata": {},
   "outputs": [],
   "source": [
    "submission = pd.read_csv('dktc/data/new_submission.csv')\n",
    "\n",
    "step = 0.1\n",
    "\n",
    "for a in np.arange(0, 1 + step, step):\n",
    "    for b in np.arange(0, 1 + step - a, step):\n",
    "        c = 1 - a - b\n",
    "        if 0 <= c <= 1:\n",
    "            prediction = a*lstm + b*transformer + c*fasttext\n",
    "            prediction = np.argmax(prediction, axis=1)\n",
    "            submission['class'] = prediction\n",
    "            submission.to_csv(f'submissions/submission_{a:.1f}_{b:.1f}_{c:.1f}.csv')"
   ]
  },
  {
   "cell_type": "markdown",
   "id": "560b9e1b",
   "metadata": {},
   "source": [
    "# 결과 자동 제출"
   ]
  },
  {
   "cell_type": "code",
   "execution_count": 16,
   "id": "596d2a00",
   "metadata": {},
   "outputs": [
    {
     "name": "stdout",
     "output_type": "stream",
     "text": [
      "File submissions/submission_0.8_0.1_0.1.csv upload response: 0.656\n",
      "File submissions/submission_0.1_0.4_0.5.csv upload response: 0.756\n",
      "File submissions/submission_0.1_0.9_0.0.csv upload response: 0.716\n",
      "File submissions/submission_0.2_0.6_0.2.csv upload response: 0.724\n",
      "File submissions/submission_0.0_0.8_0.2.csv upload response: 0.718\n",
      "File submissions/submission_0.5_0.4_0.1.csv upload response: 0.724\n",
      "File submissions/submission_0.4_0.3_0.3.csv upload response: 0.736\n",
      "File submissions/submission_0.1_0.5_0.4.csv upload response: 0.732\n",
      "File submissions/submission_0.4_0.5_0.1.csv upload response: 0.738\n",
      "File submissions/submission_0.0_0.0_1.0.csv upload response: 0.732\n",
      "File submissions/submission_0.1_0.0_0.9.csv upload response: 0.74\n",
      "File submissions/submission_0.0_0.9_0.1.csv upload response: 0.716\n",
      "File submissions/submission_0.0_0.4_0.6.csv upload response: 0.764\n",
      "File submissions/submission_0.2_0.8_0.0.csv upload response: 0.72\n",
      "File submissions/submission_0.5_0.0_0.5.csv upload response: 0.702\n",
      "File submissions/submission_0.7_0.2_0.1.csv upload response: 0.662\n",
      "File submissions/submission_0.3_0.2_0.5.csv upload response: 0.768\n",
      "File submissions/submission_1.0_0.0_0.0.csv upload response: 0.65\n",
      "File submissions/submission_0.6_0.3_0.1.csv upload response: 0.684\n",
      "File submissions/submission_0.9_0.0_0.1.csv upload response: 0.654\n",
      "File submissions/submission_0.0_0.3_0.7.csv upload response: 0.774\n",
      "File submissions/submission_0.0_0.5_0.5.csv upload response: 0.734\n",
      "File submissions/submission_0.2_0.4_0.4.csv upload response: 0.746\n",
      "File submissions/submission_0.5_0.1_0.4.csv upload response: 0.71\n",
      "File submissions/submission_0.2_0.1_0.7.csv upload response: 0.778\n",
      "File submissions/submission_0.4_0.1_0.5.csv upload response: 0.74\n",
      "File submissions/submission_0.4_0.4_0.2.csv upload response: 0.754\n",
      "File submissions/submission_0.1_0.6_0.3.csv upload response: 0.724\n",
      "File submissions/submission_0.3_0.3_0.4.csv upload response: 0.768\n",
      "File submissions/submission_0.1_0.3_0.6.csv upload response: 0.772\n",
      "File submissions/submission_0.1_0.1_0.8.csv upload response: 0.774\n",
      "File submissions/submission_0.3_0.6_0.1.csv upload response: 0.722\n",
      "File submissions/submission_0.6_0.1_0.3.csv upload response: 0.67\n",
      "File submissions/submission_0.0_0.6_0.4.csv upload response: 0.722\n",
      "File submissions/submission_0.0_0.2_0.8.csv upload response: 0.766\n",
      "File submissions/submission_0.3_0.1_0.6.csv upload response: 0.758\n",
      "File submissions/submission_0.2_0.5_0.3.csv upload response: 0.732\n",
      "File submissions/submission_0.2_0.2_0.6.csv upload response: 0.79\n",
      "File submissions/submission_0.6_0.2_0.2.csv upload response: 0.674\n",
      "File submissions/submission_0.2_0.0_0.8.csv upload response: 0.76\n",
      "File submissions/submission_0.7_0.1_0.2.csv upload response: 0.658\n",
      "File submissions/submission_0.5_0.5_0.0.csv upload response: 0.734\n",
      "File submissions/submission_0.7_0.0_0.3.csv upload response: 0.662\n",
      "File submissions/submission_0.0_0.7_0.3.csv upload response: 0.718\n",
      "File submissions/submission_0.3_0.0_0.7.csv upload response: 0.75\n",
      "File submissions/submission_0.0_0.1_0.9.csv upload response: 0.742\n",
      "File submissions/submission_0.2_0.7_0.1.csv upload response: 0.72\n",
      "File submissions/submission_0.8_0.0_0.2.csv upload response: 0.656\n",
      "File submissions/submission_0.6_0.0_0.4.csv upload response: 0.674\n",
      "File submissions/submission_0.1_0.8_0.1.csv upload response: 0.72\n",
      "File submissions/submission_0.3_0.4_0.3.csv upload response: 0.738\n",
      "File submissions/submission_0.4_0.0_0.6.csv upload response: 0.734\n",
      "File submissions/submission_0.0_1.0_0.0.csv upload response: 0.716\n",
      "File submissions/submission_0.3_0.5_0.2.csv upload response: 0.734\n",
      "File submissions/submission_0.1_0.2_0.7.csv upload response: 0.78\n",
      "File submissions/submission_0.2_0.3_0.5.csv upload response: 0.762\n",
      "File submissions/submission_0.4_0.2_0.4.csv upload response: 0.738\n",
      "File submissions/submission_0.1_0.7_0.2.csv upload response: 0.72\n",
      "File submissions/submission_0.5_0.2_0.3.csv upload response: 0.708\n",
      "File submissions/submission_0.5_0.3_0.2.csv upload response: 0.712\n"
     ]
    }
   ],
   "source": [
    "import requests\n",
    "import os \n",
    "\n",
    "submissions = os.listdir('submissions')\n",
    "submissions = [file for file in submissions if file.endswith(\".csv\")]\n",
    "csv_files = ['submissions/' + file for file in submissions]\n",
    "\n",
    "url = 'http://34.47.111.201:5000/submit'\n",
    "\n",
    "result = {}\n",
    "for file_path in csv_files:\n",
    "    with open(file_path, 'rb') as f:\n",
    "        files = {'csv': (file_path, f, 'text/csv')}\n",
    "        data = {'team': '3조'}\n",
    "        response = requests.post(url, files=files, data=data)\n",
    "        result[file_path.split('n_')[1].split('.c')[0]] = response.text.split(':')[1].split('}')[0]\n",
    "        #print('Status Code:', response.status_code)\n",
    "        print(f'File {file_path} upload response:', response.text.split(':')[1].split('}')[0])"
   ]
  },
  {
   "cell_type": "code",
   "execution_count": 17,
   "id": "9906111b",
   "metadata": {},
   "outputs": [
    {
     "data": {
      "text/plain": [
       "{'0.2_0.2_0.6': '0.79',\n",
       " '0.1_0.2_0.7': '0.78',\n",
       " '0.2_0.1_0.7': '0.778',\n",
       " '0.0_0.3_0.7': '0.774',\n",
       " '0.1_0.1_0.8': '0.774',\n",
       " '0.1_0.3_0.6': '0.772',\n",
       " '0.3_0.2_0.5': '0.768',\n",
       " '0.3_0.3_0.4': '0.768',\n",
       " '0.0_0.2_0.8': '0.766',\n",
       " '0.0_0.4_0.6': '0.764',\n",
       " '0.2_0.3_0.5': '0.762',\n",
       " '0.2_0.0_0.8': '0.76',\n",
       " '0.3_0.1_0.6': '0.758',\n",
       " '0.1_0.4_0.5': '0.756',\n",
       " '0.4_0.4_0.2': '0.754',\n",
       " '0.3_0.0_0.7': '0.75',\n",
       " '0.2_0.4_0.4': '0.746',\n",
       " '0.0_0.1_0.9': '0.742',\n",
       " '0.1_0.0_0.9': '0.74',\n",
       " '0.4_0.1_0.5': '0.74',\n",
       " '0.4_0.5_0.1': '0.738',\n",
       " '0.3_0.4_0.3': '0.738',\n",
       " '0.4_0.2_0.4': '0.738',\n",
       " '0.4_0.3_0.3': '0.736',\n",
       " '0.0_0.5_0.5': '0.734',\n",
       " '0.5_0.5_0.0': '0.734',\n",
       " '0.4_0.0_0.6': '0.734',\n",
       " '0.3_0.5_0.2': '0.734',\n",
       " '0.1_0.5_0.4': '0.732',\n",
       " '0.0_0.0_1.0': '0.732',\n",
       " '0.2_0.5_0.3': '0.732',\n",
       " '0.2_0.6_0.2': '0.724',\n",
       " '0.5_0.4_0.1': '0.724',\n",
       " '0.1_0.6_0.3': '0.724',\n",
       " '0.3_0.6_0.1': '0.722',\n",
       " '0.0_0.6_0.4': '0.722',\n",
       " '0.2_0.8_0.0': '0.72',\n",
       " '0.2_0.7_0.1': '0.72',\n",
       " '0.1_0.8_0.1': '0.72',\n",
       " '0.1_0.7_0.2': '0.72',\n",
       " '0.0_0.8_0.2': '0.718',\n",
       " '0.0_0.7_0.3': '0.718',\n",
       " '0.1_0.9_0.0': '0.716',\n",
       " '0.0_0.9_0.1': '0.716',\n",
       " '0.0_1.0_0.0': '0.716',\n",
       " '0.5_0.3_0.2': '0.712',\n",
       " '0.5_0.1_0.4': '0.71',\n",
       " '0.5_0.2_0.3': '0.708',\n",
       " '0.5_0.0_0.5': '0.702',\n",
       " '0.6_0.3_0.1': '0.684',\n",
       " '0.6_0.2_0.2': '0.674',\n",
       " '0.6_0.0_0.4': '0.674',\n",
       " '0.6_0.1_0.3': '0.67',\n",
       " '0.7_0.2_0.1': '0.662',\n",
       " '0.7_0.0_0.3': '0.662',\n",
       " '0.7_0.1_0.2': '0.658',\n",
       " '0.8_0.1_0.1': '0.656',\n",
       " '0.8_0.0_0.2': '0.656',\n",
       " '0.9_0.0_0.1': '0.654',\n",
       " '1.0_0.0_0.0': '0.65'}"
      ]
     },
     "execution_count": 17,
     "metadata": {},
     "output_type": "execute_result"
    }
   ],
   "source": [
    "sorted_result = dict(sorted(result.items(), key=lambda item: item[1], reverse=True))\n",
    "sorted_result"
   ]
  },
  {
   "cell_type": "code",
   "execution_count": null,
   "id": "bc42ac2a",
   "metadata": {},
   "outputs": [],
   "source": []
  }
 ],
 "metadata": {
  "kernelspec": {
   "display_name": "Python 3 (ipykernel)",
   "language": "python",
   "name": "python3"
  },
  "language_info": {
   "codemirror_mode": {
    "name": "ipython",
    "version": 3
   },
   "file_extension": ".py",
   "mimetype": "text/x-python",
   "name": "python",
   "nbconvert_exporter": "python",
   "pygments_lexer": "ipython3",
   "version": "3.9.7"
  }
 },
 "nbformat": 4,
 "nbformat_minor": 5
}
