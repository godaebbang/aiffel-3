{
 "cells": [
  {
   "cell_type": "code",
   "execution_count": 1,
   "id": "ee3419bc",
   "metadata": {},
   "outputs": [],
   "source": [
    "import pandas as pd\n",
    "import numpy as np\n",
    "from gensim.models import FastText\n",
    "from sklearn.model_selection import train_test_split\n",
    "import tensorflow as tf\n",
    "from tensorflow.keras.models import Sequential\n",
    "from tensorflow.keras.layers import LSTM, Dropout, Dense, Embedding\n",
    "from tensorflow.keras.preprocessing.sequence import pad_sequences\n",
    "from tensorflow.keras.preprocessing.text import Tokenizer\n",
    "from tensorflow.keras.initializers import Constant\n",
    "import nltk\n",
    "import re\n",
    "from nltk.stem import WordNetLemmatizer\n",
    "from nltk.corpus import stopwords\n",
    "from sklearn.utils import resample\n",
    "import seaborn as sns\n",
    "import matplotlib.pyplot as plt\n",
    "\n",
    "from tensorflow.keras.utils import plot_model"
   ]
  },
  {
   "cell_type": "code",
   "execution_count": 2,
   "id": "1b214114",
   "metadata": {},
   "outputs": [],
   "source": [
    "import re\n",
    "\n",
    "def preprocess_sentence(sentence, stopwords=None):\n",
    "    # 개행자 삭제\n",
    "    sentence = re.sub(r'[\\n\\r]', ' ', sentence)\n",
    "    \n",
    "    # 단어와 구두점(punctuation) 사이의 거리를 만듭니다.\n",
    "    # 예를 들어서 \"I am a student.\" => \"I am a student .\"와 같이\n",
    "    # student와 온점 사이에 거리를 만듭니다. \n",
    "    sentence = re.sub(r\"([?.!,])\", r\" \\1 \", sentence)\n",
    "    sentence = re.sub(r'[\" \"]+', \" \", sentence)\n",
    "\n",
    "    # (a-z, A-Z,가-힣,0-9, \".\", \"?\", \"!\", \",\")를 제외한 모든 문자를 공백인 ' '로 대체합니다.\n",
    "    sentence = re.sub(r\"[^a-zA-Z가-힣0-9\\.\\?\\!,]\", \" \", sentence)\n",
    "    sentence = sentence.strip()\n",
    "\n",
    "    # '키키'와 같이 연속된 키를 제거합니다.\n",
    "    sentence = re.sub(r'키{2,}', '', sentence)\n",
    "    sentence = re.sub(r'\\b키\\b', '', sentence)\n",
    "\n",
    "    if stopwords:\n",
    "        words = sentence.split()\n",
    "        filtered_words = [word for word in words if word not in stopwords]\n",
    "        sentence = ' '.join(filtered_words)\n",
    "\n",
    "    return sentence"
   ]
  },
  {
   "cell_type": "code",
   "execution_count": 3,
   "id": "d9df53d5",
   "metadata": {},
   "outputs": [],
   "source": [
    "# data\n",
    "base_dir = '../data/'\n",
    "\n",
    "train = pd.read_csv(base_dir + 'custom_train_2.csv')\n",
    "test = pd.read_csv(base_dir + 'custom_test.csv')\n",
    "test['conversation'] = test['conversation'].apply(preprocess_sentence)"
   ]
  },
  {
   "cell_type": "code",
   "execution_count": 4,
   "id": "640dcefa",
   "metadata": {},
   "outputs": [],
   "source": [
    "all_texts = train['conversation'].tolist()"
   ]
  },
  {
   "cell_type": "code",
   "execution_count": 5,
   "id": "78458ce0",
   "metadata": {},
   "outputs": [],
   "source": [
    "# We train FastText model on all_texts\n",
    "fasttext_model = FastText(\n",
    "    sentences=all_texts,\n",
    "    vector_size=300,\n",
    "    window=5,\n",
    "    min_count=2,\n",
    "    sg=1,\n",
    "    word_ngrams=1,\n",
    "    workers=4)\n",
    "\n",
    "# Define Tokenizer\n",
    "tokenizer = Tokenizer()\n",
    "tokenizer.fit_on_texts(all_texts)\n",
    "word_index = tokenizer.word_index\n",
    "\n",
    "\n",
    "\n",
    "# EMBEDDING_DIM = 300  # this should match the dimensionality of the FastText vectors\n",
    "\n",
    "# # Prepare embedding matrix\n",
    "# embedding_matrix = np.zeros((len(word_index) + 1, EMBEDDING_DIM))\n",
    "# for word, i in word_index.items():\n",
    "#     if word in fasttext_model.wv:\n",
    "#         embedding_vector = fasttext_model.wv[word]\n",
    "#         embedding_matrix[i] = embedding_vector\n",
    "\n",
    "# # Load this into an Embedding layer\n",
    "# # Note that we set trainable=False to prevent the weights from being updated during training.\n",
    "\n",
    "# embedding_layer = Embedding(len(word_index) + 1,\n",
    "#                             EMBEDDING_DIM,\n",
    "#                             embeddings_initializer=Constant(embedding_matrix),\n",
    "#                             trainable=False)"
   ]
  },
  {
   "cell_type": "code",
   "execution_count": 6,
   "id": "8abb8c25",
   "metadata": {},
   "outputs": [],
   "source": [
    "def get_vector(model, texts):\n",
    "    vectors = []\n",
    "    for text in texts:\n",
    "        text_vectors = []\n",
    "        for word in text:\n",
    "            if word in model.wv.key_to_index:\n",
    "                text_vectors.append(model.wv.get_vector(word))\n",
    "        if len(text_vectors) > 0:\n",
    "            text_vector = np.mean(text_vectors, axis=0)\n",
    "            vectors.append(text_vector)\n",
    "        else:\n",
    "            vectors.append(np.zeros(model.vector_size))\n",
    "    return np.array(vectors)"
   ]
  },
  {
   "cell_type": "code",
   "execution_count": 7,
   "id": "da16320e",
   "metadata": {},
   "outputs": [],
   "source": [
    "X_train = get_vector(fasttext_model, train['conversation'])\n",
    "Y_train = tf.keras.utils.to_categorical(train['label'])\n",
    "X_test = get_vector(fasttext_model, test['conversation'])"
   ]
  },
  {
   "cell_type": "code",
   "execution_count": 8,
   "id": "a5462814",
   "metadata": {},
   "outputs": [
    {
     "data": {
      "text/plain": [
       "300"
      ]
     },
     "execution_count": 8,
     "metadata": {},
     "output_type": "execute_result"
    }
   ],
   "source": [
    "fasttext_model.vector_size"
   ]
  },
  {
   "cell_type": "code",
   "execution_count": 9,
   "id": "ca976838",
   "metadata": {},
   "outputs": [
    {
     "data": {
      "text/plain": [
       "(9900, 300)"
      ]
     },
     "execution_count": 9,
     "metadata": {},
     "output_type": "execute_result"
    }
   ],
   "source": [
    "X_train.shape"
   ]
  },
  {
   "cell_type": "code",
   "execution_count": 10,
   "id": "f0a8e7df",
   "metadata": {},
   "outputs": [
    {
     "data": {
      "text/plain": [
       "1531"
      ]
     },
     "execution_count": 10,
     "metadata": {},
     "output_type": "execute_result"
    }
   ],
   "source": [
    "len(fasttext_model.wv.key_to_index)"
   ]
  },
  {
   "cell_type": "code",
   "execution_count": 11,
   "id": "4d679ccb",
   "metadata": {},
   "outputs": [],
   "source": [
    "X_train, X_val, Y_train, Y_val = train_test_split(X_train, Y_train, test_size=0.2, random_state=123)"
   ]
  },
  {
   "cell_type": "markdown",
   "id": "e7ea45c5",
   "metadata": {},
   "source": [
    "# Model Define"
   ]
  },
  {
   "cell_type": "code",
   "execution_count": 12,
   "id": "eba2c240",
   "metadata": {},
   "outputs": [],
   "source": [
    "from tensorflow.keras import backend as K\n",
    "\n",
    "def f1_score(y_true, y_pred):\n",
    "    # 예측값을 0과 1로 반올림\n",
    "    y_pred = tf.round(y_pred)\n",
    "\n",
    "    # True Positives, False Positives, False Negatives 계산\n",
    "    true_positives = K.sum(K.round(K.clip(y_true * y_pred, 0, 1)))\n",
    "    predicted_positives = K.sum(K.round(K.clip(y_pred, 0, 1)))\n",
    "    possible_positives = K.sum(K.round(K.clip(y_true, 0, 1)))\n",
    "\n",
    "    # Precision, Recall 계산\n",
    "    precision = true_positives / (predicted_positives + K.epsilon())\n",
    "    recall = true_positives / (possible_positives + K.epsilon())\n",
    "\n",
    "    # F1 Score 계산\n",
    "    f1_val = 2 * ((precision * recall) / (precision + recall + K.epsilon()))\n",
    "    return f1_val"
   ]
  },
  {
   "cell_type": "code",
   "execution_count": 13,
   "id": "dbb4511f",
   "metadata": {},
   "outputs": [],
   "source": [
    "X_train = X_train.reshape((X_train.shape[0], 1, X_train.shape[1]))\n",
    "X_test = X_test.reshape((X_test.shape[0], 1, X_test.shape[1]))\n",
    "X_val = X_val.reshape((X_val.shape[0], 1, X_val.shape[1]))"
   ]
  },
  {
   "cell_type": "code",
   "execution_count": 14,
   "id": "4710adc3",
   "metadata": {},
   "outputs": [
    {
     "data": {
      "text/plain": [
       "(7920, 1, 300)"
      ]
     },
     "execution_count": 14,
     "metadata": {},
     "output_type": "execute_result"
    }
   ],
   "source": [
    "X_train.shape"
   ]
  },
  {
   "cell_type": "code",
   "execution_count": 15,
   "id": "040b3a4f",
   "metadata": {},
   "outputs": [],
   "source": [
    "from tensorflow.keras.layers import LSTM\n",
    "from tensorflow.keras.optimizers import Adam, RMSprop\n",
    "from tensorflow.keras.callbacks import EarlyStopping"
   ]
  },
  {
   "cell_type": "code",
   "execution_count": 16,
   "id": "cada06cd",
   "metadata": {},
   "outputs": [],
   "source": [
    "# sweep_config = {\n",
    "#     \"name\": \"fasttext_gesim_sweep_1\",\n",
    "#     'method': 'bayes',  # Random search 방식으로 하이퍼파라미터 탐색\n",
    "#     'metric': {\n",
    "#         'name': 'accuracy',\n",
    "#         'goal': 'maximize'\n",
    "#     },\n",
    "#     'parameters': {\n",
    "#         'lr': {\n",
    "#             'values': [0.01, 0.05, 0.1, 0.2, 0.5]  # 더 넓은 범위의 학습률\n",
    "#         },\n",
    "#         'epoch': {\n",
    "#             'values': [50, 70, 100]  # 다양한 에포크 수\n",
    "#         },\n",
    "#         'wordNgrams': {\n",
    "#             'values': [2, 3, 4]  # 다양한 n-그램 값\n",
    "#         },\n",
    "#         'dim': {\n",
    "#             'values': [100, 150, 200]  # 다양한 벡터 차원\n",
    "#         },\n",
    "#         'minCount': {\n",
    "#             'values': [1, 2, 3, 5, 7]  # 다양한 최소 단어 출현 빈도\n",
    "#         }\n",
    "#     }\n",
    "# }\n"
   ]
  },
  {
   "cell_type": "code",
   "execution_count": 17,
   "id": "bc4ca68b",
   "metadata": {},
   "outputs": [],
   "source": [
    "\"\"\"\n",
    "wandb: Agent Starting Run: vbpucc3r with config:\n",
    "wandb: \tbatch_size: 32\n",
    "wandb: \tdropout_rate: 0.2\n",
    "wandb: \tlearning_rate: 0.0021717954296463227\n",
    "wandb: \tunits: 128\n",
    "\"\"\"\n",
    "batch_size = 16\n",
    "dropout_rate = 0.3\n",
    "learning_rate = 0.002\n",
    "units = 64"
   ]
  },
  {
   "cell_type": "code",
   "execution_count": 18,
   "id": "0175244a",
   "metadata": {},
   "outputs": [],
   "source": [
    "# Define the model architecture\n",
    "model = Sequential()\n",
    "model.add(LSTM(units, return_sequences=True, input_shape=(1, X_train.shape[2])))\n",
    "model.add(Dropout(dropout_rate))\n",
    "model.add(LSTM(units))\n",
    "model.add(Dropout(dropout_rate))\n",
    "model.add(Dense(Y_train.shape[1], activation='softmax'))\n",
    "\n",
    "optimizer = Adam(learning_rate=learning_rate)\n",
    "\n",
    "# Compile the model\n",
    "model.compile(optimizer=optimizer, loss='categorical_crossentropy', metrics=['accuracy',f1_score])"
   ]
  },
  {
   "cell_type": "code",
   "execution_count": 19,
   "id": "79e725ef",
   "metadata": {},
   "outputs": [
    {
     "name": "stdout",
     "output_type": "stream",
     "text": [
      "Model: \"sequential\"\n",
      "_________________________________________________________________\n",
      "Layer (type)                 Output Shape              Param #   \n",
      "=================================================================\n",
      "lstm (LSTM)                  (None, 1, 64)             93440     \n",
      "_________________________________________________________________\n",
      "dropout (Dropout)            (None, 1, 64)             0         \n",
      "_________________________________________________________________\n",
      "lstm_1 (LSTM)                (None, 64)                33024     \n",
      "_________________________________________________________________\n",
      "dropout_1 (Dropout)          (None, 64)                0         \n",
      "_________________________________________________________________\n",
      "dense (Dense)                (None, 5)                 325       \n",
      "=================================================================\n",
      "Total params: 126,789\n",
      "Trainable params: 126,789\n",
      "Non-trainable params: 0\n",
      "_________________________________________________________________\n"
     ]
    },
    {
     "data": {
      "image/png": "[encoded data removed]",
      "text/plain": [
       "<IPython.core.display.Image object>"
      ]
     },
     "execution_count": 19,
     "metadata": {},
     "output_type": "execute_result"
    }
   ],
   "source": [
    "model.summary()\n",
    "\n",
    "plot_model(model)"
   ]
  },
  {
   "cell_type": "code",
   "execution_count": 20,
   "id": "9294d5aa",
   "metadata": {},
   "outputs": [
    {
     "name": "stdout",
     "output_type": "stream",
     "text": [
      "Epoch 1/50\n",
      "495/495 [==============================] - 10s 6ms/step - loss: 1.2857 - accuracy: 0.4480 - f1_score: 0.2481 - val_loss: 0.9789 - val_accuracy: 0.6258 - val_f1_score: 0.5370\n",
      "Epoch 2/50\n",
      "495/495 [==============================] - 2s 5ms/step - loss: 0.9042 - accuracy: 0.6528 - f1_score: 0.5995 - val_loss: 0.8616 - val_accuracy: 0.6460 - val_f1_score: 0.6229\n",
      "Epoch 3/50\n",
      "495/495 [==============================] - 3s 6ms/step - loss: 0.8222 - accuracy: 0.6902 - f1_score: 0.6635 - val_loss: 0.7758 - val_accuracy: 0.7015 - val_f1_score: 0.6743\n",
      "Epoch 4/50\n",
      "495/495 [==============================] - 2s 5ms/step - loss: 0.7830 - accuracy: 0.7047 - f1_score: 0.6853 - val_loss: 0.7110 - val_accuracy: 0.7313 - val_f1_score: 0.7181\n",
      "Epoch 5/50\n",
      "495/495 [==============================] - 2s 5ms/step - loss: 0.7582 - accuracy: 0.7191 - f1_score: 0.6990 - val_loss: 0.7100 - val_accuracy: 0.7273 - val_f1_score: 0.7116\n",
      "Epoch 6/50\n",
      "495/495 [==============================] - 2s 5ms/step - loss: 0.7360 - accuracy: 0.7226 - f1_score: 0.7090 - val_loss: 0.7011 - val_accuracy: 0.7283 - val_f1_score: 0.7143\n",
      "Epoch 7/50\n",
      "495/495 [==============================] - 2s 5ms/step - loss: 0.7167 - accuracy: 0.7280 - f1_score: 0.7118 - val_loss: 0.6822 - val_accuracy: 0.7419 - val_f1_score: 0.7290\n",
      "Epoch 8/50\n",
      "495/495 [==============================] - 3s 6ms/step - loss: 0.7078 - accuracy: 0.7367 - f1_score: 0.7179 - val_loss: 0.6842 - val_accuracy: 0.7384 - val_f1_score: 0.7290\n",
      "Epoch 9/50\n",
      "495/495 [==============================] - 2s 5ms/step - loss: 0.6980 - accuracy: 0.7393 - f1_score: 0.7250 - val_loss: 0.6798 - val_accuracy: 0.7424 - val_f1_score: 0.7235\n",
      "Epoch 10/50\n",
      "495/495 [==============================] - 2s 5ms/step - loss: 0.6975 - accuracy: 0.7394 - f1_score: 0.7257 - val_loss: 0.7208 - val_accuracy: 0.7263 - val_f1_score: 0.7044\n",
      "Epoch 11/50\n",
      "495/495 [==============================] - 2s 5ms/step - loss: 0.6937 - accuracy: 0.7434 - f1_score: 0.7280 - val_loss: 0.6680 - val_accuracy: 0.7434 - val_f1_score: 0.7327\n",
      "Epoch 12/50\n",
      "495/495 [==============================] - 3s 5ms/step - loss: 0.6766 - accuracy: 0.7487 - f1_score: 0.7346 - val_loss: 0.6833 - val_accuracy: 0.7414 - val_f1_score: 0.7269\n",
      "Epoch 13/50\n",
      "495/495 [==============================] - 3s 5ms/step - loss: 0.6767 - accuracy: 0.7510 - f1_score: 0.7392 - val_loss: 0.6514 - val_accuracy: 0.7556 - val_f1_score: 0.7382\n",
      "Epoch 14/50\n",
      "495/495 [==============================] - 2s 5ms/step - loss: 0.6698 - accuracy: 0.7529 - f1_score: 0.7387 - val_loss: 0.6421 - val_accuracy: 0.7545 - val_f1_score: 0.7438\n",
      "Epoch 15/50\n",
      "495/495 [==============================] - 2s 5ms/step - loss: 0.6649 - accuracy: 0.7515 - f1_score: 0.7426 - val_loss: 0.6869 - val_accuracy: 0.7470 - val_f1_score: 0.7326\n",
      "Epoch 16/50\n",
      "495/495 [==============================] - 2s 5ms/step - loss: 0.6618 - accuracy: 0.7562 - f1_score: 0.7421 - val_loss: 0.6678 - val_accuracy: 0.7465 - val_f1_score: 0.7433\n",
      "Epoch 17/50\n",
      "495/495 [==============================] - 3s 6ms/step - loss: 0.6627 - accuracy: 0.7563 - f1_score: 0.7476 - val_loss: 0.6578 - val_accuracy: 0.7490 - val_f1_score: 0.7373\n",
      "Epoch 18/50\n",
      "495/495 [==============================] - 2s 5ms/step - loss: 0.6532 - accuracy: 0.7624 - f1_score: 0.7491 - val_loss: 0.6781 - val_accuracy: 0.7460 - val_f1_score: 0.7343\n",
      "Epoch 19/50\n",
      "495/495 [==============================] - 2s 5ms/step - loss: 0.6445 - accuracy: 0.7607 - f1_score: 0.7502 - val_loss: 0.6444 - val_accuracy: 0.7581 - val_f1_score: 0.7534\n",
      "Epoch 00019: early stopping\n"
     ]
    }
   ],
   "source": [
    "# Define early stopping\n",
    "es = EarlyStopping(monitor='val_loss', mode='auto', verbose=1, patience=5, min_delta=0.0001)\n",
    "\n",
    "# Train the model\n",
    "history = model.fit(X_train, Y_train,\n",
    "          epochs=50,\n",
    "          batch_size=batch_size,\n",
    "          validation_data=(X_val, Y_val),\n",
    "          callbacks=[es]\n",
    "         )"
   ]
  },
  {
   "cell_type": "code",
   "execution_count": 21,
   "id": "0c8a01ab",
   "metadata": {},
   "outputs": [
    {
     "data": {
      "text/plain": [
       "0.758080780506134"
      ]
     },
     "execution_count": 21,
     "metadata": {},
     "output_type": "execute_result"
    }
   ],
   "source": [
    "# Evaluate the model\n",
    "accuracy = model.evaluate(X_val, Y_val, verbose=0)[1]\n",
    "\n",
    "\n",
    "accuracy"
   ]
  },
  {
   "cell_type": "code",
   "execution_count": 22,
   "id": "01757f49",
   "metadata": {},
   "outputs": [
    {
     "data": {
      "text/plain": [
       "array([[9.46574435e-02, 6.16417825e-01, 2.74304133e-02, 2.59865105e-01,\n",
       "        1.62915746e-03],\n",
       "       [1.55234104e-02, 1.09658102e-02, 9.57745135e-01, 1.50925480e-02,\n",
       "        6.73208153e-04],\n",
       "       [9.15761441e-02, 7.77550116e-02, 7.63085485e-01, 6.42192811e-02,\n",
       "        3.36411898e-03],\n",
       "       ...,\n",
       "       [1.58467460e-02, 9.34527636e-01, 9.15217213e-04, 4.87028472e-02,\n",
       "        7.62759873e-06],\n",
       "       [2.95528680e-01, 1.08829908e-01, 4.24582869e-01, 1.55558243e-01,\n",
       "        1.55002549e-02],\n",
       "       [5.31551361e-01, 2.09747970e-01, 1.14796147e-01, 1.30488828e-01,\n",
       "        1.34157045e-02]], dtype=float32)"
      ]
     },
     "execution_count": 22,
     "metadata": {},
     "output_type": "execute_result"
    }
   ],
   "source": [
    "predictions = model.predict(X_test)\n",
    "predictions"
   ]
  },
  {
   "cell_type": "markdown",
   "id": "dad18995",
   "metadata": {},
   "source": [
    "# submission"
   ]
  },
  {
   "cell_type": "code",
   "execution_count": 23,
   "id": "f022f085",
   "metadata": {},
   "outputs": [
    {
     "data": {
      "text/plain": [
       "3    137\n",
       "2    129\n",
       "1    114\n",
       "0     63\n",
       "4     57\n",
       "Name: class, dtype: int64"
      ]
     },
     "execution_count": 23,
     "metadata": {},
     "output_type": "execute_result"
    }
   ],
   "source": [
    "submission = pd.read_csv(base_dir + 'submission.csv')\n",
    "\n",
    "predicted_classes = np.argmax(predictions, axis=1)\n",
    "\n",
    "submission['class'] = predicted_classes\n",
    "\n",
    "submission['class'].value_counts()"
   ]
  },
  {
   "cell_type": "code",
   "execution_count": 24,
   "id": "9404504e",
   "metadata": {},
   "outputs": [],
   "source": [
    "submission.to_csv('fasttext_lstm_submission.csv', index=False)"
   ]
  },
  {
   "cell_type": "markdown",
   "id": "343f23c3",
   "metadata": {},
   "source": [
    "# numpy 저장용"
   ]
  },
  {
   "cell_type": "code",
   "execution_count": 25,
   "id": "e0d1dd46",
   "metadata": {},
   "outputs": [],
   "source": [
    "import numpy as np\n",
    "\n",
    "np.save('fasttext_lstm_predictions', predictions)"
   ]
  },
  {
   "cell_type": "code",
   "execution_count": 26,
   "id": "fdd114a8",
   "metadata": {},
   "outputs": [
    {
     "name": "stdout",
     "output_type": "stream",
     "text": [
      "(500, 5)\n"
     ]
    }
   ],
   "source": [
    "import numpy as np\n",
    "predictions = np.load('fasttext_lstm_predictions.npy')\n",
    "print(predictions.shape)\n",
    "\n",
    "\n",
    "# for pred in predictions:\n",
    "#     print(np.argmax(pred))"
   ]
  }
 ],
 "metadata": {
  "kernelspec": {
   "display_name": "Python 3 (ipykernel)",
   "language": "python",
   "name": "python3"
  },
  "language_info": {
   "codemirror_mode": {
    "name": "ipython",
    "version": 3
   },
   "file_extension": ".py",
   "mimetype": "text/x-python",
   "name": "python",
   "nbconvert_exporter": "python",
   "pygments_lexer": "ipython3",
   "version": "3.9.7"
  }
 },
 "nbformat": 4,
 "nbformat_minor": 5
}
