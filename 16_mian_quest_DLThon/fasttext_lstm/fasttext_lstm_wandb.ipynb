{
 "cells": [
  {
   "cell_type": "code",
   "execution_count": 1,
   "id": "9a555792",
   "metadata": {},
   "outputs": [],
   "source": [
    "import pandas as pd\n",
    "import numpy as np\n",
    "from gensim.models import FastText\n",
    "from sklearn.model_selection import train_test_split\n",
    "import tensorflow as tf\n",
    "from tensorflow.keras.models import Sequential\n",
    "from tensorflow.keras.layers import LSTM, Dropout, Dense, Embedding\n",
    "from tensorflow.keras.preprocessing.sequence import pad_sequences\n",
    "from tensorflow.keras.preprocessing.text import Tokenizer\n",
    "from tensorflow.keras.initializers import Constant\n",
    "import nltk\n",
    "import re\n",
    "from nltk.stem import WordNetLemmatizer\n",
    "from nltk.corpus import stopwords\n",
    "from sklearn.utils import resample\n",
    "import seaborn as sns\n",
    "import matplotlib.pyplot as plt\n",
    "\n",
    "from tensorflow.keras.utils import plot_model"
   ]
  },
  {
   "cell_type": "code",
   "execution_count": 2,
   "id": "55c9f692",
   "metadata": {},
   "outputs": [],
   "source": [
    "import re\n",
    "\n",
    "def preprocess_sentence(sentence, stopwords=None):\n",
    "    # 개행자 삭제\n",
    "    sentence = re.sub(r'[\\n\\r]', ' ', sentence)\n",
    "    \n",
    "    # 단어와 구두점(punctuation) 사이의 거리를 만듭니다.\n",
    "    # 예를 들어서 \"I am a student.\" => \"I am a student .\"와 같이\n",
    "    # student와 온점 사이에 거리를 만듭니다. \n",
    "    sentence = re.sub(r\"([?.!,])\", r\" \\1 \", sentence)\n",
    "    sentence = re.sub(r'[\" \"]+', \" \", sentence)\n",
    "\n",
    "    # (a-z, A-Z,가-힣,0-9, \".\", \"?\", \"!\", \",\")를 제외한 모든 문자를 공백인 ' '로 대체합니다.\n",
    "    sentence = re.sub(r\"[^a-zA-Z가-힣0-9\\.\\?\\!,]\", \" \", sentence)\n",
    "    sentence = sentence.strip()\n",
    "\n",
    "    # '키키'와 같이 연속된 키를 제거합니다.\n",
    "    sentence = re.sub(r'키{2,}', '', sentence)\n",
    "    sentence = re.sub(r'\\b키\\b', '', sentence)\n",
    "\n",
    "    if stopwords:\n",
    "        words = sentence.split()\n",
    "        filtered_words = [word for word in words if word not in stopwords]\n",
    "        sentence = ' '.join(filtered_words)\n",
    "\n",
    "    return sentence"
   ]
  },
  {
   "cell_type": "code",
   "execution_count": 3,
   "id": "f112c6b3",
   "metadata": {},
   "outputs": [],
   "source": [
    "# data\n",
    "base_dir = '../data/'\n",
    "\n",
    "train = pd.read_csv(base_dir + 'custom_train_2.csv')\n",
    "test = pd.read_csv(base_dir + 'custom_test.csv')\n",
    "test['conversation'] = test['conversation'].apply(preprocess_sentence)"
   ]
  },
  {
   "cell_type": "code",
   "execution_count": 4,
   "id": "80c9c964",
   "metadata": {},
   "outputs": [],
   "source": [
    "all_texts = train['conversation'].tolist()"
   ]
  },
  {
   "cell_type": "code",
   "execution_count": 5,
   "id": "b90bcfee",
   "metadata": {},
   "outputs": [],
   "source": [
    "# We train FastText model on all_texts\n",
    "fasttext_model = FastText(\n",
    "    sentences=all_texts,\n",
    "    vector_size=300,\n",
    "    window=5,\n",
    "    min_count=2,\n",
    "    sg=1,\n",
    "    word_ngrams=1,\n",
    "    workers=4)\n",
    "\n",
    "# Define Tokenizer\n",
    "tokenizer = Tokenizer()\n",
    "tokenizer.fit_on_texts(all_texts)\n",
    "word_index = tokenizer.word_index\n",
    "\n",
    "\n",
    "\n",
    "# EMBEDDING_DIM = 300  # this should match the dimensionality of the FastText vectors\n",
    "\n",
    "# # Prepare embedding matrix\n",
    "# embedding_matrix = np.zeros((len(word_index) + 1, EMBEDDING_DIM))\n",
    "# for word, i in word_index.items():\n",
    "#     if word in fasttext_model.wv:\n",
    "#         embedding_vector = fasttext_model.wv[word]\n",
    "#         embedding_matrix[i] = embedding_vector\n",
    "\n",
    "# # Load this into an Embedding layer\n",
    "# # Note that we set trainable=False to prevent the weights from being updated during training.\n",
    "\n",
    "# embedding_layer = Embedding(len(word_index) + 1,\n",
    "#                             EMBEDDING_DIM,\n",
    "#                             embeddings_initializer=Constant(embedding_matrix),\n",
    "#                             trainable=False)"
   ]
  },
  {
   "cell_type": "code",
   "execution_count": 6,
   "id": "1f0d2c55",
   "metadata": {},
   "outputs": [],
   "source": [
    "def get_vector(model, texts):\n",
    "    vectors = []\n",
    "    for text in texts:\n",
    "        text_vectors = []\n",
    "        for word in text:\n",
    "            if word in model.wv.key_to_index:\n",
    "                text_vectors.append(model.wv.get_vector(word))\n",
    "        if len(text_vectors) > 0:\n",
    "            text_vector = np.mean(text_vectors, axis=0)\n",
    "            vectors.append(text_vector)\n",
    "        else:\n",
    "            vectors.append(np.zeros(model.vector_size))\n",
    "    return np.array(vectors)"
   ]
  },
  {
   "cell_type": "code",
   "execution_count": 7,
   "id": "b1869c5c",
   "metadata": {},
   "outputs": [],
   "source": [
    "X_train = get_vector(fasttext_model, train['conversation'])\n",
    "Y_train = tf.keras.utils.to_categorical(train['label'])\n",
    "X_test = get_vector(fasttext_model, test['conversation'])"
   ]
  },
  {
   "cell_type": "code",
   "execution_count": 8,
   "id": "c1cc2c7f",
   "metadata": {},
   "outputs": [],
   "source": [
    "X_train, X_val, Y_train, Y_val = train_test_split(X_train, Y_train, test_size=0.2, random_state=123)"
   ]
  },
  {
   "cell_type": "markdown",
   "id": "3bfc4648",
   "metadata": {},
   "source": [
    "# Model Define"
   ]
  },
  {
   "cell_type": "code",
   "execution_count": 9,
   "id": "9079e32b",
   "metadata": {},
   "outputs": [],
   "source": [
    "X_train = X_train.reshape((X_train.shape[0], 1, X_train.shape[1]))\n",
    "X_test = X_test.reshape((X_test.shape[0], 1, X_test.shape[1]))\n",
    "X_val = X_val.reshape((X_val.shape[0], 1, X_val.shape[1]))"
   ]
  },
  {
   "cell_type": "code",
   "execution_count": 10,
   "id": "bf3d50f4",
   "metadata": {},
   "outputs": [
    {
     "data": {
      "text/plain": [
       "(7920, 1, 300)"
      ]
     },
     "execution_count": 10,
     "metadata": {},
     "output_type": "execute_result"
    }
   ],
   "source": [
    "X_train.shape"
   ]
  },
  {
   "cell_type": "code",
   "execution_count": 11,
   "id": "ae093075",
   "metadata": {},
   "outputs": [],
   "source": [
    "# import optuna\n",
    "from tensorflow.keras.layers import LSTM\n",
    "from tensorflow.keras.optimizers import Adam, RMSprop\n",
    "from tensorflow.keras.callbacks import EarlyStopping"
   ]
  },
  {
   "cell_type": "code",
   "execution_count": 12,
   "id": "db51a999",
   "metadata": {},
   "outputs": [
    {
     "name": "stdout",
     "output_type": "stream",
     "text": [
      "Requirement already satisfied: wandb==0.16.0 in /opt/conda/lib/python3.9/site-packages (0.16.0)\n",
      "Requirement already satisfied: psutil>=5.0.0 in /opt/conda/lib/python3.9/site-packages (from wandb==0.16.0) (5.8.0)\n",
      "Requirement already satisfied: sentry-sdk>=1.0.0 in /opt/conda/lib/python3.9/site-packages (from wandb==0.16.0) (2.7.0)\n",
      "Requirement already satisfied: setproctitle in /opt/conda/lib/python3.9/site-packages (from wandb==0.16.0) (1.3.3)\n",
      "Requirement already satisfied: appdirs>=1.4.3 in /opt/conda/lib/python3.9/site-packages (from wandb==0.16.0) (1.4.4)\n",
      "Requirement already satisfied: typing-extensions in /opt/conda/lib/python3.9/site-packages (from wandb==0.16.0) (4.0.1)\n",
      "Requirement already satisfied: PyYAML in /opt/conda/lib/python3.9/site-packages (from wandb==0.16.0) (6.0)\n",
      "Requirement already satisfied: Click!=8.0.0,>=7.1 in /opt/conda/lib/python3.9/site-packages (from wandb==0.16.0) (8.0.3)\n",
      "Requirement already satisfied: GitPython!=3.1.29,>=1.0.0 in /opt/conda/lib/python3.9/site-packages (from wandb==0.16.0) (3.1.43)\n",
      "Requirement already satisfied: docker-pycreds>=0.4.0 in /opt/conda/lib/python3.9/site-packages (from wandb==0.16.0) (0.4.0)\n",
      "Requirement already satisfied: protobuf!=4.21.0,<5,>=3.15.0 in /opt/conda/lib/python3.9/site-packages (from wandb==0.16.0) (3.19.1)\n",
      "Requirement already satisfied: setuptools in /opt/conda/lib/python3.9/site-packages (from wandb==0.16.0) (59.4.0)\n",
      "Requirement already satisfied: requests<3,>=2.0.0 in /opt/conda/lib/python3.9/site-packages (from wandb==0.16.0) (2.26.0)\n",
      "Requirement already satisfied: six>=1.4.0 in /opt/conda/lib/python3.9/site-packages (from docker-pycreds>=0.4.0->wandb==0.16.0) (1.16.0)\n",
      "Requirement already satisfied: gitdb<5,>=4.0.1 in /opt/conda/lib/python3.9/site-packages (from GitPython!=3.1.29,>=1.0.0->wandb==0.16.0) (4.0.11)\n",
      "Requirement already satisfied: idna<4,>=2.5 in /opt/conda/lib/python3.9/site-packages (from requests<3,>=2.0.0->wandb==0.16.0) (2.10)\n",
      "Requirement already satisfied: certifi>=2017.4.17 in /opt/conda/lib/python3.9/site-packages (from requests<3,>=2.0.0->wandb==0.16.0) (2021.10.8)\n",
      "Requirement already satisfied: urllib3<1.27,>=1.21.1 in /opt/conda/lib/python3.9/site-packages (from requests<3,>=2.0.0->wandb==0.16.0) (1.26.19)\n",
      "Requirement already satisfied: charset-normalizer~=2.0.0 in /opt/conda/lib/python3.9/site-packages (from requests<3,>=2.0.0->wandb==0.16.0) (2.0.8)\n",
      "Requirement already satisfied: smmap<6,>=3.0.1 in /opt/conda/lib/python3.9/site-packages (from gitdb<5,>=4.0.1->GitPython!=3.1.29,>=1.0.0->wandb==0.16.0) (5.0.1)\n",
      "\u001b[33mWARNING: Running pip as the 'root' user can result in broken permissions and conflicting behaviour with the system package manager. It is recommended to use a virtual environment instead: https://pip.pypa.io/warnings/venv\u001b[0m\n"
     ]
    }
   ],
   "source": [
    "!pip install wandb==0.16.0"
   ]
  },
  {
   "cell_type": "code",
   "execution_count": 13,
   "id": "639b0851",
   "metadata": {},
   "outputs": [
    {
     "name": "stderr",
     "output_type": "stream",
     "text": [
      "\u001b[34m\u001b[1mwandb\u001b[0m: W&B API key is configured. Use \u001b[1m`wandb login --relogin`\u001b[0m to force relogin\n",
      "\u001b[34m\u001b[1mwandb\u001b[0m: \u001b[33mWARNING\u001b[0m If you're specifying your api key in code, ensure this code is not shared publicly.\n",
      "\u001b[34m\u001b[1mwandb\u001b[0m: \u001b[33mWARNING\u001b[0m Consider setting the WANDB_API_KEY environment variable, or running `wandb login` from the command line.\n",
      "\u001b[34m\u001b[1mwandb\u001b[0m: Appending key for api.wandb.ai to your netrc file: /aiffel/.netrc\n"
     ]
    },
    {
     "data": {
      "text/plain": [
       "True"
      ]
     },
     "execution_count": 13,
     "metadata": {},
     "output_type": "execute_result"
    }
   ],
   "source": [
    "import wandb\n",
    "from wandb.keras import WandbCallback\n",
    "\n",
    "# wandb.login(key = 'YOUR KEY')"
   ]
  },
  {
   "cell_type": "code",
   "execution_count": 14,
   "id": "94e5e8ca",
   "metadata": {},
   "outputs": [],
   "source": [
    "sweep_config = {\n",
    "    \"name\": \"fasttext_gesim_6\",\n",
    "    \"metric\": {\"name\": \"val_loss\", \"goal\": \"minimize\"},\n",
    "    'method': 'bayes',  # 베이지안 방식으로 하이퍼파라미터 탐색\n",
    "    'parameters': {\n",
    "        \"units\" : {\n",
    "            \"values\" : [32, 64, 128]\n",
    "        },\n",
    "        \"learning_rate\" : {\n",
    "            \"values\" : [0.002, 0.001, 0.003, 0.005]\n",
    "        },\n",
    "        \"dropout_rate\" : {\n",
    "            \"values\": [0.2, 0.3]\n",
    "        },\n",
    "        \"batch_size\" : {\n",
    "            \"values\" : [16, 32,]\n",
    "        }\n",
    "    }\n",
    "}\n"
   ]
  },
  {
   "cell_type": "code",
   "execution_count": 15,
   "id": "b2875e63",
   "metadata": {},
   "outputs": [],
   "source": [
    "def train():\n",
    "    default_config = {\n",
    "        \"units\" : 128,\n",
    "        \"learning_rate\" : 0.005,\n",
    "        \"dropout_rate\" : 0.3,\n",
    "        \"batch_size\" : 32,\n",
    "    }\n",
    "    \n",
    "    import os\n",
    "\n",
    "    # 환경 변수 설정\n",
    "    os.environ['WANDB_AGENT_DISABLE_FLAPPING'] = 'true'\n",
    "\n",
    "    wandb.init(config = sweep_config)\n",
    "    config = wandb.config\n",
    "\n",
    "\n",
    "    # Define the model architecture\n",
    "    model = Sequential()\n",
    "    model.add(LSTM(config.units, return_sequences=True, input_shape=(1, X_train.shape[2])))\n",
    "    model.add(Dropout(config.dropout_rate))\n",
    "    model.add(LSTM(config.units))\n",
    "    model.add(Dropout(config.dropout_rate))\n",
    "    model.add(Dense(Y_train.shape[1], activation='softmax'))\n",
    "\n",
    "    optimizer = Adam(learning_rate=config.learning_rate)\n",
    "\n",
    "    # Compile the model\n",
    "    model.compile(optimizer=optimizer, loss='categorical_crossentropy', metrics=['accuracy'])\n",
    "\n",
    "    # Define early stopping\n",
    "    es = EarlyStopping(monitor='val_loss', mode='auto', verbose=1, patience=5, min_delta=0.0001)\n",
    "\n",
    "    # Train the model\n",
    "    model.fit(X_train,\n",
    "              Y_train,\n",
    "              epochs=50,\n",
    "              batch_size=32,\n",
    "              validation_data=(X_val, Y_val),\n",
    "              callbacks=[es, WandbCallback()]\n",
    "             )\n",
    "\n",
    "    val_accuracy = model.evaluate(X_val, Y_val, verbose=0)[1]\n",
    "    \n",
    "    # wandb.log 함수 안에 기록하고 싶은 정보를 담습니다.\n",
    "    \n",
    "    wandb.log({\"Validation Accuracy Rate: \" : round(val_accuracy * 100, 2),\n",
    "               \"Validation Error Rate: \" : round((1 - val_accuracy) * 100, 2)})\n",
    "    \n",
    "    "
   ]
  },
  {
   "cell_type": "code",
   "execution_count": 16,
   "id": "6b20db65",
   "metadata": {},
   "outputs": [
    {
     "name": "stdout",
     "output_type": "stream",
     "text": [
      "Create sweep with ID: k94x0hcc\n",
      "Sweep URL: https://wandb.ai/devdchyeon/DLTHON/sweeps/k94x0hcc\n"
     ]
    },
    {
     "name": "stderr",
     "output_type": "stream",
     "text": [
      "\u001b[34m\u001b[1mwandb\u001b[0m: Agent Starting Run: 4hkmh0p7 with config:\n",
      "\u001b[34m\u001b[1mwandb\u001b[0m: \tbatch_size: 32\n",
      "\u001b[34m\u001b[1mwandb\u001b[0m: \tdropout_rate: 0.3\n",
      "\u001b[34m\u001b[1mwandb\u001b[0m: \tlearning_rate: 0.003\n",
      "\u001b[34m\u001b[1mwandb\u001b[0m: \tunits: 32\n",
      "\u001b[34m\u001b[1mwandb\u001b[0m: Currently logged in as: \u001b[33mdev-dc-hyeon\u001b[0m (\u001b[33mdevdchyeon\u001b[0m). Use \u001b[1m`wandb login --relogin`\u001b[0m to force relogin\n"
     ]
    },
    {
     "data": {
      "text/html": [
       "wandb version 0.17.3 is available!  To upgrade, please run:\n",
       " $ pip install wandb --upgrade"
      ],
      "text/plain": [
       "<IPython.core.display.HTML object>"
      ]
     },
     "metadata": {},
     "output_type": "display_data"
    },
    {
     "data": {
      "text/html": [
       "Tracking run with wandb version 0.16.0"
      ],
      "text/plain": [
       "<IPython.core.display.HTML object>"
      ]
     },
     "metadata": {},
     "output_type": "display_data"
    },
    {
     "data": {
      "text/html": [
       "Run data is saved locally in <code>/aiffel/aiffel/workspace/16_dlthon_1/fasttext_lstm/wandb/run-20240627_003259-4hkmh0p7</code>"
      ],
      "text/plain": [
       "<IPython.core.display.HTML object>"
      ]
     },
     "metadata": {},
     "output_type": "display_data"
    },
    {
     "data": {
      "text/html": [
       "Syncing run <strong><a href='https://wandb.ai/devdchyeon/DLTHON/runs/4hkmh0p7' target=\"_blank\">daily-sweep-1</a></strong> to <a href='https://wandb.ai/devdchyeon/DLTHON' target=\"_blank\">Weights & Biases</a> (<a href='https://wandb.me/run' target=\"_blank\">docs</a>)<br/>Sweep page: <a href='https://wandb.ai/devdchyeon/DLTHON/sweeps/k94x0hcc' target=\"_blank\">https://wandb.ai/devdchyeon/DLTHON/sweeps/k94x0hcc</a>"
      ],
      "text/plain": [
       "<IPython.core.display.HTML object>"
      ]
     },
     "metadata": {},
     "output_type": "display_data"
    },
    {
     "data": {
      "text/html": [
       " View project at <a href='https://wandb.ai/devdchyeon/DLTHON' target=\"_blank\">https://wandb.ai/devdchyeon/DLTHON</a>"
      ],
      "text/plain": [
       "<IPython.core.display.HTML object>"
      ]
     },
     "metadata": {},
     "output_type": "display_data"
    },
    {
     "data": {
      "text/html": [
       " View sweep at <a href='https://wandb.ai/devdchyeon/DLTHON/sweeps/k94x0hcc' target=\"_blank\">https://wandb.ai/devdchyeon/DLTHON/sweeps/k94x0hcc</a>"
      ],
      "text/plain": [
       "<IPython.core.display.HTML object>"
      ]
     },
     "metadata": {},
     "output_type": "display_data"
    },
    {
     "data": {
      "text/html": [
       " View run at <a href='https://wandb.ai/devdchyeon/DLTHON/runs/4hkmh0p7' target=\"_blank\">https://wandb.ai/devdchyeon/DLTHON/runs/4hkmh0p7</a>"
      ],
      "text/plain": [
       "<IPython.core.display.HTML object>"
      ]
     },
     "metadata": {},
     "output_type": "display_data"
    },
    {
     "name": "stderr",
     "output_type": "stream",
     "text": [
      "\u001b[34m\u001b[1mwandb\u001b[0m: \u001b[33mWARNING\u001b[0m The save_model argument by default saves the model in the HDF5 format that cannot save custom objects like subclassed models and custom layers. This behavior will be deprecated in a future release in favor of the SavedModel format. Meanwhile, the HDF5 model is saved as W&B files and the SavedModel as W&B Artifacts.\n"
     ]
    },
    {
     "name": "stdout",
     "output_type": "stream",
     "text": [
      "Epoch 1/50\n",
      "248/248 [==============================] - 32s 10ms/step - loss: 1.3847 - accuracy: 0.3949 - val_loss: 0.9965 - val_accuracy: 0.6131\n"
     ]
    },
    {
     "name": "stderr",
     "output_type": "stream",
     "text": [
      "WARNING:absl:Found untraced functions such as lstm_cell_layer_call_fn, lstm_cell_layer_call_and_return_conditional_losses, lstm_cell_1_layer_call_fn, lstm_cell_1_layer_call_and_return_conditional_losses, lstm_cell_layer_call_fn while saving (showing 5 of 10). These functions will not be directly callable after loading.\n"
     ]
    },
    {
     "name": "stdout",
     "output_type": "stream",
     "text": [
      "INFO:tensorflow:Assets written to: /aiffel/aiffel/workspace/16_dlthon_1/fasttext_lstm/wandb/run-20240627_003259-4hkmh0p7/files/model-best/assets\n"
     ]
    },
    {
     "name": "stderr",
     "output_type": "stream",
     "text": [
      "INFO:tensorflow:Assets written to: /aiffel/aiffel/workspace/16_dlthon_1/fasttext_lstm/wandb/run-20240627_003259-4hkmh0p7/files/model-best/assets\n",
      "\u001b[34m\u001b[1mwandb\u001b[0m: Adding directory to artifact (/aiffel/aiffel/workspace/16_dlthon_1/fasttext_lstm/wandb/run-20240627_003259-4hkmh0p7/files/model-best)... Done. 0.0s\n"
     ]
    },
    {
     "name": "stdout",
     "output_type": "stream",
     "text": [
      "Epoch 2/50\n",
      "248/248 [==============================] - 1s 5ms/step - loss: 0.9635 - accuracy: 0.6278 - val_loss: 0.8436 - val_accuracy: 0.6626\n"
     ]
    },
    {
     "name": "stderr",
     "output_type": "stream",
     "text": [
      "WARNING:absl:Found untraced functions such as lstm_cell_layer_call_fn, lstm_cell_layer_call_and_return_conditional_losses, lstm_cell_1_layer_call_fn, lstm_cell_1_layer_call_and_return_conditional_losses, lstm_cell_layer_call_fn while saving (showing 5 of 10). These functions will not be directly callable after loading.\n"
     ]
    },
    {
     "name": "stdout",
     "output_type": "stream",
     "text": [
      "INFO:tensorflow:Assets written to: /aiffel/aiffel/workspace/16_dlthon_1/fasttext_lstm/wandb/run-20240627_003259-4hkmh0p7/files/model-best/assets\n"
     ]
    },
    {
     "name": "stderr",
     "output_type": "stream",
     "text": [
      "INFO:tensorflow:Assets written to: /aiffel/aiffel/workspace/16_dlthon_1/fasttext_lstm/wandb/run-20240627_003259-4hkmh0p7/files/model-best/assets\n",
      "\u001b[34m\u001b[1mwandb\u001b[0m: Adding directory to artifact (/aiffel/aiffel/workspace/16_dlthon_1/fasttext_lstm/wandb/run-20240627_003259-4hkmh0p7/files/model-best)... Done. 0.0s\n"
     ]
    },
    {
     "name": "stdout",
     "output_type": "stream",
     "text": [
      "Epoch 3/50\n",
      "248/248 [==============================] - 1s 5ms/step - loss: 0.8701 - accuracy: 0.6745 - val_loss: 0.7933 - val_accuracy: 0.6939\n"
     ]
    },
    {
     "name": "stderr",
     "output_type": "stream",
     "text": [
      "WARNING:absl:Found untraced functions such as lstm_cell_layer_call_fn, lstm_cell_layer_call_and_return_conditional_losses, lstm_cell_1_layer_call_fn, lstm_cell_1_layer_call_and_return_conditional_losses, lstm_cell_layer_call_fn while saving (showing 5 of 10). These functions will not be directly callable after loading.\n"
     ]
    },
    {
     "name": "stdout",
     "output_type": "stream",
     "text": [
      "INFO:tensorflow:Assets written to: /aiffel/aiffel/workspace/16_dlthon_1/fasttext_lstm/wandb/run-20240627_003259-4hkmh0p7/files/model-best/assets\n"
     ]
    },
    {
     "name": "stderr",
     "output_type": "stream",
     "text": [
      "INFO:tensorflow:Assets written to: /aiffel/aiffel/workspace/16_dlthon_1/fasttext_lstm/wandb/run-20240627_003259-4hkmh0p7/files/model-best/assets\n",
      "\u001b[34m\u001b[1mwandb\u001b[0m: Adding directory to artifact (/aiffel/aiffel/workspace/16_dlthon_1/fasttext_lstm/wandb/run-20240627_003259-4hkmh0p7/files/model-best)... Done. 0.0s\n"
     ]
    },
    {
     "name": "stdout",
     "output_type": "stream",
     "text": [
      "Epoch 4/50\n",
      "248/248 [==============================] - 1s 5ms/step - loss: 0.8226 - accuracy: 0.6961 - val_loss: 0.7503 - val_accuracy: 0.7157\n"
     ]
    },
    {
     "name": "stderr",
     "output_type": "stream",
     "text": [
      "WARNING:absl:Found untraced functions such as lstm_cell_layer_call_fn, lstm_cell_layer_call_and_return_conditional_losses, lstm_cell_1_layer_call_fn, lstm_cell_1_layer_call_and_return_conditional_losses, lstm_cell_layer_call_fn while saving (showing 5 of 10). These functions will not be directly callable after loading.\n"
     ]
    },
    {
     "name": "stdout",
     "output_type": "stream",
     "text": [
      "INFO:tensorflow:Assets written to: /aiffel/aiffel/workspace/16_dlthon_1/fasttext_lstm/wandb/run-20240627_003259-4hkmh0p7/files/model-best/assets\n"
     ]
    },
    {
     "name": "stderr",
     "output_type": "stream",
     "text": [
      "INFO:tensorflow:Assets written to: /aiffel/aiffel/workspace/16_dlthon_1/fasttext_lstm/wandb/run-20240627_003259-4hkmh0p7/files/model-best/assets\n",
      "\u001b[34m\u001b[1mwandb\u001b[0m: Adding directory to artifact (/aiffel/aiffel/workspace/16_dlthon_1/fasttext_lstm/wandb/run-20240627_003259-4hkmh0p7/files/model-best)... Done. 0.0s\n"
     ]
    },
    {
     "name": "stdout",
     "output_type": "stream",
     "text": [
      "Epoch 5/50\n",
      "248/248 [==============================] - 1s 5ms/step - loss: 0.7868 - accuracy: 0.7101 - val_loss: 0.7245 - val_accuracy: 0.7263\n"
     ]
    },
    {
     "name": "stderr",
     "output_type": "stream",
     "text": [
      "WARNING:absl:Found untraced functions such as lstm_cell_layer_call_fn, lstm_cell_layer_call_and_return_conditional_losses, lstm_cell_1_layer_call_fn, lstm_cell_1_layer_call_and_return_conditional_losses, lstm_cell_layer_call_fn while saving (showing 5 of 10). These functions will not be directly callable after loading.\n"
     ]
    },
    {
     "name": "stdout",
     "output_type": "stream",
     "text": [
      "INFO:tensorflow:Assets written to: /aiffel/aiffel/workspace/16_dlthon_1/fasttext_lstm/wandb/run-20240627_003259-4hkmh0p7/files/model-best/assets\n"
     ]
    },
    {
     "name": "stderr",
     "output_type": "stream",
     "text": [
      "INFO:tensorflow:Assets written to: /aiffel/aiffel/workspace/16_dlthon_1/fasttext_lstm/wandb/run-20240627_003259-4hkmh0p7/files/model-best/assets\n",
      "\u001b[34m\u001b[1mwandb\u001b[0m: Adding directory to artifact (/aiffel/aiffel/workspace/16_dlthon_1/fasttext_lstm/wandb/run-20240627_003259-4hkmh0p7/files/model-best)... Done. 0.0s\n"
     ]
    },
    {
     "name": "stdout",
     "output_type": "stream",
     "text": [
      "Epoch 6/50\n",
      "248/248 [==============================] - 1s 5ms/step - loss: 0.7762 - accuracy: 0.7149 - val_loss: 0.7141 - val_accuracy: 0.7389\n"
     ]
    },
    {
     "name": "stderr",
     "output_type": "stream",
     "text": [
      "WARNING:absl:Found untraced functions such as lstm_cell_layer_call_fn, lstm_cell_layer_call_and_return_conditional_losses, lstm_cell_1_layer_call_fn, lstm_cell_1_layer_call_and_return_conditional_losses, lstm_cell_layer_call_fn while saving (showing 5 of 10). These functions will not be directly callable after loading.\n"
     ]
    },
    {
     "name": "stdout",
     "output_type": "stream",
     "text": [
      "INFO:tensorflow:Assets written to: /aiffel/aiffel/workspace/16_dlthon_1/fasttext_lstm/wandb/run-20240627_003259-4hkmh0p7/files/model-best/assets\n"
     ]
    },
    {
     "name": "stderr",
     "output_type": "stream",
     "text": [
      "INFO:tensorflow:Assets written to: /aiffel/aiffel/workspace/16_dlthon_1/fasttext_lstm/wandb/run-20240627_003259-4hkmh0p7/files/model-best/assets\n",
      "\u001b[34m\u001b[1mwandb\u001b[0m: Adding directory to artifact (/aiffel/aiffel/workspace/16_dlthon_1/fasttext_lstm/wandb/run-20240627_003259-4hkmh0p7/files/model-best)... Done. 0.0s\n"
     ]
    },
    {
     "name": "stdout",
     "output_type": "stream",
     "text": [
      "Epoch 7/50\n",
      "248/248 [==============================] - 1s 5ms/step - loss: 0.7547 - accuracy: 0.7247 - val_loss: 0.7147 - val_accuracy: 0.7303\n",
      "Epoch 8/50\n",
      "248/248 [==============================] - 1s 5ms/step - loss: 0.7424 - accuracy: 0.7283 - val_loss: 0.7102 - val_accuracy: 0.7318\n"
     ]
    },
    {
     "name": "stderr",
     "output_type": "stream",
     "text": [
      "WARNING:absl:Found untraced functions such as lstm_cell_layer_call_fn, lstm_cell_layer_call_and_return_conditional_losses, lstm_cell_1_layer_call_fn, lstm_cell_1_layer_call_and_return_conditional_losses, lstm_cell_layer_call_fn while saving (showing 5 of 10). These functions will not be directly callable after loading.\n"
     ]
    },
    {
     "name": "stdout",
     "output_type": "stream",
     "text": [
      "INFO:tensorflow:Assets written to: /aiffel/aiffel/workspace/16_dlthon_1/fasttext_lstm/wandb/run-20240627_003259-4hkmh0p7/files/model-best/assets\n"
     ]
    },
    {
     "name": "stderr",
     "output_type": "stream",
     "text": [
      "INFO:tensorflow:Assets written to: /aiffel/aiffel/workspace/16_dlthon_1/fasttext_lstm/wandb/run-20240627_003259-4hkmh0p7/files/model-best/assets\n",
      "\u001b[34m\u001b[1mwandb\u001b[0m: Adding directory to artifact (/aiffel/aiffel/workspace/16_dlthon_1/fasttext_lstm/wandb/run-20240627_003259-4hkmh0p7/files/model-best)... Done. 0.0s\n"
     ]
    },
    {
     "name": "stdout",
     "output_type": "stream",
     "text": [
      "Epoch 9/50\n",
      "248/248 [==============================] - 1s 5ms/step - loss: 0.7260 - accuracy: 0.7331 - val_loss: 0.6960 - val_accuracy: 0.7338\n"
     ]
    },
    {
     "name": "stderr",
     "output_type": "stream",
     "text": [
      "WARNING:absl:Found untraced functions such as lstm_cell_layer_call_fn, lstm_cell_layer_call_and_return_conditional_losses, lstm_cell_1_layer_call_fn, lstm_cell_1_layer_call_and_return_conditional_losses, lstm_cell_layer_call_fn while saving (showing 5 of 10). These functions will not be directly callable after loading.\n"
     ]
    },
    {
     "name": "stdout",
     "output_type": "stream",
     "text": [
      "INFO:tensorflow:Assets written to: /aiffel/aiffel/workspace/16_dlthon_1/fasttext_lstm/wandb/run-20240627_003259-4hkmh0p7/files/model-best/assets\n"
     ]
    },
    {
     "name": "stderr",
     "output_type": "stream",
     "text": [
      "INFO:tensorflow:Assets written to: /aiffel/aiffel/workspace/16_dlthon_1/fasttext_lstm/wandb/run-20240627_003259-4hkmh0p7/files/model-best/assets\n",
      "\u001b[34m\u001b[1mwandb\u001b[0m: Adding directory to artifact (/aiffel/aiffel/workspace/16_dlthon_1/fasttext_lstm/wandb/run-20240627_003259-4hkmh0p7/files/model-best)... Done. 0.0s\n"
     ]
    },
    {
     "name": "stdout",
     "output_type": "stream",
     "text": [
      "Epoch 10/50\n",
      "248/248 [==============================] - 1s 5ms/step - loss: 0.7238 - accuracy: 0.7362 - val_loss: 0.6691 - val_accuracy: 0.7465\n"
     ]
    },
    {
     "name": "stderr",
     "output_type": "stream",
     "text": [
      "WARNING:absl:Found untraced functions such as lstm_cell_layer_call_fn, lstm_cell_layer_call_and_return_conditional_losses, lstm_cell_1_layer_call_fn, lstm_cell_1_layer_call_and_return_conditional_losses, lstm_cell_layer_call_fn while saving (showing 5 of 10). These functions will not be directly callable after loading.\n"
     ]
    },
    {
     "name": "stdout",
     "output_type": "stream",
     "text": [
      "INFO:tensorflow:Assets written to: /aiffel/aiffel/workspace/16_dlthon_1/fasttext_lstm/wandb/run-20240627_003259-4hkmh0p7/files/model-best/assets\n"
     ]
    },
    {
     "name": "stderr",
     "output_type": "stream",
     "text": [
      "INFO:tensorflow:Assets written to: /aiffel/aiffel/workspace/16_dlthon_1/fasttext_lstm/wandb/run-20240627_003259-4hkmh0p7/files/model-best/assets\n",
      "\u001b[34m\u001b[1mwandb\u001b[0m: Adding directory to artifact (/aiffel/aiffel/workspace/16_dlthon_1/fasttext_lstm/wandb/run-20240627_003259-4hkmh0p7/files/model-best)... Done. 0.0s\n"
     ]
    },
    {
     "name": "stdout",
     "output_type": "stream",
     "text": [
      "Epoch 11/50\n",
      "248/248 [==============================] - 1s 5ms/step - loss: 0.7217 - accuracy: 0.7348 - val_loss: 0.6713 - val_accuracy: 0.7485\n",
      "Epoch 12/50\n",
      "248/248 [==============================] - 1s 5ms/step - loss: 0.7065 - accuracy: 0.7414 - val_loss: 0.6591 - val_accuracy: 0.7470\n"
     ]
    },
    {
     "name": "stderr",
     "output_type": "stream",
     "text": [
      "WARNING:absl:Found untraced functions such as lstm_cell_layer_call_fn, lstm_cell_layer_call_and_return_conditional_losses, lstm_cell_1_layer_call_fn, lstm_cell_1_layer_call_and_return_conditional_losses, lstm_cell_layer_call_fn while saving (showing 5 of 10). These functions will not be directly callable after loading.\n"
     ]
    },
    {
     "name": "stdout",
     "output_type": "stream",
     "text": [
      "INFO:tensorflow:Assets written to: /aiffel/aiffel/workspace/16_dlthon_1/fasttext_lstm/wandb/run-20240627_003259-4hkmh0p7/files/model-best/assets\n"
     ]
    },
    {
     "name": "stderr",
     "output_type": "stream",
     "text": [
      "INFO:tensorflow:Assets written to: /aiffel/aiffel/workspace/16_dlthon_1/fasttext_lstm/wandb/run-20240627_003259-4hkmh0p7/files/model-best/assets\n",
      "\u001b[34m\u001b[1mwandb\u001b[0m: Adding directory to artifact (/aiffel/aiffel/workspace/16_dlthon_1/fasttext_lstm/wandb/run-20240627_003259-4hkmh0p7/files/model-best)... Done. 0.0s\n"
     ]
    },
    {
     "name": "stdout",
     "output_type": "stream",
     "text": [
      "Epoch 13/50\n",
      "248/248 [==============================] - 1s 5ms/step - loss: 0.6989 - accuracy: 0.7429 - val_loss: 0.6642 - val_accuracy: 0.7465\n",
      "Epoch 14/50\n",
      "248/248 [==============================] - 1s 5ms/step - loss: 0.6889 - accuracy: 0.7473 - val_loss: 0.6861 - val_accuracy: 0.7404\n",
      "Epoch 15/50\n",
      "248/248 [==============================] - 1s 5ms/step - loss: 0.6913 - accuracy: 0.7505 - val_loss: 0.6773 - val_accuracy: 0.7429\n",
      "Epoch 16/50\n",
      "248/248 [==============================] - 1s 5ms/step - loss: 0.6834 - accuracy: 0.7513 - val_loss: 0.6849 - val_accuracy: 0.7354\n",
      "Epoch 17/50\n",
      "248/248 [==============================] - 1s 5ms/step - loss: 0.6906 - accuracy: 0.7528 - val_loss: 0.6940 - val_accuracy: 0.7394\n",
      "Epoch 00017: early stopping\n"
     ]
    },
    {
     "data": {
      "application/vnd.jupyter.widget-view+json": {
       "model_id": "",
       "version_major": 2,
       "version_minor": 0
      },
      "text/plain": [
       "VBox(children=(Label(value='22.246 MB of 22.246 MB uploaded (0.125 MB deduped)\\r'), FloatProgress(value=1.0, m…"
      ]
     },
     "metadata": {},
     "output_type": "display_data"
    },
    {
     "data": {
      "text/html": [
       "<style>\n",
       "    table.wandb td:nth-child(1) { padding: 0 10px; text-align: left ; width: auto;} td:nth-child(2) {text-align: left ; width: 100%}\n",
       "    .wandb-row { display: flex; flex-direction: row; flex-wrap: wrap; justify-content: flex-start; width: 100% }\n",
       "    .wandb-col { display: flex; flex-direction: column; flex-basis: 100%; flex: 1; padding: 10px; }\n",
       "    </style>\n",
       "<div class=\"wandb-row\"><div class=\"wandb-col\"><h3>Run history:</h3><br/><table class=\"wandb\"><tr><td>Validation Accuracy Rate: </td><td>▁</td></tr><tr><td>Validation Error Rate: </td><td>▁</td></tr><tr><td>accuracy</td><td>▁▆▆▇▇▇▇██████████</td></tr><tr><td>epoch</td><td>▁▁▂▂▃▃▄▄▅▅▅▆▆▇▇██</td></tr><tr><td>loss</td><td>█▄▃▂▂▂▂▂▁▁▁▁▁▁▁▁▁</td></tr><tr><td>val_accuracy</td><td>▁▄▅▆▇█▇▇▇██████▇█</td></tr><tr><td>val_loss</td><td>█▅▄▃▂▂▂▂▂▁▁▁▁▂▁▂▂</td></tr></table><br/></div><div class=\"wandb-col\"><h3>Run summary:</h3><br/><table class=\"wandb\"><tr><td>Validation Accuracy Rate: </td><td>73.94</td></tr><tr><td>Validation Error Rate: </td><td>26.06</td></tr><tr><td>accuracy</td><td>0.75278</td></tr><tr><td>best_epoch</td><td>11</td></tr><tr><td>best_val_loss</td><td>0.65908</td></tr><tr><td>epoch</td><td>16</td></tr><tr><td>loss</td><td>0.69059</td></tr><tr><td>val_accuracy</td><td>0.73939</td></tr><tr><td>val_loss</td><td>0.69397</td></tr></table><br/></div></div>"
      ],
      "text/plain": [
       "<IPython.core.display.HTML object>"
      ]
     },
     "metadata": {},
     "output_type": "display_data"
    },
    {
     "data": {
      "text/html": [
       " View run <strong style=\"color:#cdcd00\">daily-sweep-1</strong> at: <a href='https://wandb.ai/devdchyeon/DLTHON/runs/4hkmh0p7' target=\"_blank\">https://wandb.ai/devdchyeon/DLTHON/runs/4hkmh0p7</a><br/>Synced 5 W&B file(s), 1 media file(s), 40 artifact file(s) and 1 other file(s)"
      ],
      "text/plain": [
       "<IPython.core.display.HTML object>"
      ]
     },
     "metadata": {},
     "output_type": "display_data"
    },
    {
     "data": {
      "text/html": [
       "Find logs at: <code>./wandb/run-20240627_003259-4hkmh0p7/logs</code>"
      ],
      "text/plain": [
       "<IPython.core.display.HTML object>"
      ]
     },
     "metadata": {},
     "output_type": "display_data"
    },
    {
     "name": "stderr",
     "output_type": "stream",
     "text": [
      "\u001b[34m\u001b[1mwandb\u001b[0m: Agent Starting Run: f3xg5xau with config:\n",
      "\u001b[34m\u001b[1mwandb\u001b[0m: \tbatch_size: 32\n",
      "\u001b[34m\u001b[1mwandb\u001b[0m: \tdropout_rate: 0.3\n",
      "\u001b[34m\u001b[1mwandb\u001b[0m: \tlearning_rate: 0.003\n",
      "\u001b[34m\u001b[1mwandb\u001b[0m: \tunits: 64\n"
     ]
    },
    {
     "data": {
      "text/html": [
       "wandb version 0.17.3 is available!  To upgrade, please run:\n",
       " $ pip install wandb --upgrade"
      ],
      "text/plain": [
       "<IPython.core.display.HTML object>"
      ]
     },
     "metadata": {},
     "output_type": "display_data"
    },
    {
     "data": {
      "text/html": [
       "Tracking run with wandb version 0.16.0"
      ],
      "text/plain": [
       "<IPython.core.display.HTML object>"
      ]
     },
     "metadata": {},
     "output_type": "display_data"
    },
    {
     "data": {
      "text/html": [
       "Run data is saved locally in <code>/aiffel/aiffel/workspace/16_dlthon_1/fasttext_lstm/wandb/run-20240627_003524-f3xg5xau</code>"
      ],
      "text/plain": [
       "<IPython.core.display.HTML object>"
      ]
     },
     "metadata": {},
     "output_type": "display_data"
    },
    {
     "data": {
      "text/html": [
       "Syncing run <strong><a href='https://wandb.ai/devdchyeon/DLTHON/runs/f3xg5xau' target=\"_blank\">autumn-sweep-2</a></strong> to <a href='https://wandb.ai/devdchyeon/DLTHON' target=\"_blank\">Weights & Biases</a> (<a href='https://wandb.me/run' target=\"_blank\">docs</a>)<br/>Sweep page: <a href='https://wandb.ai/devdchyeon/DLTHON/sweeps/k94x0hcc' target=\"_blank\">https://wandb.ai/devdchyeon/DLTHON/sweeps/k94x0hcc</a>"
      ],
      "text/plain": [
       "<IPython.core.display.HTML object>"
      ]
     },
     "metadata": {},
     "output_type": "display_data"
    },
    {
     "data": {
      "text/html": [
       " View project at <a href='https://wandb.ai/devdchyeon/DLTHON' target=\"_blank\">https://wandb.ai/devdchyeon/DLTHON</a>"
      ],
      "text/plain": [
       "<IPython.core.display.HTML object>"
      ]
     },
     "metadata": {},
     "output_type": "display_data"
    },
    {
     "data": {
      "text/html": [
       " View sweep at <a href='https://wandb.ai/devdchyeon/DLTHON/sweeps/k94x0hcc' target=\"_blank\">https://wandb.ai/devdchyeon/DLTHON/sweeps/k94x0hcc</a>"
      ],
      "text/plain": [
       "<IPython.core.display.HTML object>"
      ]
     },
     "metadata": {},
     "output_type": "display_data"
    },
    {
     "data": {
      "text/html": [
       " View run at <a href='https://wandb.ai/devdchyeon/DLTHON/runs/f3xg5xau' target=\"_blank\">https://wandb.ai/devdchyeon/DLTHON/runs/f3xg5xau</a>"
      ],
      "text/plain": [
       "<IPython.core.display.HTML object>"
      ]
     },
     "metadata": {},
     "output_type": "display_data"
    },
    {
     "name": "stdout",
     "output_type": "stream",
     "text": [
      "Epoch 1/50\n",
      "248/248 [==============================] - 4s 8ms/step - loss: 1.3160 - accuracy: 0.4205 - val_loss: 0.9518 - val_accuracy: 0.6258\n"
     ]
    },
    {
     "name": "stderr",
     "output_type": "stream",
     "text": [
      "WARNING:absl:Found untraced functions such as lstm_cell_layer_call_fn, lstm_cell_layer_call_and_return_conditional_losses, lstm_cell_1_layer_call_fn, lstm_cell_1_layer_call_and_return_conditional_losses, lstm_cell_layer_call_fn while saving (showing 5 of 10). These functions will not be directly callable after loading.\n"
     ]
    },
    {
     "name": "stdout",
     "output_type": "stream",
     "text": [
      "INFO:tensorflow:Assets written to: /aiffel/aiffel/workspace/16_dlthon_1/fasttext_lstm/wandb/run-20240627_003524-f3xg5xau/files/model-best/assets\n"
     ]
    },
    {
     "name": "stderr",
     "output_type": "stream",
     "text": [
      "INFO:tensorflow:Assets written to: /aiffel/aiffel/workspace/16_dlthon_1/fasttext_lstm/wandb/run-20240627_003524-f3xg5xau/files/model-best/assets\n",
      "\u001b[34m\u001b[1mwandb\u001b[0m: Adding directory to artifact (/aiffel/aiffel/workspace/16_dlthon_1/fasttext_lstm/wandb/run-20240627_003524-f3xg5xau/files/model-best)... Done. 0.0s\n"
     ]
    },
    {
     "name": "stdout",
     "output_type": "stream",
     "text": [
      "Epoch 2/50\n",
      "248/248 [==============================] - 1s 5ms/step - loss: 0.9099 - accuracy: 0.6576 - val_loss: 0.8131 - val_accuracy: 0.6879\n"
     ]
    },
    {
     "name": "stderr",
     "output_type": "stream",
     "text": [
      "WARNING:absl:Found untraced functions such as lstm_cell_layer_call_fn, lstm_cell_layer_call_and_return_conditional_losses, lstm_cell_1_layer_call_fn, lstm_cell_1_layer_call_and_return_conditional_losses, lstm_cell_layer_call_fn while saving (showing 5 of 10). These functions will not be directly callable after loading.\n"
     ]
    },
    {
     "name": "stdout",
     "output_type": "stream",
     "text": [
      "INFO:tensorflow:Assets written to: /aiffel/aiffel/workspace/16_dlthon_1/fasttext_lstm/wandb/run-20240627_003524-f3xg5xau/files/model-best/assets\n"
     ]
    },
    {
     "name": "stderr",
     "output_type": "stream",
     "text": [
      "INFO:tensorflow:Assets written to: /aiffel/aiffel/workspace/16_dlthon_1/fasttext_lstm/wandb/run-20240627_003524-f3xg5xau/files/model-best/assets\n",
      "\u001b[34m\u001b[1mwandb\u001b[0m: Adding directory to artifact (/aiffel/aiffel/workspace/16_dlthon_1/fasttext_lstm/wandb/run-20240627_003524-f3xg5xau/files/model-best)... Done. 0.0s\n"
     ]
    },
    {
     "name": "stdout",
     "output_type": "stream",
     "text": [
      "Epoch 3/50\n",
      "248/248 [==============================] - 1s 5ms/step - loss: 0.8130 - accuracy: 0.6987 - val_loss: 0.7822 - val_accuracy: 0.7081\n"
     ]
    },
    {
     "name": "stderr",
     "output_type": "stream",
     "text": [
      "WARNING:absl:Found untraced functions such as lstm_cell_layer_call_fn, lstm_cell_layer_call_and_return_conditional_losses, lstm_cell_1_layer_call_fn, lstm_cell_1_layer_call_and_return_conditional_losses, lstm_cell_layer_call_fn while saving (showing 5 of 10). These functions will not be directly callable after loading.\n"
     ]
    },
    {
     "name": "stdout",
     "output_type": "stream",
     "text": [
      "INFO:tensorflow:Assets written to: /aiffel/aiffel/workspace/16_dlthon_1/fasttext_lstm/wandb/run-20240627_003524-f3xg5xau/files/model-best/assets\n"
     ]
    },
    {
     "name": "stderr",
     "output_type": "stream",
     "text": [
      "INFO:tensorflow:Assets written to: /aiffel/aiffel/workspace/16_dlthon_1/fasttext_lstm/wandb/run-20240627_003524-f3xg5xau/files/model-best/assets\n",
      "\u001b[34m\u001b[1mwandb\u001b[0m: Adding directory to artifact (/aiffel/aiffel/workspace/16_dlthon_1/fasttext_lstm/wandb/run-20240627_003524-f3xg5xau/files/model-best)... Done. 0.0s\n"
     ]
    },
    {
     "name": "stdout",
     "output_type": "stream",
     "text": [
      "Epoch 4/50\n",
      "248/248 [==============================] - 1s 5ms/step - loss: 0.7765 - accuracy: 0.7120 - val_loss: 0.7013 - val_accuracy: 0.7323\n"
     ]
    },
    {
     "name": "stderr",
     "output_type": "stream",
     "text": [
      "WARNING:absl:Found untraced functions such as lstm_cell_layer_call_fn, lstm_cell_layer_call_and_return_conditional_losses, lstm_cell_1_layer_call_fn, lstm_cell_1_layer_call_and_return_conditional_losses, lstm_cell_layer_call_fn while saving (showing 5 of 10). These functions will not be directly callable after loading.\n"
     ]
    },
    {
     "name": "stdout",
     "output_type": "stream",
     "text": [
      "INFO:tensorflow:Assets written to: /aiffel/aiffel/workspace/16_dlthon_1/fasttext_lstm/wandb/run-20240627_003524-f3xg5xau/files/model-best/assets\n"
     ]
    },
    {
     "name": "stderr",
     "output_type": "stream",
     "text": [
      "INFO:tensorflow:Assets written to: /aiffel/aiffel/workspace/16_dlthon_1/fasttext_lstm/wandb/run-20240627_003524-f3xg5xau/files/model-best/assets\n",
      "\u001b[34m\u001b[1mwandb\u001b[0m: Adding directory to artifact (/aiffel/aiffel/workspace/16_dlthon_1/fasttext_lstm/wandb/run-20240627_003524-f3xg5xau/files/model-best)... Done. 0.0s\n"
     ]
    },
    {
     "name": "stdout",
     "output_type": "stream",
     "text": [
      "Epoch 5/50\n",
      "248/248 [==============================] - 1s 5ms/step - loss: 0.7513 - accuracy: 0.7203 - val_loss: 0.6990 - val_accuracy: 0.7338\n"
     ]
    },
    {
     "name": "stderr",
     "output_type": "stream",
     "text": [
      "WARNING:absl:Found untraced functions such as lstm_cell_layer_call_fn, lstm_cell_layer_call_and_return_conditional_losses, lstm_cell_1_layer_call_fn, lstm_cell_1_layer_call_and_return_conditional_losses, lstm_cell_layer_call_fn while saving (showing 5 of 10). These functions will not be directly callable after loading.\n"
     ]
    },
    {
     "name": "stdout",
     "output_type": "stream",
     "text": [
      "INFO:tensorflow:Assets written to: /aiffel/aiffel/workspace/16_dlthon_1/fasttext_lstm/wandb/run-20240627_003524-f3xg5xau/files/model-best/assets\n"
     ]
    },
    {
     "name": "stderr",
     "output_type": "stream",
     "text": [
      "INFO:tensorflow:Assets written to: /aiffel/aiffel/workspace/16_dlthon_1/fasttext_lstm/wandb/run-20240627_003524-f3xg5xau/files/model-best/assets\n",
      "\u001b[34m\u001b[1mwandb\u001b[0m: Adding directory to artifact (/aiffel/aiffel/workspace/16_dlthon_1/fasttext_lstm/wandb/run-20240627_003524-f3xg5xau/files/model-best)... Done. 0.0s\n"
     ]
    },
    {
     "name": "stdout",
     "output_type": "stream",
     "text": [
      "Epoch 6/50\n",
      "248/248 [==============================] - 1s 5ms/step - loss: 0.7340 - accuracy: 0.7261 - val_loss: 0.7289 - val_accuracy: 0.7222\n",
      "Epoch 7/50\n",
      "248/248 [==============================] - 1s 6ms/step - loss: 0.7259 - accuracy: 0.7316 - val_loss: 0.7374 - val_accuracy: 0.7157\n",
      "Epoch 8/50\n",
      "248/248 [==============================] - 1s 5ms/step - loss: 0.7164 - accuracy: 0.7336 - val_loss: 0.6724 - val_accuracy: 0.7389\n"
     ]
    },
    {
     "name": "stderr",
     "output_type": "stream",
     "text": [
      "WARNING:absl:Found untraced functions such as lstm_cell_layer_call_fn, lstm_cell_layer_call_and_return_conditional_losses, lstm_cell_1_layer_call_fn, lstm_cell_1_layer_call_and_return_conditional_losses, lstm_cell_layer_call_fn while saving (showing 5 of 10). These functions will not be directly callable after loading.\n"
     ]
    },
    {
     "name": "stdout",
     "output_type": "stream",
     "text": [
      "INFO:tensorflow:Assets written to: /aiffel/aiffel/workspace/16_dlthon_1/fasttext_lstm/wandb/run-20240627_003524-f3xg5xau/files/model-best/assets\n"
     ]
    },
    {
     "name": "stderr",
     "output_type": "stream",
     "text": [
      "INFO:tensorflow:Assets written to: /aiffel/aiffel/workspace/16_dlthon_1/fasttext_lstm/wandb/run-20240627_003524-f3xg5xau/files/model-best/assets\n",
      "\u001b[34m\u001b[1mwandb\u001b[0m: Adding directory to artifact (/aiffel/aiffel/workspace/16_dlthon_1/fasttext_lstm/wandb/run-20240627_003524-f3xg5xau/files/model-best)... Done. 0.0s\n"
     ]
    },
    {
     "name": "stdout",
     "output_type": "stream",
     "text": [
      "Epoch 9/50\n",
      "248/248 [==============================] - 1s 6ms/step - loss: 0.7034 - accuracy: 0.7410 - val_loss: 0.6613 - val_accuracy: 0.7490\n"
     ]
    },
    {
     "name": "stderr",
     "output_type": "stream",
     "text": [
      "WARNING:absl:Found untraced functions such as lstm_cell_layer_call_fn, lstm_cell_layer_call_and_return_conditional_losses, lstm_cell_1_layer_call_fn, lstm_cell_1_layer_call_and_return_conditional_losses, lstm_cell_layer_call_fn while saving (showing 5 of 10). These functions will not be directly callable after loading.\n"
     ]
    },
    {
     "name": "stdout",
     "output_type": "stream",
     "text": [
      "INFO:tensorflow:Assets written to: /aiffel/aiffel/workspace/16_dlthon_1/fasttext_lstm/wandb/run-20240627_003524-f3xg5xau/files/model-best/assets\n"
     ]
    },
    {
     "name": "stderr",
     "output_type": "stream",
     "text": [
      "INFO:tensorflow:Assets written to: /aiffel/aiffel/workspace/16_dlthon_1/fasttext_lstm/wandb/run-20240627_003524-f3xg5xau/files/model-best/assets\n",
      "\u001b[34m\u001b[1mwandb\u001b[0m: Adding directory to artifact (/aiffel/aiffel/workspace/16_dlthon_1/fasttext_lstm/wandb/run-20240627_003524-f3xg5xau/files/model-best)... Done. 0.1s\n"
     ]
    },
    {
     "name": "stdout",
     "output_type": "stream",
     "text": [
      "Epoch 10/50\n",
      "248/248 [==============================] - 2s 10ms/step - loss: 0.6906 - accuracy: 0.7497 - val_loss: 0.6659 - val_accuracy: 0.7510\n",
      "Epoch 11/50\n",
      "248/248 [==============================] - 3s 10ms/step - loss: 0.6956 - accuracy: 0.7429 - val_loss: 0.6540 - val_accuracy: 0.7525\n"
     ]
    },
    {
     "name": "stderr",
     "output_type": "stream",
     "text": [
      "WARNING:absl:Found untraced functions such as lstm_cell_layer_call_fn, lstm_cell_layer_call_and_return_conditional_losses, lstm_cell_1_layer_call_fn, lstm_cell_1_layer_call_and_return_conditional_losses, lstm_cell_layer_call_fn while saving (showing 5 of 10). These functions will not be directly callable after loading.\n"
     ]
    },
    {
     "name": "stdout",
     "output_type": "stream",
     "text": [
      "INFO:tensorflow:Assets written to: /aiffel/aiffel/workspace/16_dlthon_1/fasttext_lstm/wandb/run-20240627_003524-f3xg5xau/files/model-best/assets\n"
     ]
    },
    {
     "name": "stderr",
     "output_type": "stream",
     "text": [
      "INFO:tensorflow:Assets written to: /aiffel/aiffel/workspace/16_dlthon_1/fasttext_lstm/wandb/run-20240627_003524-f3xg5xau/files/model-best/assets\n",
      "\u001b[34m\u001b[1mwandb\u001b[0m: Adding directory to artifact (/aiffel/aiffel/workspace/16_dlthon_1/fasttext_lstm/wandb/run-20240627_003524-f3xg5xau/files/model-best)... Done. 0.1s\n"
     ]
    },
    {
     "name": "stdout",
     "output_type": "stream",
     "text": [
      "Epoch 12/50\n",
      "248/248 [==============================] - 2s 8ms/step - loss: 0.6864 - accuracy: 0.7479 - val_loss: 0.7153 - val_accuracy: 0.7293\n",
      "Epoch 13/50\n",
      "248/248 [==============================] - 2s 6ms/step - loss: 0.6745 - accuracy: 0.7542 - val_loss: 0.6619 - val_accuracy: 0.7414\n",
      "Epoch 14/50\n",
      "248/248 [==============================] - 2s 6ms/step - loss: 0.6709 - accuracy: 0.7557 - val_loss: 0.6744 - val_accuracy: 0.7505\n",
      "Epoch 15/50\n",
      "248/248 [==============================] - 1s 6ms/step - loss: 0.6631 - accuracy: 0.7569 - val_loss: 0.6716 - val_accuracy: 0.7500\n",
      "Epoch 16/50\n",
      "248/248 [==============================] - 2s 7ms/step - loss: 0.6575 - accuracy: 0.7569 - val_loss: 0.6783 - val_accuracy: 0.7485\n",
      "Epoch 00016: early stopping\n"
     ]
    },
    {
     "data": {
      "application/vnd.jupyter.widget-view+json": {
       "model_id": "",
       "version_major": 2,
       "version_minor": 0
      },
      "text/plain": [
       "VBox(children=(Label(value='25.723 MB of 25.723 MB uploaded (0.097 MB deduped)\\r'), FloatProgress(value=1.0, m…"
      ]
     },
     "metadata": {},
     "output_type": "display_data"
    },
    {
     "data": {
      "text/html": [
       "<style>\n",
       "    table.wandb td:nth-child(1) { padding: 0 10px; text-align: left ; width: auto;} td:nth-child(2) {text-align: left ; width: 100%}\n",
       "    .wandb-row { display: flex; flex-direction: row; flex-wrap: wrap; justify-content: flex-start; width: 100% }\n",
       "    .wandb-col { display: flex; flex-direction: column; flex-basis: 100%; flex: 1; padding: 10px; }\n",
       "    </style>\n",
       "<div class=\"wandb-row\"><div class=\"wandb-col\"><h3>Run history:</h3><br/><table class=\"wandb\"><tr><td>Validation Accuracy Rate: </td><td>▁</td></tr><tr><td>Validation Error Rate: </td><td>▁</td></tr><tr><td>accuracy</td><td>▁▆▇▇▇▇▇█████████</td></tr><tr><td>epoch</td><td>▁▁▂▂▃▃▄▄▅▅▆▆▇▇██</td></tr><tr><td>loss</td><td>█▄▃▂▂▂▂▂▁▁▁▁▁▁▁▁</td></tr><tr><td>val_accuracy</td><td>▁▄▆▇▇▆▆▇███▇▇███</td></tr><tr><td>val_loss</td><td>█▅▄▂▂▃▃▁▁▁▁▂▁▁▁▂</td></tr></table><br/></div><div class=\"wandb-col\"><h3>Run summary:</h3><br/><table class=\"wandb\"><tr><td>Validation Accuracy Rate: </td><td>74.85</td></tr><tr><td>Validation Error Rate: </td><td>25.15</td></tr><tr><td>accuracy</td><td>0.75694</td></tr><tr><td>best_epoch</td><td>10</td></tr><tr><td>best_val_loss</td><td>0.65398</td></tr><tr><td>epoch</td><td>15</td></tr><tr><td>loss</td><td>0.65753</td></tr><tr><td>val_accuracy</td><td>0.74848</td></tr><tr><td>val_loss</td><td>0.67835</td></tr></table><br/></div></div>"
      ],
      "text/plain": [
       "<IPython.core.display.HTML object>"
      ]
     },
     "metadata": {},
     "output_type": "display_data"
    },
    {
     "data": {
      "text/html": [
       " View run <strong style=\"color:#cdcd00\">autumn-sweep-2</strong> at: <a href='https://wandb.ai/devdchyeon/DLTHON/runs/f3xg5xau' target=\"_blank\">https://wandb.ai/devdchyeon/DLTHON/runs/f3xg5xau</a><br/>Synced 5 W&B file(s), 1 media file(s), 32 artifact file(s) and 1 other file(s)"
      ],
      "text/plain": [
       "<IPython.core.display.HTML object>"
      ]
     },
     "metadata": {},
     "output_type": "display_data"
    },
    {
     "data": {
      "text/html": [
       "Find logs at: <code>./wandb/run-20240627_003524-f3xg5xau/logs</code>"
      ],
      "text/plain": [
       "<IPython.core.display.HTML object>"
      ]
     },
     "metadata": {},
     "output_type": "display_data"
    },
    {
     "name": "stderr",
     "output_type": "stream",
     "text": [
      "\u001b[34m\u001b[1mwandb\u001b[0m: Agent Starting Run: kh5c2mw2 with config:\n",
      "\u001b[34m\u001b[1mwandb\u001b[0m: \tbatch_size: 32\n",
      "\u001b[34m\u001b[1mwandb\u001b[0m: \tdropout_rate: 0.2\n",
      "\u001b[34m\u001b[1mwandb\u001b[0m: \tlearning_rate: 0.003\n",
      "\u001b[34m\u001b[1mwandb\u001b[0m: \tunits: 32\n"
     ]
    },
    {
     "data": {
      "text/html": [
       "wandb version 0.17.3 is available!  To upgrade, please run:\n",
       " $ pip install wandb --upgrade"
      ],
      "text/plain": [
       "<IPython.core.display.HTML object>"
      ]
     },
     "metadata": {},
     "output_type": "display_data"
    },
    {
     "data": {
      "text/html": [
       "Tracking run with wandb version 0.16.0"
      ],
      "text/plain": [
       "<IPython.core.display.HTML object>"
      ]
     },
     "metadata": {},
     "output_type": "display_data"
    },
    {
     "data": {
      "text/html": [
       "Run data is saved locally in <code>/aiffel/aiffel/workspace/16_dlthon_1/fasttext_lstm/wandb/run-20240627_003712-kh5c2mw2</code>"
      ],
      "text/plain": [
       "<IPython.core.display.HTML object>"
      ]
     },
     "metadata": {},
     "output_type": "display_data"
    },
    {
     "data": {
      "text/html": [
       "Syncing run <strong><a href='https://wandb.ai/devdchyeon/DLTHON/runs/kh5c2mw2' target=\"_blank\">bright-sweep-3</a></strong> to <a href='https://wandb.ai/devdchyeon/DLTHON' target=\"_blank\">Weights & Biases</a> (<a href='https://wandb.me/run' target=\"_blank\">docs</a>)<br/>Sweep page: <a href='https://wandb.ai/devdchyeon/DLTHON/sweeps/k94x0hcc' target=\"_blank\">https://wandb.ai/devdchyeon/DLTHON/sweeps/k94x0hcc</a>"
      ],
      "text/plain": [
       "<IPython.core.display.HTML object>"
      ]
     },
     "metadata": {},
     "output_type": "display_data"
    },
    {
     "data": {
      "text/html": [
       " View project at <a href='https://wandb.ai/devdchyeon/DLTHON' target=\"_blank\">https://wandb.ai/devdchyeon/DLTHON</a>"
      ],
      "text/plain": [
       "<IPython.core.display.HTML object>"
      ]
     },
     "metadata": {},
     "output_type": "display_data"
    },
    {
     "data": {
      "text/html": [
       " View sweep at <a href='https://wandb.ai/devdchyeon/DLTHON/sweeps/k94x0hcc' target=\"_blank\">https://wandb.ai/devdchyeon/DLTHON/sweeps/k94x0hcc</a>"
      ],
      "text/plain": [
       "<IPython.core.display.HTML object>"
      ]
     },
     "metadata": {},
     "output_type": "display_data"
    },
    {
     "data": {
      "text/html": [
       " View run at <a href='https://wandb.ai/devdchyeon/DLTHON/runs/kh5c2mw2' target=\"_blank\">https://wandb.ai/devdchyeon/DLTHON/runs/kh5c2mw2</a>"
      ],
      "text/plain": [
       "<IPython.core.display.HTML object>"
      ]
     },
     "metadata": {},
     "output_type": "display_data"
    },
    {
     "name": "stdout",
     "output_type": "stream",
     "text": [
      "Epoch 1/50\n",
      "  2/248 [..............................] - ETA: 17s - loss: 1.6086 - accuracy: 0.2031  WARNING:tensorflow:Callback method `on_train_batch_end` is slow compared to the batch time (batch time: 0.0065s vs `on_train_batch_end` time: 0.0116s). Check your callbacks.\n"
     ]
    },
    {
     "name": "stderr",
     "output_type": "stream",
     "text": [
      "WARNING:tensorflow:Callback method `on_train_batch_end` is slow compared to the batch time (batch time: 0.0065s vs `on_train_batch_end` time: 0.0116s). Check your callbacks.\n"
     ]
    },
    {
     "name": "stdout",
     "output_type": "stream",
     "text": [
      "248/248 [==============================] - 6s 11ms/step - loss: 1.3484 - accuracy: 0.4186 - val_loss: 0.9719 - val_accuracy: 0.6172\n"
     ]
    },
    {
     "name": "stderr",
     "output_type": "stream",
     "text": [
      "WARNING:absl:Found untraced functions such as lstm_cell_layer_call_fn, lstm_cell_layer_call_and_return_conditional_losses, lstm_cell_1_layer_call_fn, lstm_cell_1_layer_call_and_return_conditional_losses, lstm_cell_layer_call_fn while saving (showing 5 of 10). These functions will not be directly callable after loading.\n"
     ]
    },
    {
     "name": "stdout",
     "output_type": "stream",
     "text": [
      "INFO:tensorflow:Assets written to: /aiffel/aiffel/workspace/16_dlthon_1/fasttext_lstm/wandb/run-20240627_003712-kh5c2mw2/files/model-best/assets\n"
     ]
    },
    {
     "name": "stderr",
     "output_type": "stream",
     "text": [
      "INFO:tensorflow:Assets written to: /aiffel/aiffel/workspace/16_dlthon_1/fasttext_lstm/wandb/run-20240627_003712-kh5c2mw2/files/model-best/assets\n",
      "\u001b[34m\u001b[1mwandb\u001b[0m: Adding directory to artifact (/aiffel/aiffel/workspace/16_dlthon_1/fasttext_lstm/wandb/run-20240627_003712-kh5c2mw2/files/model-best)... Done. 0.0s\n"
     ]
    },
    {
     "name": "stdout",
     "output_type": "stream",
     "text": [
      "Epoch 2/50\n",
      "248/248 [==============================] - 2s 7ms/step - loss: 0.9140 - accuracy: 0.6506 - val_loss: 0.7980 - val_accuracy: 0.6980\n"
     ]
    },
    {
     "name": "stderr",
     "output_type": "stream",
     "text": [
      "WARNING:absl:Found untraced functions such as lstm_cell_layer_call_fn, lstm_cell_layer_call_and_return_conditional_losses, lstm_cell_1_layer_call_fn, lstm_cell_1_layer_call_and_return_conditional_losses, lstm_cell_layer_call_fn while saving (showing 5 of 10). These functions will not be directly callable after loading.\n"
     ]
    },
    {
     "name": "stdout",
     "output_type": "stream",
     "text": [
      "INFO:tensorflow:Assets written to: /aiffel/aiffel/workspace/16_dlthon_1/fasttext_lstm/wandb/run-20240627_003712-kh5c2mw2/files/model-best/assets\n"
     ]
    },
    {
     "name": "stderr",
     "output_type": "stream",
     "text": [
      "INFO:tensorflow:Assets written to: /aiffel/aiffel/workspace/16_dlthon_1/fasttext_lstm/wandb/run-20240627_003712-kh5c2mw2/files/model-best/assets\n",
      "\u001b[34m\u001b[1mwandb\u001b[0m: Adding directory to artifact (/aiffel/aiffel/workspace/16_dlthon_1/fasttext_lstm/wandb/run-20240627_003712-kh5c2mw2/files/model-best)... Done. 0.0s\n"
     ]
    },
    {
     "name": "stdout",
     "output_type": "stream",
     "text": [
      "Epoch 3/50\n",
      "248/248 [==============================] - 2s 8ms/step - loss: 0.8263 - accuracy: 0.6933 - val_loss: 0.7679 - val_accuracy: 0.7146\n"
     ]
    },
    {
     "name": "stderr",
     "output_type": "stream",
     "text": [
      "WARNING:absl:Found untraced functions such as lstm_cell_layer_call_fn, lstm_cell_layer_call_and_return_conditional_losses, lstm_cell_1_layer_call_fn, lstm_cell_1_layer_call_and_return_conditional_losses, lstm_cell_layer_call_fn while saving (showing 5 of 10). These functions will not be directly callable after loading.\n"
     ]
    },
    {
     "name": "stdout",
     "output_type": "stream",
     "text": [
      "INFO:tensorflow:Assets written to: /aiffel/aiffel/workspace/16_dlthon_1/fasttext_lstm/wandb/run-20240627_003712-kh5c2mw2/files/model-best/assets\n"
     ]
    },
    {
     "name": "stderr",
     "output_type": "stream",
     "text": [
      "INFO:tensorflow:Assets written to: /aiffel/aiffel/workspace/16_dlthon_1/fasttext_lstm/wandb/run-20240627_003712-kh5c2mw2/files/model-best/assets\n",
      "\u001b[34m\u001b[1mwandb\u001b[0m: Adding directory to artifact (/aiffel/aiffel/workspace/16_dlthon_1/fasttext_lstm/wandb/run-20240627_003712-kh5c2mw2/files/model-best)... Done. 0.0s\n"
     ]
    },
    {
     "name": "stdout",
     "output_type": "stream",
     "text": [
      "Epoch 4/50\n",
      "248/248 [==============================] - 2s 8ms/step - loss: 0.7880 - accuracy: 0.7148 - val_loss: 0.7191 - val_accuracy: 0.7348\n"
     ]
    },
    {
     "name": "stderr",
     "output_type": "stream",
     "text": [
      "WARNING:absl:Found untraced functions such as lstm_cell_layer_call_fn, lstm_cell_layer_call_and_return_conditional_losses, lstm_cell_1_layer_call_fn, lstm_cell_1_layer_call_and_return_conditional_losses, lstm_cell_layer_call_fn while saving (showing 5 of 10). These functions will not be directly callable after loading.\n"
     ]
    },
    {
     "name": "stdout",
     "output_type": "stream",
     "text": [
      "INFO:tensorflow:Assets written to: /aiffel/aiffel/workspace/16_dlthon_1/fasttext_lstm/wandb/run-20240627_003712-kh5c2mw2/files/model-best/assets\n"
     ]
    },
    {
     "name": "stderr",
     "output_type": "stream",
     "text": [
      "INFO:tensorflow:Assets written to: /aiffel/aiffel/workspace/16_dlthon_1/fasttext_lstm/wandb/run-20240627_003712-kh5c2mw2/files/model-best/assets\n",
      "\u001b[34m\u001b[1mwandb\u001b[0m: Adding directory to artifact (/aiffel/aiffel/workspace/16_dlthon_1/fasttext_lstm/wandb/run-20240627_003712-kh5c2mw2/files/model-best)... Done. 0.0s\n"
     ]
    },
    {
     "name": "stdout",
     "output_type": "stream",
     "text": [
      "Epoch 5/50\n",
      "248/248 [==============================] - 1s 5ms/step - loss: 0.7584 - accuracy: 0.7232 - val_loss: 0.7053 - val_accuracy: 0.7293\n"
     ]
    },
    {
     "name": "stderr",
     "output_type": "stream",
     "text": [
      "WARNING:absl:Found untraced functions such as lstm_cell_layer_call_fn, lstm_cell_layer_call_and_return_conditional_losses, lstm_cell_1_layer_call_fn, lstm_cell_1_layer_call_and_return_conditional_losses, lstm_cell_layer_call_fn while saving (showing 5 of 10). These functions will not be directly callable after loading.\n"
     ]
    },
    {
     "name": "stdout",
     "output_type": "stream",
     "text": [
      "INFO:tensorflow:Assets written to: /aiffel/aiffel/workspace/16_dlthon_1/fasttext_lstm/wandb/run-20240627_003712-kh5c2mw2/files/model-best/assets\n"
     ]
    },
    {
     "name": "stderr",
     "output_type": "stream",
     "text": [
      "INFO:tensorflow:Assets written to: /aiffel/aiffel/workspace/16_dlthon_1/fasttext_lstm/wandb/run-20240627_003712-kh5c2mw2/files/model-best/assets\n",
      "\u001b[34m\u001b[1mwandb\u001b[0m: Adding directory to artifact (/aiffel/aiffel/workspace/16_dlthon_1/fasttext_lstm/wandb/run-20240627_003712-kh5c2mw2/files/model-best)... Done. 0.0s\n"
     ]
    },
    {
     "name": "stdout",
     "output_type": "stream",
     "text": [
      "Epoch 6/50\n",
      "248/248 [==============================] - 1s 5ms/step - loss: 0.7297 - accuracy: 0.7289 - val_loss: 0.7238 - val_accuracy: 0.7258\n",
      "Epoch 7/50\n",
      "248/248 [==============================] - 1s 5ms/step - loss: 0.7253 - accuracy: 0.7306 - val_loss: 0.6907 - val_accuracy: 0.7348\n"
     ]
    },
    {
     "name": "stderr",
     "output_type": "stream",
     "text": [
      "WARNING:absl:Found untraced functions such as lstm_cell_layer_call_fn, lstm_cell_layer_call_and_return_conditional_losses, lstm_cell_1_layer_call_fn, lstm_cell_1_layer_call_and_return_conditional_losses, lstm_cell_layer_call_fn while saving (showing 5 of 10). These functions will not be directly callable after loading.\n"
     ]
    },
    {
     "name": "stdout",
     "output_type": "stream",
     "text": [
      "INFO:tensorflow:Assets written to: /aiffel/aiffel/workspace/16_dlthon_1/fasttext_lstm/wandb/run-20240627_003712-kh5c2mw2/files/model-best/assets\n"
     ]
    },
    {
     "name": "stderr",
     "output_type": "stream",
     "text": [
      "INFO:tensorflow:Assets written to: /aiffel/aiffel/workspace/16_dlthon_1/fasttext_lstm/wandb/run-20240627_003712-kh5c2mw2/files/model-best/assets\n",
      "\u001b[34m\u001b[1mwandb\u001b[0m: Adding directory to artifact (/aiffel/aiffel/workspace/16_dlthon_1/fasttext_lstm/wandb/run-20240627_003712-kh5c2mw2/files/model-best)... Done. 0.0s\n"
     ]
    },
    {
     "name": "stdout",
     "output_type": "stream",
     "text": [
      "Epoch 8/50\n",
      "248/248 [==============================] - 1s 5ms/step - loss: 0.7155 - accuracy: 0.7321 - val_loss: 0.6914 - val_accuracy: 0.7348\n",
      "Epoch 9/50\n",
      "248/248 [==============================] - 1s 5ms/step - loss: 0.7162 - accuracy: 0.7393 - val_loss: 0.6614 - val_accuracy: 0.7500\n"
     ]
    },
    {
     "name": "stderr",
     "output_type": "stream",
     "text": [
      "WARNING:absl:Found untraced functions such as lstm_cell_layer_call_fn, lstm_cell_layer_call_and_return_conditional_losses, lstm_cell_1_layer_call_fn, lstm_cell_1_layer_call_and_return_conditional_losses, lstm_cell_layer_call_fn while saving (showing 5 of 10). These functions will not be directly callable after loading.\n"
     ]
    },
    {
     "name": "stdout",
     "output_type": "stream",
     "text": [
      "INFO:tensorflow:Assets written to: /aiffel/aiffel/workspace/16_dlthon_1/fasttext_lstm/wandb/run-20240627_003712-kh5c2mw2/files/model-best/assets\n"
     ]
    },
    {
     "name": "stderr",
     "output_type": "stream",
     "text": [
      "INFO:tensorflow:Assets written to: /aiffel/aiffel/workspace/16_dlthon_1/fasttext_lstm/wandb/run-20240627_003712-kh5c2mw2/files/model-best/assets\n",
      "\u001b[34m\u001b[1mwandb\u001b[0m: Adding directory to artifact (/aiffel/aiffel/workspace/16_dlthon_1/fasttext_lstm/wandb/run-20240627_003712-kh5c2mw2/files/model-best)... Done. 0.0s\n"
     ]
    },
    {
     "name": "stdout",
     "output_type": "stream",
     "text": [
      "Epoch 10/50\n",
      "248/248 [==============================] - 1s 5ms/step - loss: 0.6930 - accuracy: 0.7415 - val_loss: 0.7417 - val_accuracy: 0.7237\n",
      "Epoch 11/50\n",
      "248/248 [==============================] - 1s 5ms/step - loss: 0.6945 - accuracy: 0.7426 - val_loss: 0.6737 - val_accuracy: 0.7414\n",
      "Epoch 12/50\n",
      "248/248 [==============================] - 1s 5ms/step - loss: 0.6778 - accuracy: 0.7521 - val_loss: 0.7088 - val_accuracy: 0.7242\n",
      "Epoch 13/50\n",
      "248/248 [==============================] - 1s 5ms/step - loss: 0.6792 - accuracy: 0.7552 - val_loss: 0.6554 - val_accuracy: 0.7495\n"
     ]
    },
    {
     "name": "stderr",
     "output_type": "stream",
     "text": [
      "WARNING:absl:Found untraced functions such as lstm_cell_layer_call_fn, lstm_cell_layer_call_and_return_conditional_losses, lstm_cell_1_layer_call_fn, lstm_cell_1_layer_call_and_return_conditional_losses, lstm_cell_layer_call_fn while saving (showing 5 of 10). These functions will not be directly callable after loading.\n"
     ]
    },
    {
     "name": "stdout",
     "output_type": "stream",
     "text": [
      "INFO:tensorflow:Assets written to: /aiffel/aiffel/workspace/16_dlthon_1/fasttext_lstm/wandb/run-20240627_003712-kh5c2mw2/files/model-best/assets\n"
     ]
    },
    {
     "name": "stderr",
     "output_type": "stream",
     "text": [
      "INFO:tensorflow:Assets written to: /aiffel/aiffel/workspace/16_dlthon_1/fasttext_lstm/wandb/run-20240627_003712-kh5c2mw2/files/model-best/assets\n",
      "\u001b[34m\u001b[1mwandb\u001b[0m: Adding directory to artifact (/aiffel/aiffel/workspace/16_dlthon_1/fasttext_lstm/wandb/run-20240627_003712-kh5c2mw2/files/model-best)... Done. 0.0s\n"
     ]
    },
    {
     "name": "stdout",
     "output_type": "stream",
     "text": [
      "Epoch 14/50\n",
      "248/248 [==============================] - 1s 5ms/step - loss: 0.6620 - accuracy: 0.7577 - val_loss: 0.6674 - val_accuracy: 0.7520\n",
      "Epoch 15/50\n",
      "248/248 [==============================] - 1s 5ms/step - loss: 0.6602 - accuracy: 0.7538 - val_loss: 0.7048 - val_accuracy: 0.7359\n",
      "Epoch 16/50\n",
      "248/248 [==============================] - 1s 5ms/step - loss: 0.6565 - accuracy: 0.7611 - val_loss: 0.7310 - val_accuracy: 0.7247\n",
      "Epoch 17/50\n",
      "248/248 [==============================] - 1s 5ms/step - loss: 0.6595 - accuracy: 0.7588 - val_loss: 0.6589 - val_accuracy: 0.7449\n",
      "Epoch 18/50\n",
      "248/248 [==============================] - 1s 5ms/step - loss: 0.6584 - accuracy: 0.7582 - val_loss: 0.6518 - val_accuracy: 0.7525\n"
     ]
    },
    {
     "name": "stderr",
     "output_type": "stream",
     "text": [
      "WARNING:absl:Found untraced functions such as lstm_cell_layer_call_fn, lstm_cell_layer_call_and_return_conditional_losses, lstm_cell_1_layer_call_fn, lstm_cell_1_layer_call_and_return_conditional_losses, lstm_cell_layer_call_fn while saving (showing 5 of 10). These functions will not be directly callable after loading.\n"
     ]
    },
    {
     "name": "stdout",
     "output_type": "stream",
     "text": [
      "INFO:tensorflow:Assets written to: /aiffel/aiffel/workspace/16_dlthon_1/fasttext_lstm/wandb/run-20240627_003712-kh5c2mw2/files/model-best/assets\n"
     ]
    },
    {
     "name": "stderr",
     "output_type": "stream",
     "text": [
      "INFO:tensorflow:Assets written to: /aiffel/aiffel/workspace/16_dlthon_1/fasttext_lstm/wandb/run-20240627_003712-kh5c2mw2/files/model-best/assets\n",
      "\u001b[34m\u001b[1mwandb\u001b[0m: Adding directory to artifact (/aiffel/aiffel/workspace/16_dlthon_1/fasttext_lstm/wandb/run-20240627_003712-kh5c2mw2/files/model-best)... Done. 0.0s\n"
     ]
    },
    {
     "name": "stdout",
     "output_type": "stream",
     "text": [
      "Epoch 19/50\n",
      "248/248 [==============================] - 1s 5ms/step - loss: 0.6534 - accuracy: 0.7643 - val_loss: 0.6567 - val_accuracy: 0.7485\n",
      "Epoch 20/50\n",
      "248/248 [==============================] - 1s 5ms/step - loss: 0.6512 - accuracy: 0.7633 - val_loss: 0.6429 - val_accuracy: 0.7566\n"
     ]
    },
    {
     "name": "stderr",
     "output_type": "stream",
     "text": [
      "WARNING:absl:Found untraced functions such as lstm_cell_layer_call_fn, lstm_cell_layer_call_and_return_conditional_losses, lstm_cell_1_layer_call_fn, lstm_cell_1_layer_call_and_return_conditional_losses, lstm_cell_layer_call_fn while saving (showing 5 of 10). These functions will not be directly callable after loading.\n"
     ]
    },
    {
     "name": "stdout",
     "output_type": "stream",
     "text": [
      "INFO:tensorflow:Assets written to: /aiffel/aiffel/workspace/16_dlthon_1/fasttext_lstm/wandb/run-20240627_003712-kh5c2mw2/files/model-best/assets\n"
     ]
    },
    {
     "name": "stderr",
     "output_type": "stream",
     "text": [
      "INFO:tensorflow:Assets written to: /aiffel/aiffel/workspace/16_dlthon_1/fasttext_lstm/wandb/run-20240627_003712-kh5c2mw2/files/model-best/assets\n",
      "\u001b[34m\u001b[1mwandb\u001b[0m: Adding directory to artifact (/aiffel/aiffel/workspace/16_dlthon_1/fasttext_lstm/wandb/run-20240627_003712-kh5c2mw2/files/model-best)... Done. 0.0s\n"
     ]
    },
    {
     "name": "stdout",
     "output_type": "stream",
     "text": [
      "Epoch 21/50\n",
      "248/248 [==============================] - 1s 5ms/step - loss: 0.6468 - accuracy: 0.7645 - val_loss: 0.6670 - val_accuracy: 0.7429\n",
      "Epoch 22/50\n",
      "248/248 [==============================] - 1s 5ms/step - loss: 0.6425 - accuracy: 0.7663 - val_loss: 0.6768 - val_accuracy: 0.7455\n",
      "Epoch 23/50\n",
      "248/248 [==============================] - 1s 5ms/step - loss: 0.6420 - accuracy: 0.7659 - val_loss: 0.6445 - val_accuracy: 0.7566\n",
      "Epoch 24/50\n",
      "248/248 [==============================] - 1s 5ms/step - loss: 0.6412 - accuracy: 0.7645 - val_loss: 0.6634 - val_accuracy: 0.7535\n",
      "Epoch 25/50\n",
      "248/248 [==============================] - 1s 5ms/step - loss: 0.6399 - accuracy: 0.7654 - val_loss: 0.6381 - val_accuracy: 0.7571\n"
     ]
    },
    {
     "name": "stderr",
     "output_type": "stream",
     "text": [
      "WARNING:absl:Found untraced functions such as lstm_cell_layer_call_fn, lstm_cell_layer_call_and_return_conditional_losses, lstm_cell_1_layer_call_fn, lstm_cell_1_layer_call_and_return_conditional_losses, lstm_cell_layer_call_fn while saving (showing 5 of 10). These functions will not be directly callable after loading.\n"
     ]
    },
    {
     "name": "stdout",
     "output_type": "stream",
     "text": [
      "INFO:tensorflow:Assets written to: /aiffel/aiffel/workspace/16_dlthon_1/fasttext_lstm/wandb/run-20240627_003712-kh5c2mw2/files/model-best/assets\n"
     ]
    },
    {
     "name": "stderr",
     "output_type": "stream",
     "text": [
      "INFO:tensorflow:Assets written to: /aiffel/aiffel/workspace/16_dlthon_1/fasttext_lstm/wandb/run-20240627_003712-kh5c2mw2/files/model-best/assets\n",
      "\u001b[34m\u001b[1mwandb\u001b[0m: Adding directory to artifact (/aiffel/aiffel/workspace/16_dlthon_1/fasttext_lstm/wandb/run-20240627_003712-kh5c2mw2/files/model-best)... Done. 0.0s\n"
     ]
    },
    {
     "name": "stdout",
     "output_type": "stream",
     "text": [
      "Epoch 26/50\n",
      "248/248 [==============================] - 1s 5ms/step - loss: 0.6302 - accuracy: 0.7730 - val_loss: 0.6691 - val_accuracy: 0.7449\n",
      "Epoch 27/50\n",
      "248/248 [==============================] - 1s 5ms/step - loss: 0.6345 - accuracy: 0.7668 - val_loss: 0.6708 - val_accuracy: 0.7571\n",
      "Epoch 28/50\n",
      "248/248 [==============================] - 1s 5ms/step - loss: 0.6226 - accuracy: 0.7691 - val_loss: 0.6398 - val_accuracy: 0.7510\n",
      "Epoch 29/50\n",
      "248/248 [==============================] - 1s 5ms/step - loss: 0.6296 - accuracy: 0.7696 - val_loss: 0.6426 - val_accuracy: 0.7636\n",
      "Epoch 30/50\n",
      "248/248 [==============================] - 1s 5ms/step - loss: 0.6286 - accuracy: 0.7708 - val_loss: 0.6354 - val_accuracy: 0.7631\n"
     ]
    },
    {
     "name": "stderr",
     "output_type": "stream",
     "text": [
      "WARNING:absl:Found untraced functions such as lstm_cell_layer_call_fn, lstm_cell_layer_call_and_return_conditional_losses, lstm_cell_1_layer_call_fn, lstm_cell_1_layer_call_and_return_conditional_losses, lstm_cell_layer_call_fn while saving (showing 5 of 10). These functions will not be directly callable after loading.\n"
     ]
    },
    {
     "name": "stdout",
     "output_type": "stream",
     "text": [
      "INFO:tensorflow:Assets written to: /aiffel/aiffel/workspace/16_dlthon_1/fasttext_lstm/wandb/run-20240627_003712-kh5c2mw2/files/model-best/assets\n"
     ]
    },
    {
     "name": "stderr",
     "output_type": "stream",
     "text": [
      "INFO:tensorflow:Assets written to: /aiffel/aiffel/workspace/16_dlthon_1/fasttext_lstm/wandb/run-20240627_003712-kh5c2mw2/files/model-best/assets\n",
      "\u001b[34m\u001b[1mwandb\u001b[0m: Adding directory to artifact (/aiffel/aiffel/workspace/16_dlthon_1/fasttext_lstm/wandb/run-20240627_003712-kh5c2mw2/files/model-best)... Done. 0.0s\n"
     ]
    },
    {
     "name": "stdout",
     "output_type": "stream",
     "text": [
      "Epoch 31/50\n",
      "248/248 [==============================] - 1s 5ms/step - loss: 0.6207 - accuracy: 0.7749 - val_loss: 0.6392 - val_accuracy: 0.7657\n",
      "Epoch 32/50\n",
      "248/248 [==============================] - 1s 5ms/step - loss: 0.6175 - accuracy: 0.7727 - val_loss: 0.6413 - val_accuracy: 0.7439\n",
      "Epoch 33/50\n",
      "248/248 [==============================] - 1s 5ms/step - loss: 0.6218 - accuracy: 0.7737 - val_loss: 0.6546 - val_accuracy: 0.7576\n",
      "Epoch 34/50\n",
      "248/248 [==============================] - 1s 5ms/step - loss: 0.6058 - accuracy: 0.7809 - val_loss: 0.6576 - val_accuracy: 0.7591\n",
      "Epoch 35/50\n",
      "248/248 [==============================] - 1s 5ms/step - loss: 0.6128 - accuracy: 0.7730 - val_loss: 0.6483 - val_accuracy: 0.7606\n",
      "Epoch 00035: early stopping\n"
     ]
    },
    {
     "data": {
      "application/vnd.jupyter.widget-view+json": {
       "model_id": "",
       "version_major": 2,
       "version_minor": 0
      },
      "text/plain": [
       "VBox(children=(Label(value='26.574 MB of 26.574 MB uploaded (0.153 MB deduped)\\r'), FloatProgress(value=1.0, m…"
      ]
     },
     "metadata": {},
     "output_type": "display_data"
    },
    {
     "data": {
      "text/html": [
       "<style>\n",
       "    table.wandb td:nth-child(1) { padding: 0 10px; text-align: left ; width: auto;} td:nth-child(2) {text-align: left ; width: 100%}\n",
       "    .wandb-row { display: flex; flex-direction: row; flex-wrap: wrap; justify-content: flex-start; width: 100% }\n",
       "    .wandb-col { display: flex; flex-direction: column; flex-basis: 100%; flex: 1; padding: 10px; }\n",
       "    </style>\n",
       "<div class=\"wandb-row\"><div class=\"wandb-col\"><h3>Run history:</h3><br/><table class=\"wandb\"><tr><td>Validation Accuracy Rate: </td><td>▁</td></tr><tr><td>Validation Error Rate: </td><td>▁</td></tr><tr><td>accuracy</td><td>▁▅▆▇▇▇▇▇▇▇▇▇██▇████████████████████</td></tr><tr><td>epoch</td><td>▁▁▁▂▂▂▂▂▃▃▃▃▃▄▄▄▄▅▅▅▅▅▆▆▆▆▆▇▇▇▇▇███</td></tr><tr><td>loss</td><td>█▄▃▃▂▂▂▂▂▂▂▂▂▂▂▁▂▁▁▁▁▁▁▁▁▁▁▁▁▁▁▁▁▁▁</td></tr><tr><td>val_accuracy</td><td>▁▅▆▇▆▆▇▇▇▆▇▆▇▇▇▆▇▇▇█▇▇█▇█▇█▇███▇███</td></tr><tr><td>val_loss</td><td>█▄▄▃▂▃▂▂▂▃▂▃▁▂▂▃▁▁▁▁▂▂▁▂▁▂▂▁▁▁▁▁▁▁▁</td></tr></table><br/></div><div class=\"wandb-col\"><h3>Run summary:</h3><br/><table class=\"wandb\"><tr><td>Validation Accuracy Rate: </td><td>76.06</td></tr><tr><td>Validation Error Rate: </td><td>23.94</td></tr><tr><td>accuracy</td><td>0.77298</td></tr><tr><td>best_epoch</td><td>29</td></tr><tr><td>best_val_loss</td><td>0.63536</td></tr><tr><td>epoch</td><td>34</td></tr><tr><td>loss</td><td>0.61279</td></tr><tr><td>val_accuracy</td><td>0.76061</td></tr><tr><td>val_loss</td><td>0.64834</td></tr></table><br/></div></div>"
      ],
      "text/plain": [
       "<IPython.core.display.HTML object>"
      ]
     },
     "metadata": {},
     "output_type": "display_data"
    },
    {
     "data": {
      "text/html": [
       " View run <strong style=\"color:#cdcd00\">bright-sweep-3</strong> at: <a href='https://wandb.ai/devdchyeon/DLTHON/runs/kh5c2mw2' target=\"_blank\">https://wandb.ai/devdchyeon/DLTHON/runs/kh5c2mw2</a><br/>Synced 5 W&B file(s), 1 media file(s), 48 artifact file(s) and 1 other file(s)"
      ],
      "text/plain": [
       "<IPython.core.display.HTML object>"
      ]
     },
     "metadata": {},
     "output_type": "display_data"
    },
    {
     "data": {
      "text/html": [
       "Find logs at: <code>./wandb/run-20240627_003712-kh5c2mw2/logs</code>"
      ],
      "text/plain": [
       "<IPython.core.display.HTML object>"
      ]
     },
     "metadata": {},
     "output_type": "display_data"
    },
    {
     "name": "stderr",
     "output_type": "stream",
     "text": [
      "\u001b[34m\u001b[1mwandb\u001b[0m: Agent Starting Run: 9wkfkfd3 with config:\n",
      "\u001b[34m\u001b[1mwandb\u001b[0m: \tbatch_size: 32\n",
      "\u001b[34m\u001b[1mwandb\u001b[0m: \tdropout_rate: 0.2\n",
      "\u001b[34m\u001b[1mwandb\u001b[0m: \tlearning_rate: 0.005\n",
      "\u001b[34m\u001b[1mwandb\u001b[0m: \tunits: 32\n"
     ]
    },
    {
     "data": {
      "text/html": [
       "wandb version 0.17.3 is available!  To upgrade, please run:\n",
       " $ pip install wandb --upgrade"
      ],
      "text/plain": [
       "<IPython.core.display.HTML object>"
      ]
     },
     "metadata": {},
     "output_type": "display_data"
    },
    {
     "data": {
      "text/html": [
       "Tracking run with wandb version 0.16.0"
      ],
      "text/plain": [
       "<IPython.core.display.HTML object>"
      ]
     },
     "metadata": {},
     "output_type": "display_data"
    },
    {
     "data": {
      "text/html": [
       "Run data is saved locally in <code>/aiffel/aiffel/workspace/16_dlthon_1/fasttext_lstm/wandb/run-20240627_003950-9wkfkfd3</code>"
      ],
      "text/plain": [
       "<IPython.core.display.HTML object>"
      ]
     },
     "metadata": {},
     "output_type": "display_data"
    },
    {
     "data": {
      "text/html": [
       "Syncing run <strong><a href='https://wandb.ai/devdchyeon/DLTHON/runs/9wkfkfd3' target=\"_blank\">prime-sweep-4</a></strong> to <a href='https://wandb.ai/devdchyeon/DLTHON' target=\"_blank\">Weights & Biases</a> (<a href='https://wandb.me/run' target=\"_blank\">docs</a>)<br/>Sweep page: <a href='https://wandb.ai/devdchyeon/DLTHON/sweeps/k94x0hcc' target=\"_blank\">https://wandb.ai/devdchyeon/DLTHON/sweeps/k94x0hcc</a>"
      ],
      "text/plain": [
       "<IPython.core.display.HTML object>"
      ]
     },
     "metadata": {},
     "output_type": "display_data"
    },
    {
     "data": {
      "text/html": [
       " View project at <a href='https://wandb.ai/devdchyeon/DLTHON' target=\"_blank\">https://wandb.ai/devdchyeon/DLTHON</a>"
      ],
      "text/plain": [
       "<IPython.core.display.HTML object>"
      ]
     },
     "metadata": {},
     "output_type": "display_data"
    },
    {
     "data": {
      "text/html": [
       " View sweep at <a href='https://wandb.ai/devdchyeon/DLTHON/sweeps/k94x0hcc' target=\"_blank\">https://wandb.ai/devdchyeon/DLTHON/sweeps/k94x0hcc</a>"
      ],
      "text/plain": [
       "<IPython.core.display.HTML object>"
      ]
     },
     "metadata": {},
     "output_type": "display_data"
    },
    {
     "data": {
      "text/html": [
       " View run at <a href='https://wandb.ai/devdchyeon/DLTHON/runs/9wkfkfd3' target=\"_blank\">https://wandb.ai/devdchyeon/DLTHON/runs/9wkfkfd3</a>"
      ],
      "text/plain": [
       "<IPython.core.display.HTML object>"
      ]
     },
     "metadata": {},
     "output_type": "display_data"
    },
    {
     "name": "stdout",
     "output_type": "stream",
     "text": [
      "Epoch 1/50\n",
      "248/248 [==============================] - 4s 7ms/step - loss: 1.2644 - accuracy: 0.4595 - val_loss: 0.9631 - val_accuracy: 0.6227\n"
     ]
    },
    {
     "name": "stderr",
     "output_type": "stream",
     "text": [
      "WARNING:absl:Found untraced functions such as lstm_cell_layer_call_fn, lstm_cell_layer_call_and_return_conditional_losses, lstm_cell_1_layer_call_fn, lstm_cell_1_layer_call_and_return_conditional_losses, lstm_cell_layer_call_fn while saving (showing 5 of 10). These functions will not be directly callable after loading.\n"
     ]
    },
    {
     "name": "stdout",
     "output_type": "stream",
     "text": [
      "INFO:tensorflow:Assets written to: /aiffel/aiffel/workspace/16_dlthon_1/fasttext_lstm/wandb/run-20240627_003950-9wkfkfd3/files/model-best/assets\n"
     ]
    },
    {
     "name": "stderr",
     "output_type": "stream",
     "text": [
      "INFO:tensorflow:Assets written to: /aiffel/aiffel/workspace/16_dlthon_1/fasttext_lstm/wandb/run-20240627_003950-9wkfkfd3/files/model-best/assets\n",
      "\u001b[34m\u001b[1mwandb\u001b[0m: Adding directory to artifact (/aiffel/aiffel/workspace/16_dlthon_1/fasttext_lstm/wandb/run-20240627_003950-9wkfkfd3/files/model-best)... Done. 0.0s\n"
     ]
    },
    {
     "name": "stdout",
     "output_type": "stream",
     "text": [
      "Epoch 2/50\n",
      "248/248 [==============================] - 1s 5ms/step - loss: 0.8744 - accuracy: 0.6696 - val_loss: 0.7790 - val_accuracy: 0.7096\n"
     ]
    },
    {
     "name": "stderr",
     "output_type": "stream",
     "text": [
      "WARNING:absl:Found untraced functions such as lstm_cell_layer_call_fn, lstm_cell_layer_call_and_return_conditional_losses, lstm_cell_1_layer_call_fn, lstm_cell_1_layer_call_and_return_conditional_losses, lstm_cell_layer_call_fn while saving (showing 5 of 10). These functions will not be directly callable after loading.\n"
     ]
    },
    {
     "name": "stdout",
     "output_type": "stream",
     "text": [
      "INFO:tensorflow:Assets written to: /aiffel/aiffel/workspace/16_dlthon_1/fasttext_lstm/wandb/run-20240627_003950-9wkfkfd3/files/model-best/assets\n"
     ]
    },
    {
     "name": "stderr",
     "output_type": "stream",
     "text": [
      "INFO:tensorflow:Assets written to: /aiffel/aiffel/workspace/16_dlthon_1/fasttext_lstm/wandb/run-20240627_003950-9wkfkfd3/files/model-best/assets\n",
      "\u001b[34m\u001b[1mwandb\u001b[0m: Adding directory to artifact (/aiffel/aiffel/workspace/16_dlthon_1/fasttext_lstm/wandb/run-20240627_003950-9wkfkfd3/files/model-best)... Done. 0.0s\n"
     ]
    },
    {
     "name": "stdout",
     "output_type": "stream",
     "text": [
      "Epoch 3/50\n",
      "248/248 [==============================] - 1s 5ms/step - loss: 0.8034 - accuracy: 0.6991 - val_loss: 0.7527 - val_accuracy: 0.7177\n"
     ]
    },
    {
     "name": "stderr",
     "output_type": "stream",
     "text": [
      "WARNING:absl:Found untraced functions such as lstm_cell_layer_call_fn, lstm_cell_layer_call_and_return_conditional_losses, lstm_cell_1_layer_call_fn, lstm_cell_1_layer_call_and_return_conditional_losses, lstm_cell_layer_call_fn while saving (showing 5 of 10). These functions will not be directly callable after loading.\n"
     ]
    },
    {
     "name": "stdout",
     "output_type": "stream",
     "text": [
      "INFO:tensorflow:Assets written to: /aiffel/aiffel/workspace/16_dlthon_1/fasttext_lstm/wandb/run-20240627_003950-9wkfkfd3/files/model-best/assets\n"
     ]
    },
    {
     "name": "stderr",
     "output_type": "stream",
     "text": [
      "INFO:tensorflow:Assets written to: /aiffel/aiffel/workspace/16_dlthon_1/fasttext_lstm/wandb/run-20240627_003950-9wkfkfd3/files/model-best/assets\n",
      "\u001b[34m\u001b[1mwandb\u001b[0m: Adding directory to artifact (/aiffel/aiffel/workspace/16_dlthon_1/fasttext_lstm/wandb/run-20240627_003950-9wkfkfd3/files/model-best)... Done. 0.0s\n"
     ]
    },
    {
     "name": "stdout",
     "output_type": "stream",
     "text": [
      "Epoch 4/50\n",
      "248/248 [==============================] - 1s 5ms/step - loss: 0.7711 - accuracy: 0.7148 - val_loss: 0.7409 - val_accuracy: 0.7202\n"
     ]
    },
    {
     "name": "stderr",
     "output_type": "stream",
     "text": [
      "WARNING:absl:Found untraced functions such as lstm_cell_layer_call_fn, lstm_cell_layer_call_and_return_conditional_losses, lstm_cell_1_layer_call_fn, lstm_cell_1_layer_call_and_return_conditional_losses, lstm_cell_layer_call_fn while saving (showing 5 of 10). These functions will not be directly callable after loading.\n"
     ]
    },
    {
     "name": "stdout",
     "output_type": "stream",
     "text": [
      "INFO:tensorflow:Assets written to: /aiffel/aiffel/workspace/16_dlthon_1/fasttext_lstm/wandb/run-20240627_003950-9wkfkfd3/files/model-best/assets\n"
     ]
    },
    {
     "name": "stderr",
     "output_type": "stream",
     "text": [
      "INFO:tensorflow:Assets written to: /aiffel/aiffel/workspace/16_dlthon_1/fasttext_lstm/wandb/run-20240627_003950-9wkfkfd3/files/model-best/assets\n",
      "\u001b[34m\u001b[1mwandb\u001b[0m: Adding directory to artifact (/aiffel/aiffel/workspace/16_dlthon_1/fasttext_lstm/wandb/run-20240627_003950-9wkfkfd3/files/model-best)... Done. 0.0s\n"
     ]
    },
    {
     "name": "stdout",
     "output_type": "stream",
     "text": [
      "Epoch 5/50\n",
      "248/248 [==============================] - 1s 5ms/step - loss: 0.7486 - accuracy: 0.7218 - val_loss: 0.7274 - val_accuracy: 0.7242\n"
     ]
    },
    {
     "name": "stderr",
     "output_type": "stream",
     "text": [
      "WARNING:absl:Found untraced functions such as lstm_cell_layer_call_fn, lstm_cell_layer_call_and_return_conditional_losses, lstm_cell_1_layer_call_fn, lstm_cell_1_layer_call_and_return_conditional_losses, lstm_cell_layer_call_fn while saving (showing 5 of 10). These functions will not be directly callable after loading.\n"
     ]
    },
    {
     "name": "stdout",
     "output_type": "stream",
     "text": [
      "INFO:tensorflow:Assets written to: /aiffel/aiffel/workspace/16_dlthon_1/fasttext_lstm/wandb/run-20240627_003950-9wkfkfd3/files/model-best/assets\n"
     ]
    },
    {
     "name": "stderr",
     "output_type": "stream",
     "text": [
      "INFO:tensorflow:Assets written to: /aiffel/aiffel/workspace/16_dlthon_1/fasttext_lstm/wandb/run-20240627_003950-9wkfkfd3/files/model-best/assets\n",
      "\u001b[34m\u001b[1mwandb\u001b[0m: Adding directory to artifact (/aiffel/aiffel/workspace/16_dlthon_1/fasttext_lstm/wandb/run-20240627_003950-9wkfkfd3/files/model-best)... Done. 0.0s\n"
     ]
    },
    {
     "name": "stdout",
     "output_type": "stream",
     "text": [
      "Epoch 6/50\n",
      "248/248 [==============================] - 1s 5ms/step - loss: 0.7255 - accuracy: 0.7327 - val_loss: 0.6907 - val_accuracy: 0.7384\n"
     ]
    },
    {
     "name": "stderr",
     "output_type": "stream",
     "text": [
      "WARNING:absl:Found untraced functions such as lstm_cell_layer_call_fn, lstm_cell_layer_call_and_return_conditional_losses, lstm_cell_1_layer_call_fn, lstm_cell_1_layer_call_and_return_conditional_losses, lstm_cell_layer_call_fn while saving (showing 5 of 10). These functions will not be directly callable after loading.\n"
     ]
    },
    {
     "name": "stdout",
     "output_type": "stream",
     "text": [
      "INFO:tensorflow:Assets written to: /aiffel/aiffel/workspace/16_dlthon_1/fasttext_lstm/wandb/run-20240627_003950-9wkfkfd3/files/model-best/assets\n"
     ]
    },
    {
     "name": "stderr",
     "output_type": "stream",
     "text": [
      "INFO:tensorflow:Assets written to: /aiffel/aiffel/workspace/16_dlthon_1/fasttext_lstm/wandb/run-20240627_003950-9wkfkfd3/files/model-best/assets\n",
      "\u001b[34m\u001b[1mwandb\u001b[0m: Adding directory to artifact (/aiffel/aiffel/workspace/16_dlthon_1/fasttext_lstm/wandb/run-20240627_003950-9wkfkfd3/files/model-best)... Done. 0.0s\n"
     ]
    },
    {
     "name": "stdout",
     "output_type": "stream",
     "text": [
      "Epoch 7/50\n",
      "248/248 [==============================] - 1s 5ms/step - loss: 0.7352 - accuracy: 0.7275 - val_loss: 0.6875 - val_accuracy: 0.7460\n"
     ]
    },
    {
     "name": "stderr",
     "output_type": "stream",
     "text": [
      "WARNING:absl:Found untraced functions such as lstm_cell_layer_call_fn, lstm_cell_layer_call_and_return_conditional_losses, lstm_cell_1_layer_call_fn, lstm_cell_1_layer_call_and_return_conditional_losses, lstm_cell_layer_call_fn while saving (showing 5 of 10). These functions will not be directly callable after loading.\n"
     ]
    },
    {
     "name": "stdout",
     "output_type": "stream",
     "text": [
      "INFO:tensorflow:Assets written to: /aiffel/aiffel/workspace/16_dlthon_1/fasttext_lstm/wandb/run-20240627_003950-9wkfkfd3/files/model-best/assets\n"
     ]
    },
    {
     "name": "stderr",
     "output_type": "stream",
     "text": [
      "INFO:tensorflow:Assets written to: /aiffel/aiffel/workspace/16_dlthon_1/fasttext_lstm/wandb/run-20240627_003950-9wkfkfd3/files/model-best/assets\n",
      "\u001b[34m\u001b[1mwandb\u001b[0m: Adding directory to artifact (/aiffel/aiffel/workspace/16_dlthon_1/fasttext_lstm/wandb/run-20240627_003950-9wkfkfd3/files/model-best)... Done. 0.0s\n"
     ]
    },
    {
     "name": "stdout",
     "output_type": "stream",
     "text": [
      "Epoch 8/50\n",
      "248/248 [==============================] - 1s 5ms/step - loss: 0.7073 - accuracy: 0.7357 - val_loss: 0.6680 - val_accuracy: 0.7480\n"
     ]
    },
    {
     "name": "stderr",
     "output_type": "stream",
     "text": [
      "WARNING:absl:Found untraced functions such as lstm_cell_layer_call_fn, lstm_cell_layer_call_and_return_conditional_losses, lstm_cell_1_layer_call_fn, lstm_cell_1_layer_call_and_return_conditional_losses, lstm_cell_layer_call_fn while saving (showing 5 of 10). These functions will not be directly callable after loading.\n"
     ]
    },
    {
     "name": "stdout",
     "output_type": "stream",
     "text": [
      "INFO:tensorflow:Assets written to: /aiffel/aiffel/workspace/16_dlthon_1/fasttext_lstm/wandb/run-20240627_003950-9wkfkfd3/files/model-best/assets\n"
     ]
    },
    {
     "name": "stderr",
     "output_type": "stream",
     "text": [
      "INFO:tensorflow:Assets written to: /aiffel/aiffel/workspace/16_dlthon_1/fasttext_lstm/wandb/run-20240627_003950-9wkfkfd3/files/model-best/assets\n",
      "\u001b[34m\u001b[1mwandb\u001b[0m: Adding directory to artifact (/aiffel/aiffel/workspace/16_dlthon_1/fasttext_lstm/wandb/run-20240627_003950-9wkfkfd3/files/model-best)... Done. 0.0s\n"
     ]
    },
    {
     "name": "stdout",
     "output_type": "stream",
     "text": [
      "Epoch 9/50\n",
      "248/248 [==============================] - 1s 5ms/step - loss: 0.7075 - accuracy: 0.7417 - val_loss: 0.6793 - val_accuracy: 0.7439\n",
      "Epoch 10/50\n",
      "248/248 [==============================] - 1s 5ms/step - loss: 0.6942 - accuracy: 0.7471 - val_loss: 0.7179 - val_accuracy: 0.7348\n",
      "Epoch 11/50\n",
      "248/248 [==============================] - 1s 5ms/step - loss: 0.6929 - accuracy: 0.7477 - val_loss: 0.6870 - val_accuracy: 0.7470\n",
      "Epoch 12/50\n",
      "248/248 [==============================] - 1s 5ms/step - loss: 0.6852 - accuracy: 0.7465 - val_loss: 0.7106 - val_accuracy: 0.7364\n",
      "Epoch 13/50\n",
      "248/248 [==============================] - 1s 5ms/step - loss: 0.6759 - accuracy: 0.7523 - val_loss: 0.6710 - val_accuracy: 0.7525\n",
      "Epoch 00013: early stopping\n"
     ]
    },
    {
     "data": {
      "application/vnd.jupyter.widget-view+json": {
       "model_id": "",
       "version_major": 2,
       "version_minor": 0
      },
      "text/plain": [
       "VBox(children=(Label(value='17.926 MB of 17.927 MB uploaded (0.097 MB deduped)\\r'), FloatProgress(value=0.9999…"
      ]
     },
     "metadata": {},
     "output_type": "display_data"
    },
    {
     "data": {
      "text/html": [
       "<style>\n",
       "    table.wandb td:nth-child(1) { padding: 0 10px; text-align: left ; width: auto;} td:nth-child(2) {text-align: left ; width: 100%}\n",
       "    .wandb-row { display: flex; flex-direction: row; flex-wrap: wrap; justify-content: flex-start; width: 100% }\n",
       "    .wandb-col { display: flex; flex-direction: column; flex-basis: 100%; flex: 1; padding: 10px; }\n",
       "    </style>\n",
       "<div class=\"wandb-row\"><div class=\"wandb-col\"><h3>Run history:</h3><br/><table class=\"wandb\"><tr><td>Validation Accuracy Rate: </td><td>▁</td></tr><tr><td>Validation Error Rate: </td><td>▁</td></tr><tr><td>accuracy</td><td>▁▆▇▇▇█▇██████</td></tr><tr><td>epoch</td><td>▁▂▂▃▃▄▅▅▆▆▇▇█</td></tr><tr><td>loss</td><td>█▃▃▂▂▂▂▁▁▁▁▁▁</td></tr><tr><td>val_accuracy</td><td>▁▆▆▆▆▇███▇█▇█</td></tr><tr><td>val_loss</td><td>█▄▃▃▂▂▁▁▁▂▁▂▁</td></tr></table><br/></div><div class=\"wandb-col\"><h3>Run summary:</h3><br/><table class=\"wandb\"><tr><td>Validation Accuracy Rate: </td><td>75.25</td></tr><tr><td>Validation Error Rate: </td><td>24.75</td></tr><tr><td>accuracy</td><td>0.75227</td></tr><tr><td>best_epoch</td><td>7</td></tr><tr><td>best_val_loss</td><td>0.66802</td></tr><tr><td>epoch</td><td>12</td></tr><tr><td>loss</td><td>0.6759</td></tr><tr><td>val_accuracy</td><td>0.75253</td></tr><tr><td>val_loss</td><td>0.67096</td></tr></table><br/></div></div>"
      ],
      "text/plain": [
       "<IPython.core.display.HTML object>"
      ]
     },
     "metadata": {},
     "output_type": "display_data"
    },
    {
     "data": {
      "text/html": [
       " View run <strong style=\"color:#cdcd00\">prime-sweep-4</strong> at: <a href='https://wandb.ai/devdchyeon/DLTHON/runs/9wkfkfd3' target=\"_blank\">https://wandb.ai/devdchyeon/DLTHON/runs/9wkfkfd3</a><br/>Synced 5 W&B file(s), 1 media file(s), 32 artifact file(s) and 1 other file(s)"
      ],
      "text/plain": [
       "<IPython.core.display.HTML object>"
      ]
     },
     "metadata": {},
     "output_type": "display_data"
    },
    {
     "data": {
      "text/html": [
       "Find logs at: <code>./wandb/run-20240627_003950-9wkfkfd3/logs</code>"
      ],
      "text/plain": [
       "<IPython.core.display.HTML object>"
      ]
     },
     "metadata": {},
     "output_type": "display_data"
    },
    {
     "name": "stderr",
     "output_type": "stream",
     "text": [
      "\u001b[34m\u001b[1mwandb\u001b[0m: Agent Starting Run: exskuqkn with config:\n",
      "\u001b[34m\u001b[1mwandb\u001b[0m: \tbatch_size: 32\n",
      "\u001b[34m\u001b[1mwandb\u001b[0m: \tdropout_rate: 0.2\n",
      "\u001b[34m\u001b[1mwandb\u001b[0m: \tlearning_rate: 0.003\n",
      "\u001b[34m\u001b[1mwandb\u001b[0m: \tunits: 32\n"
     ]
    },
    {
     "data": {
      "text/html": [
       "wandb version 0.17.3 is available!  To upgrade, please run:\n",
       " $ pip install wandb --upgrade"
      ],
      "text/plain": [
       "<IPython.core.display.HTML object>"
      ]
     },
     "metadata": {},
     "output_type": "display_data"
    },
    {
     "data": {
      "text/html": [
       "Tracking run with wandb version 0.16.0"
      ],
      "text/plain": [
       "<IPython.core.display.HTML object>"
      ]
     },
     "metadata": {},
     "output_type": "display_data"
    },
    {
     "data": {
      "text/html": [
       "Run data is saved locally in <code>/aiffel/aiffel/workspace/16_dlthon_1/fasttext_lstm/wandb/run-20240627_004116-exskuqkn</code>"
      ],
      "text/plain": [
       "<IPython.core.display.HTML object>"
      ]
     },
     "metadata": {},
     "output_type": "display_data"
    },
    {
     "data": {
      "text/html": [
       "Syncing run <strong><a href='https://wandb.ai/devdchyeon/DLTHON/runs/exskuqkn' target=\"_blank\">glowing-sweep-5</a></strong> to <a href='https://wandb.ai/devdchyeon/DLTHON' target=\"_blank\">Weights & Biases</a> (<a href='https://wandb.me/run' target=\"_blank\">docs</a>)<br/>Sweep page: <a href='https://wandb.ai/devdchyeon/DLTHON/sweeps/k94x0hcc' target=\"_blank\">https://wandb.ai/devdchyeon/DLTHON/sweeps/k94x0hcc</a>"
      ],
      "text/plain": [
       "<IPython.core.display.HTML object>"
      ]
     },
     "metadata": {},
     "output_type": "display_data"
    },
    {
     "data": {
      "text/html": [
       " View project at <a href='https://wandb.ai/devdchyeon/DLTHON' target=\"_blank\">https://wandb.ai/devdchyeon/DLTHON</a>"
      ],
      "text/plain": [
       "<IPython.core.display.HTML object>"
      ]
     },
     "metadata": {},
     "output_type": "display_data"
    },
    {
     "data": {
      "text/html": [
       " View sweep at <a href='https://wandb.ai/devdchyeon/DLTHON/sweeps/k94x0hcc' target=\"_blank\">https://wandb.ai/devdchyeon/DLTHON/sweeps/k94x0hcc</a>"
      ],
      "text/plain": [
       "<IPython.core.display.HTML object>"
      ]
     },
     "metadata": {},
     "output_type": "display_data"
    },
    {
     "data": {
      "text/html": [
       " View run at <a href='https://wandb.ai/devdchyeon/DLTHON/runs/exskuqkn' target=\"_blank\">https://wandb.ai/devdchyeon/DLTHON/runs/exskuqkn</a>"
      ],
      "text/plain": [
       "<IPython.core.display.HTML object>"
      ]
     },
     "metadata": {},
     "output_type": "display_data"
    },
    {
     "name": "stdout",
     "output_type": "stream",
     "text": [
      "Epoch 1/50\n",
      "248/248 [==============================] - 4s 7ms/step - loss: 1.3250 - accuracy: 0.4133 - val_loss: 0.9583 - val_accuracy: 0.6333\n"
     ]
    },
    {
     "name": "stderr",
     "output_type": "stream",
     "text": [
      "WARNING:absl:Found untraced functions such as lstm_cell_layer_call_fn, lstm_cell_layer_call_and_return_conditional_losses, lstm_cell_1_layer_call_fn, lstm_cell_1_layer_call_and_return_conditional_losses, lstm_cell_layer_call_fn while saving (showing 5 of 10). These functions will not be directly callable after loading.\n"
     ]
    },
    {
     "name": "stdout",
     "output_type": "stream",
     "text": [
      "INFO:tensorflow:Assets written to: /aiffel/aiffel/workspace/16_dlthon_1/fasttext_lstm/wandb/run-20240627_004116-exskuqkn/files/model-best/assets\n"
     ]
    },
    {
     "name": "stderr",
     "output_type": "stream",
     "text": [
      "INFO:tensorflow:Assets written to: /aiffel/aiffel/workspace/16_dlthon_1/fasttext_lstm/wandb/run-20240627_004116-exskuqkn/files/model-best/assets\n",
      "\u001b[34m\u001b[1mwandb\u001b[0m: Adding directory to artifact (/aiffel/aiffel/workspace/16_dlthon_1/fasttext_lstm/wandb/run-20240627_004116-exskuqkn/files/model-best)... Done. 0.0s\n"
     ]
    },
    {
     "name": "stdout",
     "output_type": "stream",
     "text": [
      "Epoch 2/50\n",
      "248/248 [==============================] - 1s 5ms/step - loss: 0.9460 - accuracy: 0.6259 - val_loss: 0.8667 - val_accuracy: 0.6571\n"
     ]
    },
    {
     "name": "stderr",
     "output_type": "stream",
     "text": [
      "WARNING:absl:Found untraced functions such as lstm_cell_layer_call_fn, lstm_cell_layer_call_and_return_conditional_losses, lstm_cell_1_layer_call_fn, lstm_cell_1_layer_call_and_return_conditional_losses, lstm_cell_layer_call_fn while saving (showing 5 of 10). These functions will not be directly callable after loading.\n"
     ]
    },
    {
     "name": "stdout",
     "output_type": "stream",
     "text": [
      "INFO:tensorflow:Assets written to: /aiffel/aiffel/workspace/16_dlthon_1/fasttext_lstm/wandb/run-20240627_004116-exskuqkn/files/model-best/assets\n"
     ]
    },
    {
     "name": "stderr",
     "output_type": "stream",
     "text": [
      "INFO:tensorflow:Assets written to: /aiffel/aiffel/workspace/16_dlthon_1/fasttext_lstm/wandb/run-20240627_004116-exskuqkn/files/model-best/assets\n",
      "\u001b[34m\u001b[1mwandb\u001b[0m: Adding directory to artifact (/aiffel/aiffel/workspace/16_dlthon_1/fasttext_lstm/wandb/run-20240627_004116-exskuqkn/files/model-best)... Done. 0.0s\n"
     ]
    },
    {
     "name": "stdout",
     "output_type": "stream",
     "text": [
      "Epoch 3/50\n",
      "248/248 [==============================] - 1s 5ms/step - loss: 0.8698 - accuracy: 0.6730 - val_loss: 0.8519 - val_accuracy: 0.6707\n"
     ]
    },
    {
     "name": "stderr",
     "output_type": "stream",
     "text": [
      "WARNING:absl:Found untraced functions such as lstm_cell_layer_call_fn, lstm_cell_layer_call_and_return_conditional_losses, lstm_cell_1_layer_call_fn, lstm_cell_1_layer_call_and_return_conditional_losses, lstm_cell_layer_call_fn while saving (showing 5 of 10). These functions will not be directly callable after loading.\n"
     ]
    },
    {
     "name": "stdout",
     "output_type": "stream",
     "text": [
      "INFO:tensorflow:Assets written to: /aiffel/aiffel/workspace/16_dlthon_1/fasttext_lstm/wandb/run-20240627_004116-exskuqkn/files/model-best/assets\n"
     ]
    },
    {
     "name": "stderr",
     "output_type": "stream",
     "text": [
      "INFO:tensorflow:Assets written to: /aiffel/aiffel/workspace/16_dlthon_1/fasttext_lstm/wandb/run-20240627_004116-exskuqkn/files/model-best/assets\n",
      "\u001b[34m\u001b[1mwandb\u001b[0m: Adding directory to artifact (/aiffel/aiffel/workspace/16_dlthon_1/fasttext_lstm/wandb/run-20240627_004116-exskuqkn/files/model-best)... Done. 0.0s\n"
     ]
    },
    {
     "name": "stdout",
     "output_type": "stream",
     "text": [
      "Epoch 4/50\n",
      "248/248 [==============================] - 1s 5ms/step - loss: 0.8081 - accuracy: 0.7000 - val_loss: 0.7405 - val_accuracy: 0.7066\n"
     ]
    },
    {
     "name": "stderr",
     "output_type": "stream",
     "text": [
      "WARNING:absl:Found untraced functions such as lstm_cell_layer_call_fn, lstm_cell_layer_call_and_return_conditional_losses, lstm_cell_1_layer_call_fn, lstm_cell_1_layer_call_and_return_conditional_losses, lstm_cell_layer_call_fn while saving (showing 5 of 10). These functions will not be directly callable after loading.\n"
     ]
    },
    {
     "name": "stdout",
     "output_type": "stream",
     "text": [
      "INFO:tensorflow:Assets written to: /aiffel/aiffel/workspace/16_dlthon_1/fasttext_lstm/wandb/run-20240627_004116-exskuqkn/files/model-best/assets\n"
     ]
    },
    {
     "name": "stderr",
     "output_type": "stream",
     "text": [
      "INFO:tensorflow:Assets written to: /aiffel/aiffel/workspace/16_dlthon_1/fasttext_lstm/wandb/run-20240627_004116-exskuqkn/files/model-best/assets\n",
      "\u001b[34m\u001b[1mwandb\u001b[0m: Adding directory to artifact (/aiffel/aiffel/workspace/16_dlthon_1/fasttext_lstm/wandb/run-20240627_004116-exskuqkn/files/model-best)... Done. 0.0s\n"
     ]
    },
    {
     "name": "stdout",
     "output_type": "stream",
     "text": [
      "Epoch 5/50\n",
      "248/248 [==============================] - 1s 5ms/step - loss: 0.7720 - accuracy: 0.7112 - val_loss: 0.7039 - val_accuracy: 0.7343\n"
     ]
    },
    {
     "name": "stderr",
     "output_type": "stream",
     "text": [
      "WARNING:absl:Found untraced functions such as lstm_cell_layer_call_fn, lstm_cell_layer_call_and_return_conditional_losses, lstm_cell_1_layer_call_fn, lstm_cell_1_layer_call_and_return_conditional_losses, lstm_cell_layer_call_fn while saving (showing 5 of 10). These functions will not be directly callable after loading.\n"
     ]
    },
    {
     "name": "stdout",
     "output_type": "stream",
     "text": [
      "INFO:tensorflow:Assets written to: /aiffel/aiffel/workspace/16_dlthon_1/fasttext_lstm/wandb/run-20240627_004116-exskuqkn/files/model-best/assets\n"
     ]
    },
    {
     "name": "stderr",
     "output_type": "stream",
     "text": [
      "INFO:tensorflow:Assets written to: /aiffel/aiffel/workspace/16_dlthon_1/fasttext_lstm/wandb/run-20240627_004116-exskuqkn/files/model-best/assets\n",
      "\u001b[34m\u001b[1mwandb\u001b[0m: Adding directory to artifact (/aiffel/aiffel/workspace/16_dlthon_1/fasttext_lstm/wandb/run-20240627_004116-exskuqkn/files/model-best)... Done. 0.0s\n"
     ]
    },
    {
     "name": "stdout",
     "output_type": "stream",
     "text": [
      "Epoch 6/50\n",
      "248/248 [==============================] - 1s 5ms/step - loss: 0.7471 - accuracy: 0.7216 - val_loss: 0.7010 - val_accuracy: 0.7288\n"
     ]
    },
    {
     "name": "stderr",
     "output_type": "stream",
     "text": [
      "WARNING:absl:Found untraced functions such as lstm_cell_layer_call_fn, lstm_cell_layer_call_and_return_conditional_losses, lstm_cell_1_layer_call_fn, lstm_cell_1_layer_call_and_return_conditional_losses, lstm_cell_layer_call_fn while saving (showing 5 of 10). These functions will not be directly callable after loading.\n"
     ]
    },
    {
     "name": "stdout",
     "output_type": "stream",
     "text": [
      "INFO:tensorflow:Assets written to: /aiffel/aiffel/workspace/16_dlthon_1/fasttext_lstm/wandb/run-20240627_004116-exskuqkn/files/model-best/assets\n"
     ]
    },
    {
     "name": "stderr",
     "output_type": "stream",
     "text": [
      "INFO:tensorflow:Assets written to: /aiffel/aiffel/workspace/16_dlthon_1/fasttext_lstm/wandb/run-20240627_004116-exskuqkn/files/model-best/assets\n",
      "\u001b[34m\u001b[1mwandb\u001b[0m: Adding directory to artifact (/aiffel/aiffel/workspace/16_dlthon_1/fasttext_lstm/wandb/run-20240627_004116-exskuqkn/files/model-best)... Done. 0.0s\n"
     ]
    },
    {
     "name": "stdout",
     "output_type": "stream",
     "text": [
      "Epoch 7/50\n",
      "248/248 [==============================] - 1s 5ms/step - loss: 0.7171 - accuracy: 0.7342 - val_loss: 0.7473 - val_accuracy: 0.7126\n",
      "Epoch 8/50\n",
      "248/248 [==============================] - 1s 5ms/step - loss: 0.7179 - accuracy: 0.7324 - val_loss: 0.6851 - val_accuracy: 0.7424\n"
     ]
    },
    {
     "name": "stderr",
     "output_type": "stream",
     "text": [
      "WARNING:absl:Found untraced functions such as lstm_cell_layer_call_fn, lstm_cell_layer_call_and_return_conditional_losses, lstm_cell_1_layer_call_fn, lstm_cell_1_layer_call_and_return_conditional_losses, lstm_cell_layer_call_fn while saving (showing 5 of 10). These functions will not be directly callable after loading.\n"
     ]
    },
    {
     "name": "stdout",
     "output_type": "stream",
     "text": [
      "INFO:tensorflow:Assets written to: /aiffel/aiffel/workspace/16_dlthon_1/fasttext_lstm/wandb/run-20240627_004116-exskuqkn/files/model-best/assets\n"
     ]
    },
    {
     "name": "stderr",
     "output_type": "stream",
     "text": [
      "INFO:tensorflow:Assets written to: /aiffel/aiffel/workspace/16_dlthon_1/fasttext_lstm/wandb/run-20240627_004116-exskuqkn/files/model-best/assets\n",
      "\u001b[34m\u001b[1mwandb\u001b[0m: Adding directory to artifact (/aiffel/aiffel/workspace/16_dlthon_1/fasttext_lstm/wandb/run-20240627_004116-exskuqkn/files/model-best)... Done. 0.0s\n"
     ]
    },
    {
     "name": "stdout",
     "output_type": "stream",
     "text": [
      "Epoch 9/50\n",
      "248/248 [==============================] - 1s 5ms/step - loss: 0.6951 - accuracy: 0.7443 - val_loss: 0.6764 - val_accuracy: 0.7384\n"
     ]
    },
    {
     "name": "stderr",
     "output_type": "stream",
     "text": [
      "WARNING:absl:Found untraced functions such as lstm_cell_layer_call_fn, lstm_cell_layer_call_and_return_conditional_losses, lstm_cell_1_layer_call_fn, lstm_cell_1_layer_call_and_return_conditional_losses, lstm_cell_layer_call_fn while saving (showing 5 of 10). These functions will not be directly callable after loading.\n"
     ]
    },
    {
     "name": "stdout",
     "output_type": "stream",
     "text": [
      "INFO:tensorflow:Assets written to: /aiffel/aiffel/workspace/16_dlthon_1/fasttext_lstm/wandb/run-20240627_004116-exskuqkn/files/model-best/assets\n"
     ]
    },
    {
     "name": "stderr",
     "output_type": "stream",
     "text": [
      "INFO:tensorflow:Assets written to: /aiffel/aiffel/workspace/16_dlthon_1/fasttext_lstm/wandb/run-20240627_004116-exskuqkn/files/model-best/assets\n",
      "\u001b[34m\u001b[1mwandb\u001b[0m: Adding directory to artifact (/aiffel/aiffel/workspace/16_dlthon_1/fasttext_lstm/wandb/run-20240627_004116-exskuqkn/files/model-best)... Done. 0.0s\n"
     ]
    },
    {
     "name": "stdout",
     "output_type": "stream",
     "text": [
      "Epoch 10/50\n",
      "248/248 [==============================] - 1s 5ms/step - loss: 0.7004 - accuracy: 0.7424 - val_loss: 0.6663 - val_accuracy: 0.7409\n"
     ]
    },
    {
     "name": "stderr",
     "output_type": "stream",
     "text": [
      "WARNING:absl:Found untraced functions such as lstm_cell_layer_call_fn, lstm_cell_layer_call_and_return_conditional_losses, lstm_cell_1_layer_call_fn, lstm_cell_1_layer_call_and_return_conditional_losses, lstm_cell_layer_call_fn while saving (showing 5 of 10). These functions will not be directly callable after loading.\n"
     ]
    },
    {
     "name": "stdout",
     "output_type": "stream",
     "text": [
      "INFO:tensorflow:Assets written to: /aiffel/aiffel/workspace/16_dlthon_1/fasttext_lstm/wandb/run-20240627_004116-exskuqkn/files/model-best/assets\n"
     ]
    },
    {
     "name": "stderr",
     "output_type": "stream",
     "text": [
      "INFO:tensorflow:Assets written to: /aiffel/aiffel/workspace/16_dlthon_1/fasttext_lstm/wandb/run-20240627_004116-exskuqkn/files/model-best/assets\n",
      "\u001b[34m\u001b[1mwandb\u001b[0m: Adding directory to artifact (/aiffel/aiffel/workspace/16_dlthon_1/fasttext_lstm/wandb/run-20240627_004116-exskuqkn/files/model-best)... Done. 0.0s\n"
     ]
    },
    {
     "name": "stdout",
     "output_type": "stream",
     "text": [
      "Epoch 11/50\n",
      "248/248 [==============================] - 1s 5ms/step - loss: 0.6928 - accuracy: 0.7419 - val_loss: 0.6754 - val_accuracy: 0.7429\n",
      "Epoch 12/50\n",
      "248/248 [==============================] - 1s 5ms/step - loss: 0.6922 - accuracy: 0.7439 - val_loss: 0.6815 - val_accuracy: 0.7424\n",
      "Epoch 13/50\n",
      "248/248 [==============================] - 1s 5ms/step - loss: 0.6854 - accuracy: 0.7475 - val_loss: 0.6534 - val_accuracy: 0.7485\n"
     ]
    },
    {
     "name": "stderr",
     "output_type": "stream",
     "text": [
      "WARNING:absl:Found untraced functions such as lstm_cell_layer_call_fn, lstm_cell_layer_call_and_return_conditional_losses, lstm_cell_1_layer_call_fn, lstm_cell_1_layer_call_and_return_conditional_losses, lstm_cell_layer_call_fn while saving (showing 5 of 10). These functions will not be directly callable after loading.\n"
     ]
    },
    {
     "name": "stdout",
     "output_type": "stream",
     "text": [
      "INFO:tensorflow:Assets written to: /aiffel/aiffel/workspace/16_dlthon_1/fasttext_lstm/wandb/run-20240627_004116-exskuqkn/files/model-best/assets\n"
     ]
    },
    {
     "name": "stderr",
     "output_type": "stream",
     "text": [
      "INFO:tensorflow:Assets written to: /aiffel/aiffel/workspace/16_dlthon_1/fasttext_lstm/wandb/run-20240627_004116-exskuqkn/files/model-best/assets\n",
      "\u001b[34m\u001b[1mwandb\u001b[0m: Adding directory to artifact (/aiffel/aiffel/workspace/16_dlthon_1/fasttext_lstm/wandb/run-20240627_004116-exskuqkn/files/model-best)... Done. 0.0s\n"
     ]
    },
    {
     "name": "stdout",
     "output_type": "stream",
     "text": [
      "Epoch 14/50\n",
      "248/248 [==============================] - 1s 5ms/step - loss: 0.6854 - accuracy: 0.7494 - val_loss: 0.6840 - val_accuracy: 0.7333\n",
      "Epoch 15/50\n",
      "248/248 [==============================] - 1s 5ms/step - loss: 0.6742 - accuracy: 0.7515 - val_loss: 0.6627 - val_accuracy: 0.7495\n",
      "Epoch 16/50\n",
      "248/248 [==============================] - 1s 5ms/step - loss: 0.6704 - accuracy: 0.7563 - val_loss: 0.6732 - val_accuracy: 0.7419\n",
      "Epoch 17/50\n",
      "248/248 [==============================] - 1s 5ms/step - loss: 0.6536 - accuracy: 0.7652 - val_loss: 0.6512 - val_accuracy: 0.7515\n"
     ]
    },
    {
     "name": "stderr",
     "output_type": "stream",
     "text": [
      "WARNING:absl:Found untraced functions such as lstm_cell_layer_call_fn, lstm_cell_layer_call_and_return_conditional_losses, lstm_cell_1_layer_call_fn, lstm_cell_1_layer_call_and_return_conditional_losses, lstm_cell_layer_call_fn while saving (showing 5 of 10). These functions will not be directly callable after loading.\n"
     ]
    },
    {
     "name": "stdout",
     "output_type": "stream",
     "text": [
      "INFO:tensorflow:Assets written to: /aiffel/aiffel/workspace/16_dlthon_1/fasttext_lstm/wandb/run-20240627_004116-exskuqkn/files/model-best/assets\n"
     ]
    },
    {
     "name": "stderr",
     "output_type": "stream",
     "text": [
      "INFO:tensorflow:Assets written to: /aiffel/aiffel/workspace/16_dlthon_1/fasttext_lstm/wandb/run-20240627_004116-exskuqkn/files/model-best/assets\n",
      "\u001b[34m\u001b[1mwandb\u001b[0m: Adding directory to artifact (/aiffel/aiffel/workspace/16_dlthon_1/fasttext_lstm/wandb/run-20240627_004116-exskuqkn/files/model-best)... Done. 0.0s\n"
     ]
    },
    {
     "name": "stdout",
     "output_type": "stream",
     "text": [
      "Epoch 18/50\n",
      "248/248 [==============================] - 1s 5ms/step - loss: 0.6602 - accuracy: 0.7590 - val_loss: 0.6622 - val_accuracy: 0.7460\n",
      "Epoch 19/50\n",
      "248/248 [==============================] - 1s 5ms/step - loss: 0.6556 - accuracy: 0.7569 - val_loss: 0.6700 - val_accuracy: 0.7566\n",
      "Epoch 20/50\n",
      "248/248 [==============================] - 1s 5ms/step - loss: 0.6505 - accuracy: 0.7624 - val_loss: 0.6637 - val_accuracy: 0.7449\n",
      "Epoch 21/50\n",
      "248/248 [==============================] - 1s 5ms/step - loss: 0.6605 - accuracy: 0.7564 - val_loss: 0.6419 - val_accuracy: 0.7596\n"
     ]
    },
    {
     "name": "stderr",
     "output_type": "stream",
     "text": [
      "WARNING:absl:Found untraced functions such as lstm_cell_layer_call_fn, lstm_cell_layer_call_and_return_conditional_losses, lstm_cell_1_layer_call_fn, lstm_cell_1_layer_call_and_return_conditional_losses, lstm_cell_layer_call_fn while saving (showing 5 of 10). These functions will not be directly callable after loading.\n"
     ]
    },
    {
     "name": "stdout",
     "output_type": "stream",
     "text": [
      "INFO:tensorflow:Assets written to: /aiffel/aiffel/workspace/16_dlthon_1/fasttext_lstm/wandb/run-20240627_004116-exskuqkn/files/model-best/assets\n"
     ]
    },
    {
     "name": "stderr",
     "output_type": "stream",
     "text": [
      "INFO:tensorflow:Assets written to: /aiffel/aiffel/workspace/16_dlthon_1/fasttext_lstm/wandb/run-20240627_004116-exskuqkn/files/model-best/assets\n",
      "\u001b[34m\u001b[1mwandb\u001b[0m: Adding directory to artifact (/aiffel/aiffel/workspace/16_dlthon_1/fasttext_lstm/wandb/run-20240627_004116-exskuqkn/files/model-best)... Done. 0.0s\n"
     ]
    },
    {
     "name": "stdout",
     "output_type": "stream",
     "text": [
      "Epoch 22/50\n",
      "248/248 [==============================] - 1s 5ms/step - loss: 0.6530 - accuracy: 0.7650 - val_loss: 0.6670 - val_accuracy: 0.7530\n",
      "Epoch 23/50\n",
      "248/248 [==============================] - 1s 5ms/step - loss: 0.6332 - accuracy: 0.7654 - val_loss: 0.6354 - val_accuracy: 0.7556\n"
     ]
    },
    {
     "name": "stderr",
     "output_type": "stream",
     "text": [
      "WARNING:absl:Found untraced functions such as lstm_cell_layer_call_fn, lstm_cell_layer_call_and_return_conditional_losses, lstm_cell_1_layer_call_fn, lstm_cell_1_layer_call_and_return_conditional_losses, lstm_cell_layer_call_fn while saving (showing 5 of 10). These functions will not be directly callable after loading.\n"
     ]
    },
    {
     "name": "stdout",
     "output_type": "stream",
     "text": [
      "INFO:tensorflow:Assets written to: /aiffel/aiffel/workspace/16_dlthon_1/fasttext_lstm/wandb/run-20240627_004116-exskuqkn/files/model-best/assets\n"
     ]
    },
    {
     "name": "stderr",
     "output_type": "stream",
     "text": [
      "INFO:tensorflow:Assets written to: /aiffel/aiffel/workspace/16_dlthon_1/fasttext_lstm/wandb/run-20240627_004116-exskuqkn/files/model-best/assets\n",
      "\u001b[34m\u001b[1mwandb\u001b[0m: Adding directory to artifact (/aiffel/aiffel/workspace/16_dlthon_1/fasttext_lstm/wandb/run-20240627_004116-exskuqkn/files/model-best)... Done. 0.0s\n"
     ]
    },
    {
     "name": "stdout",
     "output_type": "stream",
     "text": [
      "Epoch 24/50\n",
      "248/248 [==============================] - 1s 5ms/step - loss: 0.6367 - accuracy: 0.7706 - val_loss: 0.6403 - val_accuracy: 0.7601\n",
      "Epoch 25/50\n",
      "248/248 [==============================] - 1s 5ms/step - loss: 0.6451 - accuracy: 0.7644 - val_loss: 0.6452 - val_accuracy: 0.7525\n",
      "Epoch 26/50\n",
      "248/248 [==============================] - 1s 5ms/step - loss: 0.6354 - accuracy: 0.7670 - val_loss: 0.6488 - val_accuracy: 0.7530\n",
      "Epoch 27/50\n",
      "248/248 [==============================] - 1s 5ms/step - loss: 0.6374 - accuracy: 0.7639 - val_loss: 0.6487 - val_accuracy: 0.7475\n",
      "Epoch 28/50\n",
      "248/248 [==============================] - 1s 5ms/step - loss: 0.6262 - accuracy: 0.7713 - val_loss: 0.6777 - val_accuracy: 0.7515\n",
      "Epoch 00028: early stopping\n"
     ]
    },
    {
     "data": {
      "application/vnd.jupyter.widget-view+json": {
       "model_id": "",
       "version_major": 2,
       "version_minor": 0
      },
      "text/plain": [
       "VBox(children=(Label(value='28.736 MB of 28.736 MB uploaded (0.167 MB deduped)\\r'), FloatProgress(value=1.0, m…"
      ]
     },
     "metadata": {},
     "output_type": "display_data"
    },
    {
     "data": {
      "text/html": [
       "<style>\n",
       "    table.wandb td:nth-child(1) { padding: 0 10px; text-align: left ; width: auto;} td:nth-child(2) {text-align: left ; width: 100%}\n",
       "    .wandb-row { display: flex; flex-direction: row; flex-wrap: wrap; justify-content: flex-start; width: 100% }\n",
       "    .wandb-col { display: flex; flex-direction: column; flex-basis: 100%; flex: 1; padding: 10px; }\n",
       "    </style>\n",
       "<div class=\"wandb-row\"><div class=\"wandb-col\"><h3>Run history:</h3><br/><table class=\"wandb\"><tr><td>Validation Accuracy Rate: </td><td>▁</td></tr><tr><td>Validation Error Rate: </td><td>▁</td></tr><tr><td>accuracy</td><td>▁▅▆▇▇▇▇▇▇▇▇▇████████████████</td></tr><tr><td>epoch</td><td>▁▁▂▂▂▂▃▃▃▃▄▄▄▄▅▅▅▅▆▆▆▆▇▇▇▇██</td></tr><tr><td>loss</td><td>█▄▃▃▂▂▂▂▂▂▂▂▂▂▁▁▁▁▁▁▁▁▁▁▁▁▁▁</td></tr><tr><td>val_accuracy</td><td>▁▂▃▅▇▆▅▇▇▇▇▇▇▇▇▇█▇█▇██████▇█</td></tr><tr><td>val_loss</td><td>█▆▆▃▂▂▃▂▂▂▂▂▁▂▂▂▁▂▂▂▁▂▁▁▁▁▁▂</td></tr></table><br/></div><div class=\"wandb-col\"><h3>Run summary:</h3><br/><table class=\"wandb\"><tr><td>Validation Accuracy Rate: </td><td>75.15</td></tr><tr><td>Validation Error Rate: </td><td>24.85</td></tr><tr><td>accuracy</td><td>0.77134</td></tr><tr><td>best_epoch</td><td>22</td></tr><tr><td>best_val_loss</td><td>0.63536</td></tr><tr><td>epoch</td><td>27</td></tr><tr><td>loss</td><td>0.62616</td></tr><tr><td>val_accuracy</td><td>0.75152</td></tr><tr><td>val_loss</td><td>0.6777</td></tr></table><br/></div></div>"
      ],
      "text/plain": [
       "<IPython.core.display.HTML object>"
      ]
     },
     "metadata": {},
     "output_type": "display_data"
    },
    {
     "data": {
      "text/html": [
       " View run <strong style=\"color:#cdcd00\">glowing-sweep-5</strong> at: <a href='https://wandb.ai/devdchyeon/DLTHON/runs/exskuqkn' target=\"_blank\">https://wandb.ai/devdchyeon/DLTHON/runs/exskuqkn</a><br/>Synced 5 W&B file(s), 1 media file(s), 52 artifact file(s) and 1 other file(s)"
      ],
      "text/plain": [
       "<IPython.core.display.HTML object>"
      ]
     },
     "metadata": {},
     "output_type": "display_data"
    },
    {
     "data": {
      "text/html": [
       "Find logs at: <code>./wandb/run-20240627_004116-exskuqkn/logs</code>"
      ],
      "text/plain": [
       "<IPython.core.display.HTML object>"
      ]
     },
     "metadata": {},
     "output_type": "display_data"
    },
    {
     "name": "stderr",
     "output_type": "stream",
     "text": [
      "\u001b[34m\u001b[1mwandb\u001b[0m: Agent Starting Run: 00p5qyne with config:\n",
      "\u001b[34m\u001b[1mwandb\u001b[0m: \tbatch_size: 32\n",
      "\u001b[34m\u001b[1mwandb\u001b[0m: \tdropout_rate: 0.2\n",
      "\u001b[34m\u001b[1mwandb\u001b[0m: \tlearning_rate: 0.003\n",
      "\u001b[34m\u001b[1mwandb\u001b[0m: \tunits: 32\n"
     ]
    },
    {
     "data": {
      "text/html": [
       "wandb version 0.17.3 is available!  To upgrade, please run:\n",
       " $ pip install wandb --upgrade"
      ],
      "text/plain": [
       "<IPython.core.display.HTML object>"
      ]
     },
     "metadata": {},
     "output_type": "display_data"
    },
    {
     "data": {
      "text/html": [
       "Tracking run with wandb version 0.16.0"
      ],
      "text/plain": [
       "<IPython.core.display.HTML object>"
      ]
     },
     "metadata": {},
     "output_type": "display_data"
    },
    {
     "data": {
      "text/html": [
       "Run data is saved locally in <code>/aiffel/aiffel/workspace/16_dlthon_1/fasttext_lstm/wandb/run-20240627_004352-00p5qyne</code>"
      ],
      "text/plain": [
       "<IPython.core.display.HTML object>"
      ]
     },
     "metadata": {},
     "output_type": "display_data"
    },
    {
     "data": {
      "text/html": [
       "Syncing run <strong><a href='https://wandb.ai/devdchyeon/DLTHON/runs/00p5qyne' target=\"_blank\">young-sweep-6</a></strong> to <a href='https://wandb.ai/devdchyeon/DLTHON' target=\"_blank\">Weights & Biases</a> (<a href='https://wandb.me/run' target=\"_blank\">docs</a>)<br/>Sweep page: <a href='https://wandb.ai/devdchyeon/DLTHON/sweeps/k94x0hcc' target=\"_blank\">https://wandb.ai/devdchyeon/DLTHON/sweeps/k94x0hcc</a>"
      ],
      "text/plain": [
       "<IPython.core.display.HTML object>"
      ]
     },
     "metadata": {},
     "output_type": "display_data"
    },
    {
     "data": {
      "text/html": [
       " View project at <a href='https://wandb.ai/devdchyeon/DLTHON' target=\"_blank\">https://wandb.ai/devdchyeon/DLTHON</a>"
      ],
      "text/plain": [
       "<IPython.core.display.HTML object>"
      ]
     },
     "metadata": {},
     "output_type": "display_data"
    },
    {
     "data": {
      "text/html": [
       " View sweep at <a href='https://wandb.ai/devdchyeon/DLTHON/sweeps/k94x0hcc' target=\"_blank\">https://wandb.ai/devdchyeon/DLTHON/sweeps/k94x0hcc</a>"
      ],
      "text/plain": [
       "<IPython.core.display.HTML object>"
      ]
     },
     "metadata": {},
     "output_type": "display_data"
    },
    {
     "data": {
      "text/html": [
       " View run at <a href='https://wandb.ai/devdchyeon/DLTHON/runs/00p5qyne' target=\"_blank\">https://wandb.ai/devdchyeon/DLTHON/runs/00p5qyne</a>"
      ],
      "text/plain": [
       "<IPython.core.display.HTML object>"
      ]
     },
     "metadata": {},
     "output_type": "display_data"
    },
    {
     "name": "stdout",
     "output_type": "stream",
     "text": [
      "Epoch 1/50\n",
      "248/248 [==============================] - 4s 7ms/step - loss: 1.3497 - accuracy: 0.4061 - val_loss: 0.9821 - val_accuracy: 0.6015\n"
     ]
    },
    {
     "name": "stderr",
     "output_type": "stream",
     "text": [
      "WARNING:absl:Found untraced functions such as lstm_cell_layer_call_fn, lstm_cell_layer_call_and_return_conditional_losses, lstm_cell_1_layer_call_fn, lstm_cell_1_layer_call_and_return_conditional_losses, lstm_cell_layer_call_fn while saving (showing 5 of 10). These functions will not be directly callable after loading.\n"
     ]
    },
    {
     "name": "stdout",
     "output_type": "stream",
     "text": [
      "INFO:tensorflow:Assets written to: /aiffel/aiffel/workspace/16_dlthon_1/fasttext_lstm/wandb/run-20240627_004352-00p5qyne/files/model-best/assets\n"
     ]
    },
    {
     "name": "stderr",
     "output_type": "stream",
     "text": [
      "INFO:tensorflow:Assets written to: /aiffel/aiffel/workspace/16_dlthon_1/fasttext_lstm/wandb/run-20240627_004352-00p5qyne/files/model-best/assets\n",
      "\u001b[34m\u001b[1mwandb\u001b[0m: Adding directory to artifact (/aiffel/aiffel/workspace/16_dlthon_1/fasttext_lstm/wandb/run-20240627_004352-00p5qyne/files/model-best)... Done. 0.0s\n"
     ]
    },
    {
     "name": "stdout",
     "output_type": "stream",
     "text": [
      "Epoch 2/50\n",
      "248/248 [==============================] - 1s 5ms/step - loss: 0.9319 - accuracy: 0.6437 - val_loss: 0.8401 - val_accuracy: 0.6737\n"
     ]
    },
    {
     "name": "stderr",
     "output_type": "stream",
     "text": [
      "WARNING:absl:Found untraced functions such as lstm_cell_layer_call_fn, lstm_cell_layer_call_and_return_conditional_losses, lstm_cell_1_layer_call_fn, lstm_cell_1_layer_call_and_return_conditional_losses, lstm_cell_layer_call_fn while saving (showing 5 of 10). These functions will not be directly callable after loading.\n"
     ]
    },
    {
     "name": "stdout",
     "output_type": "stream",
     "text": [
      "INFO:tensorflow:Assets written to: /aiffel/aiffel/workspace/16_dlthon_1/fasttext_lstm/wandb/run-20240627_004352-00p5qyne/files/model-best/assets\n"
     ]
    },
    {
     "name": "stderr",
     "output_type": "stream",
     "text": [
      "INFO:tensorflow:Assets written to: /aiffel/aiffel/workspace/16_dlthon_1/fasttext_lstm/wandb/run-20240627_004352-00p5qyne/files/model-best/assets\n",
      "\u001b[34m\u001b[1mwandb\u001b[0m: Adding directory to artifact (/aiffel/aiffel/workspace/16_dlthon_1/fasttext_lstm/wandb/run-20240627_004352-00p5qyne/files/model-best)... Done. 0.0s\n"
     ]
    },
    {
     "name": "stdout",
     "output_type": "stream",
     "text": [
      "Epoch 3/50\n",
      "248/248 [==============================] - 1s 5ms/step - loss: 0.8383 - accuracy: 0.6923 - val_loss: 0.7628 - val_accuracy: 0.7101\n"
     ]
    },
    {
     "name": "stderr",
     "output_type": "stream",
     "text": [
      "WARNING:absl:Found untraced functions such as lstm_cell_layer_call_fn, lstm_cell_layer_call_and_return_conditional_losses, lstm_cell_1_layer_call_fn, lstm_cell_1_layer_call_and_return_conditional_losses, lstm_cell_layer_call_fn while saving (showing 5 of 10). These functions will not be directly callable after loading.\n"
     ]
    },
    {
     "name": "stdout",
     "output_type": "stream",
     "text": [
      "INFO:tensorflow:Assets written to: /aiffel/aiffel/workspace/16_dlthon_1/fasttext_lstm/wandb/run-20240627_004352-00p5qyne/files/model-best/assets\n"
     ]
    },
    {
     "name": "stderr",
     "output_type": "stream",
     "text": [
      "INFO:tensorflow:Assets written to: /aiffel/aiffel/workspace/16_dlthon_1/fasttext_lstm/wandb/run-20240627_004352-00p5qyne/files/model-best/assets\n",
      "\u001b[34m\u001b[1mwandb\u001b[0m: Adding directory to artifact (/aiffel/aiffel/workspace/16_dlthon_1/fasttext_lstm/wandb/run-20240627_004352-00p5qyne/files/model-best)... Done. 0.0s\n"
     ]
    },
    {
     "name": "stdout",
     "output_type": "stream",
     "text": [
      "Epoch 4/50\n",
      "248/248 [==============================] - 1s 5ms/step - loss: 0.7935 - accuracy: 0.7042 - val_loss: 0.7342 - val_accuracy: 0.7172\n"
     ]
    },
    {
     "name": "stderr",
     "output_type": "stream",
     "text": [
      "WARNING:absl:Found untraced functions such as lstm_cell_layer_call_fn, lstm_cell_layer_call_and_return_conditional_losses, lstm_cell_1_layer_call_fn, lstm_cell_1_layer_call_and_return_conditional_losses, lstm_cell_layer_call_fn while saving (showing 5 of 10). These functions will not be directly callable after loading.\n"
     ]
    },
    {
     "name": "stdout",
     "output_type": "stream",
     "text": [
      "INFO:tensorflow:Assets written to: /aiffel/aiffel/workspace/16_dlthon_1/fasttext_lstm/wandb/run-20240627_004352-00p5qyne/files/model-best/assets\n"
     ]
    },
    {
     "name": "stderr",
     "output_type": "stream",
     "text": [
      "INFO:tensorflow:Assets written to: /aiffel/aiffel/workspace/16_dlthon_1/fasttext_lstm/wandb/run-20240627_004352-00p5qyne/files/model-best/assets\n",
      "\u001b[34m\u001b[1mwandb\u001b[0m: Adding directory to artifact (/aiffel/aiffel/workspace/16_dlthon_1/fasttext_lstm/wandb/run-20240627_004352-00p5qyne/files/model-best)... Done. 0.0s\n"
     ]
    },
    {
     "name": "stdout",
     "output_type": "stream",
     "text": [
      "Epoch 5/50\n",
      "248/248 [==============================] - 1s 5ms/step - loss: 0.7557 - accuracy: 0.7230 - val_loss: 0.7037 - val_accuracy: 0.7288\n"
     ]
    },
    {
     "name": "stderr",
     "output_type": "stream",
     "text": [
      "WARNING:absl:Found untraced functions such as lstm_cell_layer_call_fn, lstm_cell_layer_call_and_return_conditional_losses, lstm_cell_1_layer_call_fn, lstm_cell_1_layer_call_and_return_conditional_losses, lstm_cell_layer_call_fn while saving (showing 5 of 10). These functions will not be directly callable after loading.\n"
     ]
    },
    {
     "name": "stdout",
     "output_type": "stream",
     "text": [
      "INFO:tensorflow:Assets written to: /aiffel/aiffel/workspace/16_dlthon_1/fasttext_lstm/wandb/run-20240627_004352-00p5qyne/files/model-best/assets\n"
     ]
    },
    {
     "name": "stderr",
     "output_type": "stream",
     "text": [
      "INFO:tensorflow:Assets written to: /aiffel/aiffel/workspace/16_dlthon_1/fasttext_lstm/wandb/run-20240627_004352-00p5qyne/files/model-best/assets\n",
      "\u001b[34m\u001b[1mwandb\u001b[0m: Adding directory to artifact (/aiffel/aiffel/workspace/16_dlthon_1/fasttext_lstm/wandb/run-20240627_004352-00p5qyne/files/model-best)... Done. 0.0s\n"
     ]
    },
    {
     "name": "stdout",
     "output_type": "stream",
     "text": [
      "Epoch 6/50\n",
      "248/248 [==============================] - 1s 5ms/step - loss: 0.7321 - accuracy: 0.7307 - val_loss: 0.7052 - val_accuracy: 0.7308\n",
      "Epoch 7/50\n",
      "248/248 [==============================] - 1s 5ms/step - loss: 0.7207 - accuracy: 0.7362 - val_loss: 0.6774 - val_accuracy: 0.7419\n"
     ]
    },
    {
     "name": "stderr",
     "output_type": "stream",
     "text": [
      "WARNING:absl:Found untraced functions such as lstm_cell_layer_call_fn, lstm_cell_layer_call_and_return_conditional_losses, lstm_cell_1_layer_call_fn, lstm_cell_1_layer_call_and_return_conditional_losses, lstm_cell_layer_call_fn while saving (showing 5 of 10). These functions will not be directly callable after loading.\n"
     ]
    },
    {
     "name": "stdout",
     "output_type": "stream",
     "text": [
      "INFO:tensorflow:Assets written to: /aiffel/aiffel/workspace/16_dlthon_1/fasttext_lstm/wandb/run-20240627_004352-00p5qyne/files/model-best/assets\n"
     ]
    },
    {
     "name": "stderr",
     "output_type": "stream",
     "text": [
      "INFO:tensorflow:Assets written to: /aiffel/aiffel/workspace/16_dlthon_1/fasttext_lstm/wandb/run-20240627_004352-00p5qyne/files/model-best/assets\n",
      "\u001b[34m\u001b[1mwandb\u001b[0m: Adding directory to artifact (/aiffel/aiffel/workspace/16_dlthon_1/fasttext_lstm/wandb/run-20240627_004352-00p5qyne/files/model-best)... Done. 0.0s\n"
     ]
    },
    {
     "name": "stdout",
     "output_type": "stream",
     "text": [
      "Epoch 8/50\n",
      "248/248 [==============================] - 1s 5ms/step - loss: 0.7135 - accuracy: 0.7398 - val_loss: 0.6815 - val_accuracy: 0.7379\n",
      "Epoch 9/50\n",
      "248/248 [==============================] - 1s 5ms/step - loss: 0.7109 - accuracy: 0.7414 - val_loss: 0.6821 - val_accuracy: 0.7374\n",
      "Epoch 10/50\n",
      "248/248 [==============================] - 1s 5ms/step - loss: 0.7032 - accuracy: 0.7417 - val_loss: 0.7721 - val_accuracy: 0.7030\n",
      "Epoch 11/50\n",
      "248/248 [==============================] - 1s 5ms/step - loss: 0.7059 - accuracy: 0.7415 - val_loss: 0.6882 - val_accuracy: 0.7409\n",
      "Epoch 12/50\n",
      "248/248 [==============================] - 1s 5ms/step - loss: 0.6815 - accuracy: 0.7484 - val_loss: 0.6621 - val_accuracy: 0.7460\n"
     ]
    },
    {
     "name": "stderr",
     "output_type": "stream",
     "text": [
      "WARNING:absl:Found untraced functions such as lstm_cell_layer_call_fn, lstm_cell_layer_call_and_return_conditional_losses, lstm_cell_1_layer_call_fn, lstm_cell_1_layer_call_and_return_conditional_losses, lstm_cell_layer_call_fn while saving (showing 5 of 10). These functions will not be directly callable after loading.\n"
     ]
    },
    {
     "name": "stdout",
     "output_type": "stream",
     "text": [
      "INFO:tensorflow:Assets written to: /aiffel/aiffel/workspace/16_dlthon_1/fasttext_lstm/wandb/run-20240627_004352-00p5qyne/files/model-best/assets\n"
     ]
    },
    {
     "name": "stderr",
     "output_type": "stream",
     "text": [
      "INFO:tensorflow:Assets written to: /aiffel/aiffel/workspace/16_dlthon_1/fasttext_lstm/wandb/run-20240627_004352-00p5qyne/files/model-best/assets\n",
      "\u001b[34m\u001b[1mwandb\u001b[0m: Adding directory to artifact (/aiffel/aiffel/workspace/16_dlthon_1/fasttext_lstm/wandb/run-20240627_004352-00p5qyne/files/model-best)... Done. 0.0s\n"
     ]
    },
    {
     "name": "stdout",
     "output_type": "stream",
     "text": [
      "Epoch 13/50\n",
      "248/248 [==============================] - 1s 5ms/step - loss: 0.6808 - accuracy: 0.7520 - val_loss: 0.7215 - val_accuracy: 0.7268\n",
      "Epoch 14/50\n",
      "248/248 [==============================] - 1s 5ms/step - loss: 0.6715 - accuracy: 0.7563 - val_loss: 0.6584 - val_accuracy: 0.7500\n"
     ]
    },
    {
     "name": "stderr",
     "output_type": "stream",
     "text": [
      "WARNING:absl:Found untraced functions such as lstm_cell_layer_call_fn, lstm_cell_layer_call_and_return_conditional_losses, lstm_cell_1_layer_call_fn, lstm_cell_1_layer_call_and_return_conditional_losses, lstm_cell_layer_call_fn while saving (showing 5 of 10). These functions will not be directly callable after loading.\n"
     ]
    },
    {
     "name": "stdout",
     "output_type": "stream",
     "text": [
      "INFO:tensorflow:Assets written to: /aiffel/aiffel/workspace/16_dlthon_1/fasttext_lstm/wandb/run-20240627_004352-00p5qyne/files/model-best/assets\n"
     ]
    },
    {
     "name": "stderr",
     "output_type": "stream",
     "text": [
      "INFO:tensorflow:Assets written to: /aiffel/aiffel/workspace/16_dlthon_1/fasttext_lstm/wandb/run-20240627_004352-00p5qyne/files/model-best/assets\n",
      "\u001b[34m\u001b[1mwandb\u001b[0m: Adding directory to artifact (/aiffel/aiffel/workspace/16_dlthon_1/fasttext_lstm/wandb/run-20240627_004352-00p5qyne/files/model-best)... Done. 0.0s\n"
     ]
    },
    {
     "name": "stdout",
     "output_type": "stream",
     "text": [
      "Epoch 15/50\n",
      "248/248 [==============================] - 1s 5ms/step - loss: 0.6664 - accuracy: 0.7558 - val_loss: 0.6571 - val_accuracy: 0.7500\n"
     ]
    },
    {
     "name": "stderr",
     "output_type": "stream",
     "text": [
      "WARNING:absl:Found untraced functions such as lstm_cell_layer_call_fn, lstm_cell_layer_call_and_return_conditional_losses, lstm_cell_1_layer_call_fn, lstm_cell_1_layer_call_and_return_conditional_losses, lstm_cell_layer_call_fn while saving (showing 5 of 10). These functions will not be directly callable after loading.\n"
     ]
    },
    {
     "name": "stdout",
     "output_type": "stream",
     "text": [
      "INFO:tensorflow:Assets written to: /aiffel/aiffel/workspace/16_dlthon_1/fasttext_lstm/wandb/run-20240627_004352-00p5qyne/files/model-best/assets\n"
     ]
    },
    {
     "name": "stderr",
     "output_type": "stream",
     "text": [
      "INFO:tensorflow:Assets written to: /aiffel/aiffel/workspace/16_dlthon_1/fasttext_lstm/wandb/run-20240627_004352-00p5qyne/files/model-best/assets\n",
      "\u001b[34m\u001b[1mwandb\u001b[0m: Adding directory to artifact (/aiffel/aiffel/workspace/16_dlthon_1/fasttext_lstm/wandb/run-20240627_004352-00p5qyne/files/model-best)... Done. 0.0s\n"
     ]
    },
    {
     "name": "stdout",
     "output_type": "stream",
     "text": [
      "Epoch 16/50\n",
      "248/248 [==============================] - 1s 5ms/step - loss: 0.6595 - accuracy: 0.7617 - val_loss: 0.6766 - val_accuracy: 0.7434\n",
      "Epoch 17/50\n",
      "248/248 [==============================] - 1s 5ms/step - loss: 0.6607 - accuracy: 0.7559 - val_loss: 0.7015 - val_accuracy: 0.7434\n",
      "Epoch 18/50\n",
      "248/248 [==============================] - 1s 5ms/step - loss: 0.6602 - accuracy: 0.7590 - val_loss: 0.6535 - val_accuracy: 0.7515\n"
     ]
    },
    {
     "name": "stderr",
     "output_type": "stream",
     "text": [
      "WARNING:absl:Found untraced functions such as lstm_cell_layer_call_fn, lstm_cell_layer_call_and_return_conditional_losses, lstm_cell_1_layer_call_fn, lstm_cell_1_layer_call_and_return_conditional_losses, lstm_cell_layer_call_fn while saving (showing 5 of 10). These functions will not be directly callable after loading.\n"
     ]
    },
    {
     "name": "stdout",
     "output_type": "stream",
     "text": [
      "INFO:tensorflow:Assets written to: /aiffel/aiffel/workspace/16_dlthon_1/fasttext_lstm/wandb/run-20240627_004352-00p5qyne/files/model-best/assets\n"
     ]
    },
    {
     "name": "stderr",
     "output_type": "stream",
     "text": [
      "INFO:tensorflow:Assets written to: /aiffel/aiffel/workspace/16_dlthon_1/fasttext_lstm/wandb/run-20240627_004352-00p5qyne/files/model-best/assets\n",
      "\u001b[34m\u001b[1mwandb\u001b[0m: Adding directory to artifact (/aiffel/aiffel/workspace/16_dlthon_1/fasttext_lstm/wandb/run-20240627_004352-00p5qyne/files/model-best)... Done. 0.0s\n"
     ]
    },
    {
     "name": "stdout",
     "output_type": "stream",
     "text": [
      "Epoch 19/50\n",
      "248/248 [==============================] - 1s 5ms/step - loss: 0.6506 - accuracy: 0.7645 - val_loss: 0.6449 - val_accuracy: 0.7551\n"
     ]
    },
    {
     "name": "stderr",
     "output_type": "stream",
     "text": [
      "WARNING:absl:Found untraced functions such as lstm_cell_layer_call_fn, lstm_cell_layer_call_and_return_conditional_losses, lstm_cell_1_layer_call_fn, lstm_cell_1_layer_call_and_return_conditional_losses, lstm_cell_layer_call_fn while saving (showing 5 of 10). These functions will not be directly callable after loading.\n"
     ]
    },
    {
     "name": "stdout",
     "output_type": "stream",
     "text": [
      "INFO:tensorflow:Assets written to: /aiffel/aiffel/workspace/16_dlthon_1/fasttext_lstm/wandb/run-20240627_004352-00p5qyne/files/model-best/assets\n"
     ]
    },
    {
     "name": "stderr",
     "output_type": "stream",
     "text": [
      "INFO:tensorflow:Assets written to: /aiffel/aiffel/workspace/16_dlthon_1/fasttext_lstm/wandb/run-20240627_004352-00p5qyne/files/model-best/assets\n",
      "\u001b[34m\u001b[1mwandb\u001b[0m: Adding directory to artifact (/aiffel/aiffel/workspace/16_dlthon_1/fasttext_lstm/wandb/run-20240627_004352-00p5qyne/files/model-best)... Done. 0.0s\n"
     ]
    },
    {
     "name": "stdout",
     "output_type": "stream",
     "text": [
      "Epoch 20/50\n",
      "248/248 [==============================] - 1s 5ms/step - loss: 0.6481 - accuracy: 0.7638 - val_loss: 0.6418 - val_accuracy: 0.7581\n"
     ]
    },
    {
     "name": "stderr",
     "output_type": "stream",
     "text": [
      "WARNING:absl:Found untraced functions such as lstm_cell_layer_call_fn, lstm_cell_layer_call_and_return_conditional_losses, lstm_cell_1_layer_call_fn, lstm_cell_1_layer_call_and_return_conditional_losses, lstm_cell_layer_call_fn while saving (showing 5 of 10). These functions will not be directly callable after loading.\n"
     ]
    },
    {
     "name": "stdout",
     "output_type": "stream",
     "text": [
      "INFO:tensorflow:Assets written to: /aiffel/aiffel/workspace/16_dlthon_1/fasttext_lstm/wandb/run-20240627_004352-00p5qyne/files/model-best/assets\n"
     ]
    },
    {
     "name": "stderr",
     "output_type": "stream",
     "text": [
      "INFO:tensorflow:Assets written to: /aiffel/aiffel/workspace/16_dlthon_1/fasttext_lstm/wandb/run-20240627_004352-00p5qyne/files/model-best/assets\n",
      "\u001b[34m\u001b[1mwandb\u001b[0m: Adding directory to artifact (/aiffel/aiffel/workspace/16_dlthon_1/fasttext_lstm/wandb/run-20240627_004352-00p5qyne/files/model-best)... Done. 0.0s\n"
     ]
    },
    {
     "name": "stdout",
     "output_type": "stream",
     "text": [
      "Epoch 21/50\n",
      "248/248 [==============================] - 1s 5ms/step - loss: 0.6526 - accuracy: 0.7622 - val_loss: 0.6492 - val_accuracy: 0.7500\n",
      "Epoch 22/50\n",
      "248/248 [==============================] - 1s 5ms/step - loss: 0.6355 - accuracy: 0.7664 - val_loss: 0.6508 - val_accuracy: 0.7545\n",
      "Epoch 23/50\n",
      "248/248 [==============================] - 1s 5ms/step - loss: 0.6348 - accuracy: 0.7670 - val_loss: 0.6514 - val_accuracy: 0.7515\n",
      "Epoch 24/50\n",
      "248/248 [==============================] - 1s 5ms/step - loss: 0.6467 - accuracy: 0.7669 - val_loss: 0.6527 - val_accuracy: 0.7515\n",
      "Epoch 25/50\n",
      "248/248 [==============================] - 1s 5ms/step - loss: 0.6235 - accuracy: 0.7712 - val_loss: 0.6864 - val_accuracy: 0.7510\n",
      "Epoch 00025: early stopping\n"
     ]
    },
    {
     "data": {
      "application/vnd.jupyter.widget-view+json": {
       "model_id": "",
       "version_major": 2,
       "version_minor": 0
      },
      "text/plain": [
       "VBox(children=(Label(value='26.574 MB of 26.574 MB uploaded (0.153 MB deduped)\\r'), FloatProgress(value=1.0, m…"
      ]
     },
     "metadata": {},
     "output_type": "display_data"
    },
    {
     "data": {
      "text/html": [
       "<style>\n",
       "    table.wandb td:nth-child(1) { padding: 0 10px; text-align: left ; width: auto;} td:nth-child(2) {text-align: left ; width: 100%}\n",
       "    .wandb-row { display: flex; flex-direction: row; flex-wrap: wrap; justify-content: flex-start; width: 100% }\n",
       "    .wandb-col { display: flex; flex-direction: column; flex-basis: 100%; flex: 1; padding: 10px; }\n",
       "    </style>\n",
       "<div class=\"wandb-row\"><div class=\"wandb-col\"><h3>Run history:</h3><br/><table class=\"wandb\"><tr><td>Validation Accuracy Rate: </td><td>▁</td></tr><tr><td>Validation Error Rate: </td><td>▁</td></tr><tr><td>accuracy</td><td>▁▆▆▇▇▇▇▇▇▇▇██████████████</td></tr><tr><td>epoch</td><td>▁▁▂▂▂▂▃▃▃▄▄▄▅▅▅▅▆▆▆▇▇▇▇██</td></tr><tr><td>loss</td><td>█▄▃▃▂▂▂▂▂▂▂▂▂▁▁▁▁▁▁▁▁▁▁▁▁</td></tr><tr><td>val_accuracy</td><td>▁▄▆▆▇▇▇▇▇▆▇▇▇██▇▇████████</td></tr><tr><td>val_loss</td><td>█▅▃▃▂▂▂▂▂▄▂▁▃▁▁▂▂▁▁▁▁▁▁▁▂</td></tr></table><br/></div><div class=\"wandb-col\"><h3>Run summary:</h3><br/><table class=\"wandb\"><tr><td>Validation Accuracy Rate: </td><td>75.1</td></tr><tr><td>Validation Error Rate: </td><td>24.9</td></tr><tr><td>accuracy</td><td>0.77121</td></tr><tr><td>best_epoch</td><td>19</td></tr><tr><td>best_val_loss</td><td>0.64177</td></tr><tr><td>epoch</td><td>24</td></tr><tr><td>loss</td><td>0.62349</td></tr><tr><td>val_accuracy</td><td>0.75101</td></tr><tr><td>val_loss</td><td>0.68641</td></tr></table><br/></div></div>"
      ],
      "text/plain": [
       "<IPython.core.display.HTML object>"
      ]
     },
     "metadata": {},
     "output_type": "display_data"
    },
    {
     "data": {
      "text/html": [
       " View run <strong style=\"color:#cdcd00\">young-sweep-6</strong> at: <a href='https://wandb.ai/devdchyeon/DLTHON/runs/00p5qyne' target=\"_blank\">https://wandb.ai/devdchyeon/DLTHON/runs/00p5qyne</a><br/>Synced 5 W&B file(s), 1 media file(s), 48 artifact file(s) and 1 other file(s)"
      ],
      "text/plain": [
       "<IPython.core.display.HTML object>"
      ]
     },
     "metadata": {},
     "output_type": "display_data"
    },
    {
     "data": {
      "text/html": [
       "Find logs at: <code>./wandb/run-20240627_004352-00p5qyne/logs</code>"
      ],
      "text/plain": [
       "<IPython.core.display.HTML object>"
      ]
     },
     "metadata": {},
     "output_type": "display_data"
    },
    {
     "name": "stderr",
     "output_type": "stream",
     "text": [
      "\u001b[34m\u001b[1mwandb\u001b[0m: Agent Starting Run: 1el2spey with config:\n",
      "\u001b[34m\u001b[1mwandb\u001b[0m: \tbatch_size: 32\n",
      "\u001b[34m\u001b[1mwandb\u001b[0m: \tdropout_rate: 0.2\n",
      "\u001b[34m\u001b[1mwandb\u001b[0m: \tlearning_rate: 0.005\n",
      "\u001b[34m\u001b[1mwandb\u001b[0m: \tunits: 32\n"
     ]
    },
    {
     "data": {
      "text/html": [
       "wandb version 0.17.3 is available!  To upgrade, please run:\n",
       " $ pip install wandb --upgrade"
      ],
      "text/plain": [
       "<IPython.core.display.HTML object>"
      ]
     },
     "metadata": {},
     "output_type": "display_data"
    },
    {
     "data": {
      "text/html": [
       "Tracking run with wandb version 0.16.0"
      ],
      "text/plain": [
       "<IPython.core.display.HTML object>"
      ]
     },
     "metadata": {},
     "output_type": "display_data"
    },
    {
     "data": {
      "text/html": [
       "Run data is saved locally in <code>/aiffel/aiffel/workspace/16_dlthon_1/fasttext_lstm/wandb/run-20240627_004600-1el2spey</code>"
      ],
      "text/plain": [
       "<IPython.core.display.HTML object>"
      ]
     },
     "metadata": {},
     "output_type": "display_data"
    },
    {
     "data": {
      "text/html": [
       "Syncing run <strong><a href='https://wandb.ai/devdchyeon/DLTHON/runs/1el2spey' target=\"_blank\">sandy-sweep-7</a></strong> to <a href='https://wandb.ai/devdchyeon/DLTHON' target=\"_blank\">Weights & Biases</a> (<a href='https://wandb.me/run' target=\"_blank\">docs</a>)<br/>Sweep page: <a href='https://wandb.ai/devdchyeon/DLTHON/sweeps/k94x0hcc' target=\"_blank\">https://wandb.ai/devdchyeon/DLTHON/sweeps/k94x0hcc</a>"
      ],
      "text/plain": [
       "<IPython.core.display.HTML object>"
      ]
     },
     "metadata": {},
     "output_type": "display_data"
    },
    {
     "data": {
      "text/html": [
       " View project at <a href='https://wandb.ai/devdchyeon/DLTHON' target=\"_blank\">https://wandb.ai/devdchyeon/DLTHON</a>"
      ],
      "text/plain": [
       "<IPython.core.display.HTML object>"
      ]
     },
     "metadata": {},
     "output_type": "display_data"
    },
    {
     "data": {
      "text/html": [
       " View sweep at <a href='https://wandb.ai/devdchyeon/DLTHON/sweeps/k94x0hcc' target=\"_blank\">https://wandb.ai/devdchyeon/DLTHON/sweeps/k94x0hcc</a>"
      ],
      "text/plain": [
       "<IPython.core.display.HTML object>"
      ]
     },
     "metadata": {},
     "output_type": "display_data"
    },
    {
     "data": {
      "text/html": [
       " View run at <a href='https://wandb.ai/devdchyeon/DLTHON/runs/1el2spey' target=\"_blank\">https://wandb.ai/devdchyeon/DLTHON/runs/1el2spey</a>"
      ],
      "text/plain": [
       "<IPython.core.display.HTML object>"
      ]
     },
     "metadata": {},
     "output_type": "display_data"
    },
    {
     "name": "stdout",
     "output_type": "stream",
     "text": [
      "Epoch 1/50\n",
      "248/248 [==============================] - 4s 7ms/step - loss: 1.2701 - accuracy: 0.4554 - val_loss: 0.9656 - val_accuracy: 0.6197\n"
     ]
    },
    {
     "name": "stderr",
     "output_type": "stream",
     "text": [
      "WARNING:absl:Found untraced functions such as lstm_cell_layer_call_fn, lstm_cell_layer_call_and_return_conditional_losses, lstm_cell_1_layer_call_fn, lstm_cell_1_layer_call_and_return_conditional_losses, lstm_cell_layer_call_fn while saving (showing 5 of 10). These functions will not be directly callable after loading.\n"
     ]
    },
    {
     "name": "stdout",
     "output_type": "stream",
     "text": [
      "INFO:tensorflow:Assets written to: /aiffel/aiffel/workspace/16_dlthon_1/fasttext_lstm/wandb/run-20240627_004600-1el2spey/files/model-best/assets\n"
     ]
    },
    {
     "name": "stderr",
     "output_type": "stream",
     "text": [
      "INFO:tensorflow:Assets written to: /aiffel/aiffel/workspace/16_dlthon_1/fasttext_lstm/wandb/run-20240627_004600-1el2spey/files/model-best/assets\n",
      "\u001b[34m\u001b[1mwandb\u001b[0m: Adding directory to artifact (/aiffel/aiffel/workspace/16_dlthon_1/fasttext_lstm/wandb/run-20240627_004600-1el2spey/files/model-best)... Done. 0.0s\n"
     ]
    },
    {
     "name": "stdout",
     "output_type": "stream",
     "text": [
      "Epoch 2/50\n",
      "248/248 [==============================] - 1s 5ms/step - loss: 0.8816 - accuracy: 0.6626 - val_loss: 0.8208 - val_accuracy: 0.6742\n"
     ]
    },
    {
     "name": "stderr",
     "output_type": "stream",
     "text": [
      "WARNING:absl:Found untraced functions such as lstm_cell_layer_call_fn, lstm_cell_layer_call_and_return_conditional_losses, lstm_cell_1_layer_call_fn, lstm_cell_1_layer_call_and_return_conditional_losses, lstm_cell_layer_call_fn while saving (showing 5 of 10). These functions will not be directly callable after loading.\n"
     ]
    },
    {
     "name": "stdout",
     "output_type": "stream",
     "text": [
      "INFO:tensorflow:Assets written to: /aiffel/aiffel/workspace/16_dlthon_1/fasttext_lstm/wandb/run-20240627_004600-1el2spey/files/model-best/assets\n"
     ]
    },
    {
     "name": "stderr",
     "output_type": "stream",
     "text": [
      "INFO:tensorflow:Assets written to: /aiffel/aiffel/workspace/16_dlthon_1/fasttext_lstm/wandb/run-20240627_004600-1el2spey/files/model-best/assets\n",
      "\u001b[34m\u001b[1mwandb\u001b[0m: Adding directory to artifact (/aiffel/aiffel/workspace/16_dlthon_1/fasttext_lstm/wandb/run-20240627_004600-1el2spey/files/model-best)... Done. 0.0s\n"
     ]
    },
    {
     "name": "stdout",
     "output_type": "stream",
     "text": [
      "Epoch 3/50\n",
      "248/248 [==============================] - 1s 5ms/step - loss: 0.8147 - accuracy: 0.6977 - val_loss: 0.7711 - val_accuracy: 0.7025\n"
     ]
    },
    {
     "name": "stderr",
     "output_type": "stream",
     "text": [
      "WARNING:absl:Found untraced functions such as lstm_cell_layer_call_fn, lstm_cell_layer_call_and_return_conditional_losses, lstm_cell_1_layer_call_fn, lstm_cell_1_layer_call_and_return_conditional_losses, lstm_cell_layer_call_fn while saving (showing 5 of 10). These functions will not be directly callable after loading.\n"
     ]
    },
    {
     "name": "stdout",
     "output_type": "stream",
     "text": [
      "INFO:tensorflow:Assets written to: /aiffel/aiffel/workspace/16_dlthon_1/fasttext_lstm/wandb/run-20240627_004600-1el2spey/files/model-best/assets\n"
     ]
    },
    {
     "name": "stderr",
     "output_type": "stream",
     "text": [
      "INFO:tensorflow:Assets written to: /aiffel/aiffel/workspace/16_dlthon_1/fasttext_lstm/wandb/run-20240627_004600-1el2spey/files/model-best/assets\n",
      "\u001b[34m\u001b[1mwandb\u001b[0m: Adding directory to artifact (/aiffel/aiffel/workspace/16_dlthon_1/fasttext_lstm/wandb/run-20240627_004600-1el2spey/files/model-best)... Done. 0.0s\n"
     ]
    },
    {
     "name": "stdout",
     "output_type": "stream",
     "text": [
      "Epoch 4/50\n",
      "248/248 [==============================] - 1s 5ms/step - loss: 0.7838 - accuracy: 0.7093 - val_loss: 0.7846 - val_accuracy: 0.7040\n",
      "Epoch 5/50\n",
      "248/248 [==============================] - 1s 5ms/step - loss: 0.7524 - accuracy: 0.7193 - val_loss: 0.7176 - val_accuracy: 0.7237\n"
     ]
    },
    {
     "name": "stderr",
     "output_type": "stream",
     "text": [
      "WARNING:absl:Found untraced functions such as lstm_cell_layer_call_fn, lstm_cell_layer_call_and_return_conditional_losses, lstm_cell_1_layer_call_fn, lstm_cell_1_layer_call_and_return_conditional_losses, lstm_cell_layer_call_fn while saving (showing 5 of 10). These functions will not be directly callable after loading.\n"
     ]
    },
    {
     "name": "stdout",
     "output_type": "stream",
     "text": [
      "INFO:tensorflow:Assets written to: /aiffel/aiffel/workspace/16_dlthon_1/fasttext_lstm/wandb/run-20240627_004600-1el2spey/files/model-best/assets\n"
     ]
    },
    {
     "name": "stderr",
     "output_type": "stream",
     "text": [
      "INFO:tensorflow:Assets written to: /aiffel/aiffel/workspace/16_dlthon_1/fasttext_lstm/wandb/run-20240627_004600-1el2spey/files/model-best/assets\n",
      "\u001b[34m\u001b[1mwandb\u001b[0m: Adding directory to artifact (/aiffel/aiffel/workspace/16_dlthon_1/fasttext_lstm/wandb/run-20240627_004600-1el2spey/files/model-best)... Done. 0.0s\n"
     ]
    },
    {
     "name": "stdout",
     "output_type": "stream",
     "text": [
      "Epoch 6/50\n",
      "248/248 [==============================] - 1s 5ms/step - loss: 0.7342 - accuracy: 0.7249 - val_loss: 0.7026 - val_accuracy: 0.7354\n"
     ]
    },
    {
     "name": "stderr",
     "output_type": "stream",
     "text": [
      "WARNING:absl:Found untraced functions such as lstm_cell_layer_call_fn, lstm_cell_layer_call_and_return_conditional_losses, lstm_cell_1_layer_call_fn, lstm_cell_1_layer_call_and_return_conditional_losses, lstm_cell_layer_call_fn while saving (showing 5 of 10). These functions will not be directly callable after loading.\n"
     ]
    },
    {
     "name": "stdout",
     "output_type": "stream",
     "text": [
      "INFO:tensorflow:Assets written to: /aiffel/aiffel/workspace/16_dlthon_1/fasttext_lstm/wandb/run-20240627_004600-1el2spey/files/model-best/assets\n"
     ]
    },
    {
     "name": "stderr",
     "output_type": "stream",
     "text": [
      "INFO:tensorflow:Assets written to: /aiffel/aiffel/workspace/16_dlthon_1/fasttext_lstm/wandb/run-20240627_004600-1el2spey/files/model-best/assets\n",
      "\u001b[34m\u001b[1mwandb\u001b[0m: Adding directory to artifact (/aiffel/aiffel/workspace/16_dlthon_1/fasttext_lstm/wandb/run-20240627_004600-1el2spey/files/model-best)... Done. 0.0s\n"
     ]
    },
    {
     "name": "stdout",
     "output_type": "stream",
     "text": [
      "Epoch 7/50\n",
      "248/248 [==============================] - 1s 5ms/step - loss: 0.7227 - accuracy: 0.7333 - val_loss: 0.7026 - val_accuracy: 0.7273\n"
     ]
    },
    {
     "name": "stderr",
     "output_type": "stream",
     "text": [
      "WARNING:absl:Found untraced functions such as lstm_cell_layer_call_fn, lstm_cell_layer_call_and_return_conditional_losses, lstm_cell_1_layer_call_fn, lstm_cell_1_layer_call_and_return_conditional_losses, lstm_cell_layer_call_fn while saving (showing 5 of 10). These functions will not be directly callable after loading.\n"
     ]
    },
    {
     "name": "stdout",
     "output_type": "stream",
     "text": [
      "INFO:tensorflow:Assets written to: /aiffel/aiffel/workspace/16_dlthon_1/fasttext_lstm/wandb/run-20240627_004600-1el2spey/files/model-best/assets\n"
     ]
    },
    {
     "name": "stderr",
     "output_type": "stream",
     "text": [
      "INFO:tensorflow:Assets written to: /aiffel/aiffel/workspace/16_dlthon_1/fasttext_lstm/wandb/run-20240627_004600-1el2spey/files/model-best/assets\n",
      "\u001b[34m\u001b[1mwandb\u001b[0m: Adding directory to artifact (/aiffel/aiffel/workspace/16_dlthon_1/fasttext_lstm/wandb/run-20240627_004600-1el2spey/files/model-best)... Done. 0.0s\n"
     ]
    },
    {
     "name": "stdout",
     "output_type": "stream",
     "text": [
      "Epoch 8/50\n",
      "248/248 [==============================] - 1s 5ms/step - loss: 0.7127 - accuracy: 0.7351 - val_loss: 0.6718 - val_accuracy: 0.7434\n"
     ]
    },
    {
     "name": "stderr",
     "output_type": "stream",
     "text": [
      "WARNING:absl:Found untraced functions such as lstm_cell_layer_call_fn, lstm_cell_layer_call_and_return_conditional_losses, lstm_cell_1_layer_call_fn, lstm_cell_1_layer_call_and_return_conditional_losses, lstm_cell_layer_call_fn while saving (showing 5 of 10). These functions will not be directly callable after loading.\n"
     ]
    },
    {
     "name": "stdout",
     "output_type": "stream",
     "text": [
      "INFO:tensorflow:Assets written to: /aiffel/aiffel/workspace/16_dlthon_1/fasttext_lstm/wandb/run-20240627_004600-1el2spey/files/model-best/assets\n"
     ]
    },
    {
     "name": "stderr",
     "output_type": "stream",
     "text": [
      "INFO:tensorflow:Assets written to: /aiffel/aiffel/workspace/16_dlthon_1/fasttext_lstm/wandb/run-20240627_004600-1el2spey/files/model-best/assets\n",
      "\u001b[34m\u001b[1mwandb\u001b[0m: Adding directory to artifact (/aiffel/aiffel/workspace/16_dlthon_1/fasttext_lstm/wandb/run-20240627_004600-1el2spey/files/model-best)... Done. 0.0s\n"
     ]
    },
    {
     "name": "stdout",
     "output_type": "stream",
     "text": [
      "Epoch 9/50\n",
      "248/248 [==============================] - 1s 5ms/step - loss: 0.7022 - accuracy: 0.7433 - val_loss: 0.6714 - val_accuracy: 0.7414\n"
     ]
    },
    {
     "name": "stderr",
     "output_type": "stream",
     "text": [
      "WARNING:absl:Found untraced functions such as lstm_cell_layer_call_fn, lstm_cell_layer_call_and_return_conditional_losses, lstm_cell_1_layer_call_fn, lstm_cell_1_layer_call_and_return_conditional_losses, lstm_cell_layer_call_fn while saving (showing 5 of 10). These functions will not be directly callable after loading.\n"
     ]
    },
    {
     "name": "stdout",
     "output_type": "stream",
     "text": [
      "INFO:tensorflow:Assets written to: /aiffel/aiffel/workspace/16_dlthon_1/fasttext_lstm/wandb/run-20240627_004600-1el2spey/files/model-best/assets\n"
     ]
    },
    {
     "name": "stderr",
     "output_type": "stream",
     "text": [
      "INFO:tensorflow:Assets written to: /aiffel/aiffel/workspace/16_dlthon_1/fasttext_lstm/wandb/run-20240627_004600-1el2spey/files/model-best/assets\n",
      "\u001b[34m\u001b[1mwandb\u001b[0m: Adding directory to artifact (/aiffel/aiffel/workspace/16_dlthon_1/fasttext_lstm/wandb/run-20240627_004600-1el2spey/files/model-best)... Done. 0.0s\n"
     ]
    },
    {
     "name": "stdout",
     "output_type": "stream",
     "text": [
      "Epoch 10/50\n",
      "248/248 [==============================] - 1s 5ms/step - loss: 0.6963 - accuracy: 0.7443 - val_loss: 0.6844 - val_accuracy: 0.7465\n",
      "Epoch 11/50\n",
      "248/248 [==============================] - 1s 5ms/step - loss: 0.6823 - accuracy: 0.7510 - val_loss: 0.6598 - val_accuracy: 0.7515\n"
     ]
    },
    {
     "name": "stderr",
     "output_type": "stream",
     "text": [
      "WARNING:absl:Found untraced functions such as lstm_cell_layer_call_fn, lstm_cell_layer_call_and_return_conditional_losses, lstm_cell_1_layer_call_fn, lstm_cell_1_layer_call_and_return_conditional_losses, lstm_cell_layer_call_fn while saving (showing 5 of 10). These functions will not be directly callable after loading.\n"
     ]
    },
    {
     "name": "stdout",
     "output_type": "stream",
     "text": [
      "INFO:tensorflow:Assets written to: /aiffel/aiffel/workspace/16_dlthon_1/fasttext_lstm/wandb/run-20240627_004600-1el2spey/files/model-best/assets\n"
     ]
    },
    {
     "name": "stderr",
     "output_type": "stream",
     "text": [
      "INFO:tensorflow:Assets written to: /aiffel/aiffel/workspace/16_dlthon_1/fasttext_lstm/wandb/run-20240627_004600-1el2spey/files/model-best/assets\n",
      "\u001b[34m\u001b[1mwandb\u001b[0m: Adding directory to artifact (/aiffel/aiffel/workspace/16_dlthon_1/fasttext_lstm/wandb/run-20240627_004600-1el2spey/files/model-best)... Done. 0.0s\n"
     ]
    },
    {
     "name": "stdout",
     "output_type": "stream",
     "text": [
      "Epoch 12/50\n",
      "248/248 [==============================] - 1s 5ms/step - loss: 0.6859 - accuracy: 0.7501 - val_loss: 0.6690 - val_accuracy: 0.7540\n",
      "Epoch 13/50\n",
      "248/248 [==============================] - 1s 5ms/step - loss: 0.6821 - accuracy: 0.7467 - val_loss: 0.6673 - val_accuracy: 0.7455\n",
      "Epoch 14/50\n",
      "248/248 [==============================] - 1s 5ms/step - loss: 0.6626 - accuracy: 0.7581 - val_loss: 0.6810 - val_accuracy: 0.7475\n",
      "Epoch 15/50\n",
      "248/248 [==============================] - 1s 5ms/step - loss: 0.6734 - accuracy: 0.7556 - val_loss: 0.6840 - val_accuracy: 0.7379\n",
      "Epoch 16/50\n",
      "248/248 [==============================] - 1s 5ms/step - loss: 0.6653 - accuracy: 0.7567 - val_loss: 0.6532 - val_accuracy: 0.7576\n"
     ]
    },
    {
     "name": "stderr",
     "output_type": "stream",
     "text": [
      "WARNING:absl:Found untraced functions such as lstm_cell_layer_call_fn, lstm_cell_layer_call_and_return_conditional_losses, lstm_cell_1_layer_call_fn, lstm_cell_1_layer_call_and_return_conditional_losses, lstm_cell_layer_call_fn while saving (showing 5 of 10). These functions will not be directly callable after loading.\n"
     ]
    },
    {
     "name": "stdout",
     "output_type": "stream",
     "text": [
      "INFO:tensorflow:Assets written to: /aiffel/aiffel/workspace/16_dlthon_1/fasttext_lstm/wandb/run-20240627_004600-1el2spey/files/model-best/assets\n"
     ]
    },
    {
     "name": "stderr",
     "output_type": "stream",
     "text": [
      "INFO:tensorflow:Assets written to: /aiffel/aiffel/workspace/16_dlthon_1/fasttext_lstm/wandb/run-20240627_004600-1el2spey/files/model-best/assets\n",
      "\u001b[34m\u001b[1mwandb\u001b[0m: Adding directory to artifact (/aiffel/aiffel/workspace/16_dlthon_1/fasttext_lstm/wandb/run-20240627_004600-1el2spey/files/model-best)... Done. 0.0s\n"
     ]
    },
    {
     "name": "stdout",
     "output_type": "stream",
     "text": [
      "Epoch 17/50\n",
      "248/248 [==============================] - 1s 5ms/step - loss: 0.6564 - accuracy: 0.7625 - val_loss: 0.6783 - val_accuracy: 0.7455\n",
      "Epoch 18/50\n",
      "248/248 [==============================] - 1s 5ms/step - loss: 0.6467 - accuracy: 0.7683 - val_loss: 0.6524 - val_accuracy: 0.7576\n"
     ]
    },
    {
     "name": "stderr",
     "output_type": "stream",
     "text": [
      "WARNING:absl:Found untraced functions such as lstm_cell_layer_call_fn, lstm_cell_layer_call_and_return_conditional_losses, lstm_cell_1_layer_call_fn, lstm_cell_1_layer_call_and_return_conditional_losses, lstm_cell_layer_call_fn while saving (showing 5 of 10). These functions will not be directly callable after loading.\n"
     ]
    },
    {
     "name": "stdout",
     "output_type": "stream",
     "text": [
      "INFO:tensorflow:Assets written to: /aiffel/aiffel/workspace/16_dlthon_1/fasttext_lstm/wandb/run-20240627_004600-1el2spey/files/model-best/assets\n"
     ]
    },
    {
     "name": "stderr",
     "output_type": "stream",
     "text": [
      "INFO:tensorflow:Assets written to: /aiffel/aiffel/workspace/16_dlthon_1/fasttext_lstm/wandb/run-20240627_004600-1el2spey/files/model-best/assets\n",
      "\u001b[34m\u001b[1mwandb\u001b[0m: Adding directory to artifact (/aiffel/aiffel/workspace/16_dlthon_1/fasttext_lstm/wandb/run-20240627_004600-1el2spey/files/model-best)... Done. 0.0s\n"
     ]
    },
    {
     "name": "stdout",
     "output_type": "stream",
     "text": [
      "Epoch 19/50\n",
      "248/248 [==============================] - 1s 5ms/step - loss: 0.6436 - accuracy: 0.7678 - val_loss: 0.6344 - val_accuracy: 0.7631\n"
     ]
    },
    {
     "name": "stderr",
     "output_type": "stream",
     "text": [
      "WARNING:absl:Found untraced functions such as lstm_cell_layer_call_fn, lstm_cell_layer_call_and_return_conditional_losses, lstm_cell_1_layer_call_fn, lstm_cell_1_layer_call_and_return_conditional_losses, lstm_cell_layer_call_fn while saving (showing 5 of 10). These functions will not be directly callable after loading.\n"
     ]
    },
    {
     "name": "stdout",
     "output_type": "stream",
     "text": [
      "INFO:tensorflow:Assets written to: /aiffel/aiffel/workspace/16_dlthon_1/fasttext_lstm/wandb/run-20240627_004600-1el2spey/files/model-best/assets\n"
     ]
    },
    {
     "name": "stderr",
     "output_type": "stream",
     "text": [
      "INFO:tensorflow:Assets written to: /aiffel/aiffel/workspace/16_dlthon_1/fasttext_lstm/wandb/run-20240627_004600-1el2spey/files/model-best/assets\n",
      "\u001b[34m\u001b[1mwandb\u001b[0m: Adding directory to artifact (/aiffel/aiffel/workspace/16_dlthon_1/fasttext_lstm/wandb/run-20240627_004600-1el2spey/files/model-best)... Done. 0.0s\n"
     ]
    },
    {
     "name": "stdout",
     "output_type": "stream",
     "text": [
      "Epoch 20/50\n",
      "248/248 [==============================] - 1s 5ms/step - loss: 0.6415 - accuracy: 0.7653 - val_loss: 0.6663 - val_accuracy: 0.7525\n",
      "Epoch 21/50\n",
      "248/248 [==============================] - 1s 5ms/step - loss: 0.6317 - accuracy: 0.7713 - val_loss: 0.6575 - val_accuracy: 0.7571\n",
      "Epoch 22/50\n",
      "248/248 [==============================] - 1s 5ms/step - loss: 0.6421 - accuracy: 0.7691 - val_loss: 0.7732 - val_accuracy: 0.7111\n",
      "Epoch 23/50\n",
      "248/248 [==============================] - 1s 5ms/step - loss: 0.6447 - accuracy: 0.7668 - val_loss: 0.6732 - val_accuracy: 0.7429\n",
      "Epoch 24/50\n",
      "248/248 [==============================] - 1s 5ms/step - loss: 0.6358 - accuracy: 0.7674 - val_loss: 0.6408 - val_accuracy: 0.7596\n",
      "Epoch 00024: early stopping\n"
     ]
    },
    {
     "data": {
      "application/vnd.jupyter.widget-view+json": {
       "model_id": "",
       "version_major": 2,
       "version_minor": 0
      },
      "text/plain": [
       "VBox(children=(Label(value='26.576 MB of 26.577 MB uploaded (0.153 MB deduped)\\r'), FloatProgress(value=0.9999…"
      ]
     },
     "metadata": {},
     "output_type": "display_data"
    },
    {
     "data": {
      "text/html": [
       "<style>\n",
       "    table.wandb td:nth-child(1) { padding: 0 10px; text-align: left ; width: auto;} td:nth-child(2) {text-align: left ; width: 100%}\n",
       "    .wandb-row { display: flex; flex-direction: row; flex-wrap: wrap; justify-content: flex-start; width: 100% }\n",
       "    .wandb-col { display: flex; flex-direction: column; flex-basis: 100%; flex: 1; padding: 10px; }\n",
       "    </style>\n",
       "<div class=\"wandb-row\"><div class=\"wandb-col\"><h3>Run history:</h3><br/><table class=\"wandb\"><tr><td>Validation Accuracy Rate: </td><td>▁</td></tr><tr><td>Validation Error Rate: </td><td>▁</td></tr><tr><td>accuracy</td><td>▁▆▆▇▇▇▇▇▇▇██▇███████████</td></tr><tr><td>epoch</td><td>▁▁▂▂▂▃▃▃▃▄▄▄▅▅▅▆▆▆▆▇▇▇██</td></tr><tr><td>loss</td><td>█▄▃▃▂▂▂▂▂▂▂▂▂▁▁▁▁▁▁▁▁▁▁▁</td></tr><tr><td>val_accuracy</td><td>▁▄▅▅▆▇▆▇▇▇▇█▇▇▇█▇██▇█▅▇█</td></tr><tr><td>val_loss</td><td>█▅▄▄▃▂▂▂▂▂▂▂▂▂▂▁▂▁▁▂▁▄▂▁</td></tr></table><br/></div><div class=\"wandb-col\"><h3>Run summary:</h3><br/><table class=\"wandb\"><tr><td>Validation Accuracy Rate: </td><td>75.96</td></tr><tr><td>Validation Error Rate: </td><td>24.04</td></tr><tr><td>accuracy</td><td>0.76742</td></tr><tr><td>best_epoch</td><td>18</td></tr><tr><td>best_val_loss</td><td>0.6344</td></tr><tr><td>epoch</td><td>23</td></tr><tr><td>loss</td><td>0.63584</td></tr><tr><td>val_accuracy</td><td>0.7596</td></tr><tr><td>val_loss</td><td>0.64085</td></tr></table><br/></div></div>"
      ],
      "text/plain": [
       "<IPython.core.display.HTML object>"
      ]
     },
     "metadata": {},
     "output_type": "display_data"
    },
    {
     "data": {
      "text/html": [
       " View run <strong style=\"color:#cdcd00\">sandy-sweep-7</strong> at: <a href='https://wandb.ai/devdchyeon/DLTHON/runs/1el2spey' target=\"_blank\">https://wandb.ai/devdchyeon/DLTHON/runs/1el2spey</a><br/>Synced 5 W&B file(s), 1 media file(s), 48 artifact file(s) and 1 other file(s)"
      ],
      "text/plain": [
       "<IPython.core.display.HTML object>"
      ]
     },
     "metadata": {},
     "output_type": "display_data"
    },
    {
     "data": {
      "text/html": [
       "Find logs at: <code>./wandb/run-20240627_004600-1el2spey/logs</code>"
      ],
      "text/plain": [
       "<IPython.core.display.HTML object>"
      ]
     },
     "metadata": {},
     "output_type": "display_data"
    },
    {
     "name": "stderr",
     "output_type": "stream",
     "text": [
      "\u001b[34m\u001b[1mwandb\u001b[0m: Sweep Agent: Waiting for job.\n",
      "\u001b[34m\u001b[1mwandb\u001b[0m: Job received.\n",
      "\u001b[34m\u001b[1mwandb\u001b[0m: Agent Starting Run: 1tqkb4xu with config:\n",
      "\u001b[34m\u001b[1mwandb\u001b[0m: \tbatch_size: 32\n",
      "\u001b[34m\u001b[1mwandb\u001b[0m: \tdropout_rate: 0.2\n",
      "\u001b[34m\u001b[1mwandb\u001b[0m: \tlearning_rate: 0.005\n",
      "\u001b[34m\u001b[1mwandb\u001b[0m: \tunits: 32\n"
     ]
    },
    {
     "data": {
      "text/html": [
       "wandb version 0.17.3 is available!  To upgrade, please run:\n",
       " $ pip install wandb --upgrade"
      ],
      "text/plain": [
       "<IPython.core.display.HTML object>"
      ]
     },
     "metadata": {},
     "output_type": "display_data"
    },
    {
     "data": {
      "text/html": [
       "Tracking run with wandb version 0.16.0"
      ],
      "text/plain": [
       "<IPython.core.display.HTML object>"
      ]
     },
     "metadata": {},
     "output_type": "display_data"
    },
    {
     "data": {
      "text/html": [
       "Run data is saved locally in <code>/aiffel/aiffel/workspace/16_dlthon_1/fasttext_lstm/wandb/run-20240627_004813-1tqkb4xu</code>"
      ],
      "text/plain": [
       "<IPython.core.display.HTML object>"
      ]
     },
     "metadata": {},
     "output_type": "display_data"
    },
    {
     "data": {
      "text/html": [
       "Syncing run <strong><a href='https://wandb.ai/devdchyeon/DLTHON/runs/1tqkb4xu' target=\"_blank\">whole-sweep-8</a></strong> to <a href='https://wandb.ai/devdchyeon/DLTHON' target=\"_blank\">Weights & Biases</a> (<a href='https://wandb.me/run' target=\"_blank\">docs</a>)<br/>Sweep page: <a href='https://wandb.ai/devdchyeon/DLTHON/sweeps/k94x0hcc' target=\"_blank\">https://wandb.ai/devdchyeon/DLTHON/sweeps/k94x0hcc</a>"
      ],
      "text/plain": [
       "<IPython.core.display.HTML object>"
      ]
     },
     "metadata": {},
     "output_type": "display_data"
    },
    {
     "data": {
      "text/html": [
       " View project at <a href='https://wandb.ai/devdchyeon/DLTHON' target=\"_blank\">https://wandb.ai/devdchyeon/DLTHON</a>"
      ],
      "text/plain": [
       "<IPython.core.display.HTML object>"
      ]
     },
     "metadata": {},
     "output_type": "display_data"
    },
    {
     "data": {
      "text/html": [
       " View sweep at <a href='https://wandb.ai/devdchyeon/DLTHON/sweeps/k94x0hcc' target=\"_blank\">https://wandb.ai/devdchyeon/DLTHON/sweeps/k94x0hcc</a>"
      ],
      "text/plain": [
       "<IPython.core.display.HTML object>"
      ]
     },
     "metadata": {},
     "output_type": "display_data"
    },
    {
     "data": {
      "text/html": [
       " View run at <a href='https://wandb.ai/devdchyeon/DLTHON/runs/1tqkb4xu' target=\"_blank\">https://wandb.ai/devdchyeon/DLTHON/runs/1tqkb4xu</a>"
      ],
      "text/plain": [
       "<IPython.core.display.HTML object>"
      ]
     },
     "metadata": {},
     "output_type": "display_data"
    },
    {
     "name": "stdout",
     "output_type": "stream",
     "text": [
      "Epoch 1/50\n",
      "248/248 [==============================] - 4s 7ms/step - loss: 1.2592 - accuracy: 0.4539 - val_loss: 0.9956 - val_accuracy: 0.6035\n"
     ]
    },
    {
     "name": "stderr",
     "output_type": "stream",
     "text": [
      "WARNING:absl:Found untraced functions such as lstm_cell_layer_call_fn, lstm_cell_layer_call_and_return_conditional_losses, lstm_cell_1_layer_call_fn, lstm_cell_1_layer_call_and_return_conditional_losses, lstm_cell_layer_call_fn while saving (showing 5 of 10). These functions will not be directly callable after loading.\n"
     ]
    },
    {
     "name": "stdout",
     "output_type": "stream",
     "text": [
      "INFO:tensorflow:Assets written to: /aiffel/aiffel/workspace/16_dlthon_1/fasttext_lstm/wandb/run-20240627_004813-1tqkb4xu/files/model-best/assets\n"
     ]
    },
    {
     "name": "stderr",
     "output_type": "stream",
     "text": [
      "INFO:tensorflow:Assets written to: /aiffel/aiffel/workspace/16_dlthon_1/fasttext_lstm/wandb/run-20240627_004813-1tqkb4xu/files/model-best/assets\n",
      "\u001b[34m\u001b[1mwandb\u001b[0m: Adding directory to artifact (/aiffel/aiffel/workspace/16_dlthon_1/fasttext_lstm/wandb/run-20240627_004813-1tqkb4xu/files/model-best)... Done. 0.0s\n"
     ]
    },
    {
     "name": "stdout",
     "output_type": "stream",
     "text": [
      "Epoch 2/50\n",
      "248/248 [==============================] - 1s 5ms/step - loss: 0.9036 - accuracy: 0.6593 - val_loss: 0.7877 - val_accuracy: 0.7000\n"
     ]
    },
    {
     "name": "stderr",
     "output_type": "stream",
     "text": [
      "WARNING:absl:Found untraced functions such as lstm_cell_layer_call_fn, lstm_cell_layer_call_and_return_conditional_losses, lstm_cell_1_layer_call_fn, lstm_cell_1_layer_call_and_return_conditional_losses, lstm_cell_layer_call_fn while saving (showing 5 of 10). These functions will not be directly callable after loading.\n"
     ]
    },
    {
     "name": "stdout",
     "output_type": "stream",
     "text": [
      "INFO:tensorflow:Assets written to: /aiffel/aiffel/workspace/16_dlthon_1/fasttext_lstm/wandb/run-20240627_004813-1tqkb4xu/files/model-best/assets\n"
     ]
    },
    {
     "name": "stderr",
     "output_type": "stream",
     "text": [
      "INFO:tensorflow:Assets written to: /aiffel/aiffel/workspace/16_dlthon_1/fasttext_lstm/wandb/run-20240627_004813-1tqkb4xu/files/model-best/assets\n",
      "\u001b[34m\u001b[1mwandb\u001b[0m: Adding directory to artifact (/aiffel/aiffel/workspace/16_dlthon_1/fasttext_lstm/wandb/run-20240627_004813-1tqkb4xu/files/model-best)... Done. 0.0s\n"
     ]
    },
    {
     "name": "stdout",
     "output_type": "stream",
     "text": [
      "Epoch 3/50\n",
      "248/248 [==============================] - 1s 5ms/step - loss: 0.8095 - accuracy: 0.6990 - val_loss: 0.7596 - val_accuracy: 0.7192\n"
     ]
    },
    {
     "name": "stderr",
     "output_type": "stream",
     "text": [
      "WARNING:absl:Found untraced functions such as lstm_cell_layer_call_fn, lstm_cell_layer_call_and_return_conditional_losses, lstm_cell_1_layer_call_fn, lstm_cell_1_layer_call_and_return_conditional_losses, lstm_cell_layer_call_fn while saving (showing 5 of 10). These functions will not be directly callable after loading.\n"
     ]
    },
    {
     "name": "stdout",
     "output_type": "stream",
     "text": [
      "INFO:tensorflow:Assets written to: /aiffel/aiffel/workspace/16_dlthon_1/fasttext_lstm/wandb/run-20240627_004813-1tqkb4xu/files/model-best/assets\n"
     ]
    },
    {
     "name": "stderr",
     "output_type": "stream",
     "text": [
      "INFO:tensorflow:Assets written to: /aiffel/aiffel/workspace/16_dlthon_1/fasttext_lstm/wandb/run-20240627_004813-1tqkb4xu/files/model-best/assets\n",
      "\u001b[34m\u001b[1mwandb\u001b[0m: Adding directory to artifact (/aiffel/aiffel/workspace/16_dlthon_1/fasttext_lstm/wandb/run-20240627_004813-1tqkb4xu/files/model-best)... Done. 0.0s\n"
     ]
    },
    {
     "name": "stdout",
     "output_type": "stream",
     "text": [
      "Epoch 4/50\n",
      "248/248 [==============================] - 1s 5ms/step - loss: 0.7580 - accuracy: 0.7181 - val_loss: 0.7273 - val_accuracy: 0.7227\n"
     ]
    },
    {
     "name": "stderr",
     "output_type": "stream",
     "text": [
      "WARNING:absl:Found untraced functions such as lstm_cell_layer_call_fn, lstm_cell_layer_call_and_return_conditional_losses, lstm_cell_1_layer_call_fn, lstm_cell_1_layer_call_and_return_conditional_losses, lstm_cell_layer_call_fn while saving (showing 5 of 10). These functions will not be directly callable after loading.\n"
     ]
    },
    {
     "name": "stdout",
     "output_type": "stream",
     "text": [
      "INFO:tensorflow:Assets written to: /aiffel/aiffel/workspace/16_dlthon_1/fasttext_lstm/wandb/run-20240627_004813-1tqkb4xu/files/model-best/assets\n"
     ]
    },
    {
     "name": "stderr",
     "output_type": "stream",
     "text": [
      "INFO:tensorflow:Assets written to: /aiffel/aiffel/workspace/16_dlthon_1/fasttext_lstm/wandb/run-20240627_004813-1tqkb4xu/files/model-best/assets\n",
      "\u001b[34m\u001b[1mwandb\u001b[0m: Adding directory to artifact (/aiffel/aiffel/workspace/16_dlthon_1/fasttext_lstm/wandb/run-20240627_004813-1tqkb4xu/files/model-best)... Done. 0.0s\n"
     ]
    },
    {
     "name": "stdout",
     "output_type": "stream",
     "text": [
      "Epoch 5/50\n",
      "248/248 [==============================] - 1s 5ms/step - loss: 0.7522 - accuracy: 0.7191 - val_loss: 0.7065 - val_accuracy: 0.7237\n"
     ]
    },
    {
     "name": "stderr",
     "output_type": "stream",
     "text": [
      "WARNING:absl:Found untraced functions such as lstm_cell_layer_call_fn, lstm_cell_layer_call_and_return_conditional_losses, lstm_cell_1_layer_call_fn, lstm_cell_1_layer_call_and_return_conditional_losses, lstm_cell_layer_call_fn while saving (showing 5 of 10). These functions will not be directly callable after loading.\n"
     ]
    },
    {
     "name": "stdout",
     "output_type": "stream",
     "text": [
      "INFO:tensorflow:Assets written to: /aiffel/aiffel/workspace/16_dlthon_1/fasttext_lstm/wandb/run-20240627_004813-1tqkb4xu/files/model-best/assets\n"
     ]
    },
    {
     "name": "stderr",
     "output_type": "stream",
     "text": [
      "INFO:tensorflow:Assets written to: /aiffel/aiffel/workspace/16_dlthon_1/fasttext_lstm/wandb/run-20240627_004813-1tqkb4xu/files/model-best/assets\n",
      "\u001b[34m\u001b[1mwandb\u001b[0m: Adding directory to artifact (/aiffel/aiffel/workspace/16_dlthon_1/fasttext_lstm/wandb/run-20240627_004813-1tqkb4xu/files/model-best)... Done. 0.0s\n"
     ]
    },
    {
     "name": "stdout",
     "output_type": "stream",
     "text": [
      "Epoch 6/50\n",
      "248/248 [==============================] - 1s 5ms/step - loss: 0.7340 - accuracy: 0.7270 - val_loss: 0.7120 - val_accuracy: 0.7288\n",
      "Epoch 7/50\n",
      "248/248 [==============================] - 1s 5ms/step - loss: 0.7125 - accuracy: 0.7399 - val_loss: 0.6739 - val_accuracy: 0.7460\n"
     ]
    },
    {
     "name": "stderr",
     "output_type": "stream",
     "text": [
      "WARNING:absl:Found untraced functions such as lstm_cell_layer_call_fn, lstm_cell_layer_call_and_return_conditional_losses, lstm_cell_1_layer_call_fn, lstm_cell_1_layer_call_and_return_conditional_losses, lstm_cell_layer_call_fn while saving (showing 5 of 10). These functions will not be directly callable after loading.\n"
     ]
    },
    {
     "name": "stdout",
     "output_type": "stream",
     "text": [
      "INFO:tensorflow:Assets written to: /aiffel/aiffel/workspace/16_dlthon_1/fasttext_lstm/wandb/run-20240627_004813-1tqkb4xu/files/model-best/assets\n"
     ]
    },
    {
     "name": "stderr",
     "output_type": "stream",
     "text": [
      "INFO:tensorflow:Assets written to: /aiffel/aiffel/workspace/16_dlthon_1/fasttext_lstm/wandb/run-20240627_004813-1tqkb4xu/files/model-best/assets\n",
      "\u001b[34m\u001b[1mwandb\u001b[0m: Adding directory to artifact (/aiffel/aiffel/workspace/16_dlthon_1/fasttext_lstm/wandb/run-20240627_004813-1tqkb4xu/files/model-best)... Done. 0.0s\n"
     ]
    },
    {
     "name": "stdout",
     "output_type": "stream",
     "text": [
      "Epoch 8/50\n",
      "248/248 [==============================] - 1s 5ms/step - loss: 0.7063 - accuracy: 0.7422 - val_loss: 0.6717 - val_accuracy: 0.7449\n"
     ]
    },
    {
     "name": "stderr",
     "output_type": "stream",
     "text": [
      "WARNING:absl:Found untraced functions such as lstm_cell_layer_call_fn, lstm_cell_layer_call_and_return_conditional_losses, lstm_cell_1_layer_call_fn, lstm_cell_1_layer_call_and_return_conditional_losses, lstm_cell_layer_call_fn while saving (showing 5 of 10). These functions will not be directly callable after loading.\n"
     ]
    },
    {
     "name": "stdout",
     "output_type": "stream",
     "text": [
      "INFO:tensorflow:Assets written to: /aiffel/aiffel/workspace/16_dlthon_1/fasttext_lstm/wandb/run-20240627_004813-1tqkb4xu/files/model-best/assets\n"
     ]
    },
    {
     "name": "stderr",
     "output_type": "stream",
     "text": [
      "INFO:tensorflow:Assets written to: /aiffel/aiffel/workspace/16_dlthon_1/fasttext_lstm/wandb/run-20240627_004813-1tqkb4xu/files/model-best/assets\n",
      "\u001b[34m\u001b[1mwandb\u001b[0m: Adding directory to artifact (/aiffel/aiffel/workspace/16_dlthon_1/fasttext_lstm/wandb/run-20240627_004813-1tqkb4xu/files/model-best)... Done. 0.0s\n"
     ]
    },
    {
     "name": "stdout",
     "output_type": "stream",
     "text": [
      "Epoch 9/50\n",
      "248/248 [==============================] - 1s 5ms/step - loss: 0.7131 - accuracy: 0.7374 - val_loss: 0.7026 - val_accuracy: 0.7308\n",
      "Epoch 10/50\n",
      "248/248 [==============================] - 1s 5ms/step - loss: 0.6952 - accuracy: 0.7407 - val_loss: 0.7035 - val_accuracy: 0.7399\n",
      "Epoch 11/50\n",
      "248/248 [==============================] - 1s 5ms/step - loss: 0.6751 - accuracy: 0.7547 - val_loss: 0.6654 - val_accuracy: 0.7485\n"
     ]
    },
    {
     "name": "stderr",
     "output_type": "stream",
     "text": [
      "WARNING:absl:Found untraced functions such as lstm_cell_layer_call_fn, lstm_cell_layer_call_and_return_conditional_losses, lstm_cell_1_layer_call_fn, lstm_cell_1_layer_call_and_return_conditional_losses, lstm_cell_layer_call_fn while saving (showing 5 of 10). These functions will not be directly callable after loading.\n"
     ]
    },
    {
     "name": "stdout",
     "output_type": "stream",
     "text": [
      "INFO:tensorflow:Assets written to: /aiffel/aiffel/workspace/16_dlthon_1/fasttext_lstm/wandb/run-20240627_004813-1tqkb4xu/files/model-best/assets\n"
     ]
    },
    {
     "name": "stderr",
     "output_type": "stream",
     "text": [
      "INFO:tensorflow:Assets written to: /aiffel/aiffel/workspace/16_dlthon_1/fasttext_lstm/wandb/run-20240627_004813-1tqkb4xu/files/model-best/assets\n",
      "\u001b[34m\u001b[1mwandb\u001b[0m: Adding directory to artifact (/aiffel/aiffel/workspace/16_dlthon_1/fasttext_lstm/wandb/run-20240627_004813-1tqkb4xu/files/model-best)... Done. 0.0s\n"
     ]
    },
    {
     "name": "stdout",
     "output_type": "stream",
     "text": [
      "Epoch 12/50\n",
      "248/248 [==============================] - 1s 5ms/step - loss: 0.6716 - accuracy: 0.7552 - val_loss: 0.7167 - val_accuracy: 0.7374\n",
      "Epoch 13/50\n",
      "248/248 [==============================] - 1s 5ms/step - loss: 0.6762 - accuracy: 0.7509 - val_loss: 0.6485 - val_accuracy: 0.7540\n"
     ]
    },
    {
     "name": "stderr",
     "output_type": "stream",
     "text": [
      "WARNING:absl:Found untraced functions such as lstm_cell_layer_call_fn, lstm_cell_layer_call_and_return_conditional_losses, lstm_cell_1_layer_call_fn, lstm_cell_1_layer_call_and_return_conditional_losses, lstm_cell_layer_call_fn while saving (showing 5 of 10). These functions will not be directly callable after loading.\n"
     ]
    },
    {
     "name": "stdout",
     "output_type": "stream",
     "text": [
      "INFO:tensorflow:Assets written to: /aiffel/aiffel/workspace/16_dlthon_1/fasttext_lstm/wandb/run-20240627_004813-1tqkb4xu/files/model-best/assets\n"
     ]
    },
    {
     "name": "stderr",
     "output_type": "stream",
     "text": [
      "INFO:tensorflow:Assets written to: /aiffel/aiffel/workspace/16_dlthon_1/fasttext_lstm/wandb/run-20240627_004813-1tqkb4xu/files/model-best/assets\n",
      "\u001b[34m\u001b[1mwandb\u001b[0m: Adding directory to artifact (/aiffel/aiffel/workspace/16_dlthon_1/fasttext_lstm/wandb/run-20240627_004813-1tqkb4xu/files/model-best)... Done. 0.0s\n"
     ]
    },
    {
     "name": "stdout",
     "output_type": "stream",
     "text": [
      "Epoch 14/50\n",
      "248/248 [==============================] - 1s 5ms/step - loss: 0.6728 - accuracy: 0.7539 - val_loss: 0.6734 - val_accuracy: 0.7505\n",
      "Epoch 15/50\n",
      "248/248 [==============================] - 1s 5ms/step - loss: 0.6725 - accuracy: 0.7557 - val_loss: 0.6838 - val_accuracy: 0.7465\n",
      "Epoch 16/50\n",
      "248/248 [==============================] - 1s 5ms/step - loss: 0.6504 - accuracy: 0.7605 - val_loss: 0.6345 - val_accuracy: 0.7646\n"
     ]
    },
    {
     "name": "stderr",
     "output_type": "stream",
     "text": [
      "WARNING:absl:Found untraced functions such as lstm_cell_layer_call_fn, lstm_cell_layer_call_and_return_conditional_losses, lstm_cell_1_layer_call_fn, lstm_cell_1_layer_call_and_return_conditional_losses, lstm_cell_layer_call_fn while saving (showing 5 of 10). These functions will not be directly callable after loading.\n"
     ]
    },
    {
     "name": "stdout",
     "output_type": "stream",
     "text": [
      "INFO:tensorflow:Assets written to: /aiffel/aiffel/workspace/16_dlthon_1/fasttext_lstm/wandb/run-20240627_004813-1tqkb4xu/files/model-best/assets\n"
     ]
    },
    {
     "name": "stderr",
     "output_type": "stream",
     "text": [
      "INFO:tensorflow:Assets written to: /aiffel/aiffel/workspace/16_dlthon_1/fasttext_lstm/wandb/run-20240627_004813-1tqkb4xu/files/model-best/assets\n",
      "\u001b[34m\u001b[1mwandb\u001b[0m: Adding directory to artifact (/aiffel/aiffel/workspace/16_dlthon_1/fasttext_lstm/wandb/run-20240627_004813-1tqkb4xu/files/model-best)... Done. 0.0s\n"
     ]
    },
    {
     "name": "stdout",
     "output_type": "stream",
     "text": [
      "Epoch 17/50\n",
      "248/248 [==============================] - 1s 5ms/step - loss: 0.6604 - accuracy: 0.7601 - val_loss: 0.6621 - val_accuracy: 0.7475\n",
      "Epoch 18/50\n",
      "248/248 [==============================] - 1s 5ms/step - loss: 0.6446 - accuracy: 0.7655 - val_loss: 0.6797 - val_accuracy: 0.7500\n",
      "Epoch 19/50\n",
      "248/248 [==============================] - 1s 5ms/step - loss: 0.6528 - accuracy: 0.7606 - val_loss: 0.6959 - val_accuracy: 0.7475\n",
      "Epoch 20/50\n",
      "248/248 [==============================] - 1s 5ms/step - loss: 0.6496 - accuracy: 0.7650 - val_loss: 0.6442 - val_accuracy: 0.7636\n",
      "Epoch 21/50\n",
      "248/248 [==============================] - 1s 5ms/step - loss: 0.6404 - accuracy: 0.7708 - val_loss: 0.6698 - val_accuracy: 0.7500\n",
      "Epoch 00021: early stopping\n"
     ]
    },
    {
     "data": {
      "application/vnd.jupyter.widget-view+json": {
       "model_id": "",
       "version_major": 2,
       "version_minor": 0
      },
      "text/plain": [
       "VBox(children=(Label(value='22.255 MB of 22.255 MB uploaded (0.125 MB deduped)\\r'), FloatProgress(value=1.0, m…"
      ]
     },
     "metadata": {},
     "output_type": "display_data"
    },
    {
     "data": {
      "text/html": [
       "<style>\n",
       "    table.wandb td:nth-child(1) { padding: 0 10px; text-align: left ; width: auto;} td:nth-child(2) {text-align: left ; width: 100%}\n",
       "    .wandb-row { display: flex; flex-direction: row; flex-wrap: wrap; justify-content: flex-start; width: 100% }\n",
       "    .wandb-col { display: flex; flex-direction: column; flex-basis: 100%; flex: 1; padding: 10px; }\n",
       "    </style>\n",
       "<div class=\"wandb-row\"><div class=\"wandb-col\"><h3>Run history:</h3><br/><table class=\"wandb\"><tr><td>Validation Accuracy Rate: </td><td>▁</td></tr><tr><td>Validation Error Rate: </td><td>▁</td></tr><tr><td>accuracy</td><td>▁▆▆▇▇▇▇▇▇▇███████████</td></tr><tr><td>epoch</td><td>▁▁▂▂▂▃▃▃▄▄▅▅▅▆▆▆▇▇▇██</td></tr><tr><td>loss</td><td>█▄▃▂▂▂▂▂▂▂▁▁▁▁▁▁▁▁▁▁▁</td></tr><tr><td>val_accuracy</td><td>▁▅▆▆▆▆▇▇▇▇▇▇█▇▇█▇▇▇█▇</td></tr><tr><td>val_loss</td><td>█▄▃▃▂▃▂▂▂▂▂▃▁▂▂▁▂▂▂▁▂</td></tr></table><br/></div><div class=\"wandb-col\"><h3>Run summary:</h3><br/><table class=\"wandb\"><tr><td>Validation Accuracy Rate: </td><td>75.0</td></tr><tr><td>Validation Error Rate: </td><td>25.0</td></tr><tr><td>accuracy</td><td>0.77083</td></tr><tr><td>best_epoch</td><td>15</td></tr><tr><td>best_val_loss</td><td>0.63448</td></tr><tr><td>epoch</td><td>20</td></tr><tr><td>loss</td><td>0.6404</td></tr><tr><td>val_accuracy</td><td>0.75</td></tr><tr><td>val_loss</td><td>0.6698</td></tr></table><br/></div></div>"
      ],
      "text/plain": [
       "<IPython.core.display.HTML object>"
      ]
     },
     "metadata": {},
     "output_type": "display_data"
    },
    {
     "data": {
      "text/html": [
       " View run <strong style=\"color:#cdcd00\">whole-sweep-8</strong> at: <a href='https://wandb.ai/devdchyeon/DLTHON/runs/1tqkb4xu' target=\"_blank\">https://wandb.ai/devdchyeon/DLTHON/runs/1tqkb4xu</a><br/>Synced 5 W&B file(s), 1 media file(s), 40 artifact file(s) and 1 other file(s)"
      ],
      "text/plain": [
       "<IPython.core.display.HTML object>"
      ]
     },
     "metadata": {},
     "output_type": "display_data"
    },
    {
     "data": {
      "text/html": [
       "Find logs at: <code>./wandb/run-20240627_004813-1tqkb4xu/logs</code>"
      ],
      "text/plain": [
       "<IPython.core.display.HTML object>"
      ]
     },
     "metadata": {},
     "output_type": "display_data"
    },
    {
     "name": "stderr",
     "output_type": "stream",
     "text": [
      "\u001b[34m\u001b[1mwandb\u001b[0m: Agent Starting Run: iinazlcl with config:\n",
      "\u001b[34m\u001b[1mwandb\u001b[0m: \tbatch_size: 32\n",
      "\u001b[34m\u001b[1mwandb\u001b[0m: \tdropout_rate: 0.2\n",
      "\u001b[34m\u001b[1mwandb\u001b[0m: \tlearning_rate: 0.005\n",
      "\u001b[34m\u001b[1mwandb\u001b[0m: \tunits: 64\n"
     ]
    },
    {
     "data": {
      "text/html": [
       "wandb version 0.17.3 is available!  To upgrade, please run:\n",
       " $ pip install wandb --upgrade"
      ],
      "text/plain": [
       "<IPython.core.display.HTML object>"
      ]
     },
     "metadata": {},
     "output_type": "display_data"
    },
    {
     "data": {
      "text/html": [
       "Tracking run with wandb version 0.16.0"
      ],
      "text/plain": [
       "<IPython.core.display.HTML object>"
      ]
     },
     "metadata": {},
     "output_type": "display_data"
    },
    {
     "data": {
      "text/html": [
       "Run data is saved locally in <code>/aiffel/aiffel/workspace/16_dlthon_1/fasttext_lstm/wandb/run-20240627_005006-iinazlcl</code>"
      ],
      "text/plain": [
       "<IPython.core.display.HTML object>"
      ]
     },
     "metadata": {},
     "output_type": "display_data"
    },
    {
     "data": {
      "text/html": [
       "Syncing run <strong><a href='https://wandb.ai/devdchyeon/DLTHON/runs/iinazlcl' target=\"_blank\">hearty-sweep-9</a></strong> to <a href='https://wandb.ai/devdchyeon/DLTHON' target=\"_blank\">Weights & Biases</a> (<a href='https://wandb.me/run' target=\"_blank\">docs</a>)<br/>Sweep page: <a href='https://wandb.ai/devdchyeon/DLTHON/sweeps/k94x0hcc' target=\"_blank\">https://wandb.ai/devdchyeon/DLTHON/sweeps/k94x0hcc</a>"
      ],
      "text/plain": [
       "<IPython.core.display.HTML object>"
      ]
     },
     "metadata": {},
     "output_type": "display_data"
    },
    {
     "data": {
      "text/html": [
       " View project at <a href='https://wandb.ai/devdchyeon/DLTHON' target=\"_blank\">https://wandb.ai/devdchyeon/DLTHON</a>"
      ],
      "text/plain": [
       "<IPython.core.display.HTML object>"
      ]
     },
     "metadata": {},
     "output_type": "display_data"
    },
    {
     "data": {
      "text/html": [
       " View sweep at <a href='https://wandb.ai/devdchyeon/DLTHON/sweeps/k94x0hcc' target=\"_blank\">https://wandb.ai/devdchyeon/DLTHON/sweeps/k94x0hcc</a>"
      ],
      "text/plain": [
       "<IPython.core.display.HTML object>"
      ]
     },
     "metadata": {},
     "output_type": "display_data"
    },
    {
     "data": {
      "text/html": [
       " View run at <a href='https://wandb.ai/devdchyeon/DLTHON/runs/iinazlcl' target=\"_blank\">https://wandb.ai/devdchyeon/DLTHON/runs/iinazlcl</a>"
      ],
      "text/plain": [
       "<IPython.core.display.HTML object>"
      ]
     },
     "metadata": {},
     "output_type": "display_data"
    },
    {
     "name": "stdout",
     "output_type": "stream",
     "text": [
      "Epoch 1/50\n",
      "248/248 [==============================] - 4s 7ms/step - loss: 1.1880 - accuracy: 0.4894 - val_loss: 0.9070 - val_accuracy: 0.6545\n"
     ]
    },
    {
     "name": "stderr",
     "output_type": "stream",
     "text": [
      "WARNING:absl:Found untraced functions such as lstm_cell_layer_call_fn, lstm_cell_layer_call_and_return_conditional_losses, lstm_cell_1_layer_call_fn, lstm_cell_1_layer_call_and_return_conditional_losses, lstm_cell_layer_call_fn while saving (showing 5 of 10). These functions will not be directly callable after loading.\n"
     ]
    },
    {
     "name": "stdout",
     "output_type": "stream",
     "text": [
      "INFO:tensorflow:Assets written to: /aiffel/aiffel/workspace/16_dlthon_1/fasttext_lstm/wandb/run-20240627_005006-iinazlcl/files/model-best/assets\n"
     ]
    },
    {
     "name": "stderr",
     "output_type": "stream",
     "text": [
      "INFO:tensorflow:Assets written to: /aiffel/aiffel/workspace/16_dlthon_1/fasttext_lstm/wandb/run-20240627_005006-iinazlcl/files/model-best/assets\n",
      "\u001b[34m\u001b[1mwandb\u001b[0m: Adding directory to artifact (/aiffel/aiffel/workspace/16_dlthon_1/fasttext_lstm/wandb/run-20240627_005006-iinazlcl/files/model-best)... Done. 0.0s\n"
     ]
    },
    {
     "name": "stdout",
     "output_type": "stream",
     "text": [
      "Epoch 2/50\n",
      "248/248 [==============================] - 1s 5ms/step - loss: 0.8378 - accuracy: 0.6850 - val_loss: 0.7910 - val_accuracy: 0.7020\n"
     ]
    },
    {
     "name": "stderr",
     "output_type": "stream",
     "text": [
      "WARNING:absl:Found untraced functions such as lstm_cell_layer_call_fn, lstm_cell_layer_call_and_return_conditional_losses, lstm_cell_1_layer_call_fn, lstm_cell_1_layer_call_and_return_conditional_losses, lstm_cell_layer_call_fn while saving (showing 5 of 10). These functions will not be directly callable after loading.\n"
     ]
    },
    {
     "name": "stdout",
     "output_type": "stream",
     "text": [
      "INFO:tensorflow:Assets written to: /aiffel/aiffel/workspace/16_dlthon_1/fasttext_lstm/wandb/run-20240627_005006-iinazlcl/files/model-best/assets\n"
     ]
    },
    {
     "name": "stderr",
     "output_type": "stream",
     "text": [
      "INFO:tensorflow:Assets written to: /aiffel/aiffel/workspace/16_dlthon_1/fasttext_lstm/wandb/run-20240627_005006-iinazlcl/files/model-best/assets\n",
      "\u001b[34m\u001b[1mwandb\u001b[0m: Adding directory to artifact (/aiffel/aiffel/workspace/16_dlthon_1/fasttext_lstm/wandb/run-20240627_005006-iinazlcl/files/model-best)... Done. 0.0s\n"
     ]
    },
    {
     "name": "stdout",
     "output_type": "stream",
     "text": [
      "Epoch 3/50\n",
      "248/248 [==============================] - 1s 5ms/step - loss: 0.7675 - accuracy: 0.7158 - val_loss: 0.7340 - val_accuracy: 0.7212\n"
     ]
    },
    {
     "name": "stderr",
     "output_type": "stream",
     "text": [
      "WARNING:absl:Found untraced functions such as lstm_cell_layer_call_fn, lstm_cell_layer_call_and_return_conditional_losses, lstm_cell_1_layer_call_fn, lstm_cell_1_layer_call_and_return_conditional_losses, lstm_cell_layer_call_fn while saving (showing 5 of 10). These functions will not be directly callable after loading.\n"
     ]
    },
    {
     "name": "stdout",
     "output_type": "stream",
     "text": [
      "INFO:tensorflow:Assets written to: /aiffel/aiffel/workspace/16_dlthon_1/fasttext_lstm/wandb/run-20240627_005006-iinazlcl/files/model-best/assets\n"
     ]
    },
    {
     "name": "stderr",
     "output_type": "stream",
     "text": [
      "INFO:tensorflow:Assets written to: /aiffel/aiffel/workspace/16_dlthon_1/fasttext_lstm/wandb/run-20240627_005006-iinazlcl/files/model-best/assets\n",
      "\u001b[34m\u001b[1mwandb\u001b[0m: Adding directory to artifact (/aiffel/aiffel/workspace/16_dlthon_1/fasttext_lstm/wandb/run-20240627_005006-iinazlcl/files/model-best)... Done. 0.0s\n"
     ]
    },
    {
     "name": "stdout",
     "output_type": "stream",
     "text": [
      "Epoch 4/50\n",
      "248/248 [==============================] - 1s 5ms/step - loss: 0.7425 - accuracy: 0.7255 - val_loss: 0.7148 - val_accuracy: 0.7278\n"
     ]
    },
    {
     "name": "stderr",
     "output_type": "stream",
     "text": [
      "WARNING:absl:Found untraced functions such as lstm_cell_layer_call_fn, lstm_cell_layer_call_and_return_conditional_losses, lstm_cell_1_layer_call_fn, lstm_cell_1_layer_call_and_return_conditional_losses, lstm_cell_layer_call_fn while saving (showing 5 of 10). These functions will not be directly callable after loading.\n"
     ]
    },
    {
     "name": "stdout",
     "output_type": "stream",
     "text": [
      "INFO:tensorflow:Assets written to: /aiffel/aiffel/workspace/16_dlthon_1/fasttext_lstm/wandb/run-20240627_005006-iinazlcl/files/model-best/assets\n"
     ]
    },
    {
     "name": "stderr",
     "output_type": "stream",
     "text": [
      "INFO:tensorflow:Assets written to: /aiffel/aiffel/workspace/16_dlthon_1/fasttext_lstm/wandb/run-20240627_005006-iinazlcl/files/model-best/assets\n",
      "\u001b[34m\u001b[1mwandb\u001b[0m: Adding directory to artifact (/aiffel/aiffel/workspace/16_dlthon_1/fasttext_lstm/wandb/run-20240627_005006-iinazlcl/files/model-best)... Done. 0.0s\n"
     ]
    },
    {
     "name": "stdout",
     "output_type": "stream",
     "text": [
      "Epoch 5/50\n",
      "248/248 [==============================] - 1s 5ms/step - loss: 0.7207 - accuracy: 0.7321 - val_loss: 0.7324 - val_accuracy: 0.7328\n",
      "Epoch 6/50\n",
      "248/248 [==============================] - 1s 5ms/step - loss: 0.7159 - accuracy: 0.7247 - val_loss: 0.6892 - val_accuracy: 0.7404\n"
     ]
    },
    {
     "name": "stderr",
     "output_type": "stream",
     "text": [
      "WARNING:absl:Found untraced functions such as lstm_cell_layer_call_fn, lstm_cell_layer_call_and_return_conditional_losses, lstm_cell_1_layer_call_fn, lstm_cell_1_layer_call_and_return_conditional_losses, lstm_cell_layer_call_fn while saving (showing 5 of 10). These functions will not be directly callable after loading.\n"
     ]
    },
    {
     "name": "stdout",
     "output_type": "stream",
     "text": [
      "INFO:tensorflow:Assets written to: /aiffel/aiffel/workspace/16_dlthon_1/fasttext_lstm/wandb/run-20240627_005006-iinazlcl/files/model-best/assets\n"
     ]
    },
    {
     "name": "stderr",
     "output_type": "stream",
     "text": [
      "INFO:tensorflow:Assets written to: /aiffel/aiffel/workspace/16_dlthon_1/fasttext_lstm/wandb/run-20240627_005006-iinazlcl/files/model-best/assets\n",
      "\u001b[34m\u001b[1mwandb\u001b[0m: Adding directory to artifact (/aiffel/aiffel/workspace/16_dlthon_1/fasttext_lstm/wandb/run-20240627_005006-iinazlcl/files/model-best)... Done. 0.0s\n"
     ]
    },
    {
     "name": "stdout",
     "output_type": "stream",
     "text": [
      "Epoch 7/50\n",
      "248/248 [==============================] - 1s 5ms/step - loss: 0.7047 - accuracy: 0.7389 - val_loss: 0.6867 - val_accuracy: 0.7399\n"
     ]
    },
    {
     "name": "stderr",
     "output_type": "stream",
     "text": [
      "WARNING:absl:Found untraced functions such as lstm_cell_layer_call_fn, lstm_cell_layer_call_and_return_conditional_losses, lstm_cell_1_layer_call_fn, lstm_cell_1_layer_call_and_return_conditional_losses, lstm_cell_layer_call_fn while saving (showing 5 of 10). These functions will not be directly callable after loading.\n"
     ]
    },
    {
     "name": "stdout",
     "output_type": "stream",
     "text": [
      "INFO:tensorflow:Assets written to: /aiffel/aiffel/workspace/16_dlthon_1/fasttext_lstm/wandb/run-20240627_005006-iinazlcl/files/model-best/assets\n"
     ]
    },
    {
     "name": "stderr",
     "output_type": "stream",
     "text": [
      "INFO:tensorflow:Assets written to: /aiffel/aiffel/workspace/16_dlthon_1/fasttext_lstm/wandb/run-20240627_005006-iinazlcl/files/model-best/assets\n",
      "\u001b[34m\u001b[1mwandb\u001b[0m: Adding directory to artifact (/aiffel/aiffel/workspace/16_dlthon_1/fasttext_lstm/wandb/run-20240627_005006-iinazlcl/files/model-best)... Done. 0.0s\n"
     ]
    },
    {
     "name": "stdout",
     "output_type": "stream",
     "text": [
      "Epoch 8/50\n",
      "248/248 [==============================] - 1s 5ms/step - loss: 0.6889 - accuracy: 0.7453 - val_loss: 0.7152 - val_accuracy: 0.7146\n",
      "Epoch 9/50\n",
      "248/248 [==============================] - 1s 5ms/step - loss: 0.6849 - accuracy: 0.7468 - val_loss: 0.6401 - val_accuracy: 0.7611\n"
     ]
    },
    {
     "name": "stderr",
     "output_type": "stream",
     "text": [
      "WARNING:absl:Found untraced functions such as lstm_cell_layer_call_fn, lstm_cell_layer_call_and_return_conditional_losses, lstm_cell_1_layer_call_fn, lstm_cell_1_layer_call_and_return_conditional_losses, lstm_cell_layer_call_fn while saving (showing 5 of 10). These functions will not be directly callable after loading.\n"
     ]
    },
    {
     "name": "stdout",
     "output_type": "stream",
     "text": [
      "INFO:tensorflow:Assets written to: /aiffel/aiffel/workspace/16_dlthon_1/fasttext_lstm/wandb/run-20240627_005006-iinazlcl/files/model-best/assets\n"
     ]
    },
    {
     "name": "stderr",
     "output_type": "stream",
     "text": [
      "INFO:tensorflow:Assets written to: /aiffel/aiffel/workspace/16_dlthon_1/fasttext_lstm/wandb/run-20240627_005006-iinazlcl/files/model-best/assets\n",
      "\u001b[34m\u001b[1mwandb\u001b[0m: Adding directory to artifact (/aiffel/aiffel/workspace/16_dlthon_1/fasttext_lstm/wandb/run-20240627_005006-iinazlcl/files/model-best)... Done. 0.0s\n"
     ]
    },
    {
     "name": "stdout",
     "output_type": "stream",
     "text": [
      "Epoch 10/50\n",
      "248/248 [==============================] - 1s 5ms/step - loss: 0.6768 - accuracy: 0.7504 - val_loss: 0.7169 - val_accuracy: 0.7237\n",
      "Epoch 11/50\n",
      "248/248 [==============================] - 1s 5ms/step - loss: 0.6702 - accuracy: 0.7501 - val_loss: 0.6590 - val_accuracy: 0.7475\n",
      "Epoch 12/50\n",
      "248/248 [==============================] - 1s 5ms/step - loss: 0.6549 - accuracy: 0.7547 - val_loss: 0.6963 - val_accuracy: 0.7237\n",
      "Epoch 13/50\n",
      "248/248 [==============================] - 1s 5ms/step - loss: 0.6467 - accuracy: 0.7610 - val_loss: 0.7004 - val_accuracy: 0.7419\n",
      "Epoch 14/50\n",
      "248/248 [==============================] - 1s 5ms/step - loss: 0.6476 - accuracy: 0.7625 - val_loss: 0.6953 - val_accuracy: 0.7364\n",
      "Epoch 00014: early stopping\n"
     ]
    },
    {
     "data": {
      "application/vnd.jupyter.widget-view+json": {
       "model_id": "",
       "version_major": 2,
       "version_minor": 0
      },
      "text/plain": [
       "VBox(children=(Label(value='22.699 MB of 22.699 MB uploaded (0.083 MB deduped)\\r'), FloatProgress(value=1.0, m…"
      ]
     },
     "metadata": {},
     "output_type": "display_data"
    },
    {
     "data": {
      "text/html": [
       "<style>\n",
       "    table.wandb td:nth-child(1) { padding: 0 10px; text-align: left ; width: auto;} td:nth-child(2) {text-align: left ; width: 100%}\n",
       "    .wandb-row { display: flex; flex-direction: row; flex-wrap: wrap; justify-content: flex-start; width: 100% }\n",
       "    .wandb-col { display: flex; flex-direction: column; flex-basis: 100%; flex: 1; padding: 10px; }\n",
       "    </style>\n",
       "<div class=\"wandb-row\"><div class=\"wandb-col\"><h3>Run history:</h3><br/><table class=\"wandb\"><tr><td>Validation Accuracy Rate: </td><td>▁</td></tr><tr><td>Validation Error Rate: </td><td>▁</td></tr><tr><td>accuracy</td><td>▁▆▇▇▇▇▇███████</td></tr><tr><td>epoch</td><td>▁▂▂▃▃▄▄▅▅▆▆▇▇█</td></tr><tr><td>loss</td><td>█▃▃▂▂▂▂▂▁▁▁▁▁▁</td></tr><tr><td>val_accuracy</td><td>▁▄▅▆▆▇▇▅█▆▇▆▇▆</td></tr><tr><td>val_loss</td><td>█▅▃▃▃▂▂▃▁▃▁▂▃▂</td></tr></table><br/></div><div class=\"wandb-col\"><h3>Run summary:</h3><br/><table class=\"wandb\"><tr><td>Validation Accuracy Rate: </td><td>73.64</td></tr><tr><td>Validation Error Rate: </td><td>26.36</td></tr><tr><td>accuracy</td><td>0.7625</td></tr><tr><td>best_epoch</td><td>8</td></tr><tr><td>best_val_loss</td><td>0.64011</td></tr><tr><td>epoch</td><td>13</td></tr><tr><td>loss</td><td>0.64761</td></tr><tr><td>val_accuracy</td><td>0.73636</td></tr><tr><td>val_loss</td><td>0.69534</td></tr></table><br/></div></div>"
      ],
      "text/plain": [
       "<IPython.core.display.HTML object>"
      ]
     },
     "metadata": {},
     "output_type": "display_data"
    },
    {
     "data": {
      "text/html": [
       " View run <strong style=\"color:#cdcd00\">hearty-sweep-9</strong> at: <a href='https://wandb.ai/devdchyeon/DLTHON/runs/iinazlcl' target=\"_blank\">https://wandb.ai/devdchyeon/DLTHON/runs/iinazlcl</a><br/>Synced 5 W&B file(s), 1 media file(s), 28 artifact file(s) and 1 other file(s)"
      ],
      "text/plain": [
       "<IPython.core.display.HTML object>"
      ]
     },
     "metadata": {},
     "output_type": "display_data"
    },
    {
     "data": {
      "text/html": [
       "Find logs at: <code>./wandb/run-20240627_005006-iinazlcl/logs</code>"
      ],
      "text/plain": [
       "<IPython.core.display.HTML object>"
      ]
     },
     "metadata": {},
     "output_type": "display_data"
    },
    {
     "name": "stderr",
     "output_type": "stream",
     "text": [
      "\u001b[34m\u001b[1mwandb\u001b[0m: Sweep Agent: Waiting for job.\n",
      "\u001b[34m\u001b[1mwandb\u001b[0m: Job received.\n",
      "\u001b[34m\u001b[1mwandb\u001b[0m: Agent Starting Run: wwhgmkj9 with config:\n",
      "\u001b[34m\u001b[1mwandb\u001b[0m: \tbatch_size: 32\n",
      "\u001b[34m\u001b[1mwandb\u001b[0m: \tdropout_rate: 0.2\n",
      "\u001b[34m\u001b[1mwandb\u001b[0m: \tlearning_rate: 0.005\n",
      "\u001b[34m\u001b[1mwandb\u001b[0m: \tunits: 32\n"
     ]
    },
    {
     "data": {
      "text/html": [
       "wandb version 0.17.3 is available!  To upgrade, please run:\n",
       " $ pip install wandb --upgrade"
      ],
      "text/plain": [
       "<IPython.core.display.HTML object>"
      ]
     },
     "metadata": {},
     "output_type": "display_data"
    },
    {
     "data": {
      "text/html": [
       "Tracking run with wandb version 0.16.0"
      ],
      "text/plain": [
       "<IPython.core.display.HTML object>"
      ]
     },
     "metadata": {},
     "output_type": "display_data"
    },
    {
     "data": {
      "text/html": [
       "Run data is saved locally in <code>/aiffel/aiffel/workspace/16_dlthon_1/fasttext_lstm/wandb/run-20240627_005137-wwhgmkj9</code>"
      ],
      "text/plain": [
       "<IPython.core.display.HTML object>"
      ]
     },
     "metadata": {},
     "output_type": "display_data"
    },
    {
     "data": {
      "text/html": [
       "Syncing run <strong><a href='https://wandb.ai/devdchyeon/DLTHON/runs/wwhgmkj9' target=\"_blank\">splendid-sweep-10</a></strong> to <a href='https://wandb.ai/devdchyeon/DLTHON' target=\"_blank\">Weights & Biases</a> (<a href='https://wandb.me/run' target=\"_blank\">docs</a>)<br/>Sweep page: <a href='https://wandb.ai/devdchyeon/DLTHON/sweeps/k94x0hcc' target=\"_blank\">https://wandb.ai/devdchyeon/DLTHON/sweeps/k94x0hcc</a>"
      ],
      "text/plain": [
       "<IPython.core.display.HTML object>"
      ]
     },
     "metadata": {},
     "output_type": "display_data"
    },
    {
     "data": {
      "text/html": [
       " View project at <a href='https://wandb.ai/devdchyeon/DLTHON' target=\"_blank\">https://wandb.ai/devdchyeon/DLTHON</a>"
      ],
      "text/plain": [
       "<IPython.core.display.HTML object>"
      ]
     },
     "metadata": {},
     "output_type": "display_data"
    },
    {
     "data": {
      "text/html": [
       " View sweep at <a href='https://wandb.ai/devdchyeon/DLTHON/sweeps/k94x0hcc' target=\"_blank\">https://wandb.ai/devdchyeon/DLTHON/sweeps/k94x0hcc</a>"
      ],
      "text/plain": [
       "<IPython.core.display.HTML object>"
      ]
     },
     "metadata": {},
     "output_type": "display_data"
    },
    {
     "data": {
      "text/html": [
       " View run at <a href='https://wandb.ai/devdchyeon/DLTHON/runs/wwhgmkj9' target=\"_blank\">https://wandb.ai/devdchyeon/DLTHON/runs/wwhgmkj9</a>"
      ],
      "text/plain": [
       "<IPython.core.display.HTML object>"
      ]
     },
     "metadata": {},
     "output_type": "display_data"
    },
    {
     "name": "stdout",
     "output_type": "stream",
     "text": [
      "Epoch 1/50\n",
      "248/248 [==============================] - 4s 7ms/step - loss: 1.2744 - accuracy: 0.4508 - val_loss: 0.9189 - val_accuracy: 0.6399\n"
     ]
    },
    {
     "name": "stderr",
     "output_type": "stream",
     "text": [
      "WARNING:absl:Found untraced functions such as lstm_cell_layer_call_fn, lstm_cell_layer_call_and_return_conditional_losses, lstm_cell_1_layer_call_fn, lstm_cell_1_layer_call_and_return_conditional_losses, lstm_cell_layer_call_fn while saving (showing 5 of 10). These functions will not be directly callable after loading.\n"
     ]
    },
    {
     "name": "stdout",
     "output_type": "stream",
     "text": [
      "INFO:tensorflow:Assets written to: /aiffel/aiffel/workspace/16_dlthon_1/fasttext_lstm/wandb/run-20240627_005137-wwhgmkj9/files/model-best/assets\n"
     ]
    },
    {
     "name": "stderr",
     "output_type": "stream",
     "text": [
      "INFO:tensorflow:Assets written to: /aiffel/aiffel/workspace/16_dlthon_1/fasttext_lstm/wandb/run-20240627_005137-wwhgmkj9/files/model-best/assets\n",
      "\u001b[34m\u001b[1mwandb\u001b[0m: Adding directory to artifact (/aiffel/aiffel/workspace/16_dlthon_1/fasttext_lstm/wandb/run-20240627_005137-wwhgmkj9/files/model-best)... Done. 0.0s\n"
     ]
    },
    {
     "name": "stdout",
     "output_type": "stream",
     "text": [
      "Epoch 2/50\n",
      "248/248 [==============================] - 1s 5ms/step - loss: 0.8882 - accuracy: 0.6652 - val_loss: 0.7731 - val_accuracy: 0.7066\n"
     ]
    },
    {
     "name": "stderr",
     "output_type": "stream",
     "text": [
      "WARNING:absl:Found untraced functions such as lstm_cell_layer_call_fn, lstm_cell_layer_call_and_return_conditional_losses, lstm_cell_1_layer_call_fn, lstm_cell_1_layer_call_and_return_conditional_losses, lstm_cell_layer_call_fn while saving (showing 5 of 10). These functions will not be directly callable after loading.\n"
     ]
    },
    {
     "name": "stdout",
     "output_type": "stream",
     "text": [
      "INFO:tensorflow:Assets written to: /aiffel/aiffel/workspace/16_dlthon_1/fasttext_lstm/wandb/run-20240627_005137-wwhgmkj9/files/model-best/assets\n"
     ]
    },
    {
     "name": "stderr",
     "output_type": "stream",
     "text": [
      "INFO:tensorflow:Assets written to: /aiffel/aiffel/workspace/16_dlthon_1/fasttext_lstm/wandb/run-20240627_005137-wwhgmkj9/files/model-best/assets\n",
      "\u001b[34m\u001b[1mwandb\u001b[0m: Adding directory to artifact (/aiffel/aiffel/workspace/16_dlthon_1/fasttext_lstm/wandb/run-20240627_005137-wwhgmkj9/files/model-best)... Done. 0.0s\n"
     ]
    },
    {
     "name": "stdout",
     "output_type": "stream",
     "text": [
      "Epoch 3/50\n",
      "248/248 [==============================] - 1s 5ms/step - loss: 0.8311 - accuracy: 0.6857 - val_loss: 0.8062 - val_accuracy: 0.6985\n",
      "Epoch 4/50\n",
      "248/248 [==============================] - 1s 5ms/step - loss: 0.7735 - accuracy: 0.7107 - val_loss: 0.8057 - val_accuracy: 0.6854\n",
      "Epoch 5/50\n",
      "248/248 [==============================] - 1s 5ms/step - loss: 0.7541 - accuracy: 0.7239 - val_loss: 0.7039 - val_accuracy: 0.7359\n"
     ]
    },
    {
     "name": "stderr",
     "output_type": "stream",
     "text": [
      "WARNING:absl:Found untraced functions such as lstm_cell_layer_call_fn, lstm_cell_layer_call_and_return_conditional_losses, lstm_cell_1_layer_call_fn, lstm_cell_1_layer_call_and_return_conditional_losses, lstm_cell_layer_call_fn while saving (showing 5 of 10). These functions will not be directly callable after loading.\n"
     ]
    },
    {
     "name": "stdout",
     "output_type": "stream",
     "text": [
      "INFO:tensorflow:Assets written to: /aiffel/aiffel/workspace/16_dlthon_1/fasttext_lstm/wandb/run-20240627_005137-wwhgmkj9/files/model-best/assets\n"
     ]
    },
    {
     "name": "stderr",
     "output_type": "stream",
     "text": [
      "INFO:tensorflow:Assets written to: /aiffel/aiffel/workspace/16_dlthon_1/fasttext_lstm/wandb/run-20240627_005137-wwhgmkj9/files/model-best/assets\n",
      "\u001b[34m\u001b[1mwandb\u001b[0m: Adding directory to artifact (/aiffel/aiffel/workspace/16_dlthon_1/fasttext_lstm/wandb/run-20240627_005137-wwhgmkj9/files/model-best)... Done. 0.0s\n"
     ]
    },
    {
     "name": "stdout",
     "output_type": "stream",
     "text": [
      "Epoch 6/50\n",
      "248/248 [==============================] - 1s 5ms/step - loss: 0.7324 - accuracy: 0.7292 - val_loss: 0.7067 - val_accuracy: 0.7293\n",
      "Epoch 7/50\n",
      "248/248 [==============================] - 1s 5ms/step - loss: 0.7308 - accuracy: 0.7279 - val_loss: 0.7387 - val_accuracy: 0.7116\n",
      "Epoch 8/50\n",
      "248/248 [==============================] - 1s 5ms/step - loss: 0.7143 - accuracy: 0.7311 - val_loss: 0.7200 - val_accuracy: 0.7288\n",
      "Epoch 9/50\n",
      "248/248 [==============================] - 1s 5ms/step - loss: 0.6969 - accuracy: 0.7455 - val_loss: 0.6847 - val_accuracy: 0.7470\n"
     ]
    },
    {
     "name": "stderr",
     "output_type": "stream",
     "text": [
      "WARNING:absl:Found untraced functions such as lstm_cell_layer_call_fn, lstm_cell_layer_call_and_return_conditional_losses, lstm_cell_1_layer_call_fn, lstm_cell_1_layer_call_and_return_conditional_losses, lstm_cell_layer_call_fn while saving (showing 5 of 10). These functions will not be directly callable after loading.\n"
     ]
    },
    {
     "name": "stdout",
     "output_type": "stream",
     "text": [
      "INFO:tensorflow:Assets written to: /aiffel/aiffel/workspace/16_dlthon_1/fasttext_lstm/wandb/run-20240627_005137-wwhgmkj9/files/model-best/assets\n"
     ]
    },
    {
     "name": "stderr",
     "output_type": "stream",
     "text": [
      "INFO:tensorflow:Assets written to: /aiffel/aiffel/workspace/16_dlthon_1/fasttext_lstm/wandb/run-20240627_005137-wwhgmkj9/files/model-best/assets\n",
      "\u001b[34m\u001b[1mwandb\u001b[0m: Adding directory to artifact (/aiffel/aiffel/workspace/16_dlthon_1/fasttext_lstm/wandb/run-20240627_005137-wwhgmkj9/files/model-best)... Done. 0.0s\n"
     ]
    },
    {
     "name": "stdout",
     "output_type": "stream",
     "text": [
      "Epoch 10/50\n",
      "248/248 [==============================] - 1s 5ms/step - loss: 0.6855 - accuracy: 0.7475 - val_loss: 0.6585 - val_accuracy: 0.7485\n"
     ]
    },
    {
     "name": "stderr",
     "output_type": "stream",
     "text": [
      "WARNING:absl:Found untraced functions such as lstm_cell_layer_call_fn, lstm_cell_layer_call_and_return_conditional_losses, lstm_cell_1_layer_call_fn, lstm_cell_1_layer_call_and_return_conditional_losses, lstm_cell_layer_call_fn while saving (showing 5 of 10). These functions will not be directly callable after loading.\n"
     ]
    },
    {
     "name": "stdout",
     "output_type": "stream",
     "text": [
      "INFO:tensorflow:Assets written to: /aiffel/aiffel/workspace/16_dlthon_1/fasttext_lstm/wandb/run-20240627_005137-wwhgmkj9/files/model-best/assets\n"
     ]
    },
    {
     "name": "stderr",
     "output_type": "stream",
     "text": [
      "INFO:tensorflow:Assets written to: /aiffel/aiffel/workspace/16_dlthon_1/fasttext_lstm/wandb/run-20240627_005137-wwhgmkj9/files/model-best/assets\n",
      "\u001b[34m\u001b[1mwandb\u001b[0m: Adding directory to artifact (/aiffel/aiffel/workspace/16_dlthon_1/fasttext_lstm/wandb/run-20240627_005137-wwhgmkj9/files/model-best)... Done. 0.0s\n"
     ]
    },
    {
     "name": "stdout",
     "output_type": "stream",
     "text": [
      "Epoch 11/50\n",
      "248/248 [==============================] - 1s 5ms/step - loss: 0.7015 - accuracy: 0.7415 - val_loss: 0.6651 - val_accuracy: 0.7414\n",
      "Epoch 12/50\n",
      "248/248 [==============================] - 1s 5ms/step - loss: 0.6838 - accuracy: 0.7470 - val_loss: 0.6536 - val_accuracy: 0.7551\n"
     ]
    },
    {
     "name": "stderr",
     "output_type": "stream",
     "text": [
      "WARNING:absl:Found untraced functions such as lstm_cell_layer_call_fn, lstm_cell_layer_call_and_return_conditional_losses, lstm_cell_1_layer_call_fn, lstm_cell_1_layer_call_and_return_conditional_losses, lstm_cell_layer_call_fn while saving (showing 5 of 10). These functions will not be directly callable after loading.\n"
     ]
    },
    {
     "name": "stdout",
     "output_type": "stream",
     "text": [
      "INFO:tensorflow:Assets written to: /aiffel/aiffel/workspace/16_dlthon_1/fasttext_lstm/wandb/run-20240627_005137-wwhgmkj9/files/model-best/assets\n"
     ]
    },
    {
     "name": "stderr",
     "output_type": "stream",
     "text": [
      "INFO:tensorflow:Assets written to: /aiffel/aiffel/workspace/16_dlthon_1/fasttext_lstm/wandb/run-20240627_005137-wwhgmkj9/files/model-best/assets\n",
      "\u001b[34m\u001b[1mwandb\u001b[0m: Adding directory to artifact (/aiffel/aiffel/workspace/16_dlthon_1/fasttext_lstm/wandb/run-20240627_005137-wwhgmkj9/files/model-best)... Done. 0.0s\n"
     ]
    },
    {
     "name": "stdout",
     "output_type": "stream",
     "text": [
      "Epoch 13/50\n",
      "248/248 [==============================] - 1s 5ms/step - loss: 0.6765 - accuracy: 0.7497 - val_loss: 0.6494 - val_accuracy: 0.7576\n"
     ]
    },
    {
     "name": "stderr",
     "output_type": "stream",
     "text": [
      "WARNING:absl:Found untraced functions such as lstm_cell_layer_call_fn, lstm_cell_layer_call_and_return_conditional_losses, lstm_cell_1_layer_call_fn, lstm_cell_1_layer_call_and_return_conditional_losses, lstm_cell_layer_call_fn while saving (showing 5 of 10). These functions will not be directly callable after loading.\n"
     ]
    },
    {
     "name": "stdout",
     "output_type": "stream",
     "text": [
      "INFO:tensorflow:Assets written to: /aiffel/aiffel/workspace/16_dlthon_1/fasttext_lstm/wandb/run-20240627_005137-wwhgmkj9/files/model-best/assets\n"
     ]
    },
    {
     "name": "stderr",
     "output_type": "stream",
     "text": [
      "INFO:tensorflow:Assets written to: /aiffel/aiffel/workspace/16_dlthon_1/fasttext_lstm/wandb/run-20240627_005137-wwhgmkj9/files/model-best/assets\n",
      "\u001b[34m\u001b[1mwandb\u001b[0m: Adding directory to artifact (/aiffel/aiffel/workspace/16_dlthon_1/fasttext_lstm/wandb/run-20240627_005137-wwhgmkj9/files/model-best)... Done. 0.0s\n"
     ]
    },
    {
     "name": "stdout",
     "output_type": "stream",
     "text": [
      "Epoch 14/50\n",
      "248/248 [==============================] - 1s 5ms/step - loss: 0.6655 - accuracy: 0.7564 - val_loss: 0.6485 - val_accuracy: 0.7596\n"
     ]
    },
    {
     "name": "stderr",
     "output_type": "stream",
     "text": [
      "WARNING:absl:Found untraced functions such as lstm_cell_layer_call_fn, lstm_cell_layer_call_and_return_conditional_losses, lstm_cell_1_layer_call_fn, lstm_cell_1_layer_call_and_return_conditional_losses, lstm_cell_layer_call_fn while saving (showing 5 of 10). These functions will not be directly callable after loading.\n"
     ]
    },
    {
     "name": "stdout",
     "output_type": "stream",
     "text": [
      "INFO:tensorflow:Assets written to: /aiffel/aiffel/workspace/16_dlthon_1/fasttext_lstm/wandb/run-20240627_005137-wwhgmkj9/files/model-best/assets\n"
     ]
    },
    {
     "name": "stderr",
     "output_type": "stream",
     "text": [
      "INFO:tensorflow:Assets written to: /aiffel/aiffel/workspace/16_dlthon_1/fasttext_lstm/wandb/run-20240627_005137-wwhgmkj9/files/model-best/assets\n",
      "\u001b[34m\u001b[1mwandb\u001b[0m: Adding directory to artifact (/aiffel/aiffel/workspace/16_dlthon_1/fasttext_lstm/wandb/run-20240627_005137-wwhgmkj9/files/model-best)... Done. 0.0s\n"
     ]
    },
    {
     "name": "stdout",
     "output_type": "stream",
     "text": [
      "Epoch 15/50\n",
      "248/248 [==============================] - 1s 5ms/step - loss: 0.6600 - accuracy: 0.7543 - val_loss: 0.6847 - val_accuracy: 0.7414\n",
      "Epoch 16/50\n",
      "248/248 [==============================] - 1s 5ms/step - loss: 0.6544 - accuracy: 0.7591 - val_loss: 0.6541 - val_accuracy: 0.7556\n",
      "Epoch 17/50\n",
      "248/248 [==============================] - 1s 5ms/step - loss: 0.6525 - accuracy: 0.7598 - val_loss: 0.6833 - val_accuracy: 0.7525\n",
      "Epoch 18/50\n",
      "248/248 [==============================] - 1s 5ms/step - loss: 0.6601 - accuracy: 0.7597 - val_loss: 0.6570 - val_accuracy: 0.7540\n",
      "Epoch 19/50\n",
      "248/248 [==============================] - 1s 5ms/step - loss: 0.6482 - accuracy: 0.7635 - val_loss: 0.6626 - val_accuracy: 0.7540\n",
      "Epoch 00019: early stopping\n"
     ]
    },
    {
     "data": {
      "application/vnd.jupyter.widget-view+json": {
       "model_id": "",
       "version_major": 2,
       "version_minor": 0
      },
      "text/plain": [
       "VBox(children=(Label(value='17.930 MB of 17.930 MB uploaded (0.097 MB deduped)\\r'), FloatProgress(value=1.0, m…"
      ]
     },
     "metadata": {},
     "output_type": "display_data"
    },
    {
     "data": {
      "text/html": [
       "<style>\n",
       "    table.wandb td:nth-child(1) { padding: 0 10px; text-align: left ; width: auto;} td:nth-child(2) {text-align: left ; width: 100%}\n",
       "    .wandb-row { display: flex; flex-direction: row; flex-wrap: wrap; justify-content: flex-start; width: 100% }\n",
       "    .wandb-col { display: flex; flex-direction: column; flex-basis: 100%; flex: 1; padding: 10px; }\n",
       "    </style>\n",
       "<div class=\"wandb-row\"><div class=\"wandb-col\"><h3>Run history:</h3><br/><table class=\"wandb\"><tr><td>Validation Accuracy Rate: </td><td>▁</td></tr><tr><td>Validation Error Rate: </td><td>▁</td></tr><tr><td>accuracy</td><td>▁▆▆▇▇▇▇▇███████████</td></tr><tr><td>epoch</td><td>▁▁▂▂▃▃▃▄▄▅▅▅▆▆▆▇▇██</td></tr><tr><td>loss</td><td>█▄▃▂▂▂▂▂▂▁▂▁▁▁▁▁▁▁▁</td></tr><tr><td>val_accuracy</td><td>▁▅▄▄▇▆▅▆▇▇▇███▇████</td></tr><tr><td>val_loss</td><td>█▄▅▅▂▃▃▃▂▁▁▁▁▁▂▁▂▁▁</td></tr></table><br/></div><div class=\"wandb-col\"><h3>Run summary:</h3><br/><table class=\"wandb\"><tr><td>Validation Accuracy Rate: </td><td>75.4</td></tr><tr><td>Validation Error Rate: </td><td>24.6</td></tr><tr><td>accuracy</td><td>0.76351</td></tr><tr><td>best_epoch</td><td>13</td></tr><tr><td>best_val_loss</td><td>0.6485</td></tr><tr><td>epoch</td><td>18</td></tr><tr><td>loss</td><td>0.6482</td></tr><tr><td>val_accuracy</td><td>0.75404</td></tr><tr><td>val_loss</td><td>0.66258</td></tr></table><br/></div></div>"
      ],
      "text/plain": [
       "<IPython.core.display.HTML object>"
      ]
     },
     "metadata": {},
     "output_type": "display_data"
    },
    {
     "data": {
      "text/html": [
       " View run <strong style=\"color:#cdcd00\">splendid-sweep-10</strong> at: <a href='https://wandb.ai/devdchyeon/DLTHON/runs/wwhgmkj9' target=\"_blank\">https://wandb.ai/devdchyeon/DLTHON/runs/wwhgmkj9</a><br/>Synced 5 W&B file(s), 1 media file(s), 32 artifact file(s) and 1 other file(s)"
      ],
      "text/plain": [
       "<IPython.core.display.HTML object>"
      ]
     },
     "metadata": {},
     "output_type": "display_data"
    },
    {
     "data": {
      "text/html": [
       "Find logs at: <code>./wandb/run-20240627_005137-wwhgmkj9/logs</code>"
      ],
      "text/plain": [
       "<IPython.core.display.HTML object>"
      ]
     },
     "metadata": {},
     "output_type": "display_data"
    }
   ],
   "source": [
    "# entity와 project에 본인의 아이디와 프로젝트명을 입력하세요\n",
    "\n",
    "sweep_id = wandb.sweep(sweep_config,\n",
    "                       entity = 'devdchyeon',\n",
    "                       project = 'DLTHON')\n",
    "\n",
    "# run the sweep\n",
    "wandb.agent(sweep_id,\n",
    "            function=train,\n",
    "            count=10)"
   ]
  },
  {
   "cell_type": "code",
   "execution_count": null,
   "id": "487e2995",
   "metadata": {},
   "outputs": [],
   "source": []
  },
  {
   "cell_type": "code",
   "execution_count": null,
   "id": "265d87a1",
   "metadata": {},
   "outputs": [],
   "source": []
  },
  {
   "cell_type": "code",
   "execution_count": null,
   "id": "19c99763",
   "metadata": {},
   "outputs": [],
   "source": []
  }
 ],
 "metadata": {
  "kernelspec": {
   "display_name": "Python 3 (ipykernel)",
   "language": "python",
   "name": "python3"
  },
  "language_info": {
   "codemirror_mode": {
    "name": "ipython",
    "version": 3
   },
   "file_extension": ".py",
   "mimetype": "text/x-python",
   "name": "python",
   "nbconvert_exporter": "python",
   "pygments_lexer": "ipython3",
   "version": "3.9.7"
  }
 },
 "nbformat": 4,
 "nbformat_minor": 5
}
