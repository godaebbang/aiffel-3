{
 "cells": [
  {
   "cell_type": "code",
   "execution_count": 1,
   "id": "9aa00eff",
   "metadata": {},
   "outputs": [],
   "source": [
    "import pandas as pd"
   ]
  },
  {
   "cell_type": "code",
   "execution_count": 2,
   "id": "7724cd52",
   "metadata": {},
   "outputs": [
    {
     "data": {
      "text/html": [
       "<div>\n",
       "<style scoped>\n",
       "    .dataframe tbody tr th:only-of-type {\n",
       "        vertical-align: middle;\n",
       "    }\n",
       "\n",
       "    .dataframe tbody tr th {\n",
       "        vertical-align: top;\n",
       "    }\n",
       "\n",
       "    .dataframe thead th {\n",
       "        text-align: right;\n",
       "    }\n",
       "</style>\n",
       "<table border=\"1\" class=\"dataframe\">\n",
       "  <thead>\n",
       "    <tr style=\"text-align: right;\">\n",
       "      <th></th>\n",
       "      <th>idx</th>\n",
       "      <th>class</th>\n",
       "      <th>conversation</th>\n",
       "      <th>label</th>\n",
       "    </tr>\n",
       "  </thead>\n",
       "  <tbody>\n",
       "    <tr>\n",
       "      <th>0</th>\n",
       "      <td>0</td>\n",
       "      <td>협박 대화</td>\n",
       "      <td>지금 너 스스로를 죽여달라고 애원하는 것인가 ? 아닙니다 . 죄송합니다 . 죽을 거...</td>\n",
       "      <td>0</td>\n",
       "    </tr>\n",
       "    <tr>\n",
       "      <th>1</th>\n",
       "      <td>0</td>\n",
       "      <td>협박 대화</td>\n",
       "      <td>. 죄송합니다 . 정말 잘못했습니다 . 너에게는 선택권이 없어 . 선택 못한다면 너...</td>\n",
       "      <td>0</td>\n",
       "    </tr>\n",
       "    <tr>\n",
       "      <th>2</th>\n",
       "      <td>1</td>\n",
       "      <td>협박 대화</td>\n",
       "      <td>길동경찰서입니다 . 9시 40분 마트에 폭발물을 설치할거다 . 네 ? 똑바로 들어 ...</td>\n",
       "      <td>0</td>\n",
       "    </tr>\n",
       "    <tr>\n",
       "      <th>3</th>\n",
       "      <td>1</td>\n",
       "      <td>협박 대화</td>\n",
       "      <td>. 장난전화는 업무방해죄에 해당됩니다 . 판단은 너에게 달려있다 . 길동경찰서에도...</td>\n",
       "      <td>0</td>\n",
       "    </tr>\n",
       "    <tr>\n",
       "      <th>4</th>\n",
       "      <td>2</td>\n",
       "      <td>기타 괴롭힘 대화</td>\n",
       "      <td>너 되게 귀여운거 알지 ? 나보다 작은 남자는 첨봤어 . 그만해 . 니들 놀리는거 ...</td>\n",
       "      <td>3</td>\n",
       "    </tr>\n",
       "  </tbody>\n",
       "</table>\n",
       "</div>"
      ],
      "text/plain": [
       "   idx      class                                       conversation  label\n",
       "0    0      협박 대화  지금 너 스스로를 죽여달라고 애원하는 것인가 ? 아닙니다 . 죄송합니다 . 죽을 거...      0\n",
       "1    0      협박 대화  . 죄송합니다 . 정말 잘못했습니다 . 너에게는 선택권이 없어 . 선택 못한다면 너...      0\n",
       "2    1      협박 대화  길동경찰서입니다 . 9시 40분 마트에 폭발물을 설치할거다 . 네 ? 똑바로 들어 ...      0\n",
       "3    1      협박 대화   . 장난전화는 업무방해죄에 해당됩니다 . 판단은 너에게 달려있다 . 길동경찰서에도...      0\n",
       "4    2  기타 괴롭힘 대화  너 되게 귀여운거 알지 ? 나보다 작은 남자는 첨봤어 . 그만해 . 니들 놀리는거 ...      3"
      ]
     },
     "execution_count": 2,
     "metadata": {},
     "output_type": "execute_result"
    }
   ],
   "source": [
    "base_dir = './data/'\n",
    "\n",
    "data = pd.read_csv(base_dir + 'custom_train_2.csv')\n",
    "data.head()"
   ]
  },
  {
   "cell_type": "markdown",
   "id": "2cf14bc5",
   "metadata": {},
   "source": [
    "# fasttext txt준비"
   ]
  },
  {
   "cell_type": "code",
   "execution_count": 3,
   "id": "85880fb9",
   "metadata": {},
   "outputs": [
    {
     "data": {
      "text/plain": [
       "0       __label__0    지금 너 스스로를 죽여달라고 애원하는 것인가 ? 아닙니다 ...\n",
       "1       __label__0    . 죄송합니다 . 정말 잘못했습니다 . 너에게는 선택권이 ...\n",
       "2       __label__0    길동경찰서입니다 . 9시 40분 마트에 폭발물을 설치할거다...\n",
       "3       __label__0     . 장난전화는 업무방해죄에 해당됩니다 . 판단은 너에게 ...\n",
       "4       __label__3    너 되게 귀여운거 알지 ? 나보다 작은 남자는 첨봤어 . ...\n",
       "                              ...                        \n",
       "9895    __label__4    얘들아 비트코인 일억 간다는 소리가 있던데 지금 풀매수 할...\n",
       "9896    __label__4    엄마 코로나 백신 2차까지 다 맞았다고 했지 ? 엄마는 다...\n",
       "9897    __label__4    가을이라 식욕 돋아서 먹방 여행 가고 싶어요저는 예전에 죽...\n",
       "9898    __label__4    아니 우주 여행 가는 거 아십니까 ? 우주 여행 돈이 집 ...\n",
       "9899    __label__4    나는 그때 손목 아파서 병원 오래 다녔어허허이 . . . ...\n",
       "Length: 9900, dtype: object"
      ]
     },
     "execution_count": 3,
     "metadata": {},
     "output_type": "execute_result"
    }
   ],
   "source": [
    "def add_label(x):\n",
    "    label = x['label']\n",
    "    return f'''__label__{label}    {x['conversation']}'''\n",
    "    \n",
    "\n",
    "add_label_text = data.apply(add_label, axis=1)\n",
    "add_label_text"
   ]
  },
  {
   "cell_type": "code",
   "execution_count": 4,
   "id": "15b76a8e",
   "metadata": {},
   "outputs": [],
   "source": [
    "# fasttext 입력으로 주려고 txt 파일 준비\n",
    "file_path = 'input_fasttext_conversation.txt'\n",
    "\n",
    "with open(file_path, 'w', encoding='utf8') as f:\n",
    "    f.write('\\n'.join(add_label_text))"
   ]
  },
  {
   "cell_type": "markdown",
   "id": "5db538fc",
   "metadata": {},
   "source": [
    "# Model"
   ]
  },
  {
   "cell_type": "code",
   "execution_count": 5,
   "id": "b4b177d7",
   "metadata": {},
   "outputs": [
    {
     "name": "stdout",
     "output_type": "stream",
     "text": [
      "Requirement already satisfied: wandb==0.16.0 in /opt/conda/lib/python3.9/site-packages (0.16.0)\n",
      "Requirement already satisfied: psutil>=5.0.0 in /opt/conda/lib/python3.9/site-packages (from wandb==0.16.0) (5.8.0)\n",
      "Requirement already satisfied: sentry-sdk>=1.0.0 in /opt/conda/lib/python3.9/site-packages (from wandb==0.16.0) (2.7.0)\n",
      "Requirement already satisfied: setuptools in /opt/conda/lib/python3.9/site-packages (from wandb==0.16.0) (59.4.0)\n",
      "Requirement already satisfied: protobuf!=4.21.0,<5,>=3.15.0 in /opt/conda/lib/python3.9/site-packages (from wandb==0.16.0) (3.19.1)\n",
      "Requirement already satisfied: GitPython!=3.1.29,>=1.0.0 in /opt/conda/lib/python3.9/site-packages (from wandb==0.16.0) (3.1.43)\n",
      "Requirement already satisfied: appdirs>=1.4.3 in /opt/conda/lib/python3.9/site-packages (from wandb==0.16.0) (1.4.4)\n",
      "Requirement already satisfied: requests<3,>=2.0.0 in /opt/conda/lib/python3.9/site-packages (from wandb==0.16.0) (2.26.0)\n",
      "Requirement already satisfied: PyYAML in /opt/conda/lib/python3.9/site-packages (from wandb==0.16.0) (6.0)\n",
      "Requirement already satisfied: setproctitle in /opt/conda/lib/python3.9/site-packages (from wandb==0.16.0) (1.3.3)\n",
      "Requirement already satisfied: typing-extensions in /opt/conda/lib/python3.9/site-packages (from wandb==0.16.0) (4.0.1)\n",
      "Requirement already satisfied: docker-pycreds>=0.4.0 in /opt/conda/lib/python3.9/site-packages (from wandb==0.16.0) (0.4.0)\n",
      "Requirement already satisfied: Click!=8.0.0,>=7.1 in /opt/conda/lib/python3.9/site-packages (from wandb==0.16.0) (8.0.3)\n",
      "Requirement already satisfied: six>=1.4.0 in /opt/conda/lib/python3.9/site-packages (from docker-pycreds>=0.4.0->wandb==0.16.0) (1.16.0)\n",
      "Requirement already satisfied: gitdb<5,>=4.0.1 in /opt/conda/lib/python3.9/site-packages (from GitPython!=3.1.29,>=1.0.0->wandb==0.16.0) (4.0.11)\n",
      "Requirement already satisfied: certifi>=2017.4.17 in /opt/conda/lib/python3.9/site-packages (from requests<3,>=2.0.0->wandb==0.16.0) (2021.10.8)\n",
      "Requirement already satisfied: idna<4,>=2.5 in /opt/conda/lib/python3.9/site-packages (from requests<3,>=2.0.0->wandb==0.16.0) (2.10)\n",
      "Requirement already satisfied: charset-normalizer~=2.0.0 in /opt/conda/lib/python3.9/site-packages (from requests<3,>=2.0.0->wandb==0.16.0) (2.0.8)\n",
      "Requirement already satisfied: urllib3<1.27,>=1.21.1 in /opt/conda/lib/python3.9/site-packages (from requests<3,>=2.0.0->wandb==0.16.0) (1.26.19)\n",
      "Requirement already satisfied: smmap<6,>=3.0.1 in /opt/conda/lib/python3.9/site-packages (from gitdb<5,>=4.0.1->GitPython!=3.1.29,>=1.0.0->wandb==0.16.0) (5.0.1)\n",
      "\u001b[33mWARNING: Running pip as the 'root' user can result in broken permissions and conflicting behaviour with the system package manager. It is recommended to use a virtual environment instead: https://pip.pypa.io/warnings/venv\u001b[0m\n"
     ]
    }
   ],
   "source": [
    "!pip install wandb==0.16.0"
   ]
  },
  {
   "cell_type": "code",
   "execution_count": 6,
   "id": "ba452b06",
   "metadata": {},
   "outputs": [
    {
     "name": "stderr",
     "output_type": "stream",
     "text": [
      "\u001b[34m\u001b[1mwandb\u001b[0m: Currently logged in as: \u001b[33mdev-dc-hyeon\u001b[0m (\u001b[33mdevdchyeon\u001b[0m). Use \u001b[1m`wandb login --relogin`\u001b[0m to force relogin\n",
      "\u001b[34m\u001b[1mwandb\u001b[0m: \u001b[33mWARNING\u001b[0m If you're specifying your api key in code, ensure this code is not shared publicly.\n",
      "\u001b[34m\u001b[1mwandb\u001b[0m: \u001b[33mWARNING\u001b[0m Consider setting the WANDB_API_KEY environment variable, or running `wandb login` from the command line.\n",
      "\u001b[34m\u001b[1mwandb\u001b[0m: Appending key for api.wandb.ai to your netrc file: /aiffel/.netrc\n"
     ]
    },
    {
     "data": {
      "text/plain": [
       "True"
      ]
     },
     "execution_count": 6,
     "metadata": {},
     "output_type": "execute_result"
    }
   ],
   "source": [
    "import wandb\n",
    "\n",
    "# wandb.login(key = 'YOUR KEY')"
   ]
  },
  {
   "cell_type": "code",
   "execution_count": 7,
   "id": "9cf9e417",
   "metadata": {},
   "outputs": [],
   "source": [
    "#                                       epoch=100,\n",
    "#                                       bucket = 20000,\n",
    "#                                       lr = 1,\n",
    "#                                       wordNgrams=2,\n",
    "#                                       dim=100,\n",
    "\n",
    "\n",
    "# 하이퍼파라미터 검색 공간 정의\n",
    "sweep_config = {\n",
    "    \"name\": \"fasttext_sweep_4\",\n",
    "    'method': 'bayes',  # Random search 방식으로 하이퍼파라미터 탐색\n",
    "    'metric': {\n",
    "        'name': 'accuracy',\n",
    "        'goal': 'maximize'\n",
    "    },\n",
    "    'parameters': {\n",
    "        'lr': {\n",
    "            'values': [0.01, 0.05, 0.1, 0.2, 0.5]  # 더 넓은 범위의 학습률\n",
    "        },\n",
    "        'epoch': {\n",
    "            'values': [50, 70, 100]  # 다양한 에포크 수\n",
    "        },\n",
    "        'wordNgrams': {\n",
    "            'values': [2, 3, 4]  # 다양한 n-그램 값\n",
    "        },\n",
    "        'dim': {\n",
    "            'values': [100, 150, 200]  # 다양한 벡터 차원\n",
    "        },\n",
    "        'minCount': {\n",
    "            'values': [1, 2, 3, 5, 7]  # 다양한 최소 단어 출현 빈도\n",
    "        }\n",
    "    }\n",
    "}\n"
   ]
  },
  {
   "cell_type": "code",
   "execution_count": 8,
   "id": "d848834a",
   "metadata": {},
   "outputs": [],
   "source": [
    "# validation 각라벨별 200개씩\n",
    "\n",
    "val_0 = data[data['label']== 0][:200]\n",
    "val_1 = data[data['label']== 1][:200]\n",
    "val_2 = data[data['label']== 2][:200]\n",
    "val_3 = data[data['label']== 3][:200]\n",
    "val_4 = data[data['label']== 4][:200]\n",
    "\n",
    "val_total = pd.concat([val_0, val_1, val_2, val_3, val_4])"
   ]
  },
  {
   "cell_type": "code",
   "execution_count": 9,
   "id": "4567ff33",
   "metadata": {},
   "outputs": [],
   "source": [
    "import fasttext\n",
    "from sklearn.metrics import accuracy_score\n",
    "\n",
    "def train():\n",
    "\n",
    "    \n",
    "    \n",
    "    \n",
    "    default_config = {\n",
    "          \"epoch\":100,\n",
    "          \"bucket\" : 20000,\n",
    "          \"lr\" : 1,\n",
    "          \"wordNgrams\":2,\n",
    "          \"dim\":100,\n",
    "    }\n",
    "    \n",
    "    import os\n",
    "\n",
    "    # 환경 변수 설정\n",
    "    os.environ['WANDB_AGENT_DISABLE_FLAPPING'] = 'true'\n",
    "    \n",
    "    # WandB 프로젝트 설정\n",
    "    wandb.init(config= sweep_config, project=\"DLTHON\")\n",
    "\n",
    "    config = wandb.config\n",
    "    model = fasttext.train_supervised(input=file_path,\n",
    "#                                       epoch=100,\n",
    "#                                       bucket = 20000,\n",
    "#                                       lr = 1,\n",
    "#                                       wordNgrams=2,\n",
    "#                                       dim=100,\n",
    "                                      lr = config.lr,\n",
    "                                      epoch = config.epoch,\n",
    "                                      wordNgrams = config.wordNgrams,\n",
    "                                      dim=config.dim,\n",
    "                                      minCount=config.minCount\n",
    "                                      )\n",
    "    \n",
    "    val_lables = ['__label__'+str(label) for label in val_total['label']]\n",
    "    val_texts = [str(text) for text in val_total['conversation']]\n",
    "\n",
    "    predictions = [model.predict(text)[0][0] for text in val_texts]\n",
    "    accuracy = accuracy_score(val_lables, predictions)\n",
    "\n",
    "    wandb.log({\"accuracy\": accuracy})"
   ]
  },
  {
   "cell_type": "code",
   "execution_count": 10,
   "id": "91b557d1",
   "metadata": {},
   "outputs": [
    {
     "name": "stdout",
     "output_type": "stream",
     "text": [
      "Create sweep with ID: z3k1w1jj\n",
      "Sweep URL: https://wandb.ai/devdchyeon/DLTHON/sweeps/z3k1w1jj\n"
     ]
    },
    {
     "name": "stderr",
     "output_type": "stream",
     "text": [
      "\u001b[34m\u001b[1mwandb\u001b[0m: Agent Starting Run: j46wgis7 with config:\n",
      "\u001b[34m\u001b[1mwandb\u001b[0m: \tdim: 200\n",
      "\u001b[34m\u001b[1mwandb\u001b[0m: \tepoch: 70\n",
      "\u001b[34m\u001b[1mwandb\u001b[0m: \tlr: 0.5\n",
      "\u001b[34m\u001b[1mwandb\u001b[0m: \tminCount: 7\n",
      "\u001b[34m\u001b[1mwandb\u001b[0m: \twordNgrams: 3\n",
      "\u001b[34m\u001b[1mwandb\u001b[0m: \u001b[33mWARNING\u001b[0m Ignored wandb.init() arg project when running a sweep.\n"
     ]
    },
    {
     "data": {
      "text/html": [
       "wandb version 0.17.3 is available!  To upgrade, please run:\n",
       " $ pip install wandb --upgrade"
      ],
      "text/plain": [
       "<IPython.core.display.HTML object>"
      ]
     },
     "metadata": {},
     "output_type": "display_data"
    },
    {
     "data": {
      "text/html": [
       "Tracking run with wandb version 0.16.0"
      ],
      "text/plain": [
       "<IPython.core.display.HTML object>"
      ]
     },
     "metadata": {},
     "output_type": "display_data"
    },
    {
     "data": {
      "text/html": [
       "Run data is saved locally in <code>/aiffel/aiffel/workspace/16_dlthon_1/wandb/run-20240626_125754-j46wgis7</code>"
      ],
      "text/plain": [
       "<IPython.core.display.HTML object>"
      ]
     },
     "metadata": {},
     "output_type": "display_data"
    },
    {
     "data": {
      "text/html": [
       "Syncing run <strong><a href='https://wandb.ai/devdchyeon/DLTHON/runs/j46wgis7' target=\"_blank\">dazzling-sweep-1</a></strong> to <a href='https://wandb.ai/devdchyeon/DLTHON' target=\"_blank\">Weights & Biases</a> (<a href='https://wandb.me/run' target=\"_blank\">docs</a>)<br/>Sweep page: <a href='https://wandb.ai/devdchyeon/DLTHON/sweeps/z3k1w1jj' target=\"_blank\">https://wandb.ai/devdchyeon/DLTHON/sweeps/z3k1w1jj</a>"
      ],
      "text/plain": [
       "<IPython.core.display.HTML object>"
      ]
     },
     "metadata": {},
     "output_type": "display_data"
    },
    {
     "data": {
      "text/html": [
       " View project at <a href='https://wandb.ai/devdchyeon/DLTHON' target=\"_blank\">https://wandb.ai/devdchyeon/DLTHON</a>"
      ],
      "text/plain": [
       "<IPython.core.display.HTML object>"
      ]
     },
     "metadata": {},
     "output_type": "display_data"
    },
    {
     "data": {
      "text/html": [
       " View sweep at <a href='https://wandb.ai/devdchyeon/DLTHON/sweeps/z3k1w1jj' target=\"_blank\">https://wandb.ai/devdchyeon/DLTHON/sweeps/z3k1w1jj</a>"
      ],
      "text/plain": [
       "<IPython.core.display.HTML object>"
      ]
     },
     "metadata": {},
     "output_type": "display_data"
    },
    {
     "data": {
      "text/html": [
       " View run at <a href='https://wandb.ai/devdchyeon/DLTHON/runs/j46wgis7' target=\"_blank\">https://wandb.ai/devdchyeon/DLTHON/runs/j46wgis7</a>"
      ],
      "text/plain": [
       "<IPython.core.display.HTML object>"
      ]
     },
     "metadata": {},
     "output_type": "display_data"
    },
    {
     "name": "stderr",
     "output_type": "stream",
     "text": [
      "Read 0M words\n",
      "Number of words:  5418\n",
      "Number of labels: 5\n",
      "Progress: 100.0% words/sec/thread:  401399 lr:  0.000000 avg.loss:  0.044358 ETA:   0h 0m 0s 67.9% words/sec/thread:  415429 lr:  0.160320 avg.loss:  0.065029 ETA:   0h 0m 7ss\n"
     ]
    },
    {
     "data": {
      "application/vnd.jupyter.widget-view+json": {
       "model_id": "",
       "version_major": 2,
       "version_minor": 0
      },
      "text/plain": [
       "VBox(children=(Label(value='0.002 MB of 0.008 MB uploaded\\r'), FloatProgress(value=0.18581198562652138, max=1.…"
      ]
     },
     "metadata": {},
     "output_type": "display_data"
    },
    {
     "data": {
      "text/html": [
       "<style>\n",
       "    table.wandb td:nth-child(1) { padding: 0 10px; text-align: left ; width: auto;} td:nth-child(2) {text-align: left ; width: 100%}\n",
       "    .wandb-row { display: flex; flex-direction: row; flex-wrap: wrap; justify-content: flex-start; width: 100% }\n",
       "    .wandb-col { display: flex; flex-direction: column; flex-basis: 100%; flex: 1; padding: 10px; }\n",
       "    </style>\n",
       "<div class=\"wandb-row\"><div class=\"wandb-col\"><h3>Run history:</h3><br/><table class=\"wandb\"><tr><td>accuracy</td><td>▁</td></tr></table><br/></div><div class=\"wandb-col\"><h3>Run summary:</h3><br/><table class=\"wandb\"><tr><td>accuracy</td><td>1.0</td></tr></table><br/></div></div>"
      ],
      "text/plain": [
       "<IPython.core.display.HTML object>"
      ]
     },
     "metadata": {},
     "output_type": "display_data"
    },
    {
     "data": {
      "text/html": [
       " View run <strong style=\"color:#cdcd00\">dazzling-sweep-1</strong> at: <a href='https://wandb.ai/devdchyeon/DLTHON/runs/j46wgis7' target=\"_blank\">https://wandb.ai/devdchyeon/DLTHON/runs/j46wgis7</a><br/>Synced 5 W&B file(s), 0 media file(s), 0 artifact file(s) and 0 other file(s)"
      ],
      "text/plain": [
       "<IPython.core.display.HTML object>"
      ]
     },
     "metadata": {},
     "output_type": "display_data"
    },
    {
     "data": {
      "text/html": [
       "Find logs at: <code>./wandb/run-20240626_125754-j46wgis7/logs</code>"
      ],
      "text/plain": [
       "<IPython.core.display.HTML object>"
      ]
     },
     "metadata": {},
     "output_type": "display_data"
    },
    {
     "name": "stderr",
     "output_type": "stream",
     "text": [
      "\u001b[34m\u001b[1mwandb\u001b[0m: Agent Starting Run: xxtugrdu with config:\n",
      "\u001b[34m\u001b[1mwandb\u001b[0m: \tdim: 200\n",
      "\u001b[34m\u001b[1mwandb\u001b[0m: \tepoch: 70\n",
      "\u001b[34m\u001b[1mwandb\u001b[0m: \tlr: 0.5\n",
      "\u001b[34m\u001b[1mwandb\u001b[0m: \tminCount: 5\n",
      "\u001b[34m\u001b[1mwandb\u001b[0m: \twordNgrams: 2\n",
      "\u001b[34m\u001b[1mwandb\u001b[0m: \u001b[33mWARNING\u001b[0m Ignored wandb.init() arg project when running a sweep.\n"
     ]
    },
    {
     "data": {
      "text/html": [
       "wandb version 0.17.3 is available!  To upgrade, please run:\n",
       " $ pip install wandb --upgrade"
      ],
      "text/plain": [
       "<IPython.core.display.HTML object>"
      ]
     },
     "metadata": {},
     "output_type": "display_data"
    },
    {
     "data": {
      "text/html": [
       "Tracking run with wandb version 0.16.0"
      ],
      "text/plain": [
       "<IPython.core.display.HTML object>"
      ]
     },
     "metadata": {},
     "output_type": "display_data"
    },
    {
     "data": {
      "text/html": [
       "Run data is saved locally in <code>/aiffel/aiffel/workspace/16_dlthon_1/wandb/run-20240626_125830-xxtugrdu</code>"
      ],
      "text/plain": [
       "<IPython.core.display.HTML object>"
      ]
     },
     "metadata": {},
     "output_type": "display_data"
    },
    {
     "data": {
      "text/html": [
       "Syncing run <strong><a href='https://wandb.ai/devdchyeon/DLTHON/runs/xxtugrdu' target=\"_blank\">copper-sweep-2</a></strong> to <a href='https://wandb.ai/devdchyeon/DLTHON' target=\"_blank\">Weights & Biases</a> (<a href='https://wandb.me/run' target=\"_blank\">docs</a>)<br/>Sweep page: <a href='https://wandb.ai/devdchyeon/DLTHON/sweeps/z3k1w1jj' target=\"_blank\">https://wandb.ai/devdchyeon/DLTHON/sweeps/z3k1w1jj</a>"
      ],
      "text/plain": [
       "<IPython.core.display.HTML object>"
      ]
     },
     "metadata": {},
     "output_type": "display_data"
    },
    {
     "data": {
      "text/html": [
       " View project at <a href='https://wandb.ai/devdchyeon/DLTHON' target=\"_blank\">https://wandb.ai/devdchyeon/DLTHON</a>"
      ],
      "text/plain": [
       "<IPython.core.display.HTML object>"
      ]
     },
     "metadata": {},
     "output_type": "display_data"
    },
    {
     "data": {
      "text/html": [
       " View sweep at <a href='https://wandb.ai/devdchyeon/DLTHON/sweeps/z3k1w1jj' target=\"_blank\">https://wandb.ai/devdchyeon/DLTHON/sweeps/z3k1w1jj</a>"
      ],
      "text/plain": [
       "<IPython.core.display.HTML object>"
      ]
     },
     "metadata": {},
     "output_type": "display_data"
    },
    {
     "data": {
      "text/html": [
       " View run at <a href='https://wandb.ai/devdchyeon/DLTHON/runs/xxtugrdu' target=\"_blank\">https://wandb.ai/devdchyeon/DLTHON/runs/xxtugrdu</a>"
      ],
      "text/plain": [
       "<IPython.core.display.HTML object>"
      ]
     },
     "metadata": {},
     "output_type": "display_data"
    },
    {
     "name": "stderr",
     "output_type": "stream",
     "text": [
      "Read 0M words\n",
      "Number of words:  7745\n",
      "Number of labels: 5\n",
      "Progress: 100.0% words/sec/thread:  672639 lr:  0.000000 avg.loss:  0.041710 ETA:   0h 0m 0s\n"
     ]
    },
    {
     "data": {
      "application/vnd.jupyter.widget-view+json": {
       "model_id": "",
       "version_major": 2,
       "version_minor": 0
      },
      "text/plain": [
       "VBox(children=(Label(value='0.002 MB of 0.008 MB uploaded\\r'), FloatProgress(value=0.1824185834661808, max=1.0…"
      ]
     },
     "metadata": {},
     "output_type": "display_data"
    },
    {
     "data": {
      "text/html": [
       "<style>\n",
       "    table.wandb td:nth-child(1) { padding: 0 10px; text-align: left ; width: auto;} td:nth-child(2) {text-align: left ; width: 100%}\n",
       "    .wandb-row { display: flex; flex-direction: row; flex-wrap: wrap; justify-content: flex-start; width: 100% }\n",
       "    .wandb-col { display: flex; flex-direction: column; flex-basis: 100%; flex: 1; padding: 10px; }\n",
       "    </style>\n",
       "<div class=\"wandb-row\"><div class=\"wandb-col\"><h3>Run history:</h3><br/><table class=\"wandb\"><tr><td>accuracy</td><td>▁</td></tr></table><br/></div><div class=\"wandb-col\"><h3>Run summary:</h3><br/><table class=\"wandb\"><tr><td>accuracy</td><td>1.0</td></tr></table><br/></div></div>"
      ],
      "text/plain": [
       "<IPython.core.display.HTML object>"
      ]
     },
     "metadata": {},
     "output_type": "display_data"
    },
    {
     "data": {
      "text/html": [
       " View run <strong style=\"color:#cdcd00\">copper-sweep-2</strong> at: <a href='https://wandb.ai/devdchyeon/DLTHON/runs/xxtugrdu' target=\"_blank\">https://wandb.ai/devdchyeon/DLTHON/runs/xxtugrdu</a><br/>Synced 5 W&B file(s), 0 media file(s), 0 artifact file(s) and 0 other file(s)"
      ],
      "text/plain": [
       "<IPython.core.display.HTML object>"
      ]
     },
     "metadata": {},
     "output_type": "display_data"
    },
    {
     "data": {
      "text/html": [
       "Find logs at: <code>./wandb/run-20240626_125830-xxtugrdu/logs</code>"
      ],
      "text/plain": [
       "<IPython.core.display.HTML object>"
      ]
     },
     "metadata": {},
     "output_type": "display_data"
    },
    {
     "name": "stderr",
     "output_type": "stream",
     "text": [
      "\u001b[34m\u001b[1mwandb\u001b[0m: Sweep Agent: Waiting for job.\n",
      "\u001b[34m\u001b[1mwandb\u001b[0m: Job received.\n",
      "\u001b[34m\u001b[1mwandb\u001b[0m: Agent Starting Run: 8sp8a9w9 with config:\n",
      "\u001b[34m\u001b[1mwandb\u001b[0m: \tdim: 150\n",
      "\u001b[34m\u001b[1mwandb\u001b[0m: \tepoch: 50\n",
      "\u001b[34m\u001b[1mwandb\u001b[0m: \tlr: 0.2\n",
      "\u001b[34m\u001b[1mwandb\u001b[0m: \tminCount: 1\n",
      "\u001b[34m\u001b[1mwandb\u001b[0m: \twordNgrams: 3\n",
      "\u001b[34m\u001b[1mwandb\u001b[0m: \u001b[33mWARNING\u001b[0m Ignored wandb.init() arg project when running a sweep.\n"
     ]
    },
    {
     "data": {
      "text/html": [
       "wandb version 0.17.3 is available!  To upgrade, please run:\n",
       " $ pip install wandb --upgrade"
      ],
      "text/plain": [
       "<IPython.core.display.HTML object>"
      ]
     },
     "metadata": {},
     "output_type": "display_data"
    },
    {
     "data": {
      "text/html": [
       "Tracking run with wandb version 0.16.0"
      ],
      "text/plain": [
       "<IPython.core.display.HTML object>"
      ]
     },
     "metadata": {},
     "output_type": "display_data"
    },
    {
     "data": {
      "text/html": [
       "Run data is saved locally in <code>/aiffel/aiffel/workspace/16_dlthon_1/wandb/run-20240626_125905-8sp8a9w9</code>"
      ],
      "text/plain": [
       "<IPython.core.display.HTML object>"
      ]
     },
     "metadata": {},
     "output_type": "display_data"
    },
    {
     "data": {
      "text/html": [
       "Syncing run <strong><a href='https://wandb.ai/devdchyeon/DLTHON/runs/8sp8a9w9' target=\"_blank\">quiet-sweep-3</a></strong> to <a href='https://wandb.ai/devdchyeon/DLTHON' target=\"_blank\">Weights & Biases</a> (<a href='https://wandb.me/run' target=\"_blank\">docs</a>)<br/>Sweep page: <a href='https://wandb.ai/devdchyeon/DLTHON/sweeps/z3k1w1jj' target=\"_blank\">https://wandb.ai/devdchyeon/DLTHON/sweeps/z3k1w1jj</a>"
      ],
      "text/plain": [
       "<IPython.core.display.HTML object>"
      ]
     },
     "metadata": {},
     "output_type": "display_data"
    },
    {
     "data": {
      "text/html": [
       " View project at <a href='https://wandb.ai/devdchyeon/DLTHON' target=\"_blank\">https://wandb.ai/devdchyeon/DLTHON</a>"
      ],
      "text/plain": [
       "<IPython.core.display.HTML object>"
      ]
     },
     "metadata": {},
     "output_type": "display_data"
    },
    {
     "data": {
      "text/html": [
       " View sweep at <a href='https://wandb.ai/devdchyeon/DLTHON/sweeps/z3k1w1jj' target=\"_blank\">https://wandb.ai/devdchyeon/DLTHON/sweeps/z3k1w1jj</a>"
      ],
      "text/plain": [
       "<IPython.core.display.HTML object>"
      ]
     },
     "metadata": {},
     "output_type": "display_data"
    },
    {
     "data": {
      "text/html": [
       " View run at <a href='https://wandb.ai/devdchyeon/DLTHON/runs/8sp8a9w9' target=\"_blank\">https://wandb.ai/devdchyeon/DLTHON/runs/8sp8a9w9</a>"
      ],
      "text/plain": [
       "<IPython.core.display.HTML object>"
      ]
     },
     "metadata": {},
     "output_type": "display_data"
    },
    {
     "name": "stderr",
     "output_type": "stream",
     "text": [
      "Read 0M words\n",
      "Number of words:  84915\n",
      "Number of labels: 5\n",
      "Progress: 100.0% words/sec/thread:  483448 lr:  0.000000 avg.loss:  0.118840 ETA:   0h 0m 0s 12.0% words/sec/thread:  315319 lr:  0.176056 avg.loss:  0.876827 ETA:   0h 0m19s\n"
     ]
    },
    {
     "data": {
      "application/vnd.jupyter.widget-view+json": {
       "model_id": "",
       "version_major": 2,
       "version_minor": 0
      },
      "text/plain": [
       "VBox(children=(Label(value='0.008 MB of 0.008 MB uploaded\\r'), FloatProgress(value=1.0, max=1.0)))"
      ]
     },
     "metadata": {},
     "output_type": "display_data"
    },
    {
     "data": {
      "text/html": [
       "<style>\n",
       "    table.wandb td:nth-child(1) { padding: 0 10px; text-align: left ; width: auto;} td:nth-child(2) {text-align: left ; width: 100%}\n",
       "    .wandb-row { display: flex; flex-direction: row; flex-wrap: wrap; justify-content: flex-start; width: 100% }\n",
       "    .wandb-col { display: flex; flex-direction: column; flex-basis: 100%; flex: 1; padding: 10px; }\n",
       "    </style>\n",
       "<div class=\"wandb-row\"><div class=\"wandb-col\"><h3>Run history:</h3><br/><table class=\"wandb\"><tr><td>accuracy</td><td>▁</td></tr></table><br/></div><div class=\"wandb-col\"><h3>Run summary:</h3><br/><table class=\"wandb\"><tr><td>accuracy</td><td>1.0</td></tr></table><br/></div></div>"
      ],
      "text/plain": [
       "<IPython.core.display.HTML object>"
      ]
     },
     "metadata": {},
     "output_type": "display_data"
    },
    {
     "data": {
      "text/html": [
       " View run <strong style=\"color:#cdcd00\">quiet-sweep-3</strong> at: <a href='https://wandb.ai/devdchyeon/DLTHON/runs/8sp8a9w9' target=\"_blank\">https://wandb.ai/devdchyeon/DLTHON/runs/8sp8a9w9</a><br/>Synced 5 W&B file(s), 0 media file(s), 0 artifact file(s) and 0 other file(s)"
      ],
      "text/plain": [
       "<IPython.core.display.HTML object>"
      ]
     },
     "metadata": {},
     "output_type": "display_data"
    },
    {
     "data": {
      "text/html": [
       "Find logs at: <code>./wandb/run-20240626_125905-8sp8a9w9/logs</code>"
      ],
      "text/plain": [
       "<IPython.core.display.HTML object>"
      ]
     },
     "metadata": {},
     "output_type": "display_data"
    },
    {
     "name": "stderr",
     "output_type": "stream",
     "text": [
      "\u001b[34m\u001b[1mwandb\u001b[0m: Agent Starting Run: n76jndc5 with config:\n",
      "\u001b[34m\u001b[1mwandb\u001b[0m: \tdim: 100\n",
      "\u001b[34m\u001b[1mwandb\u001b[0m: \tepoch: 70\n",
      "\u001b[34m\u001b[1mwandb\u001b[0m: \tlr: 0.05\n",
      "\u001b[34m\u001b[1mwandb\u001b[0m: \tminCount: 5\n",
      "\u001b[34m\u001b[1mwandb\u001b[0m: \twordNgrams: 3\n",
      "\u001b[34m\u001b[1mwandb\u001b[0m: \u001b[33mWARNING\u001b[0m Ignored wandb.init() arg project when running a sweep.\n"
     ]
    },
    {
     "data": {
      "text/html": [
       "wandb version 0.17.3 is available!  To upgrade, please run:\n",
       " $ pip install wandb --upgrade"
      ],
      "text/plain": [
       "<IPython.core.display.HTML object>"
      ]
     },
     "metadata": {},
     "output_type": "display_data"
    },
    {
     "data": {
      "text/html": [
       "Tracking run with wandb version 0.16.0"
      ],
      "text/plain": [
       "<IPython.core.display.HTML object>"
      ]
     },
     "metadata": {},
     "output_type": "display_data"
    },
    {
     "data": {
      "text/html": [
       "Run data is saved locally in <code>/aiffel/aiffel/workspace/16_dlthon_1/wandb/run-20240626_125930-n76jndc5</code>"
      ],
      "text/plain": [
       "<IPython.core.display.HTML object>"
      ]
     },
     "metadata": {},
     "output_type": "display_data"
    },
    {
     "data": {
      "text/html": [
       "Syncing run <strong><a href='https://wandb.ai/devdchyeon/DLTHON/runs/n76jndc5' target=\"_blank\">sage-sweep-4</a></strong> to <a href='https://wandb.ai/devdchyeon/DLTHON' target=\"_blank\">Weights & Biases</a> (<a href='https://wandb.me/run' target=\"_blank\">docs</a>)<br/>Sweep page: <a href='https://wandb.ai/devdchyeon/DLTHON/sweeps/z3k1w1jj' target=\"_blank\">https://wandb.ai/devdchyeon/DLTHON/sweeps/z3k1w1jj</a>"
      ],
      "text/plain": [
       "<IPython.core.display.HTML object>"
      ]
     },
     "metadata": {},
     "output_type": "display_data"
    },
    {
     "data": {
      "text/html": [
       " View project at <a href='https://wandb.ai/devdchyeon/DLTHON' target=\"_blank\">https://wandb.ai/devdchyeon/DLTHON</a>"
      ],
      "text/plain": [
       "<IPython.core.display.HTML object>"
      ]
     },
     "metadata": {},
     "output_type": "display_data"
    },
    {
     "data": {
      "text/html": [
       " View sweep at <a href='https://wandb.ai/devdchyeon/DLTHON/sweeps/z3k1w1jj' target=\"_blank\">https://wandb.ai/devdchyeon/DLTHON/sweeps/z3k1w1jj</a>"
      ],
      "text/plain": [
       "<IPython.core.display.HTML object>"
      ]
     },
     "metadata": {},
     "output_type": "display_data"
    },
    {
     "data": {
      "text/html": [
       " View run at <a href='https://wandb.ai/devdchyeon/DLTHON/runs/n76jndc5' target=\"_blank\">https://wandb.ai/devdchyeon/DLTHON/runs/n76jndc5</a>"
      ],
      "text/plain": [
       "<IPython.core.display.HTML object>"
      ]
     },
     "metadata": {},
     "output_type": "display_data"
    },
    {
     "name": "stderr",
     "output_type": "stream",
     "text": [
      "Read 0M words\n",
      "Number of words:  7745\n",
      "Number of labels: 5\n",
      "Progress: 100.0% words/sec/thread:  663345 lr:  0.000000 avg.loss:  0.285617 ETA:   0h 0m 0s\n"
     ]
    },
    {
     "data": {
      "application/vnd.jupyter.widget-view+json": {
       "model_id": "",
       "version_major": 2,
       "version_minor": 0
      },
      "text/plain": [
       "VBox(children=(Label(value='0.008 MB of 0.008 MB uploaded\\r'), FloatProgress(value=1.0, max=1.0)))"
      ]
     },
     "metadata": {},
     "output_type": "display_data"
    },
    {
     "data": {
      "text/html": [
       "<style>\n",
       "    table.wandb td:nth-child(1) { padding: 0 10px; text-align: left ; width: auto;} td:nth-child(2) {text-align: left ; width: 100%}\n",
       "    .wandb-row { display: flex; flex-direction: row; flex-wrap: wrap; justify-content: flex-start; width: 100% }\n",
       "    .wandb-col { display: flex; flex-direction: column; flex-basis: 100%; flex: 1; padding: 10px; }\n",
       "    </style>\n",
       "<div class=\"wandb-row\"><div class=\"wandb-col\"><h3>Run history:</h3><br/><table class=\"wandb\"><tr><td>accuracy</td><td>▁</td></tr></table><br/></div><div class=\"wandb-col\"><h3>Run summary:</h3><br/><table class=\"wandb\"><tr><td>accuracy</td><td>1.0</td></tr></table><br/></div></div>"
      ],
      "text/plain": [
       "<IPython.core.display.HTML object>"
      ]
     },
     "metadata": {},
     "output_type": "display_data"
    },
    {
     "data": {
      "text/html": [
       " View run <strong style=\"color:#cdcd00\">sage-sweep-4</strong> at: <a href='https://wandb.ai/devdchyeon/DLTHON/runs/n76jndc5' target=\"_blank\">https://wandb.ai/devdchyeon/DLTHON/runs/n76jndc5</a><br/>Synced 5 W&B file(s), 0 media file(s), 0 artifact file(s) and 0 other file(s)"
      ],
      "text/plain": [
       "<IPython.core.display.HTML object>"
      ]
     },
     "metadata": {},
     "output_type": "display_data"
    },
    {
     "data": {
      "text/html": [
       "Find logs at: <code>./wandb/run-20240626_125930-n76jndc5/logs</code>"
      ],
      "text/plain": [
       "<IPython.core.display.HTML object>"
      ]
     },
     "metadata": {},
     "output_type": "display_data"
    },
    {
     "name": "stderr",
     "output_type": "stream",
     "text": [
      "\u001b[34m\u001b[1mwandb\u001b[0m: Agent Starting Run: tbug40z1 with config:\n",
      "\u001b[34m\u001b[1mwandb\u001b[0m: \tdim: 100\n",
      "\u001b[34m\u001b[1mwandb\u001b[0m: \tepoch: 70\n",
      "\u001b[34m\u001b[1mwandb\u001b[0m: \tlr: 0.01\n",
      "\u001b[34m\u001b[1mwandb\u001b[0m: \tminCount: 3\n",
      "\u001b[34m\u001b[1mwandb\u001b[0m: \twordNgrams: 2\n",
      "\u001b[34m\u001b[1mwandb\u001b[0m: \u001b[33mWARNING\u001b[0m Ignored wandb.init() arg project when running a sweep.\n"
     ]
    },
    {
     "data": {
      "text/html": [
       "wandb version 0.17.3 is available!  To upgrade, please run:\n",
       " $ pip install wandb --upgrade"
      ],
      "text/plain": [
       "<IPython.core.display.HTML object>"
      ]
     },
     "metadata": {},
     "output_type": "display_data"
    },
    {
     "data": {
      "text/html": [
       "Tracking run with wandb version 0.16.0"
      ],
      "text/plain": [
       "<IPython.core.display.HTML object>"
      ]
     },
     "metadata": {},
     "output_type": "display_data"
    },
    {
     "data": {
      "text/html": [
       "Run data is saved locally in <code>/aiffel/aiffel/workspace/16_dlthon_1/wandb/run-20240626_125956-tbug40z1</code>"
      ],
      "text/plain": [
       "<IPython.core.display.HTML object>"
      ]
     },
     "metadata": {},
     "output_type": "display_data"
    },
    {
     "data": {
      "text/html": [
       "Syncing run <strong><a href='https://wandb.ai/devdchyeon/DLTHON/runs/tbug40z1' target=\"_blank\">glowing-sweep-5</a></strong> to <a href='https://wandb.ai/devdchyeon/DLTHON' target=\"_blank\">Weights & Biases</a> (<a href='https://wandb.me/run' target=\"_blank\">docs</a>)<br/>Sweep page: <a href='https://wandb.ai/devdchyeon/DLTHON/sweeps/z3k1w1jj' target=\"_blank\">https://wandb.ai/devdchyeon/DLTHON/sweeps/z3k1w1jj</a>"
      ],
      "text/plain": [
       "<IPython.core.display.HTML object>"
      ]
     },
     "metadata": {},
     "output_type": "display_data"
    },
    {
     "data": {
      "text/html": [
       " View project at <a href='https://wandb.ai/devdchyeon/DLTHON' target=\"_blank\">https://wandb.ai/devdchyeon/DLTHON</a>"
      ],
      "text/plain": [
       "<IPython.core.display.HTML object>"
      ]
     },
     "metadata": {},
     "output_type": "display_data"
    },
    {
     "data": {
      "text/html": [
       " View sweep at <a href='https://wandb.ai/devdchyeon/DLTHON/sweeps/z3k1w1jj' target=\"_blank\">https://wandb.ai/devdchyeon/DLTHON/sweeps/z3k1w1jj</a>"
      ],
      "text/plain": [
       "<IPython.core.display.HTML object>"
      ]
     },
     "metadata": {},
     "output_type": "display_data"
    },
    {
     "data": {
      "text/html": [
       " View run at <a href='https://wandb.ai/devdchyeon/DLTHON/runs/tbug40z1' target=\"_blank\">https://wandb.ai/devdchyeon/DLTHON/runs/tbug40z1</a>"
      ],
      "text/plain": [
       "<IPython.core.display.HTML object>"
      ]
     },
     "metadata": {},
     "output_type": "display_data"
    },
    {
     "name": "stderr",
     "output_type": "stream",
     "text": [
      "Read 0M words\n",
      "Number of words:  13890\n",
      "Number of labels: 5\n",
      "Progress: 100.0% words/sec/thread:  930284 lr:  0.000000 avg.loss:  1.027389 ETA:   0h 0m 0s words/sec/thread:  927013 lr:  0.001711 avg.loss:  1.103812 ETA:   0h 0m 1s\n"
     ]
    },
    {
     "data": {
      "application/vnd.jupyter.widget-view+json": {
       "model_id": "",
       "version_major": 2,
       "version_minor": 0
      },
      "text/plain": [
       "VBox(children=(Label(value='0.008 MB of 0.008 MB uploaded\\r'), FloatProgress(value=1.0, max=1.0)))"
      ]
     },
     "metadata": {},
     "output_type": "display_data"
    },
    {
     "data": {
      "text/html": [
       "<style>\n",
       "    table.wandb td:nth-child(1) { padding: 0 10px; text-align: left ; width: auto;} td:nth-child(2) {text-align: left ; width: 100%}\n",
       "    .wandb-row { display: flex; flex-direction: row; flex-wrap: wrap; justify-content: flex-start; width: 100% }\n",
       "    .wandb-col { display: flex; flex-direction: column; flex-basis: 100%; flex: 1; padding: 10px; }\n",
       "    </style>\n",
       "<div class=\"wandb-row\"><div class=\"wandb-col\"><h3>Run history:</h3><br/><table class=\"wandb\"><tr><td>accuracy</td><td>▁</td></tr></table><br/></div><div class=\"wandb-col\"><h3>Run summary:</h3><br/><table class=\"wandb\"><tr><td>accuracy</td><td>0.779</td></tr></table><br/></div></div>"
      ],
      "text/plain": [
       "<IPython.core.display.HTML object>"
      ]
     },
     "metadata": {},
     "output_type": "display_data"
    },
    {
     "data": {
      "text/html": [
       " View run <strong style=\"color:#cdcd00\">glowing-sweep-5</strong> at: <a href='https://wandb.ai/devdchyeon/DLTHON/runs/tbug40z1' target=\"_blank\">https://wandb.ai/devdchyeon/DLTHON/runs/tbug40z1</a><br/>Synced 5 W&B file(s), 0 media file(s), 0 artifact file(s) and 0 other file(s)"
      ],
      "text/plain": [
       "<IPython.core.display.HTML object>"
      ]
     },
     "metadata": {},
     "output_type": "display_data"
    },
    {
     "data": {
      "text/html": [
       "Find logs at: <code>./wandb/run-20240626_125956-tbug40z1/logs</code>"
      ],
      "text/plain": [
       "<IPython.core.display.HTML object>"
      ]
     },
     "metadata": {},
     "output_type": "display_data"
    },
    {
     "name": "stderr",
     "output_type": "stream",
     "text": [
      "\u001b[34m\u001b[1mwandb\u001b[0m: Agent Starting Run: c76rcv2q with config:\n",
      "\u001b[34m\u001b[1mwandb\u001b[0m: \tdim: 150\n",
      "\u001b[34m\u001b[1mwandb\u001b[0m: \tepoch: 100\n",
      "\u001b[34m\u001b[1mwandb\u001b[0m: \tlr: 0.05\n",
      "\u001b[34m\u001b[1mwandb\u001b[0m: \tminCount: 7\n",
      "\u001b[34m\u001b[1mwandb\u001b[0m: \twordNgrams: 3\n",
      "\u001b[34m\u001b[1mwandb\u001b[0m: \u001b[33mWARNING\u001b[0m Ignored wandb.init() arg project when running a sweep.\n"
     ]
    },
    {
     "data": {
      "text/html": [
       "wandb version 0.17.3 is available!  To upgrade, please run:\n",
       " $ pip install wandb --upgrade"
      ],
      "text/plain": [
       "<IPython.core.display.HTML object>"
      ]
     },
     "metadata": {},
     "output_type": "display_data"
    },
    {
     "data": {
      "text/html": [
       "Tracking run with wandb version 0.16.0"
      ],
      "text/plain": [
       "<IPython.core.display.HTML object>"
      ]
     },
     "metadata": {},
     "output_type": "display_data"
    },
    {
     "data": {
      "text/html": [
       "Run data is saved locally in <code>/aiffel/aiffel/workspace/16_dlthon_1/wandb/run-20240626_130017-c76rcv2q</code>"
      ],
      "text/plain": [
       "<IPython.core.display.HTML object>"
      ]
     },
     "metadata": {},
     "output_type": "display_data"
    },
    {
     "data": {
      "text/html": [
       "Syncing run <strong><a href='https://wandb.ai/devdchyeon/DLTHON/runs/c76rcv2q' target=\"_blank\">grateful-sweep-6</a></strong> to <a href='https://wandb.ai/devdchyeon/DLTHON' target=\"_blank\">Weights & Biases</a> (<a href='https://wandb.me/run' target=\"_blank\">docs</a>)<br/>Sweep page: <a href='https://wandb.ai/devdchyeon/DLTHON/sweeps/z3k1w1jj' target=\"_blank\">https://wandb.ai/devdchyeon/DLTHON/sweeps/z3k1w1jj</a>"
      ],
      "text/plain": [
       "<IPython.core.display.HTML object>"
      ]
     },
     "metadata": {},
     "output_type": "display_data"
    },
    {
     "data": {
      "text/html": [
       " View project at <a href='https://wandb.ai/devdchyeon/DLTHON' target=\"_blank\">https://wandb.ai/devdchyeon/DLTHON</a>"
      ],
      "text/plain": [
       "<IPython.core.display.HTML object>"
      ]
     },
     "metadata": {},
     "output_type": "display_data"
    },
    {
     "data": {
      "text/html": [
       " View sweep at <a href='https://wandb.ai/devdchyeon/DLTHON/sweeps/z3k1w1jj' target=\"_blank\">https://wandb.ai/devdchyeon/DLTHON/sweeps/z3k1w1jj</a>"
      ],
      "text/plain": [
       "<IPython.core.display.HTML object>"
      ]
     },
     "metadata": {},
     "output_type": "display_data"
    },
    {
     "data": {
      "text/html": [
       " View run at <a href='https://wandb.ai/devdchyeon/DLTHON/runs/c76rcv2q' target=\"_blank\">https://wandb.ai/devdchyeon/DLTHON/runs/c76rcv2q</a>"
      ],
      "text/plain": [
       "<IPython.core.display.HTML object>"
      ]
     },
     "metadata": {},
     "output_type": "display_data"
    },
    {
     "name": "stderr",
     "output_type": "stream",
     "text": [
      "Read 0M words\n",
      "Number of words:  5418\n",
      "Number of labels: 5\n",
      "Progress: 100.0% words/sec/thread:  546772 lr:  0.000000 avg.loss:  0.213754 ETA:   0h 0m 0s\n"
     ]
    },
    {
     "data": {
      "application/vnd.jupyter.widget-view+json": {
       "model_id": "",
       "version_major": 2,
       "version_minor": 0
      },
      "text/plain": [
       "VBox(children=(Label(value='0.002 MB of 0.002 MB uploaded\\r'), FloatProgress(value=1.0, max=1.0)))"
      ]
     },
     "metadata": {},
     "output_type": "display_data"
    },
    {
     "data": {
      "text/html": [
       "<style>\n",
       "    table.wandb td:nth-child(1) { padding: 0 10px; text-align: left ; width: auto;} td:nth-child(2) {text-align: left ; width: 100%}\n",
       "    .wandb-row { display: flex; flex-direction: row; flex-wrap: wrap; justify-content: flex-start; width: 100% }\n",
       "    .wandb-col { display: flex; flex-direction: column; flex-basis: 100%; flex: 1; padding: 10px; }\n",
       "    </style>\n",
       "<div class=\"wandb-row\"><div class=\"wandb-col\"><h3>Run history:</h3><br/><table class=\"wandb\"><tr><td>accuracy</td><td>▁</td></tr></table><br/></div><div class=\"wandb-col\"><h3>Run summary:</h3><br/><table class=\"wandb\"><tr><td>accuracy</td><td>1.0</td></tr></table><br/></div></div>"
      ],
      "text/plain": [
       "<IPython.core.display.HTML object>"
      ]
     },
     "metadata": {},
     "output_type": "display_data"
    },
    {
     "data": {
      "text/html": [
       " View run <strong style=\"color:#cdcd00\">grateful-sweep-6</strong> at: <a href='https://wandb.ai/devdchyeon/DLTHON/runs/c76rcv2q' target=\"_blank\">https://wandb.ai/devdchyeon/DLTHON/runs/c76rcv2q</a><br/>Synced 5 W&B file(s), 0 media file(s), 0 artifact file(s) and 0 other file(s)"
      ],
      "text/plain": [
       "<IPython.core.display.HTML object>"
      ]
     },
     "metadata": {},
     "output_type": "display_data"
    },
    {
     "data": {
      "text/html": [
       "Find logs at: <code>./wandb/run-20240626_130017-c76rcv2q/logs</code>"
      ],
      "text/plain": [
       "<IPython.core.display.HTML object>"
      ]
     },
     "metadata": {},
     "output_type": "display_data"
    },
    {
     "name": "stderr",
     "output_type": "stream",
     "text": [
      "\u001b[34m\u001b[1mwandb\u001b[0m: Agent Starting Run: 0g21ygwz with config:\n",
      "\u001b[34m\u001b[1mwandb\u001b[0m: \tdim: 200\n",
      "\u001b[34m\u001b[1mwandb\u001b[0m: \tepoch: 50\n",
      "\u001b[34m\u001b[1mwandb\u001b[0m: \tlr: 0.5\n",
      "\u001b[34m\u001b[1mwandb\u001b[0m: \tminCount: 1\n",
      "\u001b[34m\u001b[1mwandb\u001b[0m: \twordNgrams: 4\n",
      "\u001b[34m\u001b[1mwandb\u001b[0m: \u001b[33mWARNING\u001b[0m Ignored wandb.init() arg project when running a sweep.\n"
     ]
    },
    {
     "data": {
      "text/html": [
       "wandb version 0.17.3 is available!  To upgrade, please run:\n",
       " $ pip install wandb --upgrade"
      ],
      "text/plain": [
       "<IPython.core.display.HTML object>"
      ]
     },
     "metadata": {},
     "output_type": "display_data"
    },
    {
     "data": {
      "text/html": [
       "Tracking run with wandb version 0.16.0"
      ],
      "text/plain": [
       "<IPython.core.display.HTML object>"
      ]
     },
     "metadata": {},
     "output_type": "display_data"
    },
    {
     "data": {
      "text/html": [
       "Run data is saved locally in <code>/aiffel/aiffel/workspace/16_dlthon_1/wandb/run-20240626_130054-0g21ygwz</code>"
      ],
      "text/plain": [
       "<IPython.core.display.HTML object>"
      ]
     },
     "metadata": {},
     "output_type": "display_data"
    },
    {
     "data": {
      "text/html": [
       "Syncing run <strong><a href='https://wandb.ai/devdchyeon/DLTHON/runs/0g21ygwz' target=\"_blank\">silvery-sweep-7</a></strong> to <a href='https://wandb.ai/devdchyeon/DLTHON' target=\"_blank\">Weights & Biases</a> (<a href='https://wandb.me/run' target=\"_blank\">docs</a>)<br/>Sweep page: <a href='https://wandb.ai/devdchyeon/DLTHON/sweeps/z3k1w1jj' target=\"_blank\">https://wandb.ai/devdchyeon/DLTHON/sweeps/z3k1w1jj</a>"
      ],
      "text/plain": [
       "<IPython.core.display.HTML object>"
      ]
     },
     "metadata": {},
     "output_type": "display_data"
    },
    {
     "data": {
      "text/html": [
       " View project at <a href='https://wandb.ai/devdchyeon/DLTHON' target=\"_blank\">https://wandb.ai/devdchyeon/DLTHON</a>"
      ],
      "text/plain": [
       "<IPython.core.display.HTML object>"
      ]
     },
     "metadata": {},
     "output_type": "display_data"
    },
    {
     "data": {
      "text/html": [
       " View sweep at <a href='https://wandb.ai/devdchyeon/DLTHON/sweeps/z3k1w1jj' target=\"_blank\">https://wandb.ai/devdchyeon/DLTHON/sweeps/z3k1w1jj</a>"
      ],
      "text/plain": [
       "<IPython.core.display.HTML object>"
      ]
     },
     "metadata": {},
     "output_type": "display_data"
    },
    {
     "data": {
      "text/html": [
       " View run at <a href='https://wandb.ai/devdchyeon/DLTHON/runs/0g21ygwz' target=\"_blank\">https://wandb.ai/devdchyeon/DLTHON/runs/0g21ygwz</a>"
      ],
      "text/plain": [
       "<IPython.core.display.HTML object>"
      ]
     },
     "metadata": {},
     "output_type": "display_data"
    },
    {
     "name": "stderr",
     "output_type": "stream",
     "text": [
      "Read 0M words\n",
      "Number of words:  84915\n",
      "Number of labels: 5\n",
      "Progress: 100.0% words/sec/thread:  313203 lr:  0.000000 avg.loss:  0.069732 ETA:   0h 0m 0s 28.8% words/sec/thread:  269612 lr:  0.355906 avg.loss:  0.222471 ETA:   0h 0m18s 274331 lr:  0.343744 avg.loss:  0.203982 ETA:   0h 0m17s 33.5% words/sec/thread:  276880 lr:  0.332563 avg.loss:  0.187568 ETA:   0h 0m17s 302967 lr:  0.176092 avg.loss:  0.102340 ETA:   0h 0m 8s\n"
     ]
    },
    {
     "data": {
      "application/vnd.jupyter.widget-view+json": {
       "model_id": "",
       "version_major": 2,
       "version_minor": 0
      },
      "text/plain": [
       "VBox(children=(Label(value='0.002 MB of 0.008 MB uploaded\\r'), FloatProgress(value=0.1856231884057971, max=1.0…"
      ]
     },
     "metadata": {},
     "output_type": "display_data"
    },
    {
     "data": {
      "text/html": [
       "<style>\n",
       "    table.wandb td:nth-child(1) { padding: 0 10px; text-align: left ; width: auto;} td:nth-child(2) {text-align: left ; width: 100%}\n",
       "    .wandb-row { display: flex; flex-direction: row; flex-wrap: wrap; justify-content: flex-start; width: 100% }\n",
       "    .wandb-col { display: flex; flex-direction: column; flex-basis: 100%; flex: 1; padding: 10px; }\n",
       "    </style>\n",
       "<div class=\"wandb-row\"><div class=\"wandb-col\"><h3>Run history:</h3><br/><table class=\"wandb\"><tr><td>accuracy</td><td>▁</td></tr></table><br/></div><div class=\"wandb-col\"><h3>Run summary:</h3><br/><table class=\"wandb\"><tr><td>accuracy</td><td>1.0</td></tr></table><br/></div></div>"
      ],
      "text/plain": [
       "<IPython.core.display.HTML object>"
      ]
     },
     "metadata": {},
     "output_type": "display_data"
    },
    {
     "data": {
      "text/html": [
       " View run <strong style=\"color:#cdcd00\">silvery-sweep-7</strong> at: <a href='https://wandb.ai/devdchyeon/DLTHON/runs/0g21ygwz' target=\"_blank\">https://wandb.ai/devdchyeon/DLTHON/runs/0g21ygwz</a><br/>Synced 5 W&B file(s), 0 media file(s), 0 artifact file(s) and 0 other file(s)"
      ],
      "text/plain": [
       "<IPython.core.display.HTML object>"
      ]
     },
     "metadata": {},
     "output_type": "display_data"
    },
    {
     "data": {
      "text/html": [
       "Find logs at: <code>./wandb/run-20240626_130054-0g21ygwz/logs</code>"
      ],
      "text/plain": [
       "<IPython.core.display.HTML object>"
      ]
     },
     "metadata": {},
     "output_type": "display_data"
    },
    {
     "name": "stderr",
     "output_type": "stream",
     "text": [
      "\u001b[34m\u001b[1mwandb\u001b[0m: Agent Starting Run: s0v3sn4z with config:\n",
      "\u001b[34m\u001b[1mwandb\u001b[0m: \tdim: 100\n",
      "\u001b[34m\u001b[1mwandb\u001b[0m: \tepoch: 100\n",
      "\u001b[34m\u001b[1mwandb\u001b[0m: \tlr: 0.01\n",
      "\u001b[34m\u001b[1mwandb\u001b[0m: \tminCount: 1\n",
      "\u001b[34m\u001b[1mwandb\u001b[0m: \twordNgrams: 3\n",
      "\u001b[34m\u001b[1mwandb\u001b[0m: \u001b[33mWARNING\u001b[0m Ignored wandb.init() arg project when running a sweep.\n"
     ]
    },
    {
     "data": {
      "text/html": [
       "wandb version 0.17.3 is available!  To upgrade, please run:\n",
       " $ pip install wandb --upgrade"
      ],
      "text/plain": [
       "<IPython.core.display.HTML object>"
      ]
     },
     "metadata": {},
     "output_type": "display_data"
    },
    {
     "data": {
      "text/html": [
       "Tracking run with wandb version 0.16.0"
      ],
      "text/plain": [
       "<IPython.core.display.HTML object>"
      ]
     },
     "metadata": {},
     "output_type": "display_data"
    },
    {
     "data": {
      "text/html": [
       "Run data is saved locally in <code>/aiffel/aiffel/workspace/16_dlthon_1/wandb/run-20240626_130125-s0v3sn4z</code>"
      ],
      "text/plain": [
       "<IPython.core.display.HTML object>"
      ]
     },
     "metadata": {},
     "output_type": "display_data"
    },
    {
     "data": {
      "text/html": [
       "Syncing run <strong><a href='https://wandb.ai/devdchyeon/DLTHON/runs/s0v3sn4z' target=\"_blank\">neat-sweep-8</a></strong> to <a href='https://wandb.ai/devdchyeon/DLTHON' target=\"_blank\">Weights & Biases</a> (<a href='https://wandb.me/run' target=\"_blank\">docs</a>)<br/>Sweep page: <a href='https://wandb.ai/devdchyeon/DLTHON/sweeps/z3k1w1jj' target=\"_blank\">https://wandb.ai/devdchyeon/DLTHON/sweeps/z3k1w1jj</a>"
      ],
      "text/plain": [
       "<IPython.core.display.HTML object>"
      ]
     },
     "metadata": {},
     "output_type": "display_data"
    },
    {
     "data": {
      "text/html": [
       " View project at <a href='https://wandb.ai/devdchyeon/DLTHON' target=\"_blank\">https://wandb.ai/devdchyeon/DLTHON</a>"
      ],
      "text/plain": [
       "<IPython.core.display.HTML object>"
      ]
     },
     "metadata": {},
     "output_type": "display_data"
    },
    {
     "data": {
      "text/html": [
       " View sweep at <a href='https://wandb.ai/devdchyeon/DLTHON/sweeps/z3k1w1jj' target=\"_blank\">https://wandb.ai/devdchyeon/DLTHON/sweeps/z3k1w1jj</a>"
      ],
      "text/plain": [
       "<IPython.core.display.HTML object>"
      ]
     },
     "metadata": {},
     "output_type": "display_data"
    },
    {
     "data": {
      "text/html": [
       " View run at <a href='https://wandb.ai/devdchyeon/DLTHON/runs/s0v3sn4z' target=\"_blank\">https://wandb.ai/devdchyeon/DLTHON/runs/s0v3sn4z</a>"
      ],
      "text/plain": [
       "<IPython.core.display.HTML object>"
      ]
     },
     "metadata": {},
     "output_type": "display_data"
    },
    {
     "name": "stderr",
     "output_type": "stream",
     "text": [
      "Read 0M words\n",
      "Number of words:  84915\n",
      "Number of labels: 5\n",
      "Progress: 100.0% words/sec/thread:  588759 lr:  0.000000 avg.loss:  1.091219 ETA:   0h 0m 0s 40.6% words/sec/thread:  606020 lr:  0.005945 avg.loss:  1.443970 ETA:   0h 0m13s 44.0% words/sec/thread:  589301 lr:  0.005600 avg.loss:  1.418098 ETA:   0h 0m13s100.0% words/sec/thread:  588761 lr: -0.000000 avg.loss:  1.091219 ETA:   0h 0m 0s\n"
     ]
    },
    {
     "data": {
      "application/vnd.jupyter.widget-view+json": {
       "model_id": "",
       "version_major": 2,
       "version_minor": 0
      },
      "text/plain": [
       "VBox(children=(Label(value='0.002 MB of 0.002 MB uploaded\\r'), FloatProgress(value=1.0, max=1.0)))"
      ]
     },
     "metadata": {},
     "output_type": "display_data"
    },
    {
     "data": {
      "text/html": [
       "<style>\n",
       "    table.wandb td:nth-child(1) { padding: 0 10px; text-align: left ; width: auto;} td:nth-child(2) {text-align: left ; width: 100%}\n",
       "    .wandb-row { display: flex; flex-direction: row; flex-wrap: wrap; justify-content: flex-start; width: 100% }\n",
       "    .wandb-col { display: flex; flex-direction: column; flex-basis: 100%; flex: 1; padding: 10px; }\n",
       "    </style>\n",
       "<div class=\"wandb-row\"><div class=\"wandb-col\"><h3>Run history:</h3><br/><table class=\"wandb\"><tr><td>accuracy</td><td>▁</td></tr></table><br/></div><div class=\"wandb-col\"><h3>Run summary:</h3><br/><table class=\"wandb\"><tr><td>accuracy</td><td>0.776</td></tr></table><br/></div></div>"
      ],
      "text/plain": [
       "<IPython.core.display.HTML object>"
      ]
     },
     "metadata": {},
     "output_type": "display_data"
    },
    {
     "data": {
      "text/html": [
       " View run <strong style=\"color:#cdcd00\">neat-sweep-8</strong> at: <a href='https://wandb.ai/devdchyeon/DLTHON/runs/s0v3sn4z' target=\"_blank\">https://wandb.ai/devdchyeon/DLTHON/runs/s0v3sn4z</a><br/>Synced 5 W&B file(s), 0 media file(s), 0 artifact file(s) and 0 other file(s)"
      ],
      "text/plain": [
       "<IPython.core.display.HTML object>"
      ]
     },
     "metadata": {},
     "output_type": "display_data"
    },
    {
     "data": {
      "text/html": [
       "Find logs at: <code>./wandb/run-20240626_130125-s0v3sn4z/logs</code>"
      ],
      "text/plain": [
       "<IPython.core.display.HTML object>"
      ]
     },
     "metadata": {},
     "output_type": "display_data"
    },
    {
     "name": "stderr",
     "output_type": "stream",
     "text": [
      "\u001b[34m\u001b[1mwandb\u001b[0m: Agent Starting Run: 89truirf with config:\n",
      "\u001b[34m\u001b[1mwandb\u001b[0m: \tdim: 150\n",
      "\u001b[34m\u001b[1mwandb\u001b[0m: \tepoch: 100\n",
      "\u001b[34m\u001b[1mwandb\u001b[0m: \tlr: 0.2\n",
      "\u001b[34m\u001b[1mwandb\u001b[0m: \tminCount: 7\n",
      "\u001b[34m\u001b[1mwandb\u001b[0m: \twordNgrams: 4\n",
      "\u001b[34m\u001b[1mwandb\u001b[0m: \u001b[33mWARNING\u001b[0m Ignored wandb.init() arg project when running a sweep.\n"
     ]
    },
    {
     "data": {
      "text/html": [
       "wandb version 0.17.3 is available!  To upgrade, please run:\n",
       " $ pip install wandb --upgrade"
      ],
      "text/plain": [
       "<IPython.core.display.HTML object>"
      ]
     },
     "metadata": {},
     "output_type": "display_data"
    },
    {
     "data": {
      "text/html": [
       "Tracking run with wandb version 0.16.0"
      ],
      "text/plain": [
       "<IPython.core.display.HTML object>"
      ]
     },
     "metadata": {},
     "output_type": "display_data"
    },
    {
     "data": {
      "text/html": [
       "Run data is saved locally in <code>/aiffel/aiffel/workspace/16_dlthon_1/wandb/run-20240626_130200-89truirf</code>"
      ],
      "text/plain": [
       "<IPython.core.display.HTML object>"
      ]
     },
     "metadata": {},
     "output_type": "display_data"
    },
    {
     "data": {
      "text/html": [
       "Syncing run <strong><a href='https://wandb.ai/devdchyeon/DLTHON/runs/89truirf' target=\"_blank\">earthy-sweep-9</a></strong> to <a href='https://wandb.ai/devdchyeon/DLTHON' target=\"_blank\">Weights & Biases</a> (<a href='https://wandb.me/run' target=\"_blank\">docs</a>)<br/>Sweep page: <a href='https://wandb.ai/devdchyeon/DLTHON/sweeps/z3k1w1jj' target=\"_blank\">https://wandb.ai/devdchyeon/DLTHON/sweeps/z3k1w1jj</a>"
      ],
      "text/plain": [
       "<IPython.core.display.HTML object>"
      ]
     },
     "metadata": {},
     "output_type": "display_data"
    },
    {
     "data": {
      "text/html": [
       " View project at <a href='https://wandb.ai/devdchyeon/DLTHON' target=\"_blank\">https://wandb.ai/devdchyeon/DLTHON</a>"
      ],
      "text/plain": [
       "<IPython.core.display.HTML object>"
      ]
     },
     "metadata": {},
     "output_type": "display_data"
    },
    {
     "data": {
      "text/html": [
       " View sweep at <a href='https://wandb.ai/devdchyeon/DLTHON/sweeps/z3k1w1jj' target=\"_blank\">https://wandb.ai/devdchyeon/DLTHON/sweeps/z3k1w1jj</a>"
      ],
      "text/plain": [
       "<IPython.core.display.HTML object>"
      ]
     },
     "metadata": {},
     "output_type": "display_data"
    },
    {
     "data": {
      "text/html": [
       " View run at <a href='https://wandb.ai/devdchyeon/DLTHON/runs/89truirf' target=\"_blank\">https://wandb.ai/devdchyeon/DLTHON/runs/89truirf</a>"
      ],
      "text/plain": [
       "<IPython.core.display.HTML object>"
      ]
     },
     "metadata": {},
     "output_type": "display_data"
    },
    {
     "name": "stderr",
     "output_type": "stream",
     "text": [
      "Read 0M words\n",
      "Number of words:  5418\n",
      "Number of labels: 5\n",
      "Progress: 100.0% words/sec/thread:  412077 lr:  0.000000 avg.loss:  0.057687 ETA:   0h 0m 0s 38.7% words/sec/thread:  392547 lr:  0.122687 avg.loss:  0.156047 ETA:   0h 0m22s\n"
     ]
    },
    {
     "data": {
      "application/vnd.jupyter.widget-view+json": {
       "model_id": "",
       "version_major": 2,
       "version_minor": 0
      },
      "text/plain": [
       "VBox(children=(Label(value='0.008 MB of 0.008 MB uploaded\\r'), FloatProgress(value=1.0, max=1.0)))"
      ]
     },
     "metadata": {},
     "output_type": "display_data"
    },
    {
     "data": {
      "text/html": [
       "<style>\n",
       "    table.wandb td:nth-child(1) { padding: 0 10px; text-align: left ; width: auto;} td:nth-child(2) {text-align: left ; width: 100%}\n",
       "    .wandb-row { display: flex; flex-direction: row; flex-wrap: wrap; justify-content: flex-start; width: 100% }\n",
       "    .wandb-col { display: flex; flex-direction: column; flex-basis: 100%; flex: 1; padding: 10px; }\n",
       "    </style>\n",
       "<div class=\"wandb-row\"><div class=\"wandb-col\"><h3>Run history:</h3><br/><table class=\"wandb\"><tr><td>accuracy</td><td>▁</td></tr></table><br/></div><div class=\"wandb-col\"><h3>Run summary:</h3><br/><table class=\"wandb\"><tr><td>accuracy</td><td>1.0</td></tr></table><br/></div></div>"
      ],
      "text/plain": [
       "<IPython.core.display.HTML object>"
      ]
     },
     "metadata": {},
     "output_type": "display_data"
    },
    {
     "data": {
      "text/html": [
       " View run <strong style=\"color:#cdcd00\">earthy-sweep-9</strong> at: <a href='https://wandb.ai/devdchyeon/DLTHON/runs/89truirf' target=\"_blank\">https://wandb.ai/devdchyeon/DLTHON/runs/89truirf</a><br/>Synced 5 W&B file(s), 0 media file(s), 0 artifact file(s) and 0 other file(s)"
      ],
      "text/plain": [
       "<IPython.core.display.HTML object>"
      ]
     },
     "metadata": {},
     "output_type": "display_data"
    },
    {
     "data": {
      "text/html": [
       "Find logs at: <code>./wandb/run-20240626_130200-89truirf/logs</code>"
      ],
      "text/plain": [
       "<IPython.core.display.HTML object>"
      ]
     },
     "metadata": {},
     "output_type": "display_data"
    },
    {
     "name": "stderr",
     "output_type": "stream",
     "text": [
      "\u001b[34m\u001b[1mwandb\u001b[0m: Sweep Agent: Waiting for job.\n",
      "\u001b[34m\u001b[1mwandb\u001b[0m: Job received.\n",
      "\u001b[34m\u001b[1mwandb\u001b[0m: Agent Starting Run: 089dtqh9 with config:\n",
      "\u001b[34m\u001b[1mwandb\u001b[0m: \tdim: 150\n",
      "\u001b[34m\u001b[1mwandb\u001b[0m: \tepoch: 70\n",
      "\u001b[34m\u001b[1mwandb\u001b[0m: \tlr: 0.2\n",
      "\u001b[34m\u001b[1mwandb\u001b[0m: \tminCount: 7\n",
      "\u001b[34m\u001b[1mwandb\u001b[0m: \twordNgrams: 4\n",
      "\u001b[34m\u001b[1mwandb\u001b[0m: \u001b[33mWARNING\u001b[0m Ignored wandb.init() arg project when running a sweep.\n"
     ]
    },
    {
     "data": {
      "text/html": [
       "wandb version 0.17.3 is available!  To upgrade, please run:\n",
       " $ pip install wandb --upgrade"
      ],
      "text/plain": [
       "<IPython.core.display.HTML object>"
      ]
     },
     "metadata": {},
     "output_type": "display_data"
    },
    {
     "data": {
      "text/html": [
       "Tracking run with wandb version 0.16.0"
      ],
      "text/plain": [
       "<IPython.core.display.HTML object>"
      ]
     },
     "metadata": {},
     "output_type": "display_data"
    },
    {
     "data": {
      "text/html": [
       "Run data is saved locally in <code>/aiffel/aiffel/workspace/16_dlthon_1/wandb/run-20240626_130251-089dtqh9</code>"
      ],
      "text/plain": [
       "<IPython.core.display.HTML object>"
      ]
     },
     "metadata": {},
     "output_type": "display_data"
    },
    {
     "data": {
      "text/html": [
       "Syncing run <strong><a href='https://wandb.ai/devdchyeon/DLTHON/runs/089dtqh9' target=\"_blank\">still-sweep-10</a></strong> to <a href='https://wandb.ai/devdchyeon/DLTHON' target=\"_blank\">Weights & Biases</a> (<a href='https://wandb.me/run' target=\"_blank\">docs</a>)<br/>Sweep page: <a href='https://wandb.ai/devdchyeon/DLTHON/sweeps/z3k1w1jj' target=\"_blank\">https://wandb.ai/devdchyeon/DLTHON/sweeps/z3k1w1jj</a>"
      ],
      "text/plain": [
       "<IPython.core.display.HTML object>"
      ]
     },
     "metadata": {},
     "output_type": "display_data"
    },
    {
     "data": {
      "text/html": [
       " View project at <a href='https://wandb.ai/devdchyeon/DLTHON' target=\"_blank\">https://wandb.ai/devdchyeon/DLTHON</a>"
      ],
      "text/plain": [
       "<IPython.core.display.HTML object>"
      ]
     },
     "metadata": {},
     "output_type": "display_data"
    },
    {
     "data": {
      "text/html": [
       " View sweep at <a href='https://wandb.ai/devdchyeon/DLTHON/sweeps/z3k1w1jj' target=\"_blank\">https://wandb.ai/devdchyeon/DLTHON/sweeps/z3k1w1jj</a>"
      ],
      "text/plain": [
       "<IPython.core.display.HTML object>"
      ]
     },
     "metadata": {},
     "output_type": "display_data"
    },
    {
     "data": {
      "text/html": [
       " View run at <a href='https://wandb.ai/devdchyeon/DLTHON/runs/089dtqh9' target=\"_blank\">https://wandb.ai/devdchyeon/DLTHON/runs/089dtqh9</a>"
      ],
      "text/plain": [
       "<IPython.core.display.HTML object>"
      ]
     },
     "metadata": {},
     "output_type": "display_data"
    },
    {
     "name": "stderr",
     "output_type": "stream",
     "text": [
      "Read 0M words\n",
      "Number of words:  5418\n",
      "Number of labels: 5\n",
      "Progress: 100.0% words/sec/thread:  418118 lr:  0.000000 avg.loss:  0.095610 ETA:   0h 0m 0s% words/sec/thread:  382699 lr:  0.123880 avg.loss:  0.244469 ETA:   0h 0m16s\n"
     ]
    },
    {
     "data": {
      "application/vnd.jupyter.widget-view+json": {
       "model_id": "",
       "version_major": 2,
       "version_minor": 0
      },
      "text/plain": [
       "VBox(children=(Label(value='0.002 MB of 0.002 MB uploaded\\r'), FloatProgress(value=1.0, max=1.0)))"
      ]
     },
     "metadata": {},
     "output_type": "display_data"
    },
    {
     "data": {
      "text/html": [
       "<style>\n",
       "    table.wandb td:nth-child(1) { padding: 0 10px; text-align: left ; width: auto;} td:nth-child(2) {text-align: left ; width: 100%}\n",
       "    .wandb-row { display: flex; flex-direction: row; flex-wrap: wrap; justify-content: flex-start; width: 100% }\n",
       "    .wandb-col { display: flex; flex-direction: column; flex-basis: 100%; flex: 1; padding: 10px; }\n",
       "    </style>\n",
       "<div class=\"wandb-row\"><div class=\"wandb-col\"><h3>Run history:</h3><br/><table class=\"wandb\"><tr><td>accuracy</td><td>▁</td></tr></table><br/></div><div class=\"wandb-col\"><h3>Run summary:</h3><br/><table class=\"wandb\"><tr><td>accuracy</td><td>1.0</td></tr></table><br/></div></div>"
      ],
      "text/plain": [
       "<IPython.core.display.HTML object>"
      ]
     },
     "metadata": {},
     "output_type": "display_data"
    },
    {
     "data": {
      "text/html": [
       " View run <strong style=\"color:#cdcd00\">still-sweep-10</strong> at: <a href='https://wandb.ai/devdchyeon/DLTHON/runs/089dtqh9' target=\"_blank\">https://wandb.ai/devdchyeon/DLTHON/runs/089dtqh9</a><br/>Synced 5 W&B file(s), 0 media file(s), 0 artifact file(s) and 0 other file(s)"
      ],
      "text/plain": [
       "<IPython.core.display.HTML object>"
      ]
     },
     "metadata": {},
     "output_type": "display_data"
    },
    {
     "data": {
      "text/html": [
       "Find logs at: <code>./wandb/run-20240626_130251-089dtqh9/logs</code>"
      ],
      "text/plain": [
       "<IPython.core.display.HTML object>"
      ]
     },
     "metadata": {},
     "output_type": "display_data"
    },
    {
     "name": "stderr",
     "output_type": "stream",
     "text": [
      "\u001b[34m\u001b[1mwandb\u001b[0m: Sweep Agent: Waiting for job.\n",
      "\u001b[34m\u001b[1mwandb\u001b[0m: Job received.\n",
      "\u001b[34m\u001b[1mwandb\u001b[0m: Agent Starting Run: lvud8wcl with config:\n",
      "\u001b[34m\u001b[1mwandb\u001b[0m: \tdim: 100\n",
      "\u001b[34m\u001b[1mwandb\u001b[0m: \tepoch: 70\n",
      "\u001b[34m\u001b[1mwandb\u001b[0m: \tlr: 0.2\n",
      "\u001b[34m\u001b[1mwandb\u001b[0m: \tminCount: 7\n",
      "\u001b[34m\u001b[1mwandb\u001b[0m: \twordNgrams: 4\n",
      "\u001b[34m\u001b[1mwandb\u001b[0m: \u001b[33mWARNING\u001b[0m Ignored wandb.init() arg project when running a sweep.\n"
     ]
    },
    {
     "data": {
      "text/html": [
       "wandb version 0.17.3 is available!  To upgrade, please run:\n",
       " $ pip install wandb --upgrade"
      ],
      "text/plain": [
       "<IPython.core.display.HTML object>"
      ]
     },
     "metadata": {},
     "output_type": "display_data"
    },
    {
     "data": {
      "text/html": [
       "Tracking run with wandb version 0.16.0"
      ],
      "text/plain": [
       "<IPython.core.display.HTML object>"
      ]
     },
     "metadata": {},
     "output_type": "display_data"
    },
    {
     "data": {
      "text/html": [
       "Run data is saved locally in <code>/aiffel/aiffel/workspace/16_dlthon_1/wandb/run-20240626_130332-lvud8wcl</code>"
      ],
      "text/plain": [
       "<IPython.core.display.HTML object>"
      ]
     },
     "metadata": {},
     "output_type": "display_data"
    },
    {
     "data": {
      "text/html": [
       "Syncing run <strong><a href='https://wandb.ai/devdchyeon/DLTHON/runs/lvud8wcl' target=\"_blank\">legendary-sweep-11</a></strong> to <a href='https://wandb.ai/devdchyeon/DLTHON' target=\"_blank\">Weights & Biases</a> (<a href='https://wandb.me/run' target=\"_blank\">docs</a>)<br/>Sweep page: <a href='https://wandb.ai/devdchyeon/DLTHON/sweeps/z3k1w1jj' target=\"_blank\">https://wandb.ai/devdchyeon/DLTHON/sweeps/z3k1w1jj</a>"
      ],
      "text/plain": [
       "<IPython.core.display.HTML object>"
      ]
     },
     "metadata": {},
     "output_type": "display_data"
    },
    {
     "data": {
      "text/html": [
       " View project at <a href='https://wandb.ai/devdchyeon/DLTHON' target=\"_blank\">https://wandb.ai/devdchyeon/DLTHON</a>"
      ],
      "text/plain": [
       "<IPython.core.display.HTML object>"
      ]
     },
     "metadata": {},
     "output_type": "display_data"
    },
    {
     "data": {
      "text/html": [
       " View sweep at <a href='https://wandb.ai/devdchyeon/DLTHON/sweeps/z3k1w1jj' target=\"_blank\">https://wandb.ai/devdchyeon/DLTHON/sweeps/z3k1w1jj</a>"
      ],
      "text/plain": [
       "<IPython.core.display.HTML object>"
      ]
     },
     "metadata": {},
     "output_type": "display_data"
    },
    {
     "data": {
      "text/html": [
       " View run at <a href='https://wandb.ai/devdchyeon/DLTHON/runs/lvud8wcl' target=\"_blank\">https://wandb.ai/devdchyeon/DLTHON/runs/lvud8wcl</a>"
      ],
      "text/plain": [
       "<IPython.core.display.HTML object>"
      ]
     },
     "metadata": {},
     "output_type": "display_data"
    },
    {
     "name": "stderr",
     "output_type": "stream",
     "text": [
      "Read 0M words\n",
      "Number of words:  5418\n",
      "Number of labels: 5\n",
      "Progress: 100.0% words/sec/thread:  546834 lr:  0.000000 avg.loss:  0.086808 ETA:   0h 0m 0s 503297 lr:  0.123066 avg.loss:  0.221697 ETA:   0h 0m12s 52.0% words/sec/thread:  522071 lr:  0.096084 avg.loss:  0.166912 ETA:   0h 0m 9s words/sec/thread:  526016 lr:  0.086848 avg.loss:  0.151868 ETA:   0h 0m 8s 59.5% words/sec/thread:  528717 lr:  0.080959 avg.loss:  0.143289 ETA:   0h 0m 7s\n"
     ]
    },
    {
     "data": {
      "application/vnd.jupyter.widget-view+json": {
       "model_id": "",
       "version_major": 2,
       "version_minor": 0
      },
      "text/plain": [
       "VBox(children=(Label(value='0.002 MB of 0.002 MB uploaded\\r'), FloatProgress(value=1.0, max=1.0)))"
      ]
     },
     "metadata": {},
     "output_type": "display_data"
    },
    {
     "data": {
      "text/html": [
       "<style>\n",
       "    table.wandb td:nth-child(1) { padding: 0 10px; text-align: left ; width: auto;} td:nth-child(2) {text-align: left ; width: 100%}\n",
       "    .wandb-row { display: flex; flex-direction: row; flex-wrap: wrap; justify-content: flex-start; width: 100% }\n",
       "    .wandb-col { display: flex; flex-direction: column; flex-basis: 100%; flex: 1; padding: 10px; }\n",
       "    </style>\n",
       "<div class=\"wandb-row\"><div class=\"wandb-col\"><h3>Run history:</h3><br/><table class=\"wandb\"><tr><td>accuracy</td><td>▁</td></tr></table><br/></div><div class=\"wandb-col\"><h3>Run summary:</h3><br/><table class=\"wandb\"><tr><td>accuracy</td><td>1.0</td></tr></table><br/></div></div>"
      ],
      "text/plain": [
       "<IPython.core.display.HTML object>"
      ]
     },
     "metadata": {},
     "output_type": "display_data"
    },
    {
     "data": {
      "text/html": [
       " View run <strong style=\"color:#cdcd00\">legendary-sweep-11</strong> at: <a href='https://wandb.ai/devdchyeon/DLTHON/runs/lvud8wcl' target=\"_blank\">https://wandb.ai/devdchyeon/DLTHON/runs/lvud8wcl</a><br/>Synced 5 W&B file(s), 0 media file(s), 0 artifact file(s) and 0 other file(s)"
      ],
      "text/plain": [
       "<IPython.core.display.HTML object>"
      ]
     },
     "metadata": {},
     "output_type": "display_data"
    },
    {
     "data": {
      "text/html": [
       "Find logs at: <code>./wandb/run-20240626_130332-lvud8wcl/logs</code>"
      ],
      "text/plain": [
       "<IPython.core.display.HTML object>"
      ]
     },
     "metadata": {},
     "output_type": "display_data"
    },
    {
     "name": "stderr",
     "output_type": "stream",
     "text": [
      "\u001b[34m\u001b[1mwandb\u001b[0m: Agent Starting Run: tl7zloxu with config:\n",
      "\u001b[34m\u001b[1mwandb\u001b[0m: \tdim: 150\n",
      "\u001b[34m\u001b[1mwandb\u001b[0m: \tepoch: 70\n",
      "\u001b[34m\u001b[1mwandb\u001b[0m: \tlr: 0.1\n",
      "\u001b[34m\u001b[1mwandb\u001b[0m: \tminCount: 7\n",
      "\u001b[34m\u001b[1mwandb\u001b[0m: \twordNgrams: 4\n",
      "\u001b[34m\u001b[1mwandb\u001b[0m: \u001b[33mWARNING\u001b[0m Ignored wandb.init() arg project when running a sweep.\n"
     ]
    },
    {
     "data": {
      "text/html": [
       "wandb version 0.17.3 is available!  To upgrade, please run:\n",
       " $ pip install wandb --upgrade"
      ],
      "text/plain": [
       "<IPython.core.display.HTML object>"
      ]
     },
     "metadata": {},
     "output_type": "display_data"
    },
    {
     "data": {
      "text/html": [
       "Tracking run with wandb version 0.16.0"
      ],
      "text/plain": [
       "<IPython.core.display.HTML object>"
      ]
     },
     "metadata": {},
     "output_type": "display_data"
    },
    {
     "data": {
      "text/html": [
       "Run data is saved locally in <code>/aiffel/aiffel/workspace/16_dlthon_1/wandb/run-20240626_130359-tl7zloxu</code>"
      ],
      "text/plain": [
       "<IPython.core.display.HTML object>"
      ]
     },
     "metadata": {},
     "output_type": "display_data"
    },
    {
     "data": {
      "text/html": [
       "Syncing run <strong><a href='https://wandb.ai/devdchyeon/DLTHON/runs/tl7zloxu' target=\"_blank\">fast-sweep-12</a></strong> to <a href='https://wandb.ai/devdchyeon/DLTHON' target=\"_blank\">Weights & Biases</a> (<a href='https://wandb.me/run' target=\"_blank\">docs</a>)<br/>Sweep page: <a href='https://wandb.ai/devdchyeon/DLTHON/sweeps/z3k1w1jj' target=\"_blank\">https://wandb.ai/devdchyeon/DLTHON/sweeps/z3k1w1jj</a>"
      ],
      "text/plain": [
       "<IPython.core.display.HTML object>"
      ]
     },
     "metadata": {},
     "output_type": "display_data"
    },
    {
     "data": {
      "text/html": [
       " View project at <a href='https://wandb.ai/devdchyeon/DLTHON' target=\"_blank\">https://wandb.ai/devdchyeon/DLTHON</a>"
      ],
      "text/plain": [
       "<IPython.core.display.HTML object>"
      ]
     },
     "metadata": {},
     "output_type": "display_data"
    },
    {
     "data": {
      "text/html": [
       " View sweep at <a href='https://wandb.ai/devdchyeon/DLTHON/sweeps/z3k1w1jj' target=\"_blank\">https://wandb.ai/devdchyeon/DLTHON/sweeps/z3k1w1jj</a>"
      ],
      "text/plain": [
       "<IPython.core.display.HTML object>"
      ]
     },
     "metadata": {},
     "output_type": "display_data"
    },
    {
     "data": {
      "text/html": [
       " View run at <a href='https://wandb.ai/devdchyeon/DLTHON/runs/tl7zloxu' target=\"_blank\">https://wandb.ai/devdchyeon/DLTHON/runs/tl7zloxu</a>"
      ],
      "text/plain": [
       "<IPython.core.display.HTML object>"
      ]
     },
     "metadata": {},
     "output_type": "display_data"
    },
    {
     "name": "stderr",
     "output_type": "stream",
     "text": [
      "Read 0M words\n",
      "Number of words:  5418\n",
      "Number of labels: 5\n",
      "Progress: 100.0% words/sec/thread:  406023 lr:  0.000000 avg.loss:  0.143728 ETA:   0h 0m 0s100.0% words/sec/thread:  406024 lr: -0.000000 avg.loss:  0.143728 ETA:   0h 0m 0s\n"
     ]
    },
    {
     "data": {
      "application/vnd.jupyter.widget-view+json": {
       "model_id": "",
       "version_major": 2,
       "version_minor": 0
      },
      "text/plain": [
       "VBox(children=(Label(value='0.008 MB of 0.008 MB uploaded\\r'), FloatProgress(value=1.0, max=1.0)))"
      ]
     },
     "metadata": {},
     "output_type": "display_data"
    },
    {
     "data": {
      "text/html": [
       "<style>\n",
       "    table.wandb td:nth-child(1) { padding: 0 10px; text-align: left ; width: auto;} td:nth-child(2) {text-align: left ; width: 100%}\n",
       "    .wandb-row { display: flex; flex-direction: row; flex-wrap: wrap; justify-content: flex-start; width: 100% }\n",
       "    .wandb-col { display: flex; flex-direction: column; flex-basis: 100%; flex: 1; padding: 10px; }\n",
       "    </style>\n",
       "<div class=\"wandb-row\"><div class=\"wandb-col\"><h3>Run history:</h3><br/><table class=\"wandb\"><tr><td>accuracy</td><td>▁</td></tr></table><br/></div><div class=\"wandb-col\"><h3>Run summary:</h3><br/><table class=\"wandb\"><tr><td>accuracy</td><td>1.0</td></tr></table><br/></div></div>"
      ],
      "text/plain": [
       "<IPython.core.display.HTML object>"
      ]
     },
     "metadata": {},
     "output_type": "display_data"
    },
    {
     "data": {
      "text/html": [
       " View run <strong style=\"color:#cdcd00\">fast-sweep-12</strong> at: <a href='https://wandb.ai/devdchyeon/DLTHON/runs/tl7zloxu' target=\"_blank\">https://wandb.ai/devdchyeon/DLTHON/runs/tl7zloxu</a><br/>Synced 5 W&B file(s), 0 media file(s), 0 artifact file(s) and 0 other file(s)"
      ],
      "text/plain": [
       "<IPython.core.display.HTML object>"
      ]
     },
     "metadata": {},
     "output_type": "display_data"
    },
    {
     "data": {
      "text/html": [
       "Find logs at: <code>./wandb/run-20240626_130359-tl7zloxu/logs</code>"
      ],
      "text/plain": [
       "<IPython.core.display.HTML object>"
      ]
     },
     "metadata": {},
     "output_type": "display_data"
    },
    {
     "name": "stderr",
     "output_type": "stream",
     "text": [
      "\u001b[34m\u001b[1mwandb\u001b[0m: Sweep Agent: Waiting for job.\n",
      "\u001b[34m\u001b[1mwandb\u001b[0m: Job received.\n",
      "\u001b[34m\u001b[1mwandb\u001b[0m: Agent Starting Run: jshbvhdq with config:\n",
      "\u001b[34m\u001b[1mwandb\u001b[0m: \tdim: 150\n",
      "\u001b[34m\u001b[1mwandb\u001b[0m: \tepoch: 70\n",
      "\u001b[34m\u001b[1mwandb\u001b[0m: \tlr: 0.2\n",
      "\u001b[34m\u001b[1mwandb\u001b[0m: \tminCount: 7\n",
      "\u001b[34m\u001b[1mwandb\u001b[0m: \twordNgrams: 3\n",
      "\u001b[34m\u001b[1mwandb\u001b[0m: \u001b[33mWARNING\u001b[0m Ignored wandb.init() arg project when running a sweep.\n"
     ]
    },
    {
     "data": {
      "text/html": [
       "wandb version 0.17.3 is available!  To upgrade, please run:\n",
       " $ pip install wandb --upgrade"
      ],
      "text/plain": [
       "<IPython.core.display.HTML object>"
      ]
     },
     "metadata": {},
     "output_type": "display_data"
    },
    {
     "data": {
      "text/html": [
       "Tracking run with wandb version 0.16.0"
      ],
      "text/plain": [
       "<IPython.core.display.HTML object>"
      ]
     },
     "metadata": {},
     "output_type": "display_data"
    },
    {
     "data": {
      "text/html": [
       "Run data is saved locally in <code>/aiffel/aiffel/workspace/16_dlthon_1/wandb/run-20240626_130440-jshbvhdq</code>"
      ],
      "text/plain": [
       "<IPython.core.display.HTML object>"
      ]
     },
     "metadata": {},
     "output_type": "display_data"
    },
    {
     "data": {
      "text/html": [
       "Syncing run <strong><a href='https://wandb.ai/devdchyeon/DLTHON/runs/jshbvhdq' target=\"_blank\">dulcet-sweep-13</a></strong> to <a href='https://wandb.ai/devdchyeon/DLTHON' target=\"_blank\">Weights & Biases</a> (<a href='https://wandb.me/run' target=\"_blank\">docs</a>)<br/>Sweep page: <a href='https://wandb.ai/devdchyeon/DLTHON/sweeps/z3k1w1jj' target=\"_blank\">https://wandb.ai/devdchyeon/DLTHON/sweeps/z3k1w1jj</a>"
      ],
      "text/plain": [
       "<IPython.core.display.HTML object>"
      ]
     },
     "metadata": {},
     "output_type": "display_data"
    },
    {
     "data": {
      "text/html": [
       " View project at <a href='https://wandb.ai/devdchyeon/DLTHON' target=\"_blank\">https://wandb.ai/devdchyeon/DLTHON</a>"
      ],
      "text/plain": [
       "<IPython.core.display.HTML object>"
      ]
     },
     "metadata": {},
     "output_type": "display_data"
    },
    {
     "data": {
      "text/html": [
       " View sweep at <a href='https://wandb.ai/devdchyeon/DLTHON/sweeps/z3k1w1jj' target=\"_blank\">https://wandb.ai/devdchyeon/DLTHON/sweeps/z3k1w1jj</a>"
      ],
      "text/plain": [
       "<IPython.core.display.HTML object>"
      ]
     },
     "metadata": {},
     "output_type": "display_data"
    },
    {
     "data": {
      "text/html": [
       " View run at <a href='https://wandb.ai/devdchyeon/DLTHON/runs/jshbvhdq' target=\"_blank\">https://wandb.ai/devdchyeon/DLTHON/runs/jshbvhdq</a>"
      ],
      "text/plain": [
       "<IPython.core.display.HTML object>"
      ]
     },
     "metadata": {},
     "output_type": "display_data"
    },
    {
     "name": "stderr",
     "output_type": "stream",
     "text": [
      "Read 0M words\n",
      "Number of words:  5418\n",
      "Number of labels: 5\n",
      "Progress: 100.0% words/sec/thread:  531771 lr:  0.000000 avg.loss:  0.069492 ETA:   0h 0m 0s\n"
     ]
    },
    {
     "data": {
      "application/vnd.jupyter.widget-view+json": {
       "model_id": "",
       "version_major": 2,
       "version_minor": 0
      },
      "text/plain": [
       "VBox(children=(Label(value='0.008 MB of 0.008 MB uploaded\\r'), FloatProgress(value=1.0, max=1.0)))"
      ]
     },
     "metadata": {},
     "output_type": "display_data"
    },
    {
     "data": {
      "text/html": [
       "<style>\n",
       "    table.wandb td:nth-child(1) { padding: 0 10px; text-align: left ; width: auto;} td:nth-child(2) {text-align: left ; width: 100%}\n",
       "    .wandb-row { display: flex; flex-direction: row; flex-wrap: wrap; justify-content: flex-start; width: 100% }\n",
       "    .wandb-col { display: flex; flex-direction: column; flex-basis: 100%; flex: 1; padding: 10px; }\n",
       "    </style>\n",
       "<div class=\"wandb-row\"><div class=\"wandb-col\"><h3>Run history:</h3><br/><table class=\"wandb\"><tr><td>accuracy</td><td>▁</td></tr></table><br/></div><div class=\"wandb-col\"><h3>Run summary:</h3><br/><table class=\"wandb\"><tr><td>accuracy</td><td>1.0</td></tr></table><br/></div></div>"
      ],
      "text/plain": [
       "<IPython.core.display.HTML object>"
      ]
     },
     "metadata": {},
     "output_type": "display_data"
    },
    {
     "data": {
      "text/html": [
       " View run <strong style=\"color:#cdcd00\">dulcet-sweep-13</strong> at: <a href='https://wandb.ai/devdchyeon/DLTHON/runs/jshbvhdq' target=\"_blank\">https://wandb.ai/devdchyeon/DLTHON/runs/jshbvhdq</a><br/>Synced 5 W&B file(s), 0 media file(s), 0 artifact file(s) and 0 other file(s)"
      ],
      "text/plain": [
       "<IPython.core.display.HTML object>"
      ]
     },
     "metadata": {},
     "output_type": "display_data"
    },
    {
     "data": {
      "text/html": [
       "Find logs at: <code>./wandb/run-20240626_130440-jshbvhdq/logs</code>"
      ],
      "text/plain": [
       "<IPython.core.display.HTML object>"
      ]
     },
     "metadata": {},
     "output_type": "display_data"
    },
    {
     "name": "stderr",
     "output_type": "stream",
     "text": [
      "\u001b[34m\u001b[1mwandb\u001b[0m: Agent Starting Run: s4xnbe12 with config:\n",
      "\u001b[34m\u001b[1mwandb\u001b[0m: \tdim: 150\n",
      "\u001b[34m\u001b[1mwandb\u001b[0m: \tepoch: 70\n",
      "\u001b[34m\u001b[1mwandb\u001b[0m: \tlr: 0.1\n",
      "\u001b[34m\u001b[1mwandb\u001b[0m: \tminCount: 7\n",
      "\u001b[34m\u001b[1mwandb\u001b[0m: \twordNgrams: 4\n",
      "\u001b[34m\u001b[1mwandb\u001b[0m: \u001b[33mWARNING\u001b[0m Ignored wandb.init() arg project when running a sweep.\n"
     ]
    },
    {
     "data": {
      "text/html": [
       "wandb version 0.17.3 is available!  To upgrade, please run:\n",
       " $ pip install wandb --upgrade"
      ],
      "text/plain": [
       "<IPython.core.display.HTML object>"
      ]
     },
     "metadata": {},
     "output_type": "display_data"
    },
    {
     "data": {
      "text/html": [
       "Tracking run with wandb version 0.16.0"
      ],
      "text/plain": [
       "<IPython.core.display.HTML object>"
      ]
     },
     "metadata": {},
     "output_type": "display_data"
    },
    {
     "data": {
      "text/html": [
       "Run data is saved locally in <code>/aiffel/aiffel/workspace/16_dlthon_1/wandb/run-20240626_130507-s4xnbe12</code>"
      ],
      "text/plain": [
       "<IPython.core.display.HTML object>"
      ]
     },
     "metadata": {},
     "output_type": "display_data"
    },
    {
     "data": {
      "text/html": [
       "Syncing run <strong><a href='https://wandb.ai/devdchyeon/DLTHON/runs/s4xnbe12' target=\"_blank\">northern-sweep-14</a></strong> to <a href='https://wandb.ai/devdchyeon/DLTHON' target=\"_blank\">Weights & Biases</a> (<a href='https://wandb.me/run' target=\"_blank\">docs</a>)<br/>Sweep page: <a href='https://wandb.ai/devdchyeon/DLTHON/sweeps/z3k1w1jj' target=\"_blank\">https://wandb.ai/devdchyeon/DLTHON/sweeps/z3k1w1jj</a>"
      ],
      "text/plain": [
       "<IPython.core.display.HTML object>"
      ]
     },
     "metadata": {},
     "output_type": "display_data"
    },
    {
     "data": {
      "text/html": [
       " View project at <a href='https://wandb.ai/devdchyeon/DLTHON' target=\"_blank\">https://wandb.ai/devdchyeon/DLTHON</a>"
      ],
      "text/plain": [
       "<IPython.core.display.HTML object>"
      ]
     },
     "metadata": {},
     "output_type": "display_data"
    },
    {
     "data": {
      "text/html": [
       " View sweep at <a href='https://wandb.ai/devdchyeon/DLTHON/sweeps/z3k1w1jj' target=\"_blank\">https://wandb.ai/devdchyeon/DLTHON/sweeps/z3k1w1jj</a>"
      ],
      "text/plain": [
       "<IPython.core.display.HTML object>"
      ]
     },
     "metadata": {},
     "output_type": "display_data"
    },
    {
     "data": {
      "text/html": [
       " View run at <a href='https://wandb.ai/devdchyeon/DLTHON/runs/s4xnbe12' target=\"_blank\">https://wandb.ai/devdchyeon/DLTHON/runs/s4xnbe12</a>"
      ],
      "text/plain": [
       "<IPython.core.display.HTML object>"
      ]
     },
     "metadata": {},
     "output_type": "display_data"
    },
    {
     "name": "stderr",
     "output_type": "stream",
     "text": [
      "Read 0M words\n",
      "Number of words:  5418\n",
      "Number of labels: 5\n",
      "Progress: 100.0% words/sec/thread:  412951 lr:  0.000000 avg.loss:  0.180990 ETA:   0h 0m 0s 45.1% words/sec/thread:  380178 lr:  0.054917 avg.loss:  0.384788 ETA:   0h 0m14s\n"
     ]
    },
    {
     "data": {
      "application/vnd.jupyter.widget-view+json": {
       "model_id": "",
       "version_major": 2,
       "version_minor": 0
      },
      "text/plain": [
       "VBox(children=(Label(value='0.008 MB of 0.008 MB uploaded\\r'), FloatProgress(value=1.0, max=1.0)))"
      ]
     },
     "metadata": {},
     "output_type": "display_data"
    },
    {
     "data": {
      "text/html": [
       "<style>\n",
       "    table.wandb td:nth-child(1) { padding: 0 10px; text-align: left ; width: auto;} td:nth-child(2) {text-align: left ; width: 100%}\n",
       "    .wandb-row { display: flex; flex-direction: row; flex-wrap: wrap; justify-content: flex-start; width: 100% }\n",
       "    .wandb-col { display: flex; flex-direction: column; flex-basis: 100%; flex: 1; padding: 10px; }\n",
       "    </style>\n",
       "<div class=\"wandb-row\"><div class=\"wandb-col\"><h3>Run history:</h3><br/><table class=\"wandb\"><tr><td>accuracy</td><td>▁</td></tr></table><br/></div><div class=\"wandb-col\"><h3>Run summary:</h3><br/><table class=\"wandb\"><tr><td>accuracy</td><td>1.0</td></tr></table><br/></div></div>"
      ],
      "text/plain": [
       "<IPython.core.display.HTML object>"
      ]
     },
     "metadata": {},
     "output_type": "display_data"
    },
    {
     "data": {
      "text/html": [
       " View run <strong style=\"color:#cdcd00\">northern-sweep-14</strong> at: <a href='https://wandb.ai/devdchyeon/DLTHON/runs/s4xnbe12' target=\"_blank\">https://wandb.ai/devdchyeon/DLTHON/runs/s4xnbe12</a><br/>Synced 5 W&B file(s), 0 media file(s), 0 artifact file(s) and 0 other file(s)"
      ],
      "text/plain": [
       "<IPython.core.display.HTML object>"
      ]
     },
     "metadata": {},
     "output_type": "display_data"
    },
    {
     "data": {
      "text/html": [
       "Find logs at: <code>./wandb/run-20240626_130507-s4xnbe12/logs</code>"
      ],
      "text/plain": [
       "<IPython.core.display.HTML object>"
      ]
     },
     "metadata": {},
     "output_type": "display_data"
    },
    {
     "name": "stderr",
     "output_type": "stream",
     "text": [
      "\u001b[34m\u001b[1mwandb\u001b[0m: Agent Starting Run: g7x3bfhe with config:\n",
      "\u001b[34m\u001b[1mwandb\u001b[0m: \tdim: 200\n",
      "\u001b[34m\u001b[1mwandb\u001b[0m: \tepoch: 50\n",
      "\u001b[34m\u001b[1mwandb\u001b[0m: \tlr: 0.5\n",
      "\u001b[34m\u001b[1mwandb\u001b[0m: \tminCount: 5\n",
      "\u001b[34m\u001b[1mwandb\u001b[0m: \twordNgrams: 4\n",
      "\u001b[34m\u001b[1mwandb\u001b[0m: \u001b[33mWARNING\u001b[0m Ignored wandb.init() arg project when running a sweep.\n"
     ]
    },
    {
     "data": {
      "text/html": [
       "wandb version 0.17.3 is available!  To upgrade, please run:\n",
       " $ pip install wandb --upgrade"
      ],
      "text/plain": [
       "<IPython.core.display.HTML object>"
      ]
     },
     "metadata": {},
     "output_type": "display_data"
    },
    {
     "data": {
      "text/html": [
       "Tracking run with wandb version 0.16.0"
      ],
      "text/plain": [
       "<IPython.core.display.HTML object>"
      ]
     },
     "metadata": {},
     "output_type": "display_data"
    },
    {
     "data": {
      "text/html": [
       "Run data is saved locally in <code>/aiffel/aiffel/workspace/16_dlthon_1/wandb/run-20240626_130542-g7x3bfhe</code>"
      ],
      "text/plain": [
       "<IPython.core.display.HTML object>"
      ]
     },
     "metadata": {},
     "output_type": "display_data"
    },
    {
     "data": {
      "text/html": [
       "Syncing run <strong><a href='https://wandb.ai/devdchyeon/DLTHON/runs/g7x3bfhe' target=\"_blank\">winter-sweep-15</a></strong> to <a href='https://wandb.ai/devdchyeon/DLTHON' target=\"_blank\">Weights & Biases</a> (<a href='https://wandb.me/run' target=\"_blank\">docs</a>)<br/>Sweep page: <a href='https://wandb.ai/devdchyeon/DLTHON/sweeps/z3k1w1jj' target=\"_blank\">https://wandb.ai/devdchyeon/DLTHON/sweeps/z3k1w1jj</a>"
      ],
      "text/plain": [
       "<IPython.core.display.HTML object>"
      ]
     },
     "metadata": {},
     "output_type": "display_data"
    },
    {
     "data": {
      "text/html": [
       " View project at <a href='https://wandb.ai/devdchyeon/DLTHON' target=\"_blank\">https://wandb.ai/devdchyeon/DLTHON</a>"
      ],
      "text/plain": [
       "<IPython.core.display.HTML object>"
      ]
     },
     "metadata": {},
     "output_type": "display_data"
    },
    {
     "data": {
      "text/html": [
       " View sweep at <a href='https://wandb.ai/devdchyeon/DLTHON/sweeps/z3k1w1jj' target=\"_blank\">https://wandb.ai/devdchyeon/DLTHON/sweeps/z3k1w1jj</a>"
      ],
      "text/plain": [
       "<IPython.core.display.HTML object>"
      ]
     },
     "metadata": {},
     "output_type": "display_data"
    },
    {
     "data": {
      "text/html": [
       " View run at <a href='https://wandb.ai/devdchyeon/DLTHON/runs/g7x3bfhe' target=\"_blank\">https://wandb.ai/devdchyeon/DLTHON/runs/g7x3bfhe</a>"
      ],
      "text/plain": [
       "<IPython.core.display.HTML object>"
      ]
     },
     "metadata": {},
     "output_type": "display_data"
    },
    {
     "name": "stderr",
     "output_type": "stream",
     "text": [
      "Read 0M words\n",
      "Number of words:  7745\n",
      "Number of labels: 5\n",
      "Progress: 100.0% words/sec/thread:  334970 lr:  0.000000 avg.loss:  0.071114 ETA:   0h 0m 0s  8.8% words/sec/thread:  201153 lr:  0.456044 avg.loss:  0.766683 ETA:   0h 0m32s 11.4% words/sec/thread:  223788 lr:  0.443212 avg.loss:  0.580696 ETA:   0h 0m28s 16.6% words/sec/thread:  255264 lr:  0.417224 avg.loss:  0.396803 ETA:   0h 0m23s 19.1% words/sec/thread:  266155 lr:  0.404322 avg.loss:  0.356370 ETA:   0h 0m21s 26.3% words/sec/thread:  286731 lr:  0.368698 avg.loss:  0.263625 ETA:   0h 0m18s 31.8% words/sec/thread:  296889 lr:  0.341071 avg.loss:  0.216859 ETA:   0h 0m16s 71.1% words/sec/thread:  328051 lr:  0.144378 avg.loss:  0.098843 ETA:   0h 0m 6s 93.3% words/sec/thread:  334883 lr:  0.033284 avg.loss:  0.075870 ETA:   0h 0m 1s\n"
     ]
    },
    {
     "data": {
      "application/vnd.jupyter.widget-view+json": {
       "model_id": "",
       "version_major": 2,
       "version_minor": 0
      },
      "text/plain": [
       "VBox(children=(Label(value='0.002 MB of 0.002 MB uploaded\\r'), FloatProgress(value=1.0, max=1.0)))"
      ]
     },
     "metadata": {},
     "output_type": "display_data"
    },
    {
     "data": {
      "text/html": [
       "<style>\n",
       "    table.wandb td:nth-child(1) { padding: 0 10px; text-align: left ; width: auto;} td:nth-child(2) {text-align: left ; width: 100%}\n",
       "    .wandb-row { display: flex; flex-direction: row; flex-wrap: wrap; justify-content: flex-start; width: 100% }\n",
       "    .wandb-col { display: flex; flex-direction: column; flex-basis: 100%; flex: 1; padding: 10px; }\n",
       "    </style>\n",
       "<div class=\"wandb-row\"><div class=\"wandb-col\"><h3>Run history:</h3><br/><table class=\"wandb\"><tr><td>accuracy</td><td>▁</td></tr></table><br/></div><div class=\"wandb-col\"><h3>Run summary:</h3><br/><table class=\"wandb\"><tr><td>accuracy</td><td>1.0</td></tr></table><br/></div></div>"
      ],
      "text/plain": [
       "<IPython.core.display.HTML object>"
      ]
     },
     "metadata": {},
     "output_type": "display_data"
    },
    {
     "data": {
      "text/html": [
       " View run <strong style=\"color:#cdcd00\">winter-sweep-15</strong> at: <a href='https://wandb.ai/devdchyeon/DLTHON/runs/g7x3bfhe' target=\"_blank\">https://wandb.ai/devdchyeon/DLTHON/runs/g7x3bfhe</a><br/>Synced 5 W&B file(s), 0 media file(s), 0 artifact file(s) and 0 other file(s)"
      ],
      "text/plain": [
       "<IPython.core.display.HTML object>"
      ]
     },
     "metadata": {},
     "output_type": "display_data"
    },
    {
     "data": {
      "text/html": [
       "Find logs at: <code>./wandb/run-20240626_130542-g7x3bfhe/logs</code>"
      ],
      "text/plain": [
       "<IPython.core.display.HTML object>"
      ]
     },
     "metadata": {},
     "output_type": "display_data"
    },
    {
     "name": "stderr",
     "output_type": "stream",
     "text": [
      "\u001b[34m\u001b[1mwandb\u001b[0m: Agent Starting Run: qw118aii with config:\n",
      "\u001b[34m\u001b[1mwandb\u001b[0m: \tdim: 150\n",
      "\u001b[34m\u001b[1mwandb\u001b[0m: \tepoch: 70\n",
      "\u001b[34m\u001b[1mwandb\u001b[0m: \tlr: 0.05\n",
      "\u001b[34m\u001b[1mwandb\u001b[0m: \tminCount: 7\n",
      "\u001b[34m\u001b[1mwandb\u001b[0m: \twordNgrams: 4\n",
      "\u001b[34m\u001b[1mwandb\u001b[0m: \u001b[33mWARNING\u001b[0m Ignored wandb.init() arg project when running a sweep.\n"
     ]
    },
    {
     "data": {
      "text/html": [
       "wandb version 0.17.3 is available!  To upgrade, please run:\n",
       " $ pip install wandb --upgrade"
      ],
      "text/plain": [
       "<IPython.core.display.HTML object>"
      ]
     },
     "metadata": {},
     "output_type": "display_data"
    },
    {
     "data": {
      "text/html": [
       "Tracking run with wandb version 0.16.0"
      ],
      "text/plain": [
       "<IPython.core.display.HTML object>"
      ]
     },
     "metadata": {},
     "output_type": "display_data"
    },
    {
     "data": {
      "text/html": [
       "Run data is saved locally in <code>/aiffel/aiffel/workspace/16_dlthon_1/wandb/run-20240626_130613-qw118aii</code>"
      ],
      "text/plain": [
       "<IPython.core.display.HTML object>"
      ]
     },
     "metadata": {},
     "output_type": "display_data"
    },
    {
     "data": {
      "text/html": [
       "Syncing run <strong><a href='https://wandb.ai/devdchyeon/DLTHON/runs/qw118aii' target=\"_blank\">solar-sweep-16</a></strong> to <a href='https://wandb.ai/devdchyeon/DLTHON' target=\"_blank\">Weights & Biases</a> (<a href='https://wandb.me/run' target=\"_blank\">docs</a>)<br/>Sweep page: <a href='https://wandb.ai/devdchyeon/DLTHON/sweeps/z3k1w1jj' target=\"_blank\">https://wandb.ai/devdchyeon/DLTHON/sweeps/z3k1w1jj</a>"
      ],
      "text/plain": [
       "<IPython.core.display.HTML object>"
      ]
     },
     "metadata": {},
     "output_type": "display_data"
    },
    {
     "data": {
      "text/html": [
       " View project at <a href='https://wandb.ai/devdchyeon/DLTHON' target=\"_blank\">https://wandb.ai/devdchyeon/DLTHON</a>"
      ],
      "text/plain": [
       "<IPython.core.display.HTML object>"
      ]
     },
     "metadata": {},
     "output_type": "display_data"
    },
    {
     "data": {
      "text/html": [
       " View sweep at <a href='https://wandb.ai/devdchyeon/DLTHON/sweeps/z3k1w1jj' target=\"_blank\">https://wandb.ai/devdchyeon/DLTHON/sweeps/z3k1w1jj</a>"
      ],
      "text/plain": [
       "<IPython.core.display.HTML object>"
      ]
     },
     "metadata": {},
     "output_type": "display_data"
    },
    {
     "data": {
      "text/html": [
       " View run at <a href='https://wandb.ai/devdchyeon/DLTHON/runs/qw118aii' target=\"_blank\">https://wandb.ai/devdchyeon/DLTHON/runs/qw118aii</a>"
      ],
      "text/plain": [
       "<IPython.core.display.HTML object>"
      ]
     },
     "metadata": {},
     "output_type": "display_data"
    },
    {
     "name": "stderr",
     "output_type": "stream",
     "text": [
      "Read 0M words\n",
      "Number of words:  5418\n",
      "Number of labels: 5\n",
      "Progress: 100.0% words/sec/thread:  404475 lr:  0.000000 avg.loss:  0.350738 ETA:   0h 0m 0s 0.010763 avg.loss:  0.438203 ETA:   0h 0m 5s\n"
     ]
    },
    {
     "data": {
      "application/vnd.jupyter.widget-view+json": {
       "model_id": "",
       "version_major": 2,
       "version_minor": 0
      },
      "text/plain": [
       "VBox(children=(Label(value='0.008 MB of 0.008 MB uploaded\\r'), FloatProgress(value=1.0, max=1.0)))"
      ]
     },
     "metadata": {},
     "output_type": "display_data"
    },
    {
     "data": {
      "text/html": [
       "<style>\n",
       "    table.wandb td:nth-child(1) { padding: 0 10px; text-align: left ; width: auto;} td:nth-child(2) {text-align: left ; width: 100%}\n",
       "    .wandb-row { display: flex; flex-direction: row; flex-wrap: wrap; justify-content: flex-start; width: 100% }\n",
       "    .wandb-col { display: flex; flex-direction: column; flex-basis: 100%; flex: 1; padding: 10px; }\n",
       "    </style>\n",
       "<div class=\"wandb-row\"><div class=\"wandb-col\"><h3>Run history:</h3><br/><table class=\"wandb\"><tr><td>accuracy</td><td>▁</td></tr></table><br/></div><div class=\"wandb-col\"><h3>Run summary:</h3><br/><table class=\"wandb\"><tr><td>accuracy</td><td>1.0</td></tr></table><br/></div></div>"
      ],
      "text/plain": [
       "<IPython.core.display.HTML object>"
      ]
     },
     "metadata": {},
     "output_type": "display_data"
    },
    {
     "data": {
      "text/html": [
       " View run <strong style=\"color:#cdcd00\">solar-sweep-16</strong> at: <a href='https://wandb.ai/devdchyeon/DLTHON/runs/qw118aii' target=\"_blank\">https://wandb.ai/devdchyeon/DLTHON/runs/qw118aii</a><br/>Synced 5 W&B file(s), 0 media file(s), 0 artifact file(s) and 0 other file(s)"
      ],
      "text/plain": [
       "<IPython.core.display.HTML object>"
      ]
     },
     "metadata": {},
     "output_type": "display_data"
    },
    {
     "data": {
      "text/html": [
       "Find logs at: <code>./wandb/run-20240626_130613-qw118aii/logs</code>"
      ],
      "text/plain": [
       "<IPython.core.display.HTML object>"
      ]
     },
     "metadata": {},
     "output_type": "display_data"
    },
    {
     "name": "stderr",
     "output_type": "stream",
     "text": [
      "\u001b[34m\u001b[1mwandb\u001b[0m: Agent Starting Run: tj48y4vs with config:\n",
      "\u001b[34m\u001b[1mwandb\u001b[0m: \tdim: 150\n",
      "\u001b[34m\u001b[1mwandb\u001b[0m: \tepoch: 70\n",
      "\u001b[34m\u001b[1mwandb\u001b[0m: \tlr: 0.1\n",
      "\u001b[34m\u001b[1mwandb\u001b[0m: \tminCount: 7\n",
      "\u001b[34m\u001b[1mwandb\u001b[0m: \twordNgrams: 4\n",
      "\u001b[34m\u001b[1mwandb\u001b[0m: \u001b[33mWARNING\u001b[0m Ignored wandb.init() arg project when running a sweep.\n"
     ]
    },
    {
     "data": {
      "text/html": [
       "wandb version 0.17.3 is available!  To upgrade, please run:\n",
       " $ pip install wandb --upgrade"
      ],
      "text/plain": [
       "<IPython.core.display.HTML object>"
      ]
     },
     "metadata": {},
     "output_type": "display_data"
    },
    {
     "data": {
      "text/html": [
       "Tracking run with wandb version 0.16.0"
      ],
      "text/plain": [
       "<IPython.core.display.HTML object>"
      ]
     },
     "metadata": {},
     "output_type": "display_data"
    },
    {
     "data": {
      "text/html": [
       "Run data is saved locally in <code>/aiffel/aiffel/workspace/16_dlthon_1/wandb/run-20240626_130648-tj48y4vs</code>"
      ],
      "text/plain": [
       "<IPython.core.display.HTML object>"
      ]
     },
     "metadata": {},
     "output_type": "display_data"
    },
    {
     "data": {
      "text/html": [
       "Syncing run <strong><a href='https://wandb.ai/devdchyeon/DLTHON/runs/tj48y4vs' target=\"_blank\">unique-sweep-17</a></strong> to <a href='https://wandb.ai/devdchyeon/DLTHON' target=\"_blank\">Weights & Biases</a> (<a href='https://wandb.me/run' target=\"_blank\">docs</a>)<br/>Sweep page: <a href='https://wandb.ai/devdchyeon/DLTHON/sweeps/z3k1w1jj' target=\"_blank\">https://wandb.ai/devdchyeon/DLTHON/sweeps/z3k1w1jj</a>"
      ],
      "text/plain": [
       "<IPython.core.display.HTML object>"
      ]
     },
     "metadata": {},
     "output_type": "display_data"
    },
    {
     "data": {
      "text/html": [
       " View project at <a href='https://wandb.ai/devdchyeon/DLTHON' target=\"_blank\">https://wandb.ai/devdchyeon/DLTHON</a>"
      ],
      "text/plain": [
       "<IPython.core.display.HTML object>"
      ]
     },
     "metadata": {},
     "output_type": "display_data"
    },
    {
     "data": {
      "text/html": [
       " View sweep at <a href='https://wandb.ai/devdchyeon/DLTHON/sweeps/z3k1w1jj' target=\"_blank\">https://wandb.ai/devdchyeon/DLTHON/sweeps/z3k1w1jj</a>"
      ],
      "text/plain": [
       "<IPython.core.display.HTML object>"
      ]
     },
     "metadata": {},
     "output_type": "display_data"
    },
    {
     "data": {
      "text/html": [
       " View run at <a href='https://wandb.ai/devdchyeon/DLTHON/runs/tj48y4vs' target=\"_blank\">https://wandb.ai/devdchyeon/DLTHON/runs/tj48y4vs</a>"
      ],
      "text/plain": [
       "<IPython.core.display.HTML object>"
      ]
     },
     "metadata": {},
     "output_type": "display_data"
    },
    {
     "name": "stderr",
     "output_type": "stream",
     "text": [
      "Read 0M words\n",
      "Number of words:  5418\n",
      "Number of labels: 5\n",
      "Progress: 100.0% words/sec/thread:  413015 lr:  0.000000 avg.loss:  0.170578 ETA:   0h 0m 0s 28.0% words/sec/thread:  361696 lr:  0.072012 avg.loss:  0.608273 ETA:   0h 0m19s 47.9% words/sec/thread:  387840 lr:  0.052071 avg.loss:  0.342799 ETA:   0h 0m13s 0.045934 avg.loss:  0.296513 ETA:   0h 0m11s\n"
     ]
    },
    {
     "data": {
      "application/vnd.jupyter.widget-view+json": {
       "model_id": "",
       "version_major": 2,
       "version_minor": 0
      },
      "text/plain": [
       "VBox(children=(Label(value='0.002 MB of 0.002 MB uploaded\\r'), FloatProgress(value=1.0, max=1.0)))"
      ]
     },
     "metadata": {},
     "output_type": "display_data"
    },
    {
     "data": {
      "text/html": [
       "<style>\n",
       "    table.wandb td:nth-child(1) { padding: 0 10px; text-align: left ; width: auto;} td:nth-child(2) {text-align: left ; width: 100%}\n",
       "    .wandb-row { display: flex; flex-direction: row; flex-wrap: wrap; justify-content: flex-start; width: 100% }\n",
       "    .wandb-col { display: flex; flex-direction: column; flex-basis: 100%; flex: 1; padding: 10px; }\n",
       "    </style>\n",
       "<div class=\"wandb-row\"><div class=\"wandb-col\"><h3>Run history:</h3><br/><table class=\"wandb\"><tr><td>accuracy</td><td>▁</td></tr></table><br/></div><div class=\"wandb-col\"><h3>Run summary:</h3><br/><table class=\"wandb\"><tr><td>accuracy</td><td>1.0</td></tr></table><br/></div></div>"
      ],
      "text/plain": [
       "<IPython.core.display.HTML object>"
      ]
     },
     "metadata": {},
     "output_type": "display_data"
    },
    {
     "data": {
      "text/html": [
       " View run <strong style=\"color:#cdcd00\">unique-sweep-17</strong> at: <a href='https://wandb.ai/devdchyeon/DLTHON/runs/tj48y4vs' target=\"_blank\">https://wandb.ai/devdchyeon/DLTHON/runs/tj48y4vs</a><br/>Synced 5 W&B file(s), 0 media file(s), 0 artifact file(s) and 0 other file(s)"
      ],
      "text/plain": [
       "<IPython.core.display.HTML object>"
      ]
     },
     "metadata": {},
     "output_type": "display_data"
    },
    {
     "data": {
      "text/html": [
       "Find logs at: <code>./wandb/run-20240626_130648-tj48y4vs/logs</code>"
      ],
      "text/plain": [
       "<IPython.core.display.HTML object>"
      ]
     },
     "metadata": {},
     "output_type": "display_data"
    },
    {
     "name": "stderr",
     "output_type": "stream",
     "text": [
      "\u001b[34m\u001b[1mwandb\u001b[0m: Sweep Agent: Waiting for job.\n",
      "\u001b[34m\u001b[1mwandb\u001b[0m: Job received.\n",
      "\u001b[34m\u001b[1mwandb\u001b[0m: Agent Starting Run: ayfa3pyw with config:\n",
      "\u001b[34m\u001b[1mwandb\u001b[0m: \tdim: 100\n",
      "\u001b[34m\u001b[1mwandb\u001b[0m: \tepoch: 70\n",
      "\u001b[34m\u001b[1mwandb\u001b[0m: \tlr: 0.1\n",
      "\u001b[34m\u001b[1mwandb\u001b[0m: \tminCount: 7\n",
      "\u001b[34m\u001b[1mwandb\u001b[0m: \twordNgrams: 4\n",
      "\u001b[34m\u001b[1mwandb\u001b[0m: \u001b[33mWARNING\u001b[0m Ignored wandb.init() arg project when running a sweep.\n"
     ]
    },
    {
     "data": {
      "text/html": [
       "wandb version 0.17.3 is available!  To upgrade, please run:\n",
       " $ pip install wandb --upgrade"
      ],
      "text/plain": [
       "<IPython.core.display.HTML object>"
      ]
     },
     "metadata": {},
     "output_type": "display_data"
    },
    {
     "data": {
      "text/html": [
       "Tracking run with wandb version 0.16.0"
      ],
      "text/plain": [
       "<IPython.core.display.HTML object>"
      ]
     },
     "metadata": {},
     "output_type": "display_data"
    },
    {
     "data": {
      "text/html": [
       "Run data is saved locally in <code>/aiffel/aiffel/workspace/16_dlthon_1/wandb/run-20240626_130730-ayfa3pyw</code>"
      ],
      "text/plain": [
       "<IPython.core.display.HTML object>"
      ]
     },
     "metadata": {},
     "output_type": "display_data"
    },
    {
     "data": {
      "text/html": [
       "Syncing run <strong><a href='https://wandb.ai/devdchyeon/DLTHON/runs/ayfa3pyw' target=\"_blank\">expert-sweep-18</a></strong> to <a href='https://wandb.ai/devdchyeon/DLTHON' target=\"_blank\">Weights & Biases</a> (<a href='https://wandb.me/run' target=\"_blank\">docs</a>)<br/>Sweep page: <a href='https://wandb.ai/devdchyeon/DLTHON/sweeps/z3k1w1jj' target=\"_blank\">https://wandb.ai/devdchyeon/DLTHON/sweeps/z3k1w1jj</a>"
      ],
      "text/plain": [
       "<IPython.core.display.HTML object>"
      ]
     },
     "metadata": {},
     "output_type": "display_data"
    },
    {
     "data": {
      "text/html": [
       " View project at <a href='https://wandb.ai/devdchyeon/DLTHON' target=\"_blank\">https://wandb.ai/devdchyeon/DLTHON</a>"
      ],
      "text/plain": [
       "<IPython.core.display.HTML object>"
      ]
     },
     "metadata": {},
     "output_type": "display_data"
    },
    {
     "data": {
      "text/html": [
       " View sweep at <a href='https://wandb.ai/devdchyeon/DLTHON/sweeps/z3k1w1jj' target=\"_blank\">https://wandb.ai/devdchyeon/DLTHON/sweeps/z3k1w1jj</a>"
      ],
      "text/plain": [
       "<IPython.core.display.HTML object>"
      ]
     },
     "metadata": {},
     "output_type": "display_data"
    },
    {
     "data": {
      "text/html": [
       " View run at <a href='https://wandb.ai/devdchyeon/DLTHON/runs/ayfa3pyw' target=\"_blank\">https://wandb.ai/devdchyeon/DLTHON/runs/ayfa3pyw</a>"
      ],
      "text/plain": [
       "<IPython.core.display.HTML object>"
      ]
     },
     "metadata": {},
     "output_type": "display_data"
    },
    {
     "name": "stderr",
     "output_type": "stream",
     "text": [
      "Read 0M words\n",
      "Number of words:  5418\n",
      "Number of labels: 5\n",
      "Progress: 100.0% words/sec/thread:  559237 lr:  0.000000 avg.loss:  0.163915 ETA:   0h 0m 0s\n"
     ]
    },
    {
     "data": {
      "application/vnd.jupyter.widget-view+json": {
       "model_id": "",
       "version_major": 2,
       "version_minor": 0
      },
      "text/plain": [
       "VBox(children=(Label(value='0.002 MB of 0.002 MB uploaded\\r'), FloatProgress(value=1.0, max=1.0)))"
      ]
     },
     "metadata": {},
     "output_type": "display_data"
    },
    {
     "data": {
      "text/html": [
       "<style>\n",
       "    table.wandb td:nth-child(1) { padding: 0 10px; text-align: left ; width: auto;} td:nth-child(2) {text-align: left ; width: 100%}\n",
       "    .wandb-row { display: flex; flex-direction: row; flex-wrap: wrap; justify-content: flex-start; width: 100% }\n",
       "    .wandb-col { display: flex; flex-direction: column; flex-basis: 100%; flex: 1; padding: 10px; }\n",
       "    </style>\n",
       "<div class=\"wandb-row\"><div class=\"wandb-col\"><h3>Run history:</h3><br/><table class=\"wandb\"><tr><td>accuracy</td><td>▁</td></tr></table><br/></div><div class=\"wandb-col\"><h3>Run summary:</h3><br/><table class=\"wandb\"><tr><td>accuracy</td><td>1.0</td></tr></table><br/></div></div>"
      ],
      "text/plain": [
       "<IPython.core.display.HTML object>"
      ]
     },
     "metadata": {},
     "output_type": "display_data"
    },
    {
     "data": {
      "text/html": [
       " View run <strong style=\"color:#cdcd00\">expert-sweep-18</strong> at: <a href='https://wandb.ai/devdchyeon/DLTHON/runs/ayfa3pyw' target=\"_blank\">https://wandb.ai/devdchyeon/DLTHON/runs/ayfa3pyw</a><br/>Synced 5 W&B file(s), 0 media file(s), 0 artifact file(s) and 0 other file(s)"
      ],
      "text/plain": [
       "<IPython.core.display.HTML object>"
      ]
     },
     "metadata": {},
     "output_type": "display_data"
    },
    {
     "data": {
      "text/html": [
       "Find logs at: <code>./wandb/run-20240626_130730-ayfa3pyw/logs</code>"
      ],
      "text/plain": [
       "<IPython.core.display.HTML object>"
      ]
     },
     "metadata": {},
     "output_type": "display_data"
    },
    {
     "name": "stderr",
     "output_type": "stream",
     "text": [
      "\u001b[34m\u001b[1mwandb\u001b[0m: Agent Starting Run: ue5qczmb with config:\n",
      "\u001b[34m\u001b[1mwandb\u001b[0m: \tdim: 150\n",
      "\u001b[34m\u001b[1mwandb\u001b[0m: \tepoch: 70\n",
      "\u001b[34m\u001b[1mwandb\u001b[0m: \tlr: 0.1\n",
      "\u001b[34m\u001b[1mwandb\u001b[0m: \tminCount: 7\n",
      "\u001b[34m\u001b[1mwandb\u001b[0m: \twordNgrams: 4\n",
      "\u001b[34m\u001b[1mwandb\u001b[0m: \u001b[33mWARNING\u001b[0m Ignored wandb.init() arg project when running a sweep.\n"
     ]
    },
    {
     "data": {
      "text/html": [
       "wandb version 0.17.3 is available!  To upgrade, please run:\n",
       " $ pip install wandb --upgrade"
      ],
      "text/plain": [
       "<IPython.core.display.HTML object>"
      ]
     },
     "metadata": {},
     "output_type": "display_data"
    },
    {
     "data": {
      "text/html": [
       "Tracking run with wandb version 0.16.0"
      ],
      "text/plain": [
       "<IPython.core.display.HTML object>"
      ]
     },
     "metadata": {},
     "output_type": "display_data"
    },
    {
     "data": {
      "text/html": [
       "Run data is saved locally in <code>/aiffel/aiffel/workspace/16_dlthon_1/wandb/run-20240626_130756-ue5qczmb</code>"
      ],
      "text/plain": [
       "<IPython.core.display.HTML object>"
      ]
     },
     "metadata": {},
     "output_type": "display_data"
    },
    {
     "data": {
      "text/html": [
       "Syncing run <strong><a href='https://wandb.ai/devdchyeon/DLTHON/runs/ue5qczmb' target=\"_blank\">atomic-sweep-19</a></strong> to <a href='https://wandb.ai/devdchyeon/DLTHON' target=\"_blank\">Weights & Biases</a> (<a href='https://wandb.me/run' target=\"_blank\">docs</a>)<br/>Sweep page: <a href='https://wandb.ai/devdchyeon/DLTHON/sweeps/z3k1w1jj' target=\"_blank\">https://wandb.ai/devdchyeon/DLTHON/sweeps/z3k1w1jj</a>"
      ],
      "text/plain": [
       "<IPython.core.display.HTML object>"
      ]
     },
     "metadata": {},
     "output_type": "display_data"
    },
    {
     "data": {
      "text/html": [
       " View project at <a href='https://wandb.ai/devdchyeon/DLTHON' target=\"_blank\">https://wandb.ai/devdchyeon/DLTHON</a>"
      ],
      "text/plain": [
       "<IPython.core.display.HTML object>"
      ]
     },
     "metadata": {},
     "output_type": "display_data"
    },
    {
     "data": {
      "text/html": [
       " View sweep at <a href='https://wandb.ai/devdchyeon/DLTHON/sweeps/z3k1w1jj' target=\"_blank\">https://wandb.ai/devdchyeon/DLTHON/sweeps/z3k1w1jj</a>"
      ],
      "text/plain": [
       "<IPython.core.display.HTML object>"
      ]
     },
     "metadata": {},
     "output_type": "display_data"
    },
    {
     "data": {
      "text/html": [
       " View run at <a href='https://wandb.ai/devdchyeon/DLTHON/runs/ue5qczmb' target=\"_blank\">https://wandb.ai/devdchyeon/DLTHON/runs/ue5qczmb</a>"
      ],
      "text/plain": [
       "<IPython.core.display.HTML object>"
      ]
     },
     "metadata": {},
     "output_type": "display_data"
    },
    {
     "name": "stderr",
     "output_type": "stream",
     "text": [
      "Read 0M words\n",
      "Number of words:  5418\n",
      "Number of labels: 5\n",
      "Progress: 100.0% words/sec/thread:  421233 lr:  0.000000 avg.loss:  0.159663 ETA:   0h 0m 0s 14.7% words/sec/thread:  339618 lr:  0.085305 avg.loss:  1.067554 ETA:   0h 0m25s\n"
     ]
    },
    {
     "data": {
      "application/vnd.jupyter.widget-view+json": {
       "model_id": "",
       "version_major": 2,
       "version_minor": 0
      },
      "text/plain": [
       "VBox(children=(Label(value='0.002 MB of 0.002 MB uploaded\\r'), FloatProgress(value=1.0, max=1.0)))"
      ]
     },
     "metadata": {},
     "output_type": "display_data"
    },
    {
     "data": {
      "text/html": [
       "<style>\n",
       "    table.wandb td:nth-child(1) { padding: 0 10px; text-align: left ; width: auto;} td:nth-child(2) {text-align: left ; width: 100%}\n",
       "    .wandb-row { display: flex; flex-direction: row; flex-wrap: wrap; justify-content: flex-start; width: 100% }\n",
       "    .wandb-col { display: flex; flex-direction: column; flex-basis: 100%; flex: 1; padding: 10px; }\n",
       "    </style>\n",
       "<div class=\"wandb-row\"><div class=\"wandb-col\"><h3>Run history:</h3><br/><table class=\"wandb\"><tr><td>accuracy</td><td>▁</td></tr></table><br/></div><div class=\"wandb-col\"><h3>Run summary:</h3><br/><table class=\"wandb\"><tr><td>accuracy</td><td>1.0</td></tr></table><br/></div></div>"
      ],
      "text/plain": [
       "<IPython.core.display.HTML object>"
      ]
     },
     "metadata": {},
     "output_type": "display_data"
    },
    {
     "data": {
      "text/html": [
       " View run <strong style=\"color:#cdcd00\">atomic-sweep-19</strong> at: <a href='https://wandb.ai/devdchyeon/DLTHON/runs/ue5qczmb' target=\"_blank\">https://wandb.ai/devdchyeon/DLTHON/runs/ue5qczmb</a><br/>Synced 5 W&B file(s), 0 media file(s), 0 artifact file(s) and 0 other file(s)"
      ],
      "text/plain": [
       "<IPython.core.display.HTML object>"
      ]
     },
     "metadata": {},
     "output_type": "display_data"
    },
    {
     "data": {
      "text/html": [
       "Find logs at: <code>./wandb/run-20240626_130756-ue5qczmb/logs</code>"
      ],
      "text/plain": [
       "<IPython.core.display.HTML object>"
      ]
     },
     "metadata": {},
     "output_type": "display_data"
    },
    {
     "name": "stderr",
     "output_type": "stream",
     "text": [
      "\u001b[34m\u001b[1mwandb\u001b[0m: Agent Starting Run: x3m3f2ij with config:\n",
      "\u001b[34m\u001b[1mwandb\u001b[0m: \tdim: 150\n",
      "\u001b[34m\u001b[1mwandb\u001b[0m: \tepoch: 50\n",
      "\u001b[34m\u001b[1mwandb\u001b[0m: \tlr: 0.5\n",
      "\u001b[34m\u001b[1mwandb\u001b[0m: \tminCount: 3\n",
      "\u001b[34m\u001b[1mwandb\u001b[0m: \twordNgrams: 4\n",
      "\u001b[34m\u001b[1mwandb\u001b[0m: \u001b[33mWARNING\u001b[0m Ignored wandb.init() arg project when running a sweep.\n"
     ]
    },
    {
     "data": {
      "text/html": [
       "wandb version 0.17.3 is available!  To upgrade, please run:\n",
       " $ pip install wandb --upgrade"
      ],
      "text/plain": [
       "<IPython.core.display.HTML object>"
      ]
     },
     "metadata": {},
     "output_type": "display_data"
    },
    {
     "data": {
      "text/html": [
       "Tracking run with wandb version 0.16.0"
      ],
      "text/plain": [
       "<IPython.core.display.HTML object>"
      ]
     },
     "metadata": {},
     "output_type": "display_data"
    },
    {
     "data": {
      "text/html": [
       "Run data is saved locally in <code>/aiffel/aiffel/workspace/16_dlthon_1/wandb/run-20240626_130831-x3m3f2ij</code>"
      ],
      "text/plain": [
       "<IPython.core.display.HTML object>"
      ]
     },
     "metadata": {},
     "output_type": "display_data"
    },
    {
     "data": {
      "text/html": [
       "Syncing run <strong><a href='https://wandb.ai/devdchyeon/DLTHON/runs/x3m3f2ij' target=\"_blank\">youthful-sweep-20</a></strong> to <a href='https://wandb.ai/devdchyeon/DLTHON' target=\"_blank\">Weights & Biases</a> (<a href='https://wandb.me/run' target=\"_blank\">docs</a>)<br/>Sweep page: <a href='https://wandb.ai/devdchyeon/DLTHON/sweeps/z3k1w1jj' target=\"_blank\">https://wandb.ai/devdchyeon/DLTHON/sweeps/z3k1w1jj</a>"
      ],
      "text/plain": [
       "<IPython.core.display.HTML object>"
      ]
     },
     "metadata": {},
     "output_type": "display_data"
    },
    {
     "data": {
      "text/html": [
       " View project at <a href='https://wandb.ai/devdchyeon/DLTHON' target=\"_blank\">https://wandb.ai/devdchyeon/DLTHON</a>"
      ],
      "text/plain": [
       "<IPython.core.display.HTML object>"
      ]
     },
     "metadata": {},
     "output_type": "display_data"
    },
    {
     "data": {
      "text/html": [
       " View sweep at <a href='https://wandb.ai/devdchyeon/DLTHON/sweeps/z3k1w1jj' target=\"_blank\">https://wandb.ai/devdchyeon/DLTHON/sweeps/z3k1w1jj</a>"
      ],
      "text/plain": [
       "<IPython.core.display.HTML object>"
      ]
     },
     "metadata": {},
     "output_type": "display_data"
    },
    {
     "data": {
      "text/html": [
       " View run at <a href='https://wandb.ai/devdchyeon/DLTHON/runs/x3m3f2ij' target=\"_blank\">https://wandb.ai/devdchyeon/DLTHON/runs/x3m3f2ij</a>"
      ],
      "text/plain": [
       "<IPython.core.display.HTML object>"
      ]
     },
     "metadata": {},
     "output_type": "display_data"
    },
    {
     "name": "stderr",
     "output_type": "stream",
     "text": [
      "Read 0M words\n",
      "Number of words:  13890\n",
      "Number of labels: 5\n",
      "Progress: 100.0% words/sec/thread:  380125 lr:  0.000000 avg.loss:  0.067617 ETA:   0h 0m 0s 0m18s 0m 0s100.0% words/sec/thread:  380126 lr: -0.000004 avg.loss:  0.067617 ETA:   0h 0m 0s\n"
     ]
    },
    {
     "data": {
      "application/vnd.jupyter.widget-view+json": {
       "model_id": "",
       "version_major": 2,
       "version_minor": 0
      },
      "text/plain": [
       "VBox(children=(Label(value='0.008 MB of 0.008 MB uploaded\\r'), FloatProgress(value=1.0, max=1.0)))"
      ]
     },
     "metadata": {},
     "output_type": "display_data"
    },
    {
     "data": {
      "text/html": [
       "<style>\n",
       "    table.wandb td:nth-child(1) { padding: 0 10px; text-align: left ; width: auto;} td:nth-child(2) {text-align: left ; width: 100%}\n",
       "    .wandb-row { display: flex; flex-direction: row; flex-wrap: wrap; justify-content: flex-start; width: 100% }\n",
       "    .wandb-col { display: flex; flex-direction: column; flex-basis: 100%; flex: 1; padding: 10px; }\n",
       "    </style>\n",
       "<div class=\"wandb-row\"><div class=\"wandb-col\"><h3>Run history:</h3><br/><table class=\"wandb\"><tr><td>accuracy</td><td>▁</td></tr></table><br/></div><div class=\"wandb-col\"><h3>Run summary:</h3><br/><table class=\"wandb\"><tr><td>accuracy</td><td>1.0</td></tr></table><br/></div></div>"
      ],
      "text/plain": [
       "<IPython.core.display.HTML object>"
      ]
     },
     "metadata": {},
     "output_type": "display_data"
    },
    {
     "data": {
      "text/html": [
       " View run <strong style=\"color:#cdcd00\">youthful-sweep-20</strong> at: <a href='https://wandb.ai/devdchyeon/DLTHON/runs/x3m3f2ij' target=\"_blank\">https://wandb.ai/devdchyeon/DLTHON/runs/x3m3f2ij</a><br/>Synced 5 W&B file(s), 0 media file(s), 0 artifact file(s) and 0 other file(s)"
      ],
      "text/plain": [
       "<IPython.core.display.HTML object>"
      ]
     },
     "metadata": {},
     "output_type": "display_data"
    },
    {
     "data": {
      "text/html": [
       "Find logs at: <code>./wandb/run-20240626_130831-x3m3f2ij/logs</code>"
      ],
      "text/plain": [
       "<IPython.core.display.HTML object>"
      ]
     },
     "metadata": {},
     "output_type": "display_data"
    },
    {
     "name": "stderr",
     "output_type": "stream",
     "text": [
      "\u001b[34m\u001b[1mwandb\u001b[0m: Sweep Agent: Waiting for job.\n",
      "\u001b[34m\u001b[1mwandb\u001b[0m: Job received.\n",
      "\u001b[34m\u001b[1mwandb\u001b[0m: Agent Starting Run: liuhw4uj with config:\n",
      "\u001b[34m\u001b[1mwandb\u001b[0m: \tdim: 150\n",
      "\u001b[34m\u001b[1mwandb\u001b[0m: \tepoch: 70\n",
      "\u001b[34m\u001b[1mwandb\u001b[0m: \tlr: 0.1\n",
      "\u001b[34m\u001b[1mwandb\u001b[0m: \tminCount: 7\n",
      "\u001b[34m\u001b[1mwandb\u001b[0m: \twordNgrams: 4\n",
      "\u001b[34m\u001b[1mwandb\u001b[0m: \u001b[33mWARNING\u001b[0m Ignored wandb.init() arg project when running a sweep.\n"
     ]
    },
    {
     "data": {
      "text/html": [
       "wandb version 0.17.3 is available!  To upgrade, please run:\n",
       " $ pip install wandb --upgrade"
      ],
      "text/plain": [
       "<IPython.core.display.HTML object>"
      ]
     },
     "metadata": {},
     "output_type": "display_data"
    },
    {
     "data": {
      "text/html": [
       "Tracking run with wandb version 0.16.0"
      ],
      "text/plain": [
       "<IPython.core.display.HTML object>"
      ]
     },
     "metadata": {},
     "output_type": "display_data"
    },
    {
     "data": {
      "text/html": [
       "Run data is saved locally in <code>/aiffel/aiffel/workspace/16_dlthon_1/wandb/run-20240626_130906-liuhw4uj</code>"
      ],
      "text/plain": [
       "<IPython.core.display.HTML object>"
      ]
     },
     "metadata": {},
     "output_type": "display_data"
    },
    {
     "data": {
      "text/html": [
       "Syncing run <strong><a href='https://wandb.ai/devdchyeon/DLTHON/runs/liuhw4uj' target=\"_blank\">eternal-sweep-21</a></strong> to <a href='https://wandb.ai/devdchyeon/DLTHON' target=\"_blank\">Weights & Biases</a> (<a href='https://wandb.me/run' target=\"_blank\">docs</a>)<br/>Sweep page: <a href='https://wandb.ai/devdchyeon/DLTHON/sweeps/z3k1w1jj' target=\"_blank\">https://wandb.ai/devdchyeon/DLTHON/sweeps/z3k1w1jj</a>"
      ],
      "text/plain": [
       "<IPython.core.display.HTML object>"
      ]
     },
     "metadata": {},
     "output_type": "display_data"
    },
    {
     "data": {
      "text/html": [
       " View project at <a href='https://wandb.ai/devdchyeon/DLTHON' target=\"_blank\">https://wandb.ai/devdchyeon/DLTHON</a>"
      ],
      "text/plain": [
       "<IPython.core.display.HTML object>"
      ]
     },
     "metadata": {},
     "output_type": "display_data"
    },
    {
     "data": {
      "text/html": [
       " View sweep at <a href='https://wandb.ai/devdchyeon/DLTHON/sweeps/z3k1w1jj' target=\"_blank\">https://wandb.ai/devdchyeon/DLTHON/sweeps/z3k1w1jj</a>"
      ],
      "text/plain": [
       "<IPython.core.display.HTML object>"
      ]
     },
     "metadata": {},
     "output_type": "display_data"
    },
    {
     "data": {
      "text/html": [
       " View run at <a href='https://wandb.ai/devdchyeon/DLTHON/runs/liuhw4uj' target=\"_blank\">https://wandb.ai/devdchyeon/DLTHON/runs/liuhw4uj</a>"
      ],
      "text/plain": [
       "<IPython.core.display.HTML object>"
      ]
     },
     "metadata": {},
     "output_type": "display_data"
    },
    {
     "name": "stderr",
     "output_type": "stream",
     "text": [
      "Read 0M words\n",
      "Number of words:  5418\n",
      "Number of labels: 5\n",
      "Progress: 100.0% words/sec/thread:  396581 lr:  0.000000 avg.loss:  0.196239 ETA:   0h 0m 0s 51.8% words/sec/thread:  384874 lr:  0.048199 avg.loss:  0.358239 ETA:   0h 0m12s\n"
     ]
    },
    {
     "data": {
      "application/vnd.jupyter.widget-view+json": {
       "model_id": "",
       "version_major": 2,
       "version_minor": 0
      },
      "text/plain": [
       "VBox(children=(Label(value='0.008 MB of 0.008 MB uploaded\\r'), FloatProgress(value=1.0, max=1.0)))"
      ]
     },
     "metadata": {},
     "output_type": "display_data"
    },
    {
     "data": {
      "text/html": [
       "<style>\n",
       "    table.wandb td:nth-child(1) { padding: 0 10px; text-align: left ; width: auto;} td:nth-child(2) {text-align: left ; width: 100%}\n",
       "    .wandb-row { display: flex; flex-direction: row; flex-wrap: wrap; justify-content: flex-start; width: 100% }\n",
       "    .wandb-col { display: flex; flex-direction: column; flex-basis: 100%; flex: 1; padding: 10px; }\n",
       "    </style>\n",
       "<div class=\"wandb-row\"><div class=\"wandb-col\"><h3>Run history:</h3><br/><table class=\"wandb\"><tr><td>accuracy</td><td>▁</td></tr></table><br/></div><div class=\"wandb-col\"><h3>Run summary:</h3><br/><table class=\"wandb\"><tr><td>accuracy</td><td>1.0</td></tr></table><br/></div></div>"
      ],
      "text/plain": [
       "<IPython.core.display.HTML object>"
      ]
     },
     "metadata": {},
     "output_type": "display_data"
    },
    {
     "data": {
      "text/html": [
       " View run <strong style=\"color:#cdcd00\">eternal-sweep-21</strong> at: <a href='https://wandb.ai/devdchyeon/DLTHON/runs/liuhw4uj' target=\"_blank\">https://wandb.ai/devdchyeon/DLTHON/runs/liuhw4uj</a><br/>Synced 5 W&B file(s), 0 media file(s), 0 artifact file(s) and 0 other file(s)"
      ],
      "text/plain": [
       "<IPython.core.display.HTML object>"
      ]
     },
     "metadata": {},
     "output_type": "display_data"
    },
    {
     "data": {
      "text/html": [
       "Find logs at: <code>./wandb/run-20240626_130906-liuhw4uj/logs</code>"
      ],
      "text/plain": [
       "<IPython.core.display.HTML object>"
      ]
     },
     "metadata": {},
     "output_type": "display_data"
    },
    {
     "name": "stderr",
     "output_type": "stream",
     "text": [
      "\u001b[34m\u001b[1mwandb\u001b[0m: Agent Starting Run: s3ejto9j with config:\n",
      "\u001b[34m\u001b[1mwandb\u001b[0m: \tdim: 200\n",
      "\u001b[34m\u001b[1mwandb\u001b[0m: \tepoch: 50\n",
      "\u001b[34m\u001b[1mwandb\u001b[0m: \tlr: 0.5\n",
      "\u001b[34m\u001b[1mwandb\u001b[0m: \tminCount: 2\n",
      "\u001b[34m\u001b[1mwandb\u001b[0m: \twordNgrams: 3\n",
      "\u001b[34m\u001b[1mwandb\u001b[0m: \u001b[33mWARNING\u001b[0m Ignored wandb.init() arg project when running a sweep.\n"
     ]
    },
    {
     "data": {
      "text/html": [
       "wandb version 0.17.3 is available!  To upgrade, please run:\n",
       " $ pip install wandb --upgrade"
      ],
      "text/plain": [
       "<IPython.core.display.HTML object>"
      ]
     },
     "metadata": {},
     "output_type": "display_data"
    },
    {
     "data": {
      "text/html": [
       "Tracking run with wandb version 0.16.0"
      ],
      "text/plain": [
       "<IPython.core.display.HTML object>"
      ]
     },
     "metadata": {},
     "output_type": "display_data"
    },
    {
     "data": {
      "text/html": [
       "Run data is saved locally in <code>/aiffel/aiffel/workspace/16_dlthon_1/wandb/run-20240626_130940-s3ejto9j</code>"
      ],
      "text/plain": [
       "<IPython.core.display.HTML object>"
      ]
     },
     "metadata": {},
     "output_type": "display_data"
    },
    {
     "data": {
      "text/html": [
       "Syncing run <strong><a href='https://wandb.ai/devdchyeon/DLTHON/runs/s3ejto9j' target=\"_blank\">true-sweep-22</a></strong> to <a href='https://wandb.ai/devdchyeon/DLTHON' target=\"_blank\">Weights & Biases</a> (<a href='https://wandb.me/run' target=\"_blank\">docs</a>)<br/>Sweep page: <a href='https://wandb.ai/devdchyeon/DLTHON/sweeps/z3k1w1jj' target=\"_blank\">https://wandb.ai/devdchyeon/DLTHON/sweeps/z3k1w1jj</a>"
      ],
      "text/plain": [
       "<IPython.core.display.HTML object>"
      ]
     },
     "metadata": {},
     "output_type": "display_data"
    },
    {
     "data": {
      "text/html": [
       " View project at <a href='https://wandb.ai/devdchyeon/DLTHON' target=\"_blank\">https://wandb.ai/devdchyeon/DLTHON</a>"
      ],
      "text/plain": [
       "<IPython.core.display.HTML object>"
      ]
     },
     "metadata": {},
     "output_type": "display_data"
    },
    {
     "data": {
      "text/html": [
       " View sweep at <a href='https://wandb.ai/devdchyeon/DLTHON/sweeps/z3k1w1jj' target=\"_blank\">https://wandb.ai/devdchyeon/DLTHON/sweeps/z3k1w1jj</a>"
      ],
      "text/plain": [
       "<IPython.core.display.HTML object>"
      ]
     },
     "metadata": {},
     "output_type": "display_data"
    },
    {
     "data": {
      "text/html": [
       " View run at <a href='https://wandb.ai/devdchyeon/DLTHON/runs/s3ejto9j' target=\"_blank\">https://wandb.ai/devdchyeon/DLTHON/runs/s3ejto9j</a>"
      ],
      "text/plain": [
       "<IPython.core.display.HTML object>"
      ]
     },
     "metadata": {},
     "output_type": "display_data"
    },
    {
     "name": "stderr",
     "output_type": "stream",
     "text": [
      "Read 0M words\n",
      "Number of words:  23826\n",
      "Number of labels: 5\n",
      "Progress: 100.0% words/sec/thread:  418080 lr:  0.000000 avg.loss:  0.058747 ETA:   0h 0m 0s words/sec/thread:  382882 lr:  0.254828 avg.loss:  0.105699 ETA:   0h 0m 9s\n"
     ]
    },
    {
     "data": {
      "application/vnd.jupyter.widget-view+json": {
       "model_id": "",
       "version_major": 2,
       "version_minor": 0
      },
      "text/plain": [
       "VBox(children=(Label(value='0.002 MB of 0.002 MB uploaded\\r'), FloatProgress(value=1.0, max=1.0)))"
      ]
     },
     "metadata": {},
     "output_type": "display_data"
    },
    {
     "data": {
      "text/html": [
       "<style>\n",
       "    table.wandb td:nth-child(1) { padding: 0 10px; text-align: left ; width: auto;} td:nth-child(2) {text-align: left ; width: 100%}\n",
       "    .wandb-row { display: flex; flex-direction: row; flex-wrap: wrap; justify-content: flex-start; width: 100% }\n",
       "    .wandb-col { display: flex; flex-direction: column; flex-basis: 100%; flex: 1; padding: 10px; }\n",
       "    </style>\n",
       "<div class=\"wandb-row\"><div class=\"wandb-col\"><h3>Run history:</h3><br/><table class=\"wandb\"><tr><td>accuracy</td><td>▁</td></tr></table><br/></div><div class=\"wandb-col\"><h3>Run summary:</h3><br/><table class=\"wandb\"><tr><td>accuracy</td><td>1.0</td></tr></table><br/></div></div>"
      ],
      "text/plain": [
       "<IPython.core.display.HTML object>"
      ]
     },
     "metadata": {},
     "output_type": "display_data"
    },
    {
     "data": {
      "text/html": [
       " View run <strong style=\"color:#cdcd00\">true-sweep-22</strong> at: <a href='https://wandb.ai/devdchyeon/DLTHON/runs/s3ejto9j' target=\"_blank\">https://wandb.ai/devdchyeon/DLTHON/runs/s3ejto9j</a><br/>Synced 5 W&B file(s), 0 media file(s), 0 artifact file(s) and 0 other file(s)"
      ],
      "text/plain": [
       "<IPython.core.display.HTML object>"
      ]
     },
     "metadata": {},
     "output_type": "display_data"
    },
    {
     "data": {
      "text/html": [
       "Find logs at: <code>./wandb/run-20240626_130940-s3ejto9j/logs</code>"
      ],
      "text/plain": [
       "<IPython.core.display.HTML object>"
      ]
     },
     "metadata": {},
     "output_type": "display_data"
    },
    {
     "name": "stderr",
     "output_type": "stream",
     "text": [
      "\u001b[34m\u001b[1mwandb\u001b[0m: Sweep Agent: Waiting for job.\n",
      "\u001b[34m\u001b[1mwandb\u001b[0m: Job received.\n",
      "\u001b[34m\u001b[1mwandb\u001b[0m: Agent Starting Run: h0qwaohu with config:\n",
      "\u001b[34m\u001b[1mwandb\u001b[0m: \tdim: 150\n",
      "\u001b[34m\u001b[1mwandb\u001b[0m: \tepoch: 70\n",
      "\u001b[34m\u001b[1mwandb\u001b[0m: \tlr: 0.2\n",
      "\u001b[34m\u001b[1mwandb\u001b[0m: \tminCount: 7\n",
      "\u001b[34m\u001b[1mwandb\u001b[0m: \twordNgrams: 4\n",
      "\u001b[34m\u001b[1mwandb\u001b[0m: \u001b[33mWARNING\u001b[0m Ignored wandb.init() arg project when running a sweep.\n"
     ]
    },
    {
     "data": {
      "text/html": [
       "wandb version 0.17.3 is available!  To upgrade, please run:\n",
       " $ pip install wandb --upgrade"
      ],
      "text/plain": [
       "<IPython.core.display.HTML object>"
      ]
     },
     "metadata": {},
     "output_type": "display_data"
    },
    {
     "data": {
      "text/html": [
       "Tracking run with wandb version 0.16.0"
      ],
      "text/plain": [
       "<IPython.core.display.HTML object>"
      ]
     },
     "metadata": {},
     "output_type": "display_data"
    },
    {
     "data": {
      "text/html": [
       "Run data is saved locally in <code>/aiffel/aiffel/workspace/16_dlthon_1/wandb/run-20240626_131016-h0qwaohu</code>"
      ],
      "text/plain": [
       "<IPython.core.display.HTML object>"
      ]
     },
     "metadata": {},
     "output_type": "display_data"
    },
    {
     "data": {
      "text/html": [
       "Syncing run <strong><a href='https://wandb.ai/devdchyeon/DLTHON/runs/h0qwaohu' target=\"_blank\">colorful-sweep-23</a></strong> to <a href='https://wandb.ai/devdchyeon/DLTHON' target=\"_blank\">Weights & Biases</a> (<a href='https://wandb.me/run' target=\"_blank\">docs</a>)<br/>Sweep page: <a href='https://wandb.ai/devdchyeon/DLTHON/sweeps/z3k1w1jj' target=\"_blank\">https://wandb.ai/devdchyeon/DLTHON/sweeps/z3k1w1jj</a>"
      ],
      "text/plain": [
       "<IPython.core.display.HTML object>"
      ]
     },
     "metadata": {},
     "output_type": "display_data"
    },
    {
     "data": {
      "text/html": [
       " View project at <a href='https://wandb.ai/devdchyeon/DLTHON' target=\"_blank\">https://wandb.ai/devdchyeon/DLTHON</a>"
      ],
      "text/plain": [
       "<IPython.core.display.HTML object>"
      ]
     },
     "metadata": {},
     "output_type": "display_data"
    },
    {
     "data": {
      "text/html": [
       " View sweep at <a href='https://wandb.ai/devdchyeon/DLTHON/sweeps/z3k1w1jj' target=\"_blank\">https://wandb.ai/devdchyeon/DLTHON/sweeps/z3k1w1jj</a>"
      ],
      "text/plain": [
       "<IPython.core.display.HTML object>"
      ]
     },
     "metadata": {},
     "output_type": "display_data"
    },
    {
     "data": {
      "text/html": [
       " View run at <a href='https://wandb.ai/devdchyeon/DLTHON/runs/h0qwaohu' target=\"_blank\">https://wandb.ai/devdchyeon/DLTHON/runs/h0qwaohu</a>"
      ],
      "text/plain": [
       "<IPython.core.display.HTML object>"
      ]
     },
     "metadata": {},
     "output_type": "display_data"
    },
    {
     "name": "stderr",
     "output_type": "stream",
     "text": [
      "Read 0M words\n",
      "Number of words:  5418\n",
      "Number of labels: 5\n",
      "Progress: 100.0% words/sec/thread:  416508 lr:  0.000000 avg.loss:  0.090904 ETA:   0h 0m 0s 45.4% words/sec/thread:  407296 lr:  0.109161 avg.loss:  0.181352 ETA:   0h 0m13s\n"
     ]
    },
    {
     "data": {
      "application/vnd.jupyter.widget-view+json": {
       "model_id": "",
       "version_major": 2,
       "version_minor": 0
      },
      "text/plain": [
       "VBox(children=(Label(value='0.002 MB of 0.002 MB uploaded\\r'), FloatProgress(value=1.0, max=1.0)))"
      ]
     },
     "metadata": {},
     "output_type": "display_data"
    },
    {
     "data": {
      "text/html": [
       "<style>\n",
       "    table.wandb td:nth-child(1) { padding: 0 10px; text-align: left ; width: auto;} td:nth-child(2) {text-align: left ; width: 100%}\n",
       "    .wandb-row { display: flex; flex-direction: row; flex-wrap: wrap; justify-content: flex-start; width: 100% }\n",
       "    .wandb-col { display: flex; flex-direction: column; flex-basis: 100%; flex: 1; padding: 10px; }\n",
       "    </style>\n",
       "<div class=\"wandb-row\"><div class=\"wandb-col\"><h3>Run history:</h3><br/><table class=\"wandb\"><tr><td>accuracy</td><td>▁</td></tr></table><br/></div><div class=\"wandb-col\"><h3>Run summary:</h3><br/><table class=\"wandb\"><tr><td>accuracy</td><td>1.0</td></tr></table><br/></div></div>"
      ],
      "text/plain": [
       "<IPython.core.display.HTML object>"
      ]
     },
     "metadata": {},
     "output_type": "display_data"
    },
    {
     "data": {
      "text/html": [
       " View run <strong style=\"color:#cdcd00\">colorful-sweep-23</strong> at: <a href='https://wandb.ai/devdchyeon/DLTHON/runs/h0qwaohu' target=\"_blank\">https://wandb.ai/devdchyeon/DLTHON/runs/h0qwaohu</a><br/>Synced 5 W&B file(s), 0 media file(s), 0 artifact file(s) and 0 other file(s)"
      ],
      "text/plain": [
       "<IPython.core.display.HTML object>"
      ]
     },
     "metadata": {},
     "output_type": "display_data"
    },
    {
     "data": {
      "text/html": [
       "Find logs at: <code>./wandb/run-20240626_131016-h0qwaohu/logs</code>"
      ],
      "text/plain": [
       "<IPython.core.display.HTML object>"
      ]
     },
     "metadata": {},
     "output_type": "display_data"
    },
    {
     "name": "stderr",
     "output_type": "stream",
     "text": [
      "\u001b[34m\u001b[1mwandb\u001b[0m: Agent Starting Run: beqldxbe with config:\n",
      "\u001b[34m\u001b[1mwandb\u001b[0m: \tdim: 200\n",
      "\u001b[34m\u001b[1mwandb\u001b[0m: \tepoch: 50\n",
      "\u001b[34m\u001b[1mwandb\u001b[0m: \tlr: 0.5\n",
      "\u001b[34m\u001b[1mwandb\u001b[0m: \tminCount: 1\n",
      "\u001b[34m\u001b[1mwandb\u001b[0m: \twordNgrams: 4\n",
      "\u001b[34m\u001b[1mwandb\u001b[0m: \u001b[33mWARNING\u001b[0m Ignored wandb.init() arg project when running a sweep.\n"
     ]
    },
    {
     "data": {
      "text/html": [
       "wandb version 0.17.3 is available!  To upgrade, please run:\n",
       " $ pip install wandb --upgrade"
      ],
      "text/plain": [
       "<IPython.core.display.HTML object>"
      ]
     },
     "metadata": {},
     "output_type": "display_data"
    },
    {
     "data": {
      "text/html": [
       "Tracking run with wandb version 0.16.0"
      ],
      "text/plain": [
       "<IPython.core.display.HTML object>"
      ]
     },
     "metadata": {},
     "output_type": "display_data"
    },
    {
     "data": {
      "text/html": [
       "Run data is saved locally in <code>/aiffel/aiffel/workspace/16_dlthon_1/wandb/run-20240626_131048-beqldxbe</code>"
      ],
      "text/plain": [
       "<IPython.core.display.HTML object>"
      ]
     },
     "metadata": {},
     "output_type": "display_data"
    },
    {
     "data": {
      "text/html": [
       "Syncing run <strong><a href='https://wandb.ai/devdchyeon/DLTHON/runs/beqldxbe' target=\"_blank\">fearless-sweep-24</a></strong> to <a href='https://wandb.ai/devdchyeon/DLTHON' target=\"_blank\">Weights & Biases</a> (<a href='https://wandb.me/run' target=\"_blank\">docs</a>)<br/>Sweep page: <a href='https://wandb.ai/devdchyeon/DLTHON/sweeps/z3k1w1jj' target=\"_blank\">https://wandb.ai/devdchyeon/DLTHON/sweeps/z3k1w1jj</a>"
      ],
      "text/plain": [
       "<IPython.core.display.HTML object>"
      ]
     },
     "metadata": {},
     "output_type": "display_data"
    },
    {
     "data": {
      "text/html": [
       " View project at <a href='https://wandb.ai/devdchyeon/DLTHON' target=\"_blank\">https://wandb.ai/devdchyeon/DLTHON</a>"
      ],
      "text/plain": [
       "<IPython.core.display.HTML object>"
      ]
     },
     "metadata": {},
     "output_type": "display_data"
    },
    {
     "data": {
      "text/html": [
       " View sweep at <a href='https://wandb.ai/devdchyeon/DLTHON/sweeps/z3k1w1jj' target=\"_blank\">https://wandb.ai/devdchyeon/DLTHON/sweeps/z3k1w1jj</a>"
      ],
      "text/plain": [
       "<IPython.core.display.HTML object>"
      ]
     },
     "metadata": {},
     "output_type": "display_data"
    },
    {
     "data": {
      "text/html": [
       " View run at <a href='https://wandb.ai/devdchyeon/DLTHON/runs/beqldxbe' target=\"_blank\">https://wandb.ai/devdchyeon/DLTHON/runs/beqldxbe</a>"
      ],
      "text/plain": [
       "<IPython.core.display.HTML object>"
      ]
     },
     "metadata": {},
     "output_type": "display_data"
    },
    {
     "name": "stderr",
     "output_type": "stream",
     "text": [
      "Read 0M words\n",
      "Number of words:  84915\n",
      "Number of labels: 5\n",
      "Progress: 100.0% words/sec/thread:  309184 lr:  0.000000 avg.loss:  0.070896 ETA:   0h 0m 0s 14.8% words/sec/thread:  224618 lr:  0.425776 avg.loss:  0.403079 ETA:   0h 0m27s% words/sec/thread:  298077 lr:  0.191963 avg.loss:  0.108521 ETA:   0h 0m 9s% words/sec/thread:  309965 lr:  0.003096 avg.loss:  0.071361 ETA:   0h 0m 0s\n"
     ]
    },
    {
     "data": {
      "application/vnd.jupyter.widget-view+json": {
       "model_id": "",
       "version_major": 2,
       "version_minor": 0
      },
      "text/plain": [
       "VBox(children=(Label(value='0.008 MB of 0.008 MB uploaded\\r'), FloatProgress(value=1.0, max=1.0)))"
      ]
     },
     "metadata": {},
     "output_type": "display_data"
    },
    {
     "data": {
      "text/html": [
       "<style>\n",
       "    table.wandb td:nth-child(1) { padding: 0 10px; text-align: left ; width: auto;} td:nth-child(2) {text-align: left ; width: 100%}\n",
       "    .wandb-row { display: flex; flex-direction: row; flex-wrap: wrap; justify-content: flex-start; width: 100% }\n",
       "    .wandb-col { display: flex; flex-direction: column; flex-basis: 100%; flex: 1; padding: 10px; }\n",
       "    </style>\n",
       "<div class=\"wandb-row\"><div class=\"wandb-col\"><h3>Run history:</h3><br/><table class=\"wandb\"><tr><td>accuracy</td><td>▁</td></tr></table><br/></div><div class=\"wandb-col\"><h3>Run summary:</h3><br/><table class=\"wandb\"><tr><td>accuracy</td><td>1.0</td></tr></table><br/></div></div>"
      ],
      "text/plain": [
       "<IPython.core.display.HTML object>"
      ]
     },
     "metadata": {},
     "output_type": "display_data"
    },
    {
     "data": {
      "text/html": [
       " View run <strong style=\"color:#cdcd00\">fearless-sweep-24</strong> at: <a href='https://wandb.ai/devdchyeon/DLTHON/runs/beqldxbe' target=\"_blank\">https://wandb.ai/devdchyeon/DLTHON/runs/beqldxbe</a><br/>Synced 5 W&B file(s), 0 media file(s), 0 artifact file(s) and 0 other file(s)"
      ],
      "text/plain": [
       "<IPython.core.display.HTML object>"
      ]
     },
     "metadata": {},
     "output_type": "display_data"
    },
    {
     "data": {
      "text/html": [
       "Find logs at: <code>./wandb/run-20240626_131048-beqldxbe/logs</code>"
      ],
      "text/plain": [
       "<IPython.core.display.HTML object>"
      ]
     },
     "metadata": {},
     "output_type": "display_data"
    },
    {
     "name": "stderr",
     "output_type": "stream",
     "text": [
      "\u001b[34m\u001b[1mwandb\u001b[0m: Sweep Agent: Waiting for job.\n",
      "\u001b[34m\u001b[1mwandb\u001b[0m: Job received.\n",
      "\u001b[34m\u001b[1mwandb\u001b[0m: Agent Starting Run: nmkiinn6 with config:\n",
      "\u001b[34m\u001b[1mwandb\u001b[0m: \tdim: 100\n",
      "\u001b[34m\u001b[1mwandb\u001b[0m: \tepoch: 70\n",
      "\u001b[34m\u001b[1mwandb\u001b[0m: \tlr: 0.05\n",
      "\u001b[34m\u001b[1mwandb\u001b[0m: \tminCount: 7\n",
      "\u001b[34m\u001b[1mwandb\u001b[0m: \twordNgrams: 4\n",
      "\u001b[34m\u001b[1mwandb\u001b[0m: \u001b[33mWARNING\u001b[0m Ignored wandb.init() arg project when running a sweep.\n"
     ]
    },
    {
     "data": {
      "text/html": [
       "wandb version 0.17.3 is available!  To upgrade, please run:\n",
       " $ pip install wandb --upgrade"
      ],
      "text/plain": [
       "<IPython.core.display.HTML object>"
      ]
     },
     "metadata": {},
     "output_type": "display_data"
    },
    {
     "data": {
      "text/html": [
       "Tracking run with wandb version 0.16.0"
      ],
      "text/plain": [
       "<IPython.core.display.HTML object>"
      ]
     },
     "metadata": {},
     "output_type": "display_data"
    },
    {
     "data": {
      "text/html": [
       "Run data is saved locally in <code>/aiffel/aiffel/workspace/16_dlthon_1/wandb/run-20240626_131129-nmkiinn6</code>"
      ],
      "text/plain": [
       "<IPython.core.display.HTML object>"
      ]
     },
     "metadata": {},
     "output_type": "display_data"
    },
    {
     "data": {
      "text/html": [
       "Syncing run <strong><a href='https://wandb.ai/devdchyeon/DLTHON/runs/nmkiinn6' target=\"_blank\">misty-sweep-25</a></strong> to <a href='https://wandb.ai/devdchyeon/DLTHON' target=\"_blank\">Weights & Biases</a> (<a href='https://wandb.me/run' target=\"_blank\">docs</a>)<br/>Sweep page: <a href='https://wandb.ai/devdchyeon/DLTHON/sweeps/z3k1w1jj' target=\"_blank\">https://wandb.ai/devdchyeon/DLTHON/sweeps/z3k1w1jj</a>"
      ],
      "text/plain": [
       "<IPython.core.display.HTML object>"
      ]
     },
     "metadata": {},
     "output_type": "display_data"
    },
    {
     "data": {
      "text/html": [
       " View project at <a href='https://wandb.ai/devdchyeon/DLTHON' target=\"_blank\">https://wandb.ai/devdchyeon/DLTHON</a>"
      ],
      "text/plain": [
       "<IPython.core.display.HTML object>"
      ]
     },
     "metadata": {},
     "output_type": "display_data"
    },
    {
     "data": {
      "text/html": [
       " View sweep at <a href='https://wandb.ai/devdchyeon/DLTHON/sweeps/z3k1w1jj' target=\"_blank\">https://wandb.ai/devdchyeon/DLTHON/sweeps/z3k1w1jj</a>"
      ],
      "text/plain": [
       "<IPython.core.display.HTML object>"
      ]
     },
     "metadata": {},
     "output_type": "display_data"
    },
    {
     "data": {
      "text/html": [
       " View run at <a href='https://wandb.ai/devdchyeon/DLTHON/runs/nmkiinn6' target=\"_blank\">https://wandb.ai/devdchyeon/DLTHON/runs/nmkiinn6</a>"
      ],
      "text/plain": [
       "<IPython.core.display.HTML object>"
      ]
     },
     "metadata": {},
     "output_type": "display_data"
    },
    {
     "name": "stderr",
     "output_type": "stream",
     "text": [
      "Read 0M words\n",
      "Number of words:  5418\n",
      "Number of labels: 5\n",
      "Progress: 100.0% words/sec/thread:  565069 lr:  0.000000 avg.loss:  0.363777 ETA:   0h 0m 0s 27.0% words/sec/thread:  506940 lr:  0.036489 avg.loss:  1.091289 ETA:   0h 0m14s-0.000000 avg.loss:  0.363777 ETA:   0h 0m 0s\n"
     ]
    },
    {
     "data": {
      "application/vnd.jupyter.widget-view+json": {
       "model_id": "",
       "version_major": 2,
       "version_minor": 0
      },
      "text/plain": [
       "VBox(children=(Label(value='0.002 MB of 0.002 MB uploaded\\r'), FloatProgress(value=1.0, max=1.0)))"
      ]
     },
     "metadata": {},
     "output_type": "display_data"
    },
    {
     "data": {
      "text/html": [
       "<style>\n",
       "    table.wandb td:nth-child(1) { padding: 0 10px; text-align: left ; width: auto;} td:nth-child(2) {text-align: left ; width: 100%}\n",
       "    .wandb-row { display: flex; flex-direction: row; flex-wrap: wrap; justify-content: flex-start; width: 100% }\n",
       "    .wandb-col { display: flex; flex-direction: column; flex-basis: 100%; flex: 1; padding: 10px; }\n",
       "    </style>\n",
       "<div class=\"wandb-row\"><div class=\"wandb-col\"><h3>Run history:</h3><br/><table class=\"wandb\"><tr><td>accuracy</td><td>▁</td></tr></table><br/></div><div class=\"wandb-col\"><h3>Run summary:</h3><br/><table class=\"wandb\"><tr><td>accuracy</td><td>1.0</td></tr></table><br/></div></div>"
      ],
      "text/plain": [
       "<IPython.core.display.HTML object>"
      ]
     },
     "metadata": {},
     "output_type": "display_data"
    },
    {
     "data": {
      "text/html": [
       " View run <strong style=\"color:#cdcd00\">misty-sweep-25</strong> at: <a href='https://wandb.ai/devdchyeon/DLTHON/runs/nmkiinn6' target=\"_blank\">https://wandb.ai/devdchyeon/DLTHON/runs/nmkiinn6</a><br/>Synced 5 W&B file(s), 0 media file(s), 0 artifact file(s) and 0 other file(s)"
      ],
      "text/plain": [
       "<IPython.core.display.HTML object>"
      ]
     },
     "metadata": {},
     "output_type": "display_data"
    },
    {
     "data": {
      "text/html": [
       "Find logs at: <code>./wandb/run-20240626_131129-nmkiinn6/logs</code>"
      ],
      "text/plain": [
       "<IPython.core.display.HTML object>"
      ]
     },
     "metadata": {},
     "output_type": "display_data"
    },
    {
     "name": "stderr",
     "output_type": "stream",
     "text": [
      "\u001b[34m\u001b[1mwandb\u001b[0m: Agent Starting Run: 8vtjjhfr with config:\n",
      "\u001b[34m\u001b[1mwandb\u001b[0m: \tdim: 100\n",
      "\u001b[34m\u001b[1mwandb\u001b[0m: \tepoch: 70\n",
      "\u001b[34m\u001b[1mwandb\u001b[0m: \tlr: 0.2\n",
      "\u001b[34m\u001b[1mwandb\u001b[0m: \tminCount: 7\n",
      "\u001b[34m\u001b[1mwandb\u001b[0m: \twordNgrams: 4\n",
      "\u001b[34m\u001b[1mwandb\u001b[0m: \u001b[33mWARNING\u001b[0m Ignored wandb.init() arg project when running a sweep.\n"
     ]
    },
    {
     "data": {
      "text/html": [
       "wandb version 0.17.3 is available!  To upgrade, please run:\n",
       " $ pip install wandb --upgrade"
      ],
      "text/plain": [
       "<IPython.core.display.HTML object>"
      ]
     },
     "metadata": {},
     "output_type": "display_data"
    },
    {
     "data": {
      "text/html": [
       "Tracking run with wandb version 0.16.0"
      ],
      "text/plain": [
       "<IPython.core.display.HTML object>"
      ]
     },
     "metadata": {},
     "output_type": "display_data"
    },
    {
     "data": {
      "text/html": [
       "Run data is saved locally in <code>/aiffel/aiffel/workspace/16_dlthon_1/wandb/run-20240626_131155-8vtjjhfr</code>"
      ],
      "text/plain": [
       "<IPython.core.display.HTML object>"
      ]
     },
     "metadata": {},
     "output_type": "display_data"
    },
    {
     "data": {
      "text/html": [
       "Syncing run <strong><a href='https://wandb.ai/devdchyeon/DLTHON/runs/8vtjjhfr' target=\"_blank\">silver-sweep-26</a></strong> to <a href='https://wandb.ai/devdchyeon/DLTHON' target=\"_blank\">Weights & Biases</a> (<a href='https://wandb.me/run' target=\"_blank\">docs</a>)<br/>Sweep page: <a href='https://wandb.ai/devdchyeon/DLTHON/sweeps/z3k1w1jj' target=\"_blank\">https://wandb.ai/devdchyeon/DLTHON/sweeps/z3k1w1jj</a>"
      ],
      "text/plain": [
       "<IPython.core.display.HTML object>"
      ]
     },
     "metadata": {},
     "output_type": "display_data"
    },
    {
     "data": {
      "text/html": [
       " View project at <a href='https://wandb.ai/devdchyeon/DLTHON' target=\"_blank\">https://wandb.ai/devdchyeon/DLTHON</a>"
      ],
      "text/plain": [
       "<IPython.core.display.HTML object>"
      ]
     },
     "metadata": {},
     "output_type": "display_data"
    },
    {
     "data": {
      "text/html": [
       " View sweep at <a href='https://wandb.ai/devdchyeon/DLTHON/sweeps/z3k1w1jj' target=\"_blank\">https://wandb.ai/devdchyeon/DLTHON/sweeps/z3k1w1jj</a>"
      ],
      "text/plain": [
       "<IPython.core.display.HTML object>"
      ]
     },
     "metadata": {},
     "output_type": "display_data"
    },
    {
     "data": {
      "text/html": [
       " View run at <a href='https://wandb.ai/devdchyeon/DLTHON/runs/8vtjjhfr' target=\"_blank\">https://wandb.ai/devdchyeon/DLTHON/runs/8vtjjhfr</a>"
      ],
      "text/plain": [
       "<IPython.core.display.HTML object>"
      ]
     },
     "metadata": {},
     "output_type": "display_data"
    },
    {
     "name": "stderr",
     "output_type": "stream",
     "text": [
      "Read 0M words\n",
      "Number of words:  5418\n",
      "Number of labels: 5\n",
      "Progress: 100.0% words/sec/thread:  561699 lr:  0.000000 avg.loss:  0.079910 ETA:   0h 0m 0s 21.4% words/sec/thread:  496064 lr:  0.157114 avg.loss:  0.400314 ETA:   0h 0m15s\n"
     ]
    },
    {
     "data": {
      "application/vnd.jupyter.widget-view+json": {
       "model_id": "",
       "version_major": 2,
       "version_minor": 0
      },
      "text/plain": [
       "VBox(children=(Label(value='0.002 MB of 0.002 MB uploaded\\r'), FloatProgress(value=1.0, max=1.0)))"
      ]
     },
     "metadata": {},
     "output_type": "display_data"
    },
    {
     "data": {
      "text/html": [
       "<style>\n",
       "    table.wandb td:nth-child(1) { padding: 0 10px; text-align: left ; width: auto;} td:nth-child(2) {text-align: left ; width: 100%}\n",
       "    .wandb-row { display: flex; flex-direction: row; flex-wrap: wrap; justify-content: flex-start; width: 100% }\n",
       "    .wandb-col { display: flex; flex-direction: column; flex-basis: 100%; flex: 1; padding: 10px; }\n",
       "    </style>\n",
       "<div class=\"wandb-row\"><div class=\"wandb-col\"><h3>Run history:</h3><br/><table class=\"wandb\"><tr><td>accuracy</td><td>▁</td></tr></table><br/></div><div class=\"wandb-col\"><h3>Run summary:</h3><br/><table class=\"wandb\"><tr><td>accuracy</td><td>1.0</td></tr></table><br/></div></div>"
      ],
      "text/plain": [
       "<IPython.core.display.HTML object>"
      ]
     },
     "metadata": {},
     "output_type": "display_data"
    },
    {
     "data": {
      "text/html": [
       " View run <strong style=\"color:#cdcd00\">silver-sweep-26</strong> at: <a href='https://wandb.ai/devdchyeon/DLTHON/runs/8vtjjhfr' target=\"_blank\">https://wandb.ai/devdchyeon/DLTHON/runs/8vtjjhfr</a><br/>Synced 5 W&B file(s), 0 media file(s), 0 artifact file(s) and 0 other file(s)"
      ],
      "text/plain": [
       "<IPython.core.display.HTML object>"
      ]
     },
     "metadata": {},
     "output_type": "display_data"
    },
    {
     "data": {
      "text/html": [
       "Find logs at: <code>./wandb/run-20240626_131155-8vtjjhfr/logs</code>"
      ],
      "text/plain": [
       "<IPython.core.display.HTML object>"
      ]
     },
     "metadata": {},
     "output_type": "display_data"
    },
    {
     "name": "stderr",
     "output_type": "stream",
     "text": [
      "\u001b[34m\u001b[1mwandb\u001b[0m: Agent Starting Run: qxa0iq4g with config:\n",
      "\u001b[34m\u001b[1mwandb\u001b[0m: \tdim: 150\n",
      "\u001b[34m\u001b[1mwandb\u001b[0m: \tepoch: 70\n",
      "\u001b[34m\u001b[1mwandb\u001b[0m: \tlr: 0.1\n",
      "\u001b[34m\u001b[1mwandb\u001b[0m: \tminCount: 7\n",
      "\u001b[34m\u001b[1mwandb\u001b[0m: \twordNgrams: 4\n",
      "\u001b[34m\u001b[1mwandb\u001b[0m: \u001b[33mWARNING\u001b[0m Ignored wandb.init() arg project when running a sweep.\n"
     ]
    },
    {
     "data": {
      "text/html": [
       "wandb version 0.17.3 is available!  To upgrade, please run:\n",
       " $ pip install wandb --upgrade"
      ],
      "text/plain": [
       "<IPython.core.display.HTML object>"
      ]
     },
     "metadata": {},
     "output_type": "display_data"
    },
    {
     "data": {
      "text/html": [
       "Tracking run with wandb version 0.16.0"
      ],
      "text/plain": [
       "<IPython.core.display.HTML object>"
      ]
     },
     "metadata": {},
     "output_type": "display_data"
    },
    {
     "data": {
      "text/html": [
       "Run data is saved locally in <code>/aiffel/aiffel/workspace/16_dlthon_1/wandb/run-20240626_131225-qxa0iq4g</code>"
      ],
      "text/plain": [
       "<IPython.core.display.HTML object>"
      ]
     },
     "metadata": {},
     "output_type": "display_data"
    },
    {
     "data": {
      "text/html": [
       "Syncing run <strong><a href='https://wandb.ai/devdchyeon/DLTHON/runs/qxa0iq4g' target=\"_blank\">spring-sweep-27</a></strong> to <a href='https://wandb.ai/devdchyeon/DLTHON' target=\"_blank\">Weights & Biases</a> (<a href='https://wandb.me/run' target=\"_blank\">docs</a>)<br/>Sweep page: <a href='https://wandb.ai/devdchyeon/DLTHON/sweeps/z3k1w1jj' target=\"_blank\">https://wandb.ai/devdchyeon/DLTHON/sweeps/z3k1w1jj</a>"
      ],
      "text/plain": [
       "<IPython.core.display.HTML object>"
      ]
     },
     "metadata": {},
     "output_type": "display_data"
    },
    {
     "data": {
      "text/html": [
       " View project at <a href='https://wandb.ai/devdchyeon/DLTHON' target=\"_blank\">https://wandb.ai/devdchyeon/DLTHON</a>"
      ],
      "text/plain": [
       "<IPython.core.display.HTML object>"
      ]
     },
     "metadata": {},
     "output_type": "display_data"
    },
    {
     "data": {
      "text/html": [
       " View sweep at <a href='https://wandb.ai/devdchyeon/DLTHON/sweeps/z3k1w1jj' target=\"_blank\">https://wandb.ai/devdchyeon/DLTHON/sweeps/z3k1w1jj</a>"
      ],
      "text/plain": [
       "<IPython.core.display.HTML object>"
      ]
     },
     "metadata": {},
     "output_type": "display_data"
    },
    {
     "data": {
      "text/html": [
       " View run at <a href='https://wandb.ai/devdchyeon/DLTHON/runs/qxa0iq4g' target=\"_blank\">https://wandb.ai/devdchyeon/DLTHON/runs/qxa0iq4g</a>"
      ],
      "text/plain": [
       "<IPython.core.display.HTML object>"
      ]
     },
     "metadata": {},
     "output_type": "display_data"
    },
    {
     "name": "stderr",
     "output_type": "stream",
     "text": [
      "Read 0M words\n",
      "Number of words:  5418\n",
      "Number of labels: 5\n",
      "Progress: 100.0% words/sec/thread:  411277 lr:  0.000000 avg.loss:  0.164747 ETA:   0h 0m 0s100.0% words/sec/thread:  411278 lr: -0.000001 avg.loss:  0.164747 ETA:   0h 0m 0s\n"
     ]
    },
    {
     "data": {
      "application/vnd.jupyter.widget-view+json": {
       "model_id": "",
       "version_major": 2,
       "version_minor": 0
      },
      "text/plain": [
       "VBox(children=(Label(value='0.008 MB of 0.008 MB uploaded\\r'), FloatProgress(value=1.0, max=1.0)))"
      ]
     },
     "metadata": {},
     "output_type": "display_data"
    },
    {
     "data": {
      "text/html": [
       "<style>\n",
       "    table.wandb td:nth-child(1) { padding: 0 10px; text-align: left ; width: auto;} td:nth-child(2) {text-align: left ; width: 100%}\n",
       "    .wandb-row { display: flex; flex-direction: row; flex-wrap: wrap; justify-content: flex-start; width: 100% }\n",
       "    .wandb-col { display: flex; flex-direction: column; flex-basis: 100%; flex: 1; padding: 10px; }\n",
       "    </style>\n",
       "<div class=\"wandb-row\"><div class=\"wandb-col\"><h3>Run history:</h3><br/><table class=\"wandb\"><tr><td>accuracy</td><td>▁</td></tr></table><br/></div><div class=\"wandb-col\"><h3>Run summary:</h3><br/><table class=\"wandb\"><tr><td>accuracy</td><td>1.0</td></tr></table><br/></div></div>"
      ],
      "text/plain": [
       "<IPython.core.display.HTML object>"
      ]
     },
     "metadata": {},
     "output_type": "display_data"
    },
    {
     "data": {
      "text/html": [
       " View run <strong style=\"color:#cdcd00\">spring-sweep-27</strong> at: <a href='https://wandb.ai/devdchyeon/DLTHON/runs/qxa0iq4g' target=\"_blank\">https://wandb.ai/devdchyeon/DLTHON/runs/qxa0iq4g</a><br/>Synced 5 W&B file(s), 0 media file(s), 0 artifact file(s) and 0 other file(s)"
      ],
      "text/plain": [
       "<IPython.core.display.HTML object>"
      ]
     },
     "metadata": {},
     "output_type": "display_data"
    },
    {
     "data": {
      "text/html": [
       "Find logs at: <code>./wandb/run-20240626_131225-qxa0iq4g/logs</code>"
      ],
      "text/plain": [
       "<IPython.core.display.HTML object>"
      ]
     },
     "metadata": {},
     "output_type": "display_data"
    },
    {
     "name": "stderr",
     "output_type": "stream",
     "text": [
      "\u001b[34m\u001b[1mwandb\u001b[0m: Sweep Agent: Waiting for job.\n",
      "\u001b[34m\u001b[1mwandb\u001b[0m: Job received.\n",
      "\u001b[34m\u001b[1mwandb\u001b[0m: Agent Starting Run: 5vmko5bx with config:\n",
      "\u001b[34m\u001b[1mwandb\u001b[0m: \tdim: 150\n",
      "\u001b[34m\u001b[1mwandb\u001b[0m: \tepoch: 70\n",
      "\u001b[34m\u001b[1mwandb\u001b[0m: \tlr: 0.1\n",
      "\u001b[34m\u001b[1mwandb\u001b[0m: \tminCount: 7\n",
      "\u001b[34m\u001b[1mwandb\u001b[0m: \twordNgrams: 4\n",
      "\u001b[34m\u001b[1mwandb\u001b[0m: \u001b[33mWARNING\u001b[0m Ignored wandb.init() arg project when running a sweep.\n"
     ]
    },
    {
     "data": {
      "text/html": [
       "wandb version 0.17.3 is available!  To upgrade, please run:\n",
       " $ pip install wandb --upgrade"
      ],
      "text/plain": [
       "<IPython.core.display.HTML object>"
      ]
     },
     "metadata": {},
     "output_type": "display_data"
    },
    {
     "data": {
      "text/html": [
       "Tracking run with wandb version 0.16.0"
      ],
      "text/plain": [
       "<IPython.core.display.HTML object>"
      ]
     },
     "metadata": {},
     "output_type": "display_data"
    },
    {
     "data": {
      "text/html": [
       "Run data is saved locally in <code>/aiffel/aiffel/workspace/16_dlthon_1/wandb/run-20240626_131306-5vmko5bx</code>"
      ],
      "text/plain": [
       "<IPython.core.display.HTML object>"
      ]
     },
     "metadata": {},
     "output_type": "display_data"
    },
    {
     "data": {
      "text/html": [
       "Syncing run <strong><a href='https://wandb.ai/devdchyeon/DLTHON/runs/5vmko5bx' target=\"_blank\">fiery-sweep-28</a></strong> to <a href='https://wandb.ai/devdchyeon/DLTHON' target=\"_blank\">Weights & Biases</a> (<a href='https://wandb.me/run' target=\"_blank\">docs</a>)<br/>Sweep page: <a href='https://wandb.ai/devdchyeon/DLTHON/sweeps/z3k1w1jj' target=\"_blank\">https://wandb.ai/devdchyeon/DLTHON/sweeps/z3k1w1jj</a>"
      ],
      "text/plain": [
       "<IPython.core.display.HTML object>"
      ]
     },
     "metadata": {},
     "output_type": "display_data"
    },
    {
     "data": {
      "text/html": [
       " View project at <a href='https://wandb.ai/devdchyeon/DLTHON' target=\"_blank\">https://wandb.ai/devdchyeon/DLTHON</a>"
      ],
      "text/plain": [
       "<IPython.core.display.HTML object>"
      ]
     },
     "metadata": {},
     "output_type": "display_data"
    },
    {
     "data": {
      "text/html": [
       " View sweep at <a href='https://wandb.ai/devdchyeon/DLTHON/sweeps/z3k1w1jj' target=\"_blank\">https://wandb.ai/devdchyeon/DLTHON/sweeps/z3k1w1jj</a>"
      ],
      "text/plain": [
       "<IPython.core.display.HTML object>"
      ]
     },
     "metadata": {},
     "output_type": "display_data"
    },
    {
     "data": {
      "text/html": [
       " View run at <a href='https://wandb.ai/devdchyeon/DLTHON/runs/5vmko5bx' target=\"_blank\">https://wandb.ai/devdchyeon/DLTHON/runs/5vmko5bx</a>"
      ],
      "text/plain": [
       "<IPython.core.display.HTML object>"
      ]
     },
     "metadata": {},
     "output_type": "display_data"
    },
    {
     "name": "stderr",
     "output_type": "stream",
     "text": [
      "Read 0M words\n",
      "Number of words:  5418\n",
      "Number of labels: 5\n",
      "Progress: 100.0% words/sec/thread:  412673 lr:  0.000000 avg.loss:  0.180883 ETA:   0h 0m 0s100.0% words/sec/thread:  412674 lr: -0.000000 avg.loss:  0.180883 ETA:   0h 0m 0s\n"
     ]
    },
    {
     "data": {
      "application/vnd.jupyter.widget-view+json": {
       "model_id": "",
       "version_major": 2,
       "version_minor": 0
      },
      "text/plain": [
       "VBox(children=(Label(value='0.008 MB of 0.008 MB uploaded\\r'), FloatProgress(value=1.0, max=1.0)))"
      ]
     },
     "metadata": {},
     "output_type": "display_data"
    },
    {
     "data": {
      "text/html": [
       "<style>\n",
       "    table.wandb td:nth-child(1) { padding: 0 10px; text-align: left ; width: auto;} td:nth-child(2) {text-align: left ; width: 100%}\n",
       "    .wandb-row { display: flex; flex-direction: row; flex-wrap: wrap; justify-content: flex-start; width: 100% }\n",
       "    .wandb-col { display: flex; flex-direction: column; flex-basis: 100%; flex: 1; padding: 10px; }\n",
       "    </style>\n",
       "<div class=\"wandb-row\"><div class=\"wandb-col\"><h3>Run history:</h3><br/><table class=\"wandb\"><tr><td>accuracy</td><td>▁</td></tr></table><br/></div><div class=\"wandb-col\"><h3>Run summary:</h3><br/><table class=\"wandb\"><tr><td>accuracy</td><td>1.0</td></tr></table><br/></div></div>"
      ],
      "text/plain": [
       "<IPython.core.display.HTML object>"
      ]
     },
     "metadata": {},
     "output_type": "display_data"
    },
    {
     "data": {
      "text/html": [
       " View run <strong style=\"color:#cdcd00\">fiery-sweep-28</strong> at: <a href='https://wandb.ai/devdchyeon/DLTHON/runs/5vmko5bx' target=\"_blank\">https://wandb.ai/devdchyeon/DLTHON/runs/5vmko5bx</a><br/>Synced 5 W&B file(s), 0 media file(s), 0 artifact file(s) and 0 other file(s)"
      ],
      "text/plain": [
       "<IPython.core.display.HTML object>"
      ]
     },
     "metadata": {},
     "output_type": "display_data"
    },
    {
     "data": {
      "text/html": [
       "Find logs at: <code>./wandb/run-20240626_131306-5vmko5bx/logs</code>"
      ],
      "text/plain": [
       "<IPython.core.display.HTML object>"
      ]
     },
     "metadata": {},
     "output_type": "display_data"
    },
    {
     "name": "stderr",
     "output_type": "stream",
     "text": [
      "\u001b[34m\u001b[1mwandb\u001b[0m: Sweep Agent: Waiting for job.\n",
      "\u001b[34m\u001b[1mwandb\u001b[0m: Job received.\n",
      "\u001b[34m\u001b[1mwandb\u001b[0m: Agent Starting Run: 7a91iwx9 with config:\n",
      "\u001b[34m\u001b[1mwandb\u001b[0m: \tdim: 100\n",
      "\u001b[34m\u001b[1mwandb\u001b[0m: \tepoch: 70\n",
      "\u001b[34m\u001b[1mwandb\u001b[0m: \tlr: 0.1\n",
      "\u001b[34m\u001b[1mwandb\u001b[0m: \tminCount: 7\n",
      "\u001b[34m\u001b[1mwandb\u001b[0m: \twordNgrams: 4\n",
      "\u001b[34m\u001b[1mwandb\u001b[0m: \u001b[33mWARNING\u001b[0m Ignored wandb.init() arg project when running a sweep.\n"
     ]
    },
    {
     "data": {
      "text/html": [
       "wandb version 0.17.3 is available!  To upgrade, please run:\n",
       " $ pip install wandb --upgrade"
      ],
      "text/plain": [
       "<IPython.core.display.HTML object>"
      ]
     },
     "metadata": {},
     "output_type": "display_data"
    },
    {
     "data": {
      "text/html": [
       "Tracking run with wandb version 0.16.0"
      ],
      "text/plain": [
       "<IPython.core.display.HTML object>"
      ]
     },
     "metadata": {},
     "output_type": "display_data"
    },
    {
     "data": {
      "text/html": [
       "Run data is saved locally in <code>/aiffel/aiffel/workspace/16_dlthon_1/wandb/run-20240626_131347-7a91iwx9</code>"
      ],
      "text/plain": [
       "<IPython.core.display.HTML object>"
      ]
     },
     "metadata": {},
     "output_type": "display_data"
    },
    {
     "data": {
      "text/html": [
       "Syncing run <strong><a href='https://wandb.ai/devdchyeon/DLTHON/runs/7a91iwx9' target=\"_blank\">smooth-sweep-29</a></strong> to <a href='https://wandb.ai/devdchyeon/DLTHON' target=\"_blank\">Weights & Biases</a> (<a href='https://wandb.me/run' target=\"_blank\">docs</a>)<br/>Sweep page: <a href='https://wandb.ai/devdchyeon/DLTHON/sweeps/z3k1w1jj' target=\"_blank\">https://wandb.ai/devdchyeon/DLTHON/sweeps/z3k1w1jj</a>"
      ],
      "text/plain": [
       "<IPython.core.display.HTML object>"
      ]
     },
     "metadata": {},
     "output_type": "display_data"
    },
    {
     "data": {
      "text/html": [
       " View project at <a href='https://wandb.ai/devdchyeon/DLTHON' target=\"_blank\">https://wandb.ai/devdchyeon/DLTHON</a>"
      ],
      "text/plain": [
       "<IPython.core.display.HTML object>"
      ]
     },
     "metadata": {},
     "output_type": "display_data"
    },
    {
     "data": {
      "text/html": [
       " View sweep at <a href='https://wandb.ai/devdchyeon/DLTHON/sweeps/z3k1w1jj' target=\"_blank\">https://wandb.ai/devdchyeon/DLTHON/sweeps/z3k1w1jj</a>"
      ],
      "text/plain": [
       "<IPython.core.display.HTML object>"
      ]
     },
     "metadata": {},
     "output_type": "display_data"
    },
    {
     "data": {
      "text/html": [
       " View run at <a href='https://wandb.ai/devdchyeon/DLTHON/runs/7a91iwx9' target=\"_blank\">https://wandb.ai/devdchyeon/DLTHON/runs/7a91iwx9</a>"
      ],
      "text/plain": [
       "<IPython.core.display.HTML object>"
      ]
     },
     "metadata": {},
     "output_type": "display_data"
    },
    {
     "name": "stderr",
     "output_type": "stream",
     "text": [
      "Read 0M words\n",
      "Number of words:  5418\n",
      "Number of labels: 5\n",
      "Progress: 100.0% words/sec/thread:  532255 lr:  0.000000 avg.loss:  0.179385 ETA:   0h 0m 0s  8.7% words/sec/thread:  377578 lr:  0.091271 avg.loss:  1.325398 ETA:   0h 0m24s 45.9% words/sec/thread:  501991 lr:  0.054110 avg.loss:  0.370728 ETA:   0h 0m10s% words/sec/thread:  533997 lr:  0.005571 avg.loss:  0.189151 ETA:   0h 0m 1s 97.3% words/sec/thread:  535272 lr:  0.002658 avg.loss:  0.184640 ETA:   0h 0m 0s\n"
     ]
    },
    {
     "data": {
      "application/vnd.jupyter.widget-view+json": {
       "model_id": "",
       "version_major": 2,
       "version_minor": 0
      },
      "text/plain": [
       "VBox(children=(Label(value='0.008 MB of 0.008 MB uploaded\\r'), FloatProgress(value=1.0, max=1.0)))"
      ]
     },
     "metadata": {},
     "output_type": "display_data"
    },
    {
     "data": {
      "text/html": [
       "<style>\n",
       "    table.wandb td:nth-child(1) { padding: 0 10px; text-align: left ; width: auto;} td:nth-child(2) {text-align: left ; width: 100%}\n",
       "    .wandb-row { display: flex; flex-direction: row; flex-wrap: wrap; justify-content: flex-start; width: 100% }\n",
       "    .wandb-col { display: flex; flex-direction: column; flex-basis: 100%; flex: 1; padding: 10px; }\n",
       "    </style>\n",
       "<div class=\"wandb-row\"><div class=\"wandb-col\"><h3>Run history:</h3><br/><table class=\"wandb\"><tr><td>accuracy</td><td>▁</td></tr></table><br/></div><div class=\"wandb-col\"><h3>Run summary:</h3><br/><table class=\"wandb\"><tr><td>accuracy</td><td>1.0</td></tr></table><br/></div></div>"
      ],
      "text/plain": [
       "<IPython.core.display.HTML object>"
      ]
     },
     "metadata": {},
     "output_type": "display_data"
    },
    {
     "data": {
      "text/html": [
       " View run <strong style=\"color:#cdcd00\">smooth-sweep-29</strong> at: <a href='https://wandb.ai/devdchyeon/DLTHON/runs/7a91iwx9' target=\"_blank\">https://wandb.ai/devdchyeon/DLTHON/runs/7a91iwx9</a><br/>Synced 5 W&B file(s), 0 media file(s), 0 artifact file(s) and 0 other file(s)"
      ],
      "text/plain": [
       "<IPython.core.display.HTML object>"
      ]
     },
     "metadata": {},
     "output_type": "display_data"
    },
    {
     "data": {
      "text/html": [
       "Find logs at: <code>./wandb/run-20240626_131347-7a91iwx9/logs</code>"
      ],
      "text/plain": [
       "<IPython.core.display.HTML object>"
      ]
     },
     "metadata": {},
     "output_type": "display_data"
    },
    {
     "name": "stderr",
     "output_type": "stream",
     "text": [
      "\u001b[34m\u001b[1mwandb\u001b[0m: Agent Starting Run: 064pkmjz with config:\n",
      "\u001b[34m\u001b[1mwandb\u001b[0m: \tdim: 150\n",
      "\u001b[34m\u001b[1mwandb\u001b[0m: \tepoch: 50\n",
      "\u001b[34m\u001b[1mwandb\u001b[0m: \tlr: 0.5\n",
      "\u001b[34m\u001b[1mwandb\u001b[0m: \tminCount: 1\n",
      "\u001b[34m\u001b[1mwandb\u001b[0m: \twordNgrams: 4\n",
      "\u001b[34m\u001b[1mwandb\u001b[0m: \u001b[33mWARNING\u001b[0m Ignored wandb.init() arg project when running a sweep.\n"
     ]
    },
    {
     "data": {
      "text/html": [
       "wandb version 0.17.3 is available!  To upgrade, please run:\n",
       " $ pip install wandb --upgrade"
      ],
      "text/plain": [
       "<IPython.core.display.HTML object>"
      ]
     },
     "metadata": {},
     "output_type": "display_data"
    },
    {
     "data": {
      "text/html": [
       "Tracking run with wandb version 0.16.0"
      ],
      "text/plain": [
       "<IPython.core.display.HTML object>"
      ]
     },
     "metadata": {},
     "output_type": "display_data"
    },
    {
     "data": {
      "text/html": [
       "Run data is saved locally in <code>/aiffel/aiffel/workspace/16_dlthon_1/wandb/run-20240626_131413-064pkmjz</code>"
      ],
      "text/plain": [
       "<IPython.core.display.HTML object>"
      ]
     },
     "metadata": {},
     "output_type": "display_data"
    },
    {
     "data": {
      "text/html": [
       "Syncing run <strong><a href='https://wandb.ai/devdchyeon/DLTHON/runs/064pkmjz' target=\"_blank\">cerulean-sweep-30</a></strong> to <a href='https://wandb.ai/devdchyeon/DLTHON' target=\"_blank\">Weights & Biases</a> (<a href='https://wandb.me/run' target=\"_blank\">docs</a>)<br/>Sweep page: <a href='https://wandb.ai/devdchyeon/DLTHON/sweeps/z3k1w1jj' target=\"_blank\">https://wandb.ai/devdchyeon/DLTHON/sweeps/z3k1w1jj</a>"
      ],
      "text/plain": [
       "<IPython.core.display.HTML object>"
      ]
     },
     "metadata": {},
     "output_type": "display_data"
    },
    {
     "data": {
      "text/html": [
       " View project at <a href='https://wandb.ai/devdchyeon/DLTHON' target=\"_blank\">https://wandb.ai/devdchyeon/DLTHON</a>"
      ],
      "text/plain": [
       "<IPython.core.display.HTML object>"
      ]
     },
     "metadata": {},
     "output_type": "display_data"
    },
    {
     "data": {
      "text/html": [
       " View sweep at <a href='https://wandb.ai/devdchyeon/DLTHON/sweeps/z3k1w1jj' target=\"_blank\">https://wandb.ai/devdchyeon/DLTHON/sweeps/z3k1w1jj</a>"
      ],
      "text/plain": [
       "<IPython.core.display.HTML object>"
      ]
     },
     "metadata": {},
     "output_type": "display_data"
    },
    {
     "data": {
      "text/html": [
       " View run at <a href='https://wandb.ai/devdchyeon/DLTHON/runs/064pkmjz' target=\"_blank\">https://wandb.ai/devdchyeon/DLTHON/runs/064pkmjz</a>"
      ],
      "text/plain": [
       "<IPython.core.display.HTML object>"
      ]
     },
     "metadata": {},
     "output_type": "display_data"
    },
    {
     "name": "stderr",
     "output_type": "stream",
     "text": [
      "Read 0M words\n",
      "Number of words:  84915\n",
      "Number of labels: 5\n",
      "Progress: 100.0% words/sec/thread:  364616 lr:  0.000000 avg.loss:  0.068888 ETA:   0h 0m 0s% words/sec/thread:  349958 lr:  0.270998 avg.loss:  0.134005 ETA:   0h 0m11s words/sec/thread:  351887 lr:  0.242528 avg.loss:  0.122095 ETA:   0h 0m 9s words/sec/thread:  360753 lr:  0.162508 avg.loss:  0.096415 ETA:   0h 0m 6s 70.2% words/sec/thread:  361588 lr:  0.149023 avg.loss:  0.094150 ETA:   0h 0m 5s words/sec/thread:  362765 lr:  0.135131 avg.loss:  0.090526 ETA:   0h 0m 5s 78.3% words/sec/thread:  363772 lr:  0.108547 avg.loss:  0.085536 ETA:   0h 0m 4s 82.0% words/sec/thread:  364441 lr:  0.089895 avg.loss:  0.082148 ETA:   0h 0m 3s 363027 lr:  0.065971 avg.loss:  0.077893 ETA:   0h 0m 2s 89.4% words/sec/thread:  363377 lr:  0.052779 avg.loss:  0.076403 ETA:   0h 0m 2s 93.9% words/sec/thread:  364695 lr:  0.030651 avg.loss:  0.072795 ETA:   0h 0m 1s 99.3% words/sec/thread:  365695 lr:  0.003659 avg.loss:  0.069430 ETA:   0h 0m 0s% words/sec/thread:  364617 lr: -0.000005 avg.loss:  0.068888 ETA:   0h 0m 0s\n"
     ]
    },
    {
     "data": {
      "application/vnd.jupyter.widget-view+json": {
       "model_id": "",
       "version_major": 2,
       "version_minor": 0
      },
      "text/plain": [
       "VBox(children=(Label(value='0.002 MB of 0.002 MB uploaded\\r'), FloatProgress(value=1.0, max=1.0)))"
      ]
     },
     "metadata": {},
     "output_type": "display_data"
    },
    {
     "data": {
      "text/html": [
       "<style>\n",
       "    table.wandb td:nth-child(1) { padding: 0 10px; text-align: left ; width: auto;} td:nth-child(2) {text-align: left ; width: 100%}\n",
       "    .wandb-row { display: flex; flex-direction: row; flex-wrap: wrap; justify-content: flex-start; width: 100% }\n",
       "    .wandb-col { display: flex; flex-direction: column; flex-basis: 100%; flex: 1; padding: 10px; }\n",
       "    </style>\n",
       "<div class=\"wandb-row\"><div class=\"wandb-col\"><h3>Run history:</h3><br/><table class=\"wandb\"><tr><td>accuracy</td><td>▁</td></tr></table><br/></div><div class=\"wandb-col\"><h3>Run summary:</h3><br/><table class=\"wandb\"><tr><td>accuracy</td><td>1.0</td></tr></table><br/></div></div>"
      ],
      "text/plain": [
       "<IPython.core.display.HTML object>"
      ]
     },
     "metadata": {},
     "output_type": "display_data"
    },
    {
     "data": {
      "text/html": [
       " View run <strong style=\"color:#cdcd00\">cerulean-sweep-30</strong> at: <a href='https://wandb.ai/devdchyeon/DLTHON/runs/064pkmjz' target=\"_blank\">https://wandb.ai/devdchyeon/DLTHON/runs/064pkmjz</a><br/>Synced 5 W&B file(s), 0 media file(s), 0 artifact file(s) and 0 other file(s)"
      ],
      "text/plain": [
       "<IPython.core.display.HTML object>"
      ]
     },
     "metadata": {},
     "output_type": "display_data"
    },
    {
     "data": {
      "text/html": [
       "Find logs at: <code>./wandb/run-20240626_131413-064pkmjz/logs</code>"
      ],
      "text/plain": [
       "<IPython.core.display.HTML object>"
      ]
     },
     "metadata": {},
     "output_type": "display_data"
    },
    {
     "name": "stderr",
     "output_type": "stream",
     "text": [
      "\u001b[34m\u001b[1mwandb\u001b[0m: Agent Starting Run: i59gn91b with config:\n",
      "\u001b[34m\u001b[1mwandb\u001b[0m: \tdim: 150\n",
      "\u001b[34m\u001b[1mwandb\u001b[0m: \tepoch: 70\n",
      "\u001b[34m\u001b[1mwandb\u001b[0m: \tlr: 0.2\n",
      "\u001b[34m\u001b[1mwandb\u001b[0m: \tminCount: 7\n",
      "\u001b[34m\u001b[1mwandb\u001b[0m: \twordNgrams: 4\n",
      "\u001b[34m\u001b[1mwandb\u001b[0m: \u001b[33mWARNING\u001b[0m Ignored wandb.init() arg project when running a sweep.\n"
     ]
    },
    {
     "data": {
      "text/html": [
       "wandb version 0.17.3 is available!  To upgrade, please run:\n",
       " $ pip install wandb --upgrade"
      ],
      "text/plain": [
       "<IPython.core.display.HTML object>"
      ]
     },
     "metadata": {},
     "output_type": "display_data"
    },
    {
     "data": {
      "text/html": [
       "Tracking run with wandb version 0.16.0"
      ],
      "text/plain": [
       "<IPython.core.display.HTML object>"
      ]
     },
     "metadata": {},
     "output_type": "display_data"
    },
    {
     "data": {
      "text/html": [
       "Run data is saved locally in <code>/aiffel/aiffel/workspace/16_dlthon_1/wandb/run-20240626_131444-i59gn91b</code>"
      ],
      "text/plain": [
       "<IPython.core.display.HTML object>"
      ]
     },
     "metadata": {},
     "output_type": "display_data"
    },
    {
     "data": {
      "text/html": [
       "Syncing run <strong><a href='https://wandb.ai/devdchyeon/DLTHON/runs/i59gn91b' target=\"_blank\">cosmic-sweep-31</a></strong> to <a href='https://wandb.ai/devdchyeon/DLTHON' target=\"_blank\">Weights & Biases</a> (<a href='https://wandb.me/run' target=\"_blank\">docs</a>)<br/>Sweep page: <a href='https://wandb.ai/devdchyeon/DLTHON/sweeps/z3k1w1jj' target=\"_blank\">https://wandb.ai/devdchyeon/DLTHON/sweeps/z3k1w1jj</a>"
      ],
      "text/plain": [
       "<IPython.core.display.HTML object>"
      ]
     },
     "metadata": {},
     "output_type": "display_data"
    },
    {
     "data": {
      "text/html": [
       " View project at <a href='https://wandb.ai/devdchyeon/DLTHON' target=\"_blank\">https://wandb.ai/devdchyeon/DLTHON</a>"
      ],
      "text/plain": [
       "<IPython.core.display.HTML object>"
      ]
     },
     "metadata": {},
     "output_type": "display_data"
    },
    {
     "data": {
      "text/html": [
       " View sweep at <a href='https://wandb.ai/devdchyeon/DLTHON/sweeps/z3k1w1jj' target=\"_blank\">https://wandb.ai/devdchyeon/DLTHON/sweeps/z3k1w1jj</a>"
      ],
      "text/plain": [
       "<IPython.core.display.HTML object>"
      ]
     },
     "metadata": {},
     "output_type": "display_data"
    },
    {
     "data": {
      "text/html": [
       " View run at <a href='https://wandb.ai/devdchyeon/DLTHON/runs/i59gn91b' target=\"_blank\">https://wandb.ai/devdchyeon/DLTHON/runs/i59gn91b</a>"
      ],
      "text/plain": [
       "<IPython.core.display.HTML object>"
      ]
     },
     "metadata": {},
     "output_type": "display_data"
    },
    {
     "name": "stderr",
     "output_type": "stream",
     "text": [
      "Read 0M words\n",
      "Number of words:  5418\n",
      "Number of labels: 5\n",
      "Progress: 100.0% words/sec/thread:  396000 lr:  0.000000 avg.loss:  0.096445 ETA:   0h 0m 0s 87.5% words/sec/thread:  393559 lr:  0.024948 avg.loss:  0.110480 ETA:   0h 0m 3s 90.8% words/sec/thread:  394169 lr:  0.018343 avg.loss:  0.105721 ETA:   0h 0m 2s\n"
     ]
    },
    {
     "data": {
      "application/vnd.jupyter.widget-view+json": {
       "model_id": "",
       "version_major": 2,
       "version_minor": 0
      },
      "text/plain": [
       "VBox(children=(Label(value='0.008 MB of 0.008 MB uploaded\\r'), FloatProgress(value=1.0, max=1.0)))"
      ]
     },
     "metadata": {},
     "output_type": "display_data"
    },
    {
     "data": {
      "text/html": [
       "<style>\n",
       "    table.wandb td:nth-child(1) { padding: 0 10px; text-align: left ; width: auto;} td:nth-child(2) {text-align: left ; width: 100%}\n",
       "    .wandb-row { display: flex; flex-direction: row; flex-wrap: wrap; justify-content: flex-start; width: 100% }\n",
       "    .wandb-col { display: flex; flex-direction: column; flex-basis: 100%; flex: 1; padding: 10px; }\n",
       "    </style>\n",
       "<div class=\"wandb-row\"><div class=\"wandb-col\"><h3>Run history:</h3><br/><table class=\"wandb\"><tr><td>accuracy</td><td>▁</td></tr></table><br/></div><div class=\"wandb-col\"><h3>Run summary:</h3><br/><table class=\"wandb\"><tr><td>accuracy</td><td>1.0</td></tr></table><br/></div></div>"
      ],
      "text/plain": [
       "<IPython.core.display.HTML object>"
      ]
     },
     "metadata": {},
     "output_type": "display_data"
    },
    {
     "data": {
      "text/html": [
       " View run <strong style=\"color:#cdcd00\">cosmic-sweep-31</strong> at: <a href='https://wandb.ai/devdchyeon/DLTHON/runs/i59gn91b' target=\"_blank\">https://wandb.ai/devdchyeon/DLTHON/runs/i59gn91b</a><br/>Synced 5 W&B file(s), 0 media file(s), 0 artifact file(s) and 0 other file(s)"
      ],
      "text/plain": [
       "<IPython.core.display.HTML object>"
      ]
     },
     "metadata": {},
     "output_type": "display_data"
    },
    {
     "data": {
      "text/html": [
       "Find logs at: <code>./wandb/run-20240626_131444-i59gn91b/logs</code>"
      ],
      "text/plain": [
       "<IPython.core.display.HTML object>"
      ]
     },
     "metadata": {},
     "output_type": "display_data"
    },
    {
     "name": "stderr",
     "output_type": "stream",
     "text": [
      "\u001b[34m\u001b[1mwandb\u001b[0m: Sweep Agent: Waiting for job.\n",
      "\u001b[34m\u001b[1mwandb\u001b[0m: Job received.\n",
      "\u001b[34m\u001b[1mwandb\u001b[0m: Agent Starting Run: 53qeslyb with config:\n",
      "\u001b[34m\u001b[1mwandb\u001b[0m: \tdim: 100\n",
      "\u001b[34m\u001b[1mwandb\u001b[0m: \tepoch: 70\n",
      "\u001b[34m\u001b[1mwandb\u001b[0m: \tlr: 0.2\n",
      "\u001b[34m\u001b[1mwandb\u001b[0m: \tminCount: 7\n",
      "\u001b[34m\u001b[1mwandb\u001b[0m: \twordNgrams: 4\n",
      "\u001b[34m\u001b[1mwandb\u001b[0m: \u001b[33mWARNING\u001b[0m Ignored wandb.init() arg project when running a sweep.\n"
     ]
    },
    {
     "data": {
      "text/html": [
       "wandb version 0.17.3 is available!  To upgrade, please run:\n",
       " $ pip install wandb --upgrade"
      ],
      "text/plain": [
       "<IPython.core.display.HTML object>"
      ]
     },
     "metadata": {},
     "output_type": "display_data"
    },
    {
     "data": {
      "text/html": [
       "Tracking run with wandb version 0.16.0"
      ],
      "text/plain": [
       "<IPython.core.display.HTML object>"
      ]
     },
     "metadata": {},
     "output_type": "display_data"
    },
    {
     "data": {
      "text/html": [
       "Run data is saved locally in <code>/aiffel/aiffel/workspace/16_dlthon_1/wandb/run-20240626_131537-53qeslyb</code>"
      ],
      "text/plain": [
       "<IPython.core.display.HTML object>"
      ]
     },
     "metadata": {},
     "output_type": "display_data"
    },
    {
     "data": {
      "text/html": [
       "Syncing run <strong><a href='https://wandb.ai/devdchyeon/DLTHON/runs/53qeslyb' target=\"_blank\">sage-sweep-32</a></strong> to <a href='https://wandb.ai/devdchyeon/DLTHON' target=\"_blank\">Weights & Biases</a> (<a href='https://wandb.me/run' target=\"_blank\">docs</a>)<br/>Sweep page: <a href='https://wandb.ai/devdchyeon/DLTHON/sweeps/z3k1w1jj' target=\"_blank\">https://wandb.ai/devdchyeon/DLTHON/sweeps/z3k1w1jj</a>"
      ],
      "text/plain": [
       "<IPython.core.display.HTML object>"
      ]
     },
     "metadata": {},
     "output_type": "display_data"
    },
    {
     "data": {
      "text/html": [
       " View project at <a href='https://wandb.ai/devdchyeon/DLTHON' target=\"_blank\">https://wandb.ai/devdchyeon/DLTHON</a>"
      ],
      "text/plain": [
       "<IPython.core.display.HTML object>"
      ]
     },
     "metadata": {},
     "output_type": "display_data"
    },
    {
     "data": {
      "text/html": [
       " View sweep at <a href='https://wandb.ai/devdchyeon/DLTHON/sweeps/z3k1w1jj' target=\"_blank\">https://wandb.ai/devdchyeon/DLTHON/sweeps/z3k1w1jj</a>"
      ],
      "text/plain": [
       "<IPython.core.display.HTML object>"
      ]
     },
     "metadata": {},
     "output_type": "display_data"
    },
    {
     "data": {
      "text/html": [
       " View run at <a href='https://wandb.ai/devdchyeon/DLTHON/runs/53qeslyb' target=\"_blank\">https://wandb.ai/devdchyeon/DLTHON/runs/53qeslyb</a>"
      ],
      "text/plain": [
       "<IPython.core.display.HTML object>"
      ]
     },
     "metadata": {},
     "output_type": "display_data"
    },
    {
     "name": "stderr",
     "output_type": "stream",
     "text": [
      "Read 0M words\n",
      "Number of words:  5418\n",
      "Number of labels: 5\n",
      "Progress: 100.0% words/sec/thread:  543949 lr:  0.000000 avg.loss:  0.092850 ETA:   0h 0m 0s 80.2% words/sec/thread:  539094 lr:  0.039700 avg.loss:  0.114931 ETA:   0h 0m 3s 0.092850 ETA:   0h 0m 0s\n"
     ]
    },
    {
     "data": {
      "application/vnd.jupyter.widget-view+json": {
       "model_id": "",
       "version_major": 2,
       "version_minor": 0
      },
      "text/plain": [
       "VBox(children=(Label(value='0.008 MB of 0.008 MB uploaded\\r'), FloatProgress(value=1.0, max=1.0)))"
      ]
     },
     "metadata": {},
     "output_type": "display_data"
    },
    {
     "data": {
      "text/html": [
       "<style>\n",
       "    table.wandb td:nth-child(1) { padding: 0 10px; text-align: left ; width: auto;} td:nth-child(2) {text-align: left ; width: 100%}\n",
       "    .wandb-row { display: flex; flex-direction: row; flex-wrap: wrap; justify-content: flex-start; width: 100% }\n",
       "    .wandb-col { display: flex; flex-direction: column; flex-basis: 100%; flex: 1; padding: 10px; }\n",
       "    </style>\n",
       "<div class=\"wandb-row\"><div class=\"wandb-col\"><h3>Run history:</h3><br/><table class=\"wandb\"><tr><td>accuracy</td><td>▁</td></tr></table><br/></div><div class=\"wandb-col\"><h3>Run summary:</h3><br/><table class=\"wandb\"><tr><td>accuracy</td><td>1.0</td></tr></table><br/></div></div>"
      ],
      "text/plain": [
       "<IPython.core.display.HTML object>"
      ]
     },
     "metadata": {},
     "output_type": "display_data"
    },
    {
     "data": {
      "text/html": [
       " View run <strong style=\"color:#cdcd00\">sage-sweep-32</strong> at: <a href='https://wandb.ai/devdchyeon/DLTHON/runs/53qeslyb' target=\"_blank\">https://wandb.ai/devdchyeon/DLTHON/runs/53qeslyb</a><br/>Synced 5 W&B file(s), 0 media file(s), 0 artifact file(s) and 0 other file(s)"
      ],
      "text/plain": [
       "<IPython.core.display.HTML object>"
      ]
     },
     "metadata": {},
     "output_type": "display_data"
    },
    {
     "data": {
      "text/html": [
       "Find logs at: <code>./wandb/run-20240626_131537-53qeslyb/logs</code>"
      ],
      "text/plain": [
       "<IPython.core.display.HTML object>"
      ]
     },
     "metadata": {},
     "output_type": "display_data"
    },
    {
     "name": "stderr",
     "output_type": "stream",
     "text": [
      "\u001b[34m\u001b[1mwandb\u001b[0m: Agent Starting Run: soumje0j with config:\n",
      "\u001b[34m\u001b[1mwandb\u001b[0m: \tdim: 100\n",
      "\u001b[34m\u001b[1mwandb\u001b[0m: \tepoch: 70\n",
      "\u001b[34m\u001b[1mwandb\u001b[0m: \tlr: 0.1\n",
      "\u001b[34m\u001b[1mwandb\u001b[0m: \tminCount: 7\n",
      "\u001b[34m\u001b[1mwandb\u001b[0m: \twordNgrams: 4\n",
      "\u001b[34m\u001b[1mwandb\u001b[0m: \u001b[33mWARNING\u001b[0m Ignored wandb.init() arg project when running a sweep.\n"
     ]
    },
    {
     "data": {
      "text/html": [
       "wandb version 0.17.3 is available!  To upgrade, please run:\n",
       " $ pip install wandb --upgrade"
      ],
      "text/plain": [
       "<IPython.core.display.HTML object>"
      ]
     },
     "metadata": {},
     "output_type": "display_data"
    },
    {
     "data": {
      "text/html": [
       "Tracking run with wandb version 0.16.0"
      ],
      "text/plain": [
       "<IPython.core.display.HTML object>"
      ]
     },
     "metadata": {},
     "output_type": "display_data"
    },
    {
     "data": {
      "text/html": [
       "Run data is saved locally in <code>/aiffel/aiffel/workspace/16_dlthon_1/wandb/run-20240626_131605-soumje0j</code>"
      ],
      "text/plain": [
       "<IPython.core.display.HTML object>"
      ]
     },
     "metadata": {},
     "output_type": "display_data"
    },
    {
     "data": {
      "text/html": [
       "Syncing run <strong><a href='https://wandb.ai/devdchyeon/DLTHON/runs/soumje0j' target=\"_blank\">clear-sweep-33</a></strong> to <a href='https://wandb.ai/devdchyeon/DLTHON' target=\"_blank\">Weights & Biases</a> (<a href='https://wandb.me/run' target=\"_blank\">docs</a>)<br/>Sweep page: <a href='https://wandb.ai/devdchyeon/DLTHON/sweeps/z3k1w1jj' target=\"_blank\">https://wandb.ai/devdchyeon/DLTHON/sweeps/z3k1w1jj</a>"
      ],
      "text/plain": [
       "<IPython.core.display.HTML object>"
      ]
     },
     "metadata": {},
     "output_type": "display_data"
    },
    {
     "data": {
      "text/html": [
       " View project at <a href='https://wandb.ai/devdchyeon/DLTHON' target=\"_blank\">https://wandb.ai/devdchyeon/DLTHON</a>"
      ],
      "text/plain": [
       "<IPython.core.display.HTML object>"
      ]
     },
     "metadata": {},
     "output_type": "display_data"
    },
    {
     "data": {
      "text/html": [
       " View sweep at <a href='https://wandb.ai/devdchyeon/DLTHON/sweeps/z3k1w1jj' target=\"_blank\">https://wandb.ai/devdchyeon/DLTHON/sweeps/z3k1w1jj</a>"
      ],
      "text/plain": [
       "<IPython.core.display.HTML object>"
      ]
     },
     "metadata": {},
     "output_type": "display_data"
    },
    {
     "data": {
      "text/html": [
       " View run at <a href='https://wandb.ai/devdchyeon/DLTHON/runs/soumje0j' target=\"_blank\">https://wandb.ai/devdchyeon/DLTHON/runs/soumje0j</a>"
      ],
      "text/plain": [
       "<IPython.core.display.HTML object>"
      ]
     },
     "metadata": {},
     "output_type": "display_data"
    },
    {
     "name": "stderr",
     "output_type": "stream",
     "text": [
      "Read 0M words\n",
      "Number of words:  5418\n",
      "Number of labels: 5\n",
      "Progress: 100.0% words/sec/thread:  524062 lr:  0.000000 avg.loss:  0.180337 ETA:   0h 0m 0s words/sec/thread:  523348 lr:  0.010124 avg.loss:  0.199102 ETA:   0h 0m 1s\n"
     ]
    },
    {
     "data": {
      "application/vnd.jupyter.widget-view+json": {
       "model_id": "",
       "version_major": 2,
       "version_minor": 0
      },
      "text/plain": [
       "VBox(children=(Label(value='0.002 MB of 0.008 MB uploaded\\r'), FloatProgress(value=0.18592790077663152, max=1.…"
      ]
     },
     "metadata": {},
     "output_type": "display_data"
    },
    {
     "data": {
      "text/html": [
       "<style>\n",
       "    table.wandb td:nth-child(1) { padding: 0 10px; text-align: left ; width: auto;} td:nth-child(2) {text-align: left ; width: 100%}\n",
       "    .wandb-row { display: flex; flex-direction: row; flex-wrap: wrap; justify-content: flex-start; width: 100% }\n",
       "    .wandb-col { display: flex; flex-direction: column; flex-basis: 100%; flex: 1; padding: 10px; }\n",
       "    </style>\n",
       "<div class=\"wandb-row\"><div class=\"wandb-col\"><h3>Run history:</h3><br/><table class=\"wandb\"><tr><td>accuracy</td><td>▁</td></tr></table><br/></div><div class=\"wandb-col\"><h3>Run summary:</h3><br/><table class=\"wandb\"><tr><td>accuracy</td><td>1.0</td></tr></table><br/></div></div>"
      ],
      "text/plain": [
       "<IPython.core.display.HTML object>"
      ]
     },
     "metadata": {},
     "output_type": "display_data"
    },
    {
     "data": {
      "text/html": [
       " View run <strong style=\"color:#cdcd00\">clear-sweep-33</strong> at: <a href='https://wandb.ai/devdchyeon/DLTHON/runs/soumje0j' target=\"_blank\">https://wandb.ai/devdchyeon/DLTHON/runs/soumje0j</a><br/>Synced 5 W&B file(s), 0 media file(s), 0 artifact file(s) and 0 other file(s)"
      ],
      "text/plain": [
       "<IPython.core.display.HTML object>"
      ]
     },
     "metadata": {},
     "output_type": "display_data"
    },
    {
     "data": {
      "text/html": [
       "Find logs at: <code>./wandb/run-20240626_131605-soumje0j/logs</code>"
      ],
      "text/plain": [
       "<IPython.core.display.HTML object>"
      ]
     },
     "metadata": {},
     "output_type": "display_data"
    },
    {
     "name": "stderr",
     "output_type": "stream",
     "text": [
      "\u001b[34m\u001b[1mwandb\u001b[0m: Agent Starting Run: b5t72qko with config:\n",
      "\u001b[34m\u001b[1mwandb\u001b[0m: \tdim: 100\n",
      "\u001b[34m\u001b[1mwandb\u001b[0m: \tepoch: 70\n",
      "\u001b[34m\u001b[1mwandb\u001b[0m: \tlr: 0.2\n",
      "\u001b[34m\u001b[1mwandb\u001b[0m: \tminCount: 7\n",
      "\u001b[34m\u001b[1mwandb\u001b[0m: \twordNgrams: 3\n",
      "\u001b[34m\u001b[1mwandb\u001b[0m: \u001b[33mWARNING\u001b[0m Ignored wandb.init() arg project when running a sweep.\n"
     ]
    },
    {
     "data": {
      "text/html": [
       "wandb version 0.17.3 is available!  To upgrade, please run:\n",
       " $ pip install wandb --upgrade"
      ],
      "text/plain": [
       "<IPython.core.display.HTML object>"
      ]
     },
     "metadata": {},
     "output_type": "display_data"
    },
    {
     "data": {
      "text/html": [
       "Tracking run with wandb version 0.16.0"
      ],
      "text/plain": [
       "<IPython.core.display.HTML object>"
      ]
     },
     "metadata": {},
     "output_type": "display_data"
    },
    {
     "data": {
      "text/html": [
       "Run data is saved locally in <code>/aiffel/aiffel/workspace/16_dlthon_1/wandb/run-20240626_131635-b5t72qko</code>"
      ],
      "text/plain": [
       "<IPython.core.display.HTML object>"
      ]
     },
     "metadata": {},
     "output_type": "display_data"
    },
    {
     "data": {
      "text/html": [
       "Syncing run <strong><a href='https://wandb.ai/devdchyeon/DLTHON/runs/b5t72qko' target=\"_blank\">rural-sweep-34</a></strong> to <a href='https://wandb.ai/devdchyeon/DLTHON' target=\"_blank\">Weights & Biases</a> (<a href='https://wandb.me/run' target=\"_blank\">docs</a>)<br/>Sweep page: <a href='https://wandb.ai/devdchyeon/DLTHON/sweeps/z3k1w1jj' target=\"_blank\">https://wandb.ai/devdchyeon/DLTHON/sweeps/z3k1w1jj</a>"
      ],
      "text/plain": [
       "<IPython.core.display.HTML object>"
      ]
     },
     "metadata": {},
     "output_type": "display_data"
    },
    {
     "data": {
      "text/html": [
       " View project at <a href='https://wandb.ai/devdchyeon/DLTHON' target=\"_blank\">https://wandb.ai/devdchyeon/DLTHON</a>"
      ],
      "text/plain": [
       "<IPython.core.display.HTML object>"
      ]
     },
     "metadata": {},
     "output_type": "display_data"
    },
    {
     "data": {
      "text/html": [
       " View sweep at <a href='https://wandb.ai/devdchyeon/DLTHON/sweeps/z3k1w1jj' target=\"_blank\">https://wandb.ai/devdchyeon/DLTHON/sweeps/z3k1w1jj</a>"
      ],
      "text/plain": [
       "<IPython.core.display.HTML object>"
      ]
     },
     "metadata": {},
     "output_type": "display_data"
    },
    {
     "data": {
      "text/html": [
       " View run at <a href='https://wandb.ai/devdchyeon/DLTHON/runs/b5t72qko' target=\"_blank\">https://wandb.ai/devdchyeon/DLTHON/runs/b5t72qko</a>"
      ],
      "text/plain": [
       "<IPython.core.display.HTML object>"
      ]
     },
     "metadata": {},
     "output_type": "display_data"
    },
    {
     "name": "stderr",
     "output_type": "stream",
     "text": [
      "Read 0M words\n",
      "Number of words:  5418\n",
      "Number of labels: 5\n",
      "Progress: 100.0% words/sec/thread:  716426 lr:  0.000000 avg.loss:  0.080179 ETA:   0h 0m 0s  0.5% words/sec/thread:   86595 lr:  0.198957 avg.loss:  1.612614 ETA:   0h 1m54s\n"
     ]
    },
    {
     "data": {
      "application/vnd.jupyter.widget-view+json": {
       "model_id": "",
       "version_major": 2,
       "version_minor": 0
      },
      "text/plain": [
       "VBox(children=(Label(value='0.002 MB of 0.002 MB uploaded\\r'), FloatProgress(value=1.0, max=1.0)))"
      ]
     },
     "metadata": {},
     "output_type": "display_data"
    },
    {
     "data": {
      "text/html": [
       "<style>\n",
       "    table.wandb td:nth-child(1) { padding: 0 10px; text-align: left ; width: auto;} td:nth-child(2) {text-align: left ; width: 100%}\n",
       "    .wandb-row { display: flex; flex-direction: row; flex-wrap: wrap; justify-content: flex-start; width: 100% }\n",
       "    .wandb-col { display: flex; flex-direction: column; flex-basis: 100%; flex: 1; padding: 10px; }\n",
       "    </style>\n",
       "<div class=\"wandb-row\"><div class=\"wandb-col\"><h3>Run history:</h3><br/><table class=\"wandb\"><tr><td>accuracy</td><td>▁</td></tr></table><br/></div><div class=\"wandb-col\"><h3>Run summary:</h3><br/><table class=\"wandb\"><tr><td>accuracy</td><td>1.0</td></tr></table><br/></div></div>"
      ],
      "text/plain": [
       "<IPython.core.display.HTML object>"
      ]
     },
     "metadata": {},
     "output_type": "display_data"
    },
    {
     "data": {
      "text/html": [
       " View run <strong style=\"color:#cdcd00\">rural-sweep-34</strong> at: <a href='https://wandb.ai/devdchyeon/DLTHON/runs/b5t72qko' target=\"_blank\">https://wandb.ai/devdchyeon/DLTHON/runs/b5t72qko</a><br/>Synced 5 W&B file(s), 0 media file(s), 0 artifact file(s) and 0 other file(s)"
      ],
      "text/plain": [
       "<IPython.core.display.HTML object>"
      ]
     },
     "metadata": {},
     "output_type": "display_data"
    },
    {
     "data": {
      "text/html": [
       "Find logs at: <code>./wandb/run-20240626_131635-b5t72qko/logs</code>"
      ],
      "text/plain": [
       "<IPython.core.display.HTML object>"
      ]
     },
     "metadata": {},
     "output_type": "display_data"
    },
    {
     "name": "stderr",
     "output_type": "stream",
     "text": [
      "\u001b[34m\u001b[1mwandb\u001b[0m: Agent Starting Run: aib49nz6 with config:\n",
      "\u001b[34m\u001b[1mwandb\u001b[0m: \tdim: 150\n",
      "\u001b[34m\u001b[1mwandb\u001b[0m: \tepoch: 100\n",
      "\u001b[34m\u001b[1mwandb\u001b[0m: \tlr: 0.1\n",
      "\u001b[34m\u001b[1mwandb\u001b[0m: \tminCount: 7\n",
      "\u001b[34m\u001b[1mwandb\u001b[0m: \twordNgrams: 4\n",
      "\u001b[34m\u001b[1mwandb\u001b[0m: \u001b[33mWARNING\u001b[0m Ignored wandb.init() arg project when running a sweep.\n"
     ]
    },
    {
     "data": {
      "text/html": [
       "wandb version 0.17.3 is available!  To upgrade, please run:\n",
       " $ pip install wandb --upgrade"
      ],
      "text/plain": [
       "<IPython.core.display.HTML object>"
      ]
     },
     "metadata": {},
     "output_type": "display_data"
    },
    {
     "data": {
      "text/html": [
       "Tracking run with wandb version 0.16.0"
      ],
      "text/plain": [
       "<IPython.core.display.HTML object>"
      ]
     },
     "metadata": {},
     "output_type": "display_data"
    },
    {
     "data": {
      "text/html": [
       "Run data is saved locally in <code>/aiffel/aiffel/workspace/16_dlthon_1/wandb/run-20240626_131702-aib49nz6</code>"
      ],
      "text/plain": [
       "<IPython.core.display.HTML object>"
      ]
     },
     "metadata": {},
     "output_type": "display_data"
    },
    {
     "data": {
      "text/html": [
       "Syncing run <strong><a href='https://wandb.ai/devdchyeon/DLTHON/runs/aib49nz6' target=\"_blank\">confused-sweep-35</a></strong> to <a href='https://wandb.ai/devdchyeon/DLTHON' target=\"_blank\">Weights & Biases</a> (<a href='https://wandb.me/run' target=\"_blank\">docs</a>)<br/>Sweep page: <a href='https://wandb.ai/devdchyeon/DLTHON/sweeps/z3k1w1jj' target=\"_blank\">https://wandb.ai/devdchyeon/DLTHON/sweeps/z3k1w1jj</a>"
      ],
      "text/plain": [
       "<IPython.core.display.HTML object>"
      ]
     },
     "metadata": {},
     "output_type": "display_data"
    },
    {
     "data": {
      "text/html": [
       " View project at <a href='https://wandb.ai/devdchyeon/DLTHON' target=\"_blank\">https://wandb.ai/devdchyeon/DLTHON</a>"
      ],
      "text/plain": [
       "<IPython.core.display.HTML object>"
      ]
     },
     "metadata": {},
     "output_type": "display_data"
    },
    {
     "data": {
      "text/html": [
       " View sweep at <a href='https://wandb.ai/devdchyeon/DLTHON/sweeps/z3k1w1jj' target=\"_blank\">https://wandb.ai/devdchyeon/DLTHON/sweeps/z3k1w1jj</a>"
      ],
      "text/plain": [
       "<IPython.core.display.HTML object>"
      ]
     },
     "metadata": {},
     "output_type": "display_data"
    },
    {
     "data": {
      "text/html": [
       " View run at <a href='https://wandb.ai/devdchyeon/DLTHON/runs/aib49nz6' target=\"_blank\">https://wandb.ai/devdchyeon/DLTHON/runs/aib49nz6</a>"
      ],
      "text/plain": [
       "<IPython.core.display.HTML object>"
      ]
     },
     "metadata": {},
     "output_type": "display_data"
    },
    {
     "name": "stderr",
     "output_type": "stream",
     "text": [
      "Read 0M words\n",
      "Number of words:  5418\n",
      "Number of labels: 5\n",
      "Progress: 100.0% words/sec/thread:  389338 lr:  0.000000 avg.loss:  0.134816 ETA:   0h 0m 0s 23.8% words/sec/thread:  379736 lr:  0.076211 avg.loss:  0.476521 ETA:   0h 0m28s% words/sec/thread:  385084 lr:  0.072899 avg.loss:  0.427940 ETA:   0h 0m26s 29.5% words/sec/thread:  387972 lr:  0.070514 avg.loss:  0.396017 ETA:   0h 0m25s\n"
     ]
    },
    {
     "data": {
      "application/vnd.jupyter.widget-view+json": {
       "model_id": "",
       "version_major": 2,
       "version_minor": 0
      },
      "text/plain": [
       "VBox(children=(Label(value='0.002 MB of 0.008 MB uploaded\\r'), FloatProgress(value=0.18581198562652138, max=1.…"
      ]
     },
     "metadata": {},
     "output_type": "display_data"
    },
    {
     "data": {
      "text/html": [
       "<style>\n",
       "    table.wandb td:nth-child(1) { padding: 0 10px; text-align: left ; width: auto;} td:nth-child(2) {text-align: left ; width: 100%}\n",
       "    .wandb-row { display: flex; flex-direction: row; flex-wrap: wrap; justify-content: flex-start; width: 100% }\n",
       "    .wandb-col { display: flex; flex-direction: column; flex-basis: 100%; flex: 1; padding: 10px; }\n",
       "    </style>\n",
       "<div class=\"wandb-row\"><div class=\"wandb-col\"><h3>Run history:</h3><br/><table class=\"wandb\"><tr><td>accuracy</td><td>▁</td></tr></table><br/></div><div class=\"wandb-col\"><h3>Run summary:</h3><br/><table class=\"wandb\"><tr><td>accuracy</td><td>1.0</td></tr></table><br/></div></div>"
      ],
      "text/plain": [
       "<IPython.core.display.HTML object>"
      ]
     },
     "metadata": {},
     "output_type": "display_data"
    },
    {
     "data": {
      "text/html": [
       " View run <strong style=\"color:#cdcd00\">confused-sweep-35</strong> at: <a href='https://wandb.ai/devdchyeon/DLTHON/runs/aib49nz6' target=\"_blank\">https://wandb.ai/devdchyeon/DLTHON/runs/aib49nz6</a><br/>Synced 5 W&B file(s), 0 media file(s), 0 artifact file(s) and 0 other file(s)"
      ],
      "text/plain": [
       "<IPython.core.display.HTML object>"
      ]
     },
     "metadata": {},
     "output_type": "display_data"
    },
    {
     "data": {
      "text/html": [
       "Find logs at: <code>./wandb/run-20240626_131702-aib49nz6/logs</code>"
      ],
      "text/plain": [
       "<IPython.core.display.HTML object>"
      ]
     },
     "metadata": {},
     "output_type": "display_data"
    },
    {
     "name": "stderr",
     "output_type": "stream",
     "text": [
      "\u001b[34m\u001b[1mwandb\u001b[0m: Agent Starting Run: 3fwe94x0 with config:\n",
      "\u001b[34m\u001b[1mwandb\u001b[0m: \tdim: 150\n",
      "\u001b[34m\u001b[1mwandb\u001b[0m: \tepoch: 100\n",
      "\u001b[34m\u001b[1mwandb\u001b[0m: \tlr: 0.1\n",
      "\u001b[34m\u001b[1mwandb\u001b[0m: \tminCount: 7\n",
      "\u001b[34m\u001b[1mwandb\u001b[0m: \twordNgrams: 4\n",
      "\u001b[34m\u001b[1mwandb\u001b[0m: \u001b[33mWARNING\u001b[0m Ignored wandb.init() arg project when running a sweep.\n"
     ]
    },
    {
     "data": {
      "text/html": [
       "wandb version 0.17.3 is available!  To upgrade, please run:\n",
       " $ pip install wandb --upgrade"
      ],
      "text/plain": [
       "<IPython.core.display.HTML object>"
      ]
     },
     "metadata": {},
     "output_type": "display_data"
    },
    {
     "data": {
      "text/html": [
       "Tracking run with wandb version 0.16.0"
      ],
      "text/plain": [
       "<IPython.core.display.HTML object>"
      ]
     },
     "metadata": {},
     "output_type": "display_data"
    },
    {
     "data": {
      "text/html": [
       "Run data is saved locally in <code>/aiffel/aiffel/workspace/16_dlthon_1/wandb/run-20240626_131750-3fwe94x0</code>"
      ],
      "text/plain": [
       "<IPython.core.display.HTML object>"
      ]
     },
     "metadata": {},
     "output_type": "display_data"
    },
    {
     "data": {
      "text/html": [
       "Syncing run <strong><a href='https://wandb.ai/devdchyeon/DLTHON/runs/3fwe94x0' target=\"_blank\">vital-sweep-36</a></strong> to <a href='https://wandb.ai/devdchyeon/DLTHON' target=\"_blank\">Weights & Biases</a> (<a href='https://wandb.me/run' target=\"_blank\">docs</a>)<br/>Sweep page: <a href='https://wandb.ai/devdchyeon/DLTHON/sweeps/z3k1w1jj' target=\"_blank\">https://wandb.ai/devdchyeon/DLTHON/sweeps/z3k1w1jj</a>"
      ],
      "text/plain": [
       "<IPython.core.display.HTML object>"
      ]
     },
     "metadata": {},
     "output_type": "display_data"
    },
    {
     "data": {
      "text/html": [
       " View project at <a href='https://wandb.ai/devdchyeon/DLTHON' target=\"_blank\">https://wandb.ai/devdchyeon/DLTHON</a>"
      ],
      "text/plain": [
       "<IPython.core.display.HTML object>"
      ]
     },
     "metadata": {},
     "output_type": "display_data"
    },
    {
     "data": {
      "text/html": [
       " View sweep at <a href='https://wandb.ai/devdchyeon/DLTHON/sweeps/z3k1w1jj' target=\"_blank\">https://wandb.ai/devdchyeon/DLTHON/sweeps/z3k1w1jj</a>"
      ],
      "text/plain": [
       "<IPython.core.display.HTML object>"
      ]
     },
     "metadata": {},
     "output_type": "display_data"
    },
    {
     "data": {
      "text/html": [
       " View run at <a href='https://wandb.ai/devdchyeon/DLTHON/runs/3fwe94x0' target=\"_blank\">https://wandb.ai/devdchyeon/DLTHON/runs/3fwe94x0</a>"
      ],
      "text/plain": [
       "<IPython.core.display.HTML object>"
      ]
     },
     "metadata": {},
     "output_type": "display_data"
    },
    {
     "name": "stderr",
     "output_type": "stream",
     "text": [
      "Read 0M words\n",
      "Number of words:  5418\n",
      "Number of labels: 5\n",
      "Progress: 100.0% words/sec/thread:  353265 lr:  0.000000 avg.loss:  0.125335 ETA:   0h 0m 0s 52.1% words/sec/thread:  337899 lr:  0.047877 avg.loss:  0.222835 ETA:   0h 0m20s\n"
     ]
    },
    {
     "data": {
      "application/vnd.jupyter.widget-view+json": {
       "model_id": "",
       "version_major": 2,
       "version_minor": 0
      },
      "text/plain": [
       "VBox(children=(Label(value='0.002 MB of 0.002 MB uploaded\\r'), FloatProgress(value=1.0, max=1.0)))"
      ]
     },
     "metadata": {},
     "output_type": "display_data"
    },
    {
     "data": {
      "text/html": [
       "<style>\n",
       "    table.wandb td:nth-child(1) { padding: 0 10px; text-align: left ; width: auto;} td:nth-child(2) {text-align: left ; width: 100%}\n",
       "    .wandb-row { display: flex; flex-direction: row; flex-wrap: wrap; justify-content: flex-start; width: 100% }\n",
       "    .wandb-col { display: flex; flex-direction: column; flex-basis: 100%; flex: 1; padding: 10px; }\n",
       "    </style>\n",
       "<div class=\"wandb-row\"><div class=\"wandb-col\"><h3>Run history:</h3><br/><table class=\"wandb\"><tr><td>accuracy</td><td>▁</td></tr></table><br/></div><div class=\"wandb-col\"><h3>Run summary:</h3><br/><table class=\"wandb\"><tr><td>accuracy</td><td>1.0</td></tr></table><br/></div></div>"
      ],
      "text/plain": [
       "<IPython.core.display.HTML object>"
      ]
     },
     "metadata": {},
     "output_type": "display_data"
    },
    {
     "data": {
      "text/html": [
       " View run <strong style=\"color:#cdcd00\">vital-sweep-36</strong> at: <a href='https://wandb.ai/devdchyeon/DLTHON/runs/3fwe94x0' target=\"_blank\">https://wandb.ai/devdchyeon/DLTHON/runs/3fwe94x0</a><br/>Synced 5 W&B file(s), 0 media file(s), 0 artifact file(s) and 0 other file(s)"
      ],
      "text/plain": [
       "<IPython.core.display.HTML object>"
      ]
     },
     "metadata": {},
     "output_type": "display_data"
    },
    {
     "data": {
      "text/html": [
       "Find logs at: <code>./wandb/run-20240626_131750-3fwe94x0/logs</code>"
      ],
      "text/plain": [
       "<IPython.core.display.HTML object>"
      ]
     },
     "metadata": {},
     "output_type": "display_data"
    },
    {
     "name": "stderr",
     "output_type": "stream",
     "text": [
      "\u001b[34m\u001b[1mwandb\u001b[0m: Agent Starting Run: q66cmeda with config:\n",
      "\u001b[34m\u001b[1mwandb\u001b[0m: \tdim: 100\n",
      "\u001b[34m\u001b[1mwandb\u001b[0m: \tepoch: 70\n",
      "\u001b[34m\u001b[1mwandb\u001b[0m: \tlr: 0.1\n",
      "\u001b[34m\u001b[1mwandb\u001b[0m: \tminCount: 7\n",
      "\u001b[34m\u001b[1mwandb\u001b[0m: \twordNgrams: 4\n",
      "\u001b[34m\u001b[1mwandb\u001b[0m: \u001b[33mWARNING\u001b[0m Ignored wandb.init() arg project when running a sweep.\n"
     ]
    },
    {
     "data": {
      "text/html": [
       "wandb version 0.17.3 is available!  To upgrade, please run:\n",
       " $ pip install wandb --upgrade"
      ],
      "text/plain": [
       "<IPython.core.display.HTML object>"
      ]
     },
     "metadata": {},
     "output_type": "display_data"
    },
    {
     "data": {
      "text/html": [
       "Tracking run with wandb version 0.16.0"
      ],
      "text/plain": [
       "<IPython.core.display.HTML object>"
      ]
     },
     "metadata": {},
     "output_type": "display_data"
    },
    {
     "data": {
      "text/html": [
       "Run data is saved locally in <code>/aiffel/aiffel/workspace/16_dlthon_1/wandb/run-20240626_131841-q66cmeda</code>"
      ],
      "text/plain": [
       "<IPython.core.display.HTML object>"
      ]
     },
     "metadata": {},
     "output_type": "display_data"
    },
    {
     "data": {
      "text/html": [
       "Syncing run <strong><a href='https://wandb.ai/devdchyeon/DLTHON/runs/q66cmeda' target=\"_blank\">confused-sweep-37</a></strong> to <a href='https://wandb.ai/devdchyeon/DLTHON' target=\"_blank\">Weights & Biases</a> (<a href='https://wandb.me/run' target=\"_blank\">docs</a>)<br/>Sweep page: <a href='https://wandb.ai/devdchyeon/DLTHON/sweeps/z3k1w1jj' target=\"_blank\">https://wandb.ai/devdchyeon/DLTHON/sweeps/z3k1w1jj</a>"
      ],
      "text/plain": [
       "<IPython.core.display.HTML object>"
      ]
     },
     "metadata": {},
     "output_type": "display_data"
    },
    {
     "data": {
      "text/html": [
       " View project at <a href='https://wandb.ai/devdchyeon/DLTHON' target=\"_blank\">https://wandb.ai/devdchyeon/DLTHON</a>"
      ],
      "text/plain": [
       "<IPython.core.display.HTML object>"
      ]
     },
     "metadata": {},
     "output_type": "display_data"
    },
    {
     "data": {
      "text/html": [
       " View sweep at <a href='https://wandb.ai/devdchyeon/DLTHON/sweeps/z3k1w1jj' target=\"_blank\">https://wandb.ai/devdchyeon/DLTHON/sweeps/z3k1w1jj</a>"
      ],
      "text/plain": [
       "<IPython.core.display.HTML object>"
      ]
     },
     "metadata": {},
     "output_type": "display_data"
    },
    {
     "data": {
      "text/html": [
       " View run at <a href='https://wandb.ai/devdchyeon/DLTHON/runs/q66cmeda' target=\"_blank\">https://wandb.ai/devdchyeon/DLTHON/runs/q66cmeda</a>"
      ],
      "text/plain": [
       "<IPython.core.display.HTML object>"
      ]
     },
     "metadata": {},
     "output_type": "display_data"
    },
    {
     "name": "stderr",
     "output_type": "stream",
     "text": [
      "Read 0M words\n",
      "Number of words:  5418\n",
      "Number of labels: 5\n",
      "Progress: 100.0% words/sec/thread:  454446 lr:  0.000000 avg.loss:  0.173159 ETA:   0h 0m 0s 80.9% words/sec/thread:  437683 lr:  0.019088 avg.loss:  0.210227 ETA:   0h 0m 4s\n"
     ]
    },
    {
     "data": {
      "application/vnd.jupyter.widget-view+json": {
       "model_id": "",
       "version_major": 2,
       "version_minor": 0
      },
      "text/plain": [
       "VBox(children=(Label(value='0.002 MB of 0.002 MB uploaded\\r'), FloatProgress(value=1.0, max=1.0)))"
      ]
     },
     "metadata": {},
     "output_type": "display_data"
    },
    {
     "data": {
      "text/html": [
       "<style>\n",
       "    table.wandb td:nth-child(1) { padding: 0 10px; text-align: left ; width: auto;} td:nth-child(2) {text-align: left ; width: 100%}\n",
       "    .wandb-row { display: flex; flex-direction: row; flex-wrap: wrap; justify-content: flex-start; width: 100% }\n",
       "    .wandb-col { display: flex; flex-direction: column; flex-basis: 100%; flex: 1; padding: 10px; }\n",
       "    </style>\n",
       "<div class=\"wandb-row\"><div class=\"wandb-col\"><h3>Run history:</h3><br/><table class=\"wandb\"><tr><td>accuracy</td><td>▁</td></tr></table><br/></div><div class=\"wandb-col\"><h3>Run summary:</h3><br/><table class=\"wandb\"><tr><td>accuracy</td><td>1.0</td></tr></table><br/></div></div>"
      ],
      "text/plain": [
       "<IPython.core.display.HTML object>"
      ]
     },
     "metadata": {},
     "output_type": "display_data"
    },
    {
     "data": {
      "text/html": [
       " View run <strong style=\"color:#cdcd00\">confused-sweep-37</strong> at: <a href='https://wandb.ai/devdchyeon/DLTHON/runs/q66cmeda' target=\"_blank\">https://wandb.ai/devdchyeon/DLTHON/runs/q66cmeda</a><br/>Synced 5 W&B file(s), 0 media file(s), 0 artifact file(s) and 0 other file(s)"
      ],
      "text/plain": [
       "<IPython.core.display.HTML object>"
      ]
     },
     "metadata": {},
     "output_type": "display_data"
    },
    {
     "data": {
      "text/html": [
       "Find logs at: <code>./wandb/run-20240626_131841-q66cmeda/logs</code>"
      ],
      "text/plain": [
       "<IPython.core.display.HTML object>"
      ]
     },
     "metadata": {},
     "output_type": "display_data"
    },
    {
     "name": "stderr",
     "output_type": "stream",
     "text": [
      "\u001b[34m\u001b[1mwandb\u001b[0m: Agent Starting Run: saxn1vti with config:\n",
      "\u001b[34m\u001b[1mwandb\u001b[0m: \tdim: 100\n",
      "\u001b[34m\u001b[1mwandb\u001b[0m: \tepoch: 70\n",
      "\u001b[34m\u001b[1mwandb\u001b[0m: \tlr: 0.1\n",
      "\u001b[34m\u001b[1mwandb\u001b[0m: \tminCount: 7\n",
      "\u001b[34m\u001b[1mwandb\u001b[0m: \twordNgrams: 4\n",
      "\u001b[34m\u001b[1mwandb\u001b[0m: \u001b[33mWARNING\u001b[0m Ignored wandb.init() arg project when running a sweep.\n"
     ]
    },
    {
     "data": {
      "text/html": [
       "wandb version 0.17.3 is available!  To upgrade, please run:\n",
       " $ pip install wandb --upgrade"
      ],
      "text/plain": [
       "<IPython.core.display.HTML object>"
      ]
     },
     "metadata": {},
     "output_type": "display_data"
    },
    {
     "data": {
      "text/html": [
       "Tracking run with wandb version 0.16.0"
      ],
      "text/plain": [
       "<IPython.core.display.HTML object>"
      ]
     },
     "metadata": {},
     "output_type": "display_data"
    },
    {
     "data": {
      "text/html": [
       "Run data is saved locally in <code>/aiffel/aiffel/workspace/16_dlthon_1/wandb/run-20240626_131912-saxn1vti</code>"
      ],
      "text/plain": [
       "<IPython.core.display.HTML object>"
      ]
     },
     "metadata": {},
     "output_type": "display_data"
    },
    {
     "data": {
      "text/html": [
       "Syncing run <strong><a href='https://wandb.ai/devdchyeon/DLTHON/runs/saxn1vti' target=\"_blank\">polar-sweep-38</a></strong> to <a href='https://wandb.ai/devdchyeon/DLTHON' target=\"_blank\">Weights & Biases</a> (<a href='https://wandb.me/run' target=\"_blank\">docs</a>)<br/>Sweep page: <a href='https://wandb.ai/devdchyeon/DLTHON/sweeps/z3k1w1jj' target=\"_blank\">https://wandb.ai/devdchyeon/DLTHON/sweeps/z3k1w1jj</a>"
      ],
      "text/plain": [
       "<IPython.core.display.HTML object>"
      ]
     },
     "metadata": {},
     "output_type": "display_data"
    },
    {
     "data": {
      "text/html": [
       " View project at <a href='https://wandb.ai/devdchyeon/DLTHON' target=\"_blank\">https://wandb.ai/devdchyeon/DLTHON</a>"
      ],
      "text/plain": [
       "<IPython.core.display.HTML object>"
      ]
     },
     "metadata": {},
     "output_type": "display_data"
    },
    {
     "data": {
      "text/html": [
       " View sweep at <a href='https://wandb.ai/devdchyeon/DLTHON/sweeps/z3k1w1jj' target=\"_blank\">https://wandb.ai/devdchyeon/DLTHON/sweeps/z3k1w1jj</a>"
      ],
      "text/plain": [
       "<IPython.core.display.HTML object>"
      ]
     },
     "metadata": {},
     "output_type": "display_data"
    },
    {
     "data": {
      "text/html": [
       " View run at <a href='https://wandb.ai/devdchyeon/DLTHON/runs/saxn1vti' target=\"_blank\">https://wandb.ai/devdchyeon/DLTHON/runs/saxn1vti</a>"
      ],
      "text/plain": [
       "<IPython.core.display.HTML object>"
      ]
     },
     "metadata": {},
     "output_type": "display_data"
    },
    {
     "name": "stderr",
     "output_type": "stream",
     "text": [
      "Read 0M words\n",
      "Number of words:  5418\n",
      "Number of labels: 5\n",
      "Progress: 100.0% words/sec/thread:  450246 lr:  0.000000 avg.loss:  0.172294 ETA:   0h 0m 0s 62.7% words/sec/thread:  519867 lr:  0.037290 avg.loss:  0.277985 ETA:   0h 0m 7s\n"
     ]
    },
    {
     "data": {
      "application/vnd.jupyter.widget-view+json": {
       "model_id": "",
       "version_major": 2,
       "version_minor": 0
      },
      "text/plain": [
       "VBox(children=(Label(value='0.002 MB of 0.002 MB uploaded\\r'), FloatProgress(value=1.0, max=1.0)))"
      ]
     },
     "metadata": {},
     "output_type": "display_data"
    },
    {
     "data": {
      "text/html": [
       "<style>\n",
       "    table.wandb td:nth-child(1) { padding: 0 10px; text-align: left ; width: auto;} td:nth-child(2) {text-align: left ; width: 100%}\n",
       "    .wandb-row { display: flex; flex-direction: row; flex-wrap: wrap; justify-content: flex-start; width: 100% }\n",
       "    .wandb-col { display: flex; flex-direction: column; flex-basis: 100%; flex: 1; padding: 10px; }\n",
       "    </style>\n",
       "<div class=\"wandb-row\"><div class=\"wandb-col\"><h3>Run history:</h3><br/><table class=\"wandb\"><tr><td>accuracy</td><td>▁</td></tr></table><br/></div><div class=\"wandb-col\"><h3>Run summary:</h3><br/><table class=\"wandb\"><tr><td>accuracy</td><td>1.0</td></tr></table><br/></div></div>"
      ],
      "text/plain": [
       "<IPython.core.display.HTML object>"
      ]
     },
     "metadata": {},
     "output_type": "display_data"
    },
    {
     "data": {
      "text/html": [
       " View run <strong style=\"color:#cdcd00\">polar-sweep-38</strong> at: <a href='https://wandb.ai/devdchyeon/DLTHON/runs/saxn1vti' target=\"_blank\">https://wandb.ai/devdchyeon/DLTHON/runs/saxn1vti</a><br/>Synced 5 W&B file(s), 0 media file(s), 0 artifact file(s) and 0 other file(s)"
      ],
      "text/plain": [
       "<IPython.core.display.HTML object>"
      ]
     },
     "metadata": {},
     "output_type": "display_data"
    },
    {
     "data": {
      "text/html": [
       "Find logs at: <code>./wandb/run-20240626_131912-saxn1vti/logs</code>"
      ],
      "text/plain": [
       "<IPython.core.display.HTML object>"
      ]
     },
     "metadata": {},
     "output_type": "display_data"
    },
    {
     "name": "stderr",
     "output_type": "stream",
     "text": [
      "\u001b[34m\u001b[1mwandb\u001b[0m: Agent Starting Run: bpijg1j0 with config:\n",
      "\u001b[34m\u001b[1mwandb\u001b[0m: \tdim: 150\n",
      "\u001b[34m\u001b[1mwandb\u001b[0m: \tepoch: 70\n",
      "\u001b[34m\u001b[1mwandb\u001b[0m: \tlr: 0.1\n",
      "\u001b[34m\u001b[1mwandb\u001b[0m: \tminCount: 7\n",
      "\u001b[34m\u001b[1mwandb\u001b[0m: \twordNgrams: 4\n",
      "\u001b[34m\u001b[1mwandb\u001b[0m: \u001b[33mWARNING\u001b[0m Ignored wandb.init() arg project when running a sweep.\n"
     ]
    },
    {
     "data": {
      "text/html": [
       "wandb version 0.17.3 is available!  To upgrade, please run:\n",
       " $ pip install wandb --upgrade"
      ],
      "text/plain": [
       "<IPython.core.display.HTML object>"
      ]
     },
     "metadata": {},
     "output_type": "display_data"
    },
    {
     "data": {
      "text/html": [
       "Tracking run with wandb version 0.16.0"
      ],
      "text/plain": [
       "<IPython.core.display.HTML object>"
      ]
     },
     "metadata": {},
     "output_type": "display_data"
    },
    {
     "data": {
      "text/html": [
       "Run data is saved locally in <code>/aiffel/aiffel/workspace/16_dlthon_1/wandb/run-20240626_131944-bpijg1j0</code>"
      ],
      "text/plain": [
       "<IPython.core.display.HTML object>"
      ]
     },
     "metadata": {},
     "output_type": "display_data"
    },
    {
     "data": {
      "text/html": [
       "Syncing run <strong><a href='https://wandb.ai/devdchyeon/DLTHON/runs/bpijg1j0' target=\"_blank\">jumping-sweep-39</a></strong> to <a href='https://wandb.ai/devdchyeon/DLTHON' target=\"_blank\">Weights & Biases</a> (<a href='https://wandb.me/run' target=\"_blank\">docs</a>)<br/>Sweep page: <a href='https://wandb.ai/devdchyeon/DLTHON/sweeps/z3k1w1jj' target=\"_blank\">https://wandb.ai/devdchyeon/DLTHON/sweeps/z3k1w1jj</a>"
      ],
      "text/plain": [
       "<IPython.core.display.HTML object>"
      ]
     },
     "metadata": {},
     "output_type": "display_data"
    },
    {
     "data": {
      "text/html": [
       " View project at <a href='https://wandb.ai/devdchyeon/DLTHON' target=\"_blank\">https://wandb.ai/devdchyeon/DLTHON</a>"
      ],
      "text/plain": [
       "<IPython.core.display.HTML object>"
      ]
     },
     "metadata": {},
     "output_type": "display_data"
    },
    {
     "data": {
      "text/html": [
       " View sweep at <a href='https://wandb.ai/devdchyeon/DLTHON/sweeps/z3k1w1jj' target=\"_blank\">https://wandb.ai/devdchyeon/DLTHON/sweeps/z3k1w1jj</a>"
      ],
      "text/plain": [
       "<IPython.core.display.HTML object>"
      ]
     },
     "metadata": {},
     "output_type": "display_data"
    },
    {
     "data": {
      "text/html": [
       " View run at <a href='https://wandb.ai/devdchyeon/DLTHON/runs/bpijg1j0' target=\"_blank\">https://wandb.ai/devdchyeon/DLTHON/runs/bpijg1j0</a>"
      ],
      "text/plain": [
       "<IPython.core.display.HTML object>"
      ]
     },
     "metadata": {},
     "output_type": "display_data"
    },
    {
     "name": "stderr",
     "output_type": "stream",
     "text": [
      "Read 0M words\n",
      "Number of words:  5418\n",
      "Number of labels: 5\n",
      "Progress: 100.0% words/sec/thread:  400950 lr:  0.000000 avg.loss:  0.173853 ETA:   0h 0m 0s  0.5% words/sec/thread:   52333 lr:  0.099527 avg.loss:  1.613369 ETA:   0h 3m 9s  1.3% words/sec/thread:   92730 lr:  0.098696 avg.loss:  1.613313 ETA:   0h 1m46s 1.510296 ETA:   0h 0m41s 27.2% words/sec/thread:  354843 lr:  0.072819 avg.loss:  0.647294 ETA:   0h 0m20s words/sec/thread:  387562 lr:  0.046177 avg.loss:  0.307922 ETA:   0h 0m11s\n"
     ]
    },
    {
     "data": {
      "application/vnd.jupyter.widget-view+json": {
       "model_id": "",
       "version_major": 2,
       "version_minor": 0
      },
      "text/plain": [
       "VBox(children=(Label(value='0.002 MB of 0.008 MB uploaded\\r'), FloatProgress(value=0.18847736625514402, max=1.…"
      ]
     },
     "metadata": {},
     "output_type": "display_data"
    },
    {
     "data": {
      "text/html": [
       "<style>\n",
       "    table.wandb td:nth-child(1) { padding: 0 10px; text-align: left ; width: auto;} td:nth-child(2) {text-align: left ; width: 100%}\n",
       "    .wandb-row { display: flex; flex-direction: row; flex-wrap: wrap; justify-content: flex-start; width: 100% }\n",
       "    .wandb-col { display: flex; flex-direction: column; flex-basis: 100%; flex: 1; padding: 10px; }\n",
       "    </style>\n",
       "<div class=\"wandb-row\"><div class=\"wandb-col\"><h3>Run history:</h3><br/><table class=\"wandb\"><tr><td>accuracy</td><td>▁</td></tr></table><br/></div><div class=\"wandb-col\"><h3>Run summary:</h3><br/><table class=\"wandb\"><tr><td>accuracy</td><td>1.0</td></tr></table><br/></div></div>"
      ],
      "text/plain": [
       "<IPython.core.display.HTML object>"
      ]
     },
     "metadata": {},
     "output_type": "display_data"
    },
    {
     "data": {
      "text/html": [
       " View run <strong style=\"color:#cdcd00\">jumping-sweep-39</strong> at: <a href='https://wandb.ai/devdchyeon/DLTHON/runs/bpijg1j0' target=\"_blank\">https://wandb.ai/devdchyeon/DLTHON/runs/bpijg1j0</a><br/>Synced 5 W&B file(s), 0 media file(s), 0 artifact file(s) and 0 other file(s)"
      ],
      "text/plain": [
       "<IPython.core.display.HTML object>"
      ]
     },
     "metadata": {},
     "output_type": "display_data"
    },
    {
     "data": {
      "text/html": [
       "Find logs at: <code>./wandb/run-20240626_131944-bpijg1j0/logs</code>"
      ],
      "text/plain": [
       "<IPython.core.display.HTML object>"
      ]
     },
     "metadata": {},
     "output_type": "display_data"
    },
    {
     "name": "stderr",
     "output_type": "stream",
     "text": [
      "\u001b[34m\u001b[1mwandb\u001b[0m: Agent Starting Run: ic0ivyvb with config:\n",
      "\u001b[34m\u001b[1mwandb\u001b[0m: \tdim: 150\n",
      "\u001b[34m\u001b[1mwandb\u001b[0m: \tepoch: 70\n",
      "\u001b[34m\u001b[1mwandb\u001b[0m: \tlr: 0.1\n",
      "\u001b[34m\u001b[1mwandb\u001b[0m: \tminCount: 7\n",
      "\u001b[34m\u001b[1mwandb\u001b[0m: \twordNgrams: 4\n",
      "\u001b[34m\u001b[1mwandb\u001b[0m: \u001b[33mWARNING\u001b[0m Ignored wandb.init() arg project when running a sweep.\n"
     ]
    },
    {
     "data": {
      "text/html": [
       "wandb version 0.17.3 is available!  To upgrade, please run:\n",
       " $ pip install wandb --upgrade"
      ],
      "text/plain": [
       "<IPython.core.display.HTML object>"
      ]
     },
     "metadata": {},
     "output_type": "display_data"
    },
    {
     "data": {
      "text/html": [
       "Tracking run with wandb version 0.16.0"
      ],
      "text/plain": [
       "<IPython.core.display.HTML object>"
      ]
     },
     "metadata": {},
     "output_type": "display_data"
    },
    {
     "data": {
      "text/html": [
       "Run data is saved locally in <code>/aiffel/aiffel/workspace/16_dlthon_1/wandb/run-20240626_132019-ic0ivyvb</code>"
      ],
      "text/plain": [
       "<IPython.core.display.HTML object>"
      ]
     },
     "metadata": {},
     "output_type": "display_data"
    },
    {
     "data": {
      "text/html": [
       "Syncing run <strong><a href='https://wandb.ai/devdchyeon/DLTHON/runs/ic0ivyvb' target=\"_blank\">giddy-sweep-40</a></strong> to <a href='https://wandb.ai/devdchyeon/DLTHON' target=\"_blank\">Weights & Biases</a> (<a href='https://wandb.me/run' target=\"_blank\">docs</a>)<br/>Sweep page: <a href='https://wandb.ai/devdchyeon/DLTHON/sweeps/z3k1w1jj' target=\"_blank\">https://wandb.ai/devdchyeon/DLTHON/sweeps/z3k1w1jj</a>"
      ],
      "text/plain": [
       "<IPython.core.display.HTML object>"
      ]
     },
     "metadata": {},
     "output_type": "display_data"
    },
    {
     "data": {
      "text/html": [
       " View project at <a href='https://wandb.ai/devdchyeon/DLTHON' target=\"_blank\">https://wandb.ai/devdchyeon/DLTHON</a>"
      ],
      "text/plain": [
       "<IPython.core.display.HTML object>"
      ]
     },
     "metadata": {},
     "output_type": "display_data"
    },
    {
     "data": {
      "text/html": [
       " View sweep at <a href='https://wandb.ai/devdchyeon/DLTHON/sweeps/z3k1w1jj' target=\"_blank\">https://wandb.ai/devdchyeon/DLTHON/sweeps/z3k1w1jj</a>"
      ],
      "text/plain": [
       "<IPython.core.display.HTML object>"
      ]
     },
     "metadata": {},
     "output_type": "display_data"
    },
    {
     "data": {
      "text/html": [
       " View run at <a href='https://wandb.ai/devdchyeon/DLTHON/runs/ic0ivyvb' target=\"_blank\">https://wandb.ai/devdchyeon/DLTHON/runs/ic0ivyvb</a>"
      ],
      "text/plain": [
       "<IPython.core.display.HTML object>"
      ]
     },
     "metadata": {},
     "output_type": "display_data"
    },
    {
     "name": "stderr",
     "output_type": "stream",
     "text": [
      "Read 0M words\n",
      "Number of words:  5418\n",
      "Number of labels: 5\n",
      "Progress: 100.0% words/sec/thread:  396647 lr:  0.000000 avg.loss:  0.173965 ETA:   0h 0m 0s% words/sec/thread:  380423 lr:  0.047259 avg.loss:  0.323928 ETA:   0h 0m12s 54.8% words/sec/thread:  381511 lr:  0.045193 avg.loss:  0.313090 ETA:   0h 0m11s lr:  0.043146 avg.loss:  0.301486 ETA:   0h 0m11s 60.2% words/sec/thread:  384023 lr:  0.039819 avg.loss:  0.286683 ETA:   0h 0m10s words/sec/thread:  385290 lr:  0.036526 avg.loss:  0.273798 ETA:   0h 0m 9s 78.3% words/sec/thread:  391618 lr:  0.021720 avg.loss:  0.223982 ETA:   0h 0m 5s 95.3% words/sec/thread:  395256 lr:  0.004721 avg.loss:  0.183113 ETA:   0h 0m 1s\n"
     ]
    },
    {
     "data": {
      "application/vnd.jupyter.widget-view+json": {
       "model_id": "",
       "version_major": 2,
       "version_minor": 0
      },
      "text/plain": [
       "VBox(children=(Label(value='0.008 MB of 0.008 MB uploaded\\r'), FloatProgress(value=1.0, max=1.0)))"
      ]
     },
     "metadata": {},
     "output_type": "display_data"
    },
    {
     "data": {
      "text/html": [
       "<style>\n",
       "    table.wandb td:nth-child(1) { padding: 0 10px; text-align: left ; width: auto;} td:nth-child(2) {text-align: left ; width: 100%}\n",
       "    .wandb-row { display: flex; flex-direction: row; flex-wrap: wrap; justify-content: flex-start; width: 100% }\n",
       "    .wandb-col { display: flex; flex-direction: column; flex-basis: 100%; flex: 1; padding: 10px; }\n",
       "    </style>\n",
       "<div class=\"wandb-row\"><div class=\"wandb-col\"><h3>Run history:</h3><br/><table class=\"wandb\"><tr><td>accuracy</td><td>▁</td></tr></table><br/></div><div class=\"wandb-col\"><h3>Run summary:</h3><br/><table class=\"wandb\"><tr><td>accuracy</td><td>1.0</td></tr></table><br/></div></div>"
      ],
      "text/plain": [
       "<IPython.core.display.HTML object>"
      ]
     },
     "metadata": {},
     "output_type": "display_data"
    },
    {
     "data": {
      "text/html": [
       " View run <strong style=\"color:#cdcd00\">giddy-sweep-40</strong> at: <a href='https://wandb.ai/devdchyeon/DLTHON/runs/ic0ivyvb' target=\"_blank\">https://wandb.ai/devdchyeon/DLTHON/runs/ic0ivyvb</a><br/>Synced 5 W&B file(s), 0 media file(s), 0 artifact file(s) and 0 other file(s)"
      ],
      "text/plain": [
       "<IPython.core.display.HTML object>"
      ]
     },
     "metadata": {},
     "output_type": "display_data"
    },
    {
     "data": {
      "text/html": [
       "Find logs at: <code>./wandb/run-20240626_132019-ic0ivyvb/logs</code>"
      ],
      "text/plain": [
       "<IPython.core.display.HTML object>"
      ]
     },
     "metadata": {},
     "output_type": "display_data"
    },
    {
     "name": "stderr",
     "output_type": "stream",
     "text": [
      "\u001b[34m\u001b[1mwandb\u001b[0m: Agent Starting Run: u5tcjhsx with config:\n",
      "\u001b[34m\u001b[1mwandb\u001b[0m: \tdim: 150\n",
      "\u001b[34m\u001b[1mwandb\u001b[0m: \tepoch: 70\n",
      "\u001b[34m\u001b[1mwandb\u001b[0m: \tlr: 0.1\n",
      "\u001b[34m\u001b[1mwandb\u001b[0m: \tminCount: 7\n",
      "\u001b[34m\u001b[1mwandb\u001b[0m: \twordNgrams: 4\n",
      "\u001b[34m\u001b[1mwandb\u001b[0m: \u001b[33mWARNING\u001b[0m Ignored wandb.init() arg project when running a sweep.\n"
     ]
    },
    {
     "data": {
      "text/html": [
       "wandb version 0.17.3 is available!  To upgrade, please run:\n",
       " $ pip install wandb --upgrade"
      ],
      "text/plain": [
       "<IPython.core.display.HTML object>"
      ]
     },
     "metadata": {},
     "output_type": "display_data"
    },
    {
     "data": {
      "text/html": [
       "Tracking run with wandb version 0.16.0"
      ],
      "text/plain": [
       "<IPython.core.display.HTML object>"
      ]
     },
     "metadata": {},
     "output_type": "display_data"
    },
    {
     "data": {
      "text/html": [
       "Run data is saved locally in <code>/aiffel/aiffel/workspace/16_dlthon_1/wandb/run-20240626_132054-u5tcjhsx</code>"
      ],
      "text/plain": [
       "<IPython.core.display.HTML object>"
      ]
     },
     "metadata": {},
     "output_type": "display_data"
    },
    {
     "data": {
      "text/html": [
       "Syncing run <strong><a href='https://wandb.ai/devdchyeon/DLTHON/runs/u5tcjhsx' target=\"_blank\">winter-sweep-41</a></strong> to <a href='https://wandb.ai/devdchyeon/DLTHON' target=\"_blank\">Weights & Biases</a> (<a href='https://wandb.me/run' target=\"_blank\">docs</a>)<br/>Sweep page: <a href='https://wandb.ai/devdchyeon/DLTHON/sweeps/z3k1w1jj' target=\"_blank\">https://wandb.ai/devdchyeon/DLTHON/sweeps/z3k1w1jj</a>"
      ],
      "text/plain": [
       "<IPython.core.display.HTML object>"
      ]
     },
     "metadata": {},
     "output_type": "display_data"
    },
    {
     "data": {
      "text/html": [
       " View project at <a href='https://wandb.ai/devdchyeon/DLTHON' target=\"_blank\">https://wandb.ai/devdchyeon/DLTHON</a>"
      ],
      "text/plain": [
       "<IPython.core.display.HTML object>"
      ]
     },
     "metadata": {},
     "output_type": "display_data"
    },
    {
     "data": {
      "text/html": [
       " View sweep at <a href='https://wandb.ai/devdchyeon/DLTHON/sweeps/z3k1w1jj' target=\"_blank\">https://wandb.ai/devdchyeon/DLTHON/sweeps/z3k1w1jj</a>"
      ],
      "text/plain": [
       "<IPython.core.display.HTML object>"
      ]
     },
     "metadata": {},
     "output_type": "display_data"
    },
    {
     "data": {
      "text/html": [
       " View run at <a href='https://wandb.ai/devdchyeon/DLTHON/runs/u5tcjhsx' target=\"_blank\">https://wandb.ai/devdchyeon/DLTHON/runs/u5tcjhsx</a>"
      ],
      "text/plain": [
       "<IPython.core.display.HTML object>"
      ]
     },
     "metadata": {},
     "output_type": "display_data"
    },
    {
     "name": "stderr",
     "output_type": "stream",
     "text": [
      "Read 0M words\n",
      "Number of words:  5418\n",
      "Number of labels: 5\n",
      "Progress: 100.0% words/sec/thread:  317644 lr:  0.000000 avg.loss:  0.179060 ETA:   0h 0m 0s26s 63.4% words/sec/thread:  326736 lr:  0.036620 avg.loss:  0.276010 ETA:   0h 0m11s% words/sec/thread:  313254 lr:  0.005156 avg.loss:  0.187833 ETA:   0h 0m 1s\n"
     ]
    },
    {
     "data": {
      "application/vnd.jupyter.widget-view+json": {
       "model_id": "",
       "version_major": 2,
       "version_minor": 0
      },
      "text/plain": [
       "VBox(children=(Label(value='0.002 MB of 0.002 MB uploaded\\r'), FloatProgress(value=1.0, max=1.0)))"
      ]
     },
     "metadata": {},
     "output_type": "display_data"
    },
    {
     "data": {
      "text/html": [
       "<style>\n",
       "    table.wandb td:nth-child(1) { padding: 0 10px; text-align: left ; width: auto;} td:nth-child(2) {text-align: left ; width: 100%}\n",
       "    .wandb-row { display: flex; flex-direction: row; flex-wrap: wrap; justify-content: flex-start; width: 100% }\n",
       "    .wandb-col { display: flex; flex-direction: column; flex-basis: 100%; flex: 1; padding: 10px; }\n",
       "    </style>\n",
       "<div class=\"wandb-row\"><div class=\"wandb-col\"><h3>Run history:</h3><br/><table class=\"wandb\"><tr><td>accuracy</td><td>▁</td></tr></table><br/></div><div class=\"wandb-col\"><h3>Run summary:</h3><br/><table class=\"wandb\"><tr><td>accuracy</td><td>1.0</td></tr></table><br/></div></div>"
      ],
      "text/plain": [
       "<IPython.core.display.HTML object>"
      ]
     },
     "metadata": {},
     "output_type": "display_data"
    },
    {
     "data": {
      "text/html": [
       " View run <strong style=\"color:#cdcd00\">winter-sweep-41</strong> at: <a href='https://wandb.ai/devdchyeon/DLTHON/runs/u5tcjhsx' target=\"_blank\">https://wandb.ai/devdchyeon/DLTHON/runs/u5tcjhsx</a><br/>Synced 5 W&B file(s), 0 media file(s), 0 artifact file(s) and 0 other file(s)"
      ],
      "text/plain": [
       "<IPython.core.display.HTML object>"
      ]
     },
     "metadata": {},
     "output_type": "display_data"
    },
    {
     "data": {
      "text/html": [
       "Find logs at: <code>./wandb/run-20240626_132054-u5tcjhsx/logs</code>"
      ],
      "text/plain": [
       "<IPython.core.display.HTML object>"
      ]
     },
     "metadata": {},
     "output_type": "display_data"
    },
    {
     "name": "stderr",
     "output_type": "stream",
     "text": [
      "\u001b[34m\u001b[1mwandb\u001b[0m: Agent Starting Run: 1xdr1bie with config:\n",
      "\u001b[34m\u001b[1mwandb\u001b[0m: \tdim: 200\n",
      "\u001b[34m\u001b[1mwandb\u001b[0m: \tepoch: 50\n",
      "\u001b[34m\u001b[1mwandb\u001b[0m: \tlr: 0.5\n",
      "\u001b[34m\u001b[1mwandb\u001b[0m: \tminCount: 1\n",
      "\u001b[34m\u001b[1mwandb\u001b[0m: \twordNgrams: 3\n",
      "\u001b[34m\u001b[1mwandb\u001b[0m: \u001b[33mWARNING\u001b[0m Ignored wandb.init() arg project when running a sweep.\n"
     ]
    },
    {
     "data": {
      "text/html": [
       "wandb version 0.17.3 is available!  To upgrade, please run:\n",
       " $ pip install wandb --upgrade"
      ],
      "text/plain": [
       "<IPython.core.display.HTML object>"
      ]
     },
     "metadata": {},
     "output_type": "display_data"
    },
    {
     "data": {
      "text/html": [
       "Tracking run with wandb version 0.16.0"
      ],
      "text/plain": [
       "<IPython.core.display.HTML object>"
      ]
     },
     "metadata": {},
     "output_type": "display_data"
    },
    {
     "data": {
      "text/html": [
       "Run data is saved locally in <code>/aiffel/aiffel/workspace/16_dlthon_1/wandb/run-20240626_132137-1xdr1bie</code>"
      ],
      "text/plain": [
       "<IPython.core.display.HTML object>"
      ]
     },
     "metadata": {},
     "output_type": "display_data"
    },
    {
     "data": {
      "text/html": [
       "Syncing run <strong><a href='https://wandb.ai/devdchyeon/DLTHON/runs/1xdr1bie' target=\"_blank\">atomic-sweep-42</a></strong> to <a href='https://wandb.ai/devdchyeon/DLTHON' target=\"_blank\">Weights & Biases</a> (<a href='https://wandb.me/run' target=\"_blank\">docs</a>)<br/>Sweep page: <a href='https://wandb.ai/devdchyeon/DLTHON/sweeps/z3k1w1jj' target=\"_blank\">https://wandb.ai/devdchyeon/DLTHON/sweeps/z3k1w1jj</a>"
      ],
      "text/plain": [
       "<IPython.core.display.HTML object>"
      ]
     },
     "metadata": {},
     "output_type": "display_data"
    },
    {
     "data": {
      "text/html": [
       " View project at <a href='https://wandb.ai/devdchyeon/DLTHON' target=\"_blank\">https://wandb.ai/devdchyeon/DLTHON</a>"
      ],
      "text/plain": [
       "<IPython.core.display.HTML object>"
      ]
     },
     "metadata": {},
     "output_type": "display_data"
    },
    {
     "data": {
      "text/html": [
       " View sweep at <a href='https://wandb.ai/devdchyeon/DLTHON/sweeps/z3k1w1jj' target=\"_blank\">https://wandb.ai/devdchyeon/DLTHON/sweeps/z3k1w1jj</a>"
      ],
      "text/plain": [
       "<IPython.core.display.HTML object>"
      ]
     },
     "metadata": {},
     "output_type": "display_data"
    },
    {
     "data": {
      "text/html": [
       " View run at <a href='https://wandb.ai/devdchyeon/DLTHON/runs/1xdr1bie' target=\"_blank\">https://wandb.ai/devdchyeon/DLTHON/runs/1xdr1bie</a>"
      ],
      "text/plain": [
       "<IPython.core.display.HTML object>"
      ]
     },
     "metadata": {},
     "output_type": "display_data"
    },
    {
     "name": "stderr",
     "output_type": "stream",
     "text": [
      "Read 0M words\n",
      "Number of words:  84915\n",
      "Number of labels: 5\n",
      "Progress: 100.0% words/sec/thread:  410944 lr:  0.000000 avg.loss:  0.057578 ETA:   0h 0m 0s 85.5% words/sec/thread:  407950 lr:  0.072474 avg.loss:  0.069450 ETA:   0h 0m 2s 97.9% words/sec/thread:  411737 lr:  0.010610 avg.loss:  0.059186 ETA:   0h 0m 0s\n"
     ]
    },
    {
     "data": {
      "application/vnd.jupyter.widget-view+json": {
       "model_id": "",
       "version_major": 2,
       "version_minor": 0
      },
      "text/plain": [
       "VBox(children=(Label(value='0.002 MB of 0.002 MB uploaded\\r'), FloatProgress(value=1.0, max=1.0)))"
      ]
     },
     "metadata": {},
     "output_type": "display_data"
    },
    {
     "data": {
      "text/html": [
       "<style>\n",
       "    table.wandb td:nth-child(1) { padding: 0 10px; text-align: left ; width: auto;} td:nth-child(2) {text-align: left ; width: 100%}\n",
       "    .wandb-row { display: flex; flex-direction: row; flex-wrap: wrap; justify-content: flex-start; width: 100% }\n",
       "    .wandb-col { display: flex; flex-direction: column; flex-basis: 100%; flex: 1; padding: 10px; }\n",
       "    </style>\n",
       "<div class=\"wandb-row\"><div class=\"wandb-col\"><h3>Run history:</h3><br/><table class=\"wandb\"><tr><td>accuracy</td><td>▁</td></tr></table><br/></div><div class=\"wandb-col\"><h3>Run summary:</h3><br/><table class=\"wandb\"><tr><td>accuracy</td><td>1.0</td></tr></table><br/></div></div>"
      ],
      "text/plain": [
       "<IPython.core.display.HTML object>"
      ]
     },
     "metadata": {},
     "output_type": "display_data"
    },
    {
     "data": {
      "text/html": [
       " View run <strong style=\"color:#cdcd00\">atomic-sweep-42</strong> at: <a href='https://wandb.ai/devdchyeon/DLTHON/runs/1xdr1bie' target=\"_blank\">https://wandb.ai/devdchyeon/DLTHON/runs/1xdr1bie</a><br/>Synced 5 W&B file(s), 0 media file(s), 0 artifact file(s) and 0 other file(s)"
      ],
      "text/plain": [
       "<IPython.core.display.HTML object>"
      ]
     },
     "metadata": {},
     "output_type": "display_data"
    },
    {
     "data": {
      "text/html": [
       "Find logs at: <code>./wandb/run-20240626_132137-1xdr1bie/logs</code>"
      ],
      "text/plain": [
       "<IPython.core.display.HTML object>"
      ]
     },
     "metadata": {},
     "output_type": "display_data"
    },
    {
     "name": "stderr",
     "output_type": "stream",
     "text": [
      "\u001b[34m\u001b[1mwandb\u001b[0m: Sweep Agent: Waiting for job.\n",
      "\u001b[34m\u001b[1mwandb\u001b[0m: Job received.\n",
      "\u001b[34m\u001b[1mwandb\u001b[0m: Agent Starting Run: 9ukhqran with config:\n",
      "\u001b[34m\u001b[1mwandb\u001b[0m: \tdim: 100\n",
      "\u001b[34m\u001b[1mwandb\u001b[0m: \tepoch: 100\n",
      "\u001b[34m\u001b[1mwandb\u001b[0m: \tlr: 0.1\n",
      "\u001b[34m\u001b[1mwandb\u001b[0m: \tminCount: 7\n",
      "\u001b[34m\u001b[1mwandb\u001b[0m: \twordNgrams: 4\n",
      "\u001b[34m\u001b[1mwandb\u001b[0m: \u001b[33mWARNING\u001b[0m Ignored wandb.init() arg project when running a sweep.\n"
     ]
    },
    {
     "data": {
      "text/html": [
       "wandb version 0.17.3 is available!  To upgrade, please run:\n",
       " $ pip install wandb --upgrade"
      ],
      "text/plain": [
       "<IPython.core.display.HTML object>"
      ]
     },
     "metadata": {},
     "output_type": "display_data"
    },
    {
     "data": {
      "text/html": [
       "Tracking run with wandb version 0.16.0"
      ],
      "text/plain": [
       "<IPython.core.display.HTML object>"
      ]
     },
     "metadata": {},
     "output_type": "display_data"
    },
    {
     "data": {
      "text/html": [
       "Run data is saved locally in <code>/aiffel/aiffel/workspace/16_dlthon_1/wandb/run-20240626_132213-9ukhqran</code>"
      ],
      "text/plain": [
       "<IPython.core.display.HTML object>"
      ]
     },
     "metadata": {},
     "output_type": "display_data"
    },
    {
     "data": {
      "text/html": [
       "Syncing run <strong><a href='https://wandb.ai/devdchyeon/DLTHON/runs/9ukhqran' target=\"_blank\">still-sweep-43</a></strong> to <a href='https://wandb.ai/devdchyeon/DLTHON' target=\"_blank\">Weights & Biases</a> (<a href='https://wandb.me/run' target=\"_blank\">docs</a>)<br/>Sweep page: <a href='https://wandb.ai/devdchyeon/DLTHON/sweeps/z3k1w1jj' target=\"_blank\">https://wandb.ai/devdchyeon/DLTHON/sweeps/z3k1w1jj</a>"
      ],
      "text/plain": [
       "<IPython.core.display.HTML object>"
      ]
     },
     "metadata": {},
     "output_type": "display_data"
    },
    {
     "data": {
      "text/html": [
       " View project at <a href='https://wandb.ai/devdchyeon/DLTHON' target=\"_blank\">https://wandb.ai/devdchyeon/DLTHON</a>"
      ],
      "text/plain": [
       "<IPython.core.display.HTML object>"
      ]
     },
     "metadata": {},
     "output_type": "display_data"
    },
    {
     "data": {
      "text/html": [
       " View sweep at <a href='https://wandb.ai/devdchyeon/DLTHON/sweeps/z3k1w1jj' target=\"_blank\">https://wandb.ai/devdchyeon/DLTHON/sweeps/z3k1w1jj</a>"
      ],
      "text/plain": [
       "<IPython.core.display.HTML object>"
      ]
     },
     "metadata": {},
     "output_type": "display_data"
    },
    {
     "data": {
      "text/html": [
       " View run at <a href='https://wandb.ai/devdchyeon/DLTHON/runs/9ukhqran' target=\"_blank\">https://wandb.ai/devdchyeon/DLTHON/runs/9ukhqran</a>"
      ],
      "text/plain": [
       "<IPython.core.display.HTML object>"
      ]
     },
     "metadata": {},
     "output_type": "display_data"
    },
    {
     "name": "stderr",
     "output_type": "stream",
     "text": [
      "Read 0M words\n",
      "Number of words:  5418\n",
      "Number of labels: 5\n",
      "Progress: 100.0% words/sec/thread:  551339 lr:  0.000000 avg.loss:  0.119365 ETA:   0h 0m 0s avg.loss:  0.204373 ETA:   0h 0m11s\n"
     ]
    },
    {
     "data": {
      "application/vnd.jupyter.widget-view+json": {
       "model_id": "",
       "version_major": 2,
       "version_minor": 0
      },
      "text/plain": [
       "VBox(children=(Label(value='0.002 MB of 0.002 MB uploaded\\r'), FloatProgress(value=1.0, max=1.0)))"
      ]
     },
     "metadata": {},
     "output_type": "display_data"
    },
    {
     "data": {
      "text/html": [
       "<style>\n",
       "    table.wandb td:nth-child(1) { padding: 0 10px; text-align: left ; width: auto;} td:nth-child(2) {text-align: left ; width: 100%}\n",
       "    .wandb-row { display: flex; flex-direction: row; flex-wrap: wrap; justify-content: flex-start; width: 100% }\n",
       "    .wandb-col { display: flex; flex-direction: column; flex-basis: 100%; flex: 1; padding: 10px; }\n",
       "    </style>\n",
       "<div class=\"wandb-row\"><div class=\"wandb-col\"><h3>Run history:</h3><br/><table class=\"wandb\"><tr><td>accuracy</td><td>▁</td></tr></table><br/></div><div class=\"wandb-col\"><h3>Run summary:</h3><br/><table class=\"wandb\"><tr><td>accuracy</td><td>1.0</td></tr></table><br/></div></div>"
      ],
      "text/plain": [
       "<IPython.core.display.HTML object>"
      ]
     },
     "metadata": {},
     "output_type": "display_data"
    },
    {
     "data": {
      "text/html": [
       " View run <strong style=\"color:#cdcd00\">still-sweep-43</strong> at: <a href='https://wandb.ai/devdchyeon/DLTHON/runs/9ukhqran' target=\"_blank\">https://wandb.ai/devdchyeon/DLTHON/runs/9ukhqran</a><br/>Synced 5 W&B file(s), 0 media file(s), 0 artifact file(s) and 0 other file(s)"
      ],
      "text/plain": [
       "<IPython.core.display.HTML object>"
      ]
     },
     "metadata": {},
     "output_type": "display_data"
    },
    {
     "data": {
      "text/html": [
       "Find logs at: <code>./wandb/run-20240626_132213-9ukhqran/logs</code>"
      ],
      "text/plain": [
       "<IPython.core.display.HTML object>"
      ]
     },
     "metadata": {},
     "output_type": "display_data"
    },
    {
     "name": "stderr",
     "output_type": "stream",
     "text": [
      "\u001b[34m\u001b[1mwandb\u001b[0m: Agent Starting Run: mx27lm64 with config:\n",
      "\u001b[34m\u001b[1mwandb\u001b[0m: \tdim: 150\n",
      "\u001b[34m\u001b[1mwandb\u001b[0m: \tepoch: 100\n",
      "\u001b[34m\u001b[1mwandb\u001b[0m: \tlr: 0.1\n",
      "\u001b[34m\u001b[1mwandb\u001b[0m: \tminCount: 7\n",
      "\u001b[34m\u001b[1mwandb\u001b[0m: \twordNgrams: 4\n",
      "\u001b[34m\u001b[1mwandb\u001b[0m: \u001b[33mWARNING\u001b[0m Ignored wandb.init() arg project when running a sweep.\n"
     ]
    },
    {
     "data": {
      "text/html": [
       "wandb version 0.17.3 is available!  To upgrade, please run:\n",
       " $ pip install wandb --upgrade"
      ],
      "text/plain": [
       "<IPython.core.display.HTML object>"
      ]
     },
     "metadata": {},
     "output_type": "display_data"
    },
    {
     "data": {
      "text/html": [
       "Tracking run with wandb version 0.16.0"
      ],
      "text/plain": [
       "<IPython.core.display.HTML object>"
      ]
     },
     "metadata": {},
     "output_type": "display_data"
    },
    {
     "data": {
      "text/html": [
       "Run data is saved locally in <code>/aiffel/aiffel/workspace/16_dlthon_1/wandb/run-20240626_132249-mx27lm64</code>"
      ],
      "text/plain": [
       "<IPython.core.display.HTML object>"
      ]
     },
     "metadata": {},
     "output_type": "display_data"
    },
    {
     "data": {
      "text/html": [
       "Syncing run <strong><a href='https://wandb.ai/devdchyeon/DLTHON/runs/mx27lm64' target=\"_blank\">sage-sweep-44</a></strong> to <a href='https://wandb.ai/devdchyeon/DLTHON' target=\"_blank\">Weights & Biases</a> (<a href='https://wandb.me/run' target=\"_blank\">docs</a>)<br/>Sweep page: <a href='https://wandb.ai/devdchyeon/DLTHON/sweeps/z3k1w1jj' target=\"_blank\">https://wandb.ai/devdchyeon/DLTHON/sweeps/z3k1w1jj</a>"
      ],
      "text/plain": [
       "<IPython.core.display.HTML object>"
      ]
     },
     "metadata": {},
     "output_type": "display_data"
    },
    {
     "data": {
      "text/html": [
       " View project at <a href='https://wandb.ai/devdchyeon/DLTHON' target=\"_blank\">https://wandb.ai/devdchyeon/DLTHON</a>"
      ],
      "text/plain": [
       "<IPython.core.display.HTML object>"
      ]
     },
     "metadata": {},
     "output_type": "display_data"
    },
    {
     "data": {
      "text/html": [
       " View sweep at <a href='https://wandb.ai/devdchyeon/DLTHON/sweeps/z3k1w1jj' target=\"_blank\">https://wandb.ai/devdchyeon/DLTHON/sweeps/z3k1w1jj</a>"
      ],
      "text/plain": [
       "<IPython.core.display.HTML object>"
      ]
     },
     "metadata": {},
     "output_type": "display_data"
    },
    {
     "data": {
      "text/html": [
       " View run at <a href='https://wandb.ai/devdchyeon/DLTHON/runs/mx27lm64' target=\"_blank\">https://wandb.ai/devdchyeon/DLTHON/runs/mx27lm64</a>"
      ],
      "text/plain": [
       "<IPython.core.display.HTML object>"
      ]
     },
     "metadata": {},
     "output_type": "display_data"
    },
    {
     "name": "stderr",
     "output_type": "stream",
     "text": [
      "Read 0M words\n",
      "Number of words:  5418\n",
      "Number of labels: 5\n",
      "Progress: 100.0% words/sec/thread:  319882 lr:  0.000000 avg.loss:  0.124662 ETA:   0h 0m 0s 34.2% words/sec/thread:  379336 lr:  0.065849 avg.loss:  0.357951 ETA:   0h 0m24s lr:  0.058829 avg.loss:  0.303332 ETA:   0h 0m21s 43.6% words/sec/thread:  390321 lr:  0.056354 avg.loss:  0.286345 ETA:   0h 0m20s 396965 lr:  0.048634 avg.loss:  0.247518 ETA:   0h 0m17s  0h 0m11s\n"
     ]
    },
    {
     "data": {
      "application/vnd.jupyter.widget-view+json": {
       "model_id": "",
       "version_major": 2,
       "version_minor": 0
      },
      "text/plain": [
       "VBox(children=(Label(value='0.008 MB of 0.008 MB uploaded\\r'), FloatProgress(value=1.0, max=1.0)))"
      ]
     },
     "metadata": {},
     "output_type": "display_data"
    },
    {
     "data": {
      "text/html": [
       "<style>\n",
       "    table.wandb td:nth-child(1) { padding: 0 10px; text-align: left ; width: auto;} td:nth-child(2) {text-align: left ; width: 100%}\n",
       "    .wandb-row { display: flex; flex-direction: row; flex-wrap: wrap; justify-content: flex-start; width: 100% }\n",
       "    .wandb-col { display: flex; flex-direction: column; flex-basis: 100%; flex: 1; padding: 10px; }\n",
       "    </style>\n",
       "<div class=\"wandb-row\"><div class=\"wandb-col\"><h3>Run history:</h3><br/><table class=\"wandb\"><tr><td>accuracy</td><td>▁</td></tr></table><br/></div><div class=\"wandb-col\"><h3>Run summary:</h3><br/><table class=\"wandb\"><tr><td>accuracy</td><td>1.0</td></tr></table><br/></div></div>"
      ],
      "text/plain": [
       "<IPython.core.display.HTML object>"
      ]
     },
     "metadata": {},
     "output_type": "display_data"
    },
    {
     "data": {
      "text/html": [
       " View run <strong style=\"color:#cdcd00\">sage-sweep-44</strong> at: <a href='https://wandb.ai/devdchyeon/DLTHON/runs/mx27lm64' target=\"_blank\">https://wandb.ai/devdchyeon/DLTHON/runs/mx27lm64</a><br/>Synced 5 W&B file(s), 0 media file(s), 0 artifact file(s) and 0 other file(s)"
      ],
      "text/plain": [
       "<IPython.core.display.HTML object>"
      ]
     },
     "metadata": {},
     "output_type": "display_data"
    },
    {
     "data": {
      "text/html": [
       "Find logs at: <code>./wandb/run-20240626_132249-mx27lm64/logs</code>"
      ],
      "text/plain": [
       "<IPython.core.display.HTML object>"
      ]
     },
     "metadata": {},
     "output_type": "display_data"
    },
    {
     "name": "stderr",
     "output_type": "stream",
     "text": [
      "\u001b[34m\u001b[1mwandb\u001b[0m: Sweep Agent: Waiting for job.\n",
      "\u001b[34m\u001b[1mwandb\u001b[0m: Job received.\n",
      "\u001b[34m\u001b[1mwandb\u001b[0m: Agent Starting Run: za5rn81v with config:\n",
      "\u001b[34m\u001b[1mwandb\u001b[0m: \tdim: 100\n",
      "\u001b[34m\u001b[1mwandb\u001b[0m: \tepoch: 70\n",
      "\u001b[34m\u001b[1mwandb\u001b[0m: \tlr: 0.1\n",
      "\u001b[34m\u001b[1mwandb\u001b[0m: \tminCount: 7\n",
      "\u001b[34m\u001b[1mwandb\u001b[0m: \twordNgrams: 4\n",
      "\u001b[34m\u001b[1mwandb\u001b[0m: \u001b[33mWARNING\u001b[0m Ignored wandb.init() arg project when running a sweep.\n"
     ]
    },
    {
     "data": {
      "text/html": [
       "wandb version 0.17.3 is available!  To upgrade, please run:\n",
       " $ pip install wandb --upgrade"
      ],
      "text/plain": [
       "<IPython.core.display.HTML object>"
      ]
     },
     "metadata": {},
     "output_type": "display_data"
    },
    {
     "data": {
      "text/html": [
       "Tracking run with wandb version 0.16.0"
      ],
      "text/plain": [
       "<IPython.core.display.HTML object>"
      ]
     },
     "metadata": {},
     "output_type": "display_data"
    },
    {
     "data": {
      "text/html": [
       "Run data is saved locally in <code>/aiffel/aiffel/workspace/16_dlthon_1/wandb/run-20240626_132350-za5rn81v</code>"
      ],
      "text/plain": [
       "<IPython.core.display.HTML object>"
      ]
     },
     "metadata": {},
     "output_type": "display_data"
    },
    {
     "data": {
      "text/html": [
       "Syncing run <strong><a href='https://wandb.ai/devdchyeon/DLTHON/runs/za5rn81v' target=\"_blank\">autumn-sweep-45</a></strong> to <a href='https://wandb.ai/devdchyeon/DLTHON' target=\"_blank\">Weights & Biases</a> (<a href='https://wandb.me/run' target=\"_blank\">docs</a>)<br/>Sweep page: <a href='https://wandb.ai/devdchyeon/DLTHON/sweeps/z3k1w1jj' target=\"_blank\">https://wandb.ai/devdchyeon/DLTHON/sweeps/z3k1w1jj</a>"
      ],
      "text/plain": [
       "<IPython.core.display.HTML object>"
      ]
     },
     "metadata": {},
     "output_type": "display_data"
    },
    {
     "data": {
      "text/html": [
       " View project at <a href='https://wandb.ai/devdchyeon/DLTHON' target=\"_blank\">https://wandb.ai/devdchyeon/DLTHON</a>"
      ],
      "text/plain": [
       "<IPython.core.display.HTML object>"
      ]
     },
     "metadata": {},
     "output_type": "display_data"
    },
    {
     "data": {
      "text/html": [
       " View sweep at <a href='https://wandb.ai/devdchyeon/DLTHON/sweeps/z3k1w1jj' target=\"_blank\">https://wandb.ai/devdchyeon/DLTHON/sweeps/z3k1w1jj</a>"
      ],
      "text/plain": [
       "<IPython.core.display.HTML object>"
      ]
     },
     "metadata": {},
     "output_type": "display_data"
    },
    {
     "data": {
      "text/html": [
       " View run at <a href='https://wandb.ai/devdchyeon/DLTHON/runs/za5rn81v' target=\"_blank\">https://wandb.ai/devdchyeon/DLTHON/runs/za5rn81v</a>"
      ],
      "text/plain": [
       "<IPython.core.display.HTML object>"
      ]
     },
     "metadata": {},
     "output_type": "display_data"
    },
    {
     "name": "stderr",
     "output_type": "stream",
     "text": [
      "Read 0M words\n",
      "Number of words:  5418\n",
      "Number of labels: 5\n",
      "Progress: 100.0% words/sec/thread:  520974 lr:  0.000000 avg.loss:  0.184084 ETA:   0h 0m 0s 393142 lr:  0.087338 avg.loss:  1.125136 ETA:   0h 0m22s\n"
     ]
    },
    {
     "data": {
      "application/vnd.jupyter.widget-view+json": {
       "model_id": "",
       "version_major": 2,
       "version_minor": 0
      },
      "text/plain": [
       "VBox(children=(Label(value='0.002 MB of 0.008 MB uploaded\\r'), FloatProgress(value=0.18581198562652138, max=1.…"
      ]
     },
     "metadata": {},
     "output_type": "display_data"
    },
    {
     "data": {
      "text/html": [
       "<style>\n",
       "    table.wandb td:nth-child(1) { padding: 0 10px; text-align: left ; width: auto;} td:nth-child(2) {text-align: left ; width: 100%}\n",
       "    .wandb-row { display: flex; flex-direction: row; flex-wrap: wrap; justify-content: flex-start; width: 100% }\n",
       "    .wandb-col { display: flex; flex-direction: column; flex-basis: 100%; flex: 1; padding: 10px; }\n",
       "    </style>\n",
       "<div class=\"wandb-row\"><div class=\"wandb-col\"><h3>Run history:</h3><br/><table class=\"wandb\"><tr><td>accuracy</td><td>▁</td></tr></table><br/></div><div class=\"wandb-col\"><h3>Run summary:</h3><br/><table class=\"wandb\"><tr><td>accuracy</td><td>1.0</td></tr></table><br/></div></div>"
      ],
      "text/plain": [
       "<IPython.core.display.HTML object>"
      ]
     },
     "metadata": {},
     "output_type": "display_data"
    },
    {
     "data": {
      "text/html": [
       " View run <strong style=\"color:#cdcd00\">autumn-sweep-45</strong> at: <a href='https://wandb.ai/devdchyeon/DLTHON/runs/za5rn81v' target=\"_blank\">https://wandb.ai/devdchyeon/DLTHON/runs/za5rn81v</a><br/>Synced 5 W&B file(s), 0 media file(s), 0 artifact file(s) and 0 other file(s)"
      ],
      "text/plain": [
       "<IPython.core.display.HTML object>"
      ]
     },
     "metadata": {},
     "output_type": "display_data"
    },
    {
     "data": {
      "text/html": [
       "Find logs at: <code>./wandb/run-20240626_132350-za5rn81v/logs</code>"
      ],
      "text/plain": [
       "<IPython.core.display.HTML object>"
      ]
     },
     "metadata": {},
     "output_type": "display_data"
    },
    {
     "name": "stderr",
     "output_type": "stream",
     "text": [
      "\u001b[34m\u001b[1mwandb\u001b[0m: Agent Starting Run: wo9h89a6 with config:\n",
      "\u001b[34m\u001b[1mwandb\u001b[0m: \tdim: 200\n",
      "\u001b[34m\u001b[1mwandb\u001b[0m: \tepoch: 50\n",
      "\u001b[34m\u001b[1mwandb\u001b[0m: \tlr: 0.5\n",
      "\u001b[34m\u001b[1mwandb\u001b[0m: \tminCount: 1\n",
      "\u001b[34m\u001b[1mwandb\u001b[0m: \twordNgrams: 3\n",
      "\u001b[34m\u001b[1mwandb\u001b[0m: \u001b[33mWARNING\u001b[0m Ignored wandb.init() arg project when running a sweep.\n"
     ]
    },
    {
     "data": {
      "text/html": [
       "wandb version 0.17.3 is available!  To upgrade, please run:\n",
       " $ pip install wandb --upgrade"
      ],
      "text/plain": [
       "<IPython.core.display.HTML object>"
      ]
     },
     "metadata": {},
     "output_type": "display_data"
    },
    {
     "data": {
      "text/html": [
       "Tracking run with wandb version 0.16.0"
      ],
      "text/plain": [
       "<IPython.core.display.HTML object>"
      ]
     },
     "metadata": {},
     "output_type": "display_data"
    },
    {
     "data": {
      "text/html": [
       "Run data is saved locally in <code>/aiffel/aiffel/workspace/16_dlthon_1/wandb/run-20240626_132417-wo9h89a6</code>"
      ],
      "text/plain": [
       "<IPython.core.display.HTML object>"
      ]
     },
     "metadata": {},
     "output_type": "display_data"
    },
    {
     "data": {
      "text/html": [
       "Syncing run <strong><a href='https://wandb.ai/devdchyeon/DLTHON/runs/wo9h89a6' target=\"_blank\">fanciful-sweep-46</a></strong> to <a href='https://wandb.ai/devdchyeon/DLTHON' target=\"_blank\">Weights & Biases</a> (<a href='https://wandb.me/run' target=\"_blank\">docs</a>)<br/>Sweep page: <a href='https://wandb.ai/devdchyeon/DLTHON/sweeps/z3k1w1jj' target=\"_blank\">https://wandb.ai/devdchyeon/DLTHON/sweeps/z3k1w1jj</a>"
      ],
      "text/plain": [
       "<IPython.core.display.HTML object>"
      ]
     },
     "metadata": {},
     "output_type": "display_data"
    },
    {
     "data": {
      "text/html": [
       " View project at <a href='https://wandb.ai/devdchyeon/DLTHON' target=\"_blank\">https://wandb.ai/devdchyeon/DLTHON</a>"
      ],
      "text/plain": [
       "<IPython.core.display.HTML object>"
      ]
     },
     "metadata": {},
     "output_type": "display_data"
    },
    {
     "data": {
      "text/html": [
       " View sweep at <a href='https://wandb.ai/devdchyeon/DLTHON/sweeps/z3k1w1jj' target=\"_blank\">https://wandb.ai/devdchyeon/DLTHON/sweeps/z3k1w1jj</a>"
      ],
      "text/plain": [
       "<IPython.core.display.HTML object>"
      ]
     },
     "metadata": {},
     "output_type": "display_data"
    },
    {
     "data": {
      "text/html": [
       " View run at <a href='https://wandb.ai/devdchyeon/DLTHON/runs/wo9h89a6' target=\"_blank\">https://wandb.ai/devdchyeon/DLTHON/runs/wo9h89a6</a>"
      ],
      "text/plain": [
       "<IPython.core.display.HTML object>"
      ]
     },
     "metadata": {},
     "output_type": "display_data"
    },
    {
     "name": "stderr",
     "output_type": "stream",
     "text": [
      "Read 0M words\n",
      "Number of words:  84915\n",
      "Number of labels: 5\n",
      "Progress: 100.0% words/sec/thread:  392654 lr:  0.000000 avg.loss:  0.058360 ETA:   0h 0m 0s\n"
     ]
    },
    {
     "data": {
      "application/vnd.jupyter.widget-view+json": {
       "model_id": "",
       "version_major": 2,
       "version_minor": 0
      },
      "text/plain": [
       "VBox(children=(Label(value='0.002 MB of 0.008 MB uploaded\\r'), FloatProgress(value=0.18592790077663152, max=1.…"
      ]
     },
     "metadata": {},
     "output_type": "display_data"
    },
    {
     "data": {
      "text/html": [
       "<style>\n",
       "    table.wandb td:nth-child(1) { padding: 0 10px; text-align: left ; width: auto;} td:nth-child(2) {text-align: left ; width: 100%}\n",
       "    .wandb-row { display: flex; flex-direction: row; flex-wrap: wrap; justify-content: flex-start; width: 100% }\n",
       "    .wandb-col { display: flex; flex-direction: column; flex-basis: 100%; flex: 1; padding: 10px; }\n",
       "    </style>\n",
       "<div class=\"wandb-row\"><div class=\"wandb-col\"><h3>Run history:</h3><br/><table class=\"wandb\"><tr><td>accuracy</td><td>▁</td></tr></table><br/></div><div class=\"wandb-col\"><h3>Run summary:</h3><br/><table class=\"wandb\"><tr><td>accuracy</td><td>1.0</td></tr></table><br/></div></div>"
      ],
      "text/plain": [
       "<IPython.core.display.HTML object>"
      ]
     },
     "metadata": {},
     "output_type": "display_data"
    },
    {
     "data": {
      "text/html": [
       " View run <strong style=\"color:#cdcd00\">fanciful-sweep-46</strong> at: <a href='https://wandb.ai/devdchyeon/DLTHON/runs/wo9h89a6' target=\"_blank\">https://wandb.ai/devdchyeon/DLTHON/runs/wo9h89a6</a><br/>Synced 5 W&B file(s), 0 media file(s), 0 artifact file(s) and 0 other file(s)"
      ],
      "text/plain": [
       "<IPython.core.display.HTML object>"
      ]
     },
     "metadata": {},
     "output_type": "display_data"
    },
    {
     "data": {
      "text/html": [
       "Find logs at: <code>./wandb/run-20240626_132417-wo9h89a6/logs</code>"
      ],
      "text/plain": [
       "<IPython.core.display.HTML object>"
      ]
     },
     "metadata": {},
     "output_type": "display_data"
    },
    {
     "name": "stderr",
     "output_type": "stream",
     "text": [
      "\u001b[34m\u001b[1mwandb\u001b[0m: Sweep Agent: Waiting for job.\n",
      "\u001b[34m\u001b[1mwandb\u001b[0m: Job received.\n",
      "\u001b[34m\u001b[1mwandb\u001b[0m: Agent Starting Run: 63i5b16h with config:\n",
      "\u001b[34m\u001b[1mwandb\u001b[0m: \tdim: 150\n",
      "\u001b[34m\u001b[1mwandb\u001b[0m: \tepoch: 70\n",
      "\u001b[34m\u001b[1mwandb\u001b[0m: \tlr: 0.2\n",
      "\u001b[34m\u001b[1mwandb\u001b[0m: \tminCount: 7\n",
      "\u001b[34m\u001b[1mwandb\u001b[0m: \twordNgrams: 4\n",
      "\u001b[34m\u001b[1mwandb\u001b[0m: \u001b[33mWARNING\u001b[0m Ignored wandb.init() arg project when running a sweep.\n"
     ]
    },
    {
     "data": {
      "text/html": [
       "wandb version 0.17.3 is available!  To upgrade, please run:\n",
       " $ pip install wandb --upgrade"
      ],
      "text/plain": [
       "<IPython.core.display.HTML object>"
      ]
     },
     "metadata": {},
     "output_type": "display_data"
    },
    {
     "data": {
      "text/html": [
       "Tracking run with wandb version 0.16.0"
      ],
      "text/plain": [
       "<IPython.core.display.HTML object>"
      ]
     },
     "metadata": {},
     "output_type": "display_data"
    },
    {
     "data": {
      "text/html": [
       "Run data is saved locally in <code>/aiffel/aiffel/workspace/16_dlthon_1/wandb/run-20240626_132503-63i5b16h</code>"
      ],
      "text/plain": [
       "<IPython.core.display.HTML object>"
      ]
     },
     "metadata": {},
     "output_type": "display_data"
    },
    {
     "data": {
      "text/html": [
       "Syncing run <strong><a href='https://wandb.ai/devdchyeon/DLTHON/runs/63i5b16h' target=\"_blank\">mild-sweep-47</a></strong> to <a href='https://wandb.ai/devdchyeon/DLTHON' target=\"_blank\">Weights & Biases</a> (<a href='https://wandb.me/run' target=\"_blank\">docs</a>)<br/>Sweep page: <a href='https://wandb.ai/devdchyeon/DLTHON/sweeps/z3k1w1jj' target=\"_blank\">https://wandb.ai/devdchyeon/DLTHON/sweeps/z3k1w1jj</a>"
      ],
      "text/plain": [
       "<IPython.core.display.HTML object>"
      ]
     },
     "metadata": {},
     "output_type": "display_data"
    },
    {
     "data": {
      "text/html": [
       " View project at <a href='https://wandb.ai/devdchyeon/DLTHON' target=\"_blank\">https://wandb.ai/devdchyeon/DLTHON</a>"
      ],
      "text/plain": [
       "<IPython.core.display.HTML object>"
      ]
     },
     "metadata": {},
     "output_type": "display_data"
    },
    {
     "data": {
      "text/html": [
       " View sweep at <a href='https://wandb.ai/devdchyeon/DLTHON/sweeps/z3k1w1jj' target=\"_blank\">https://wandb.ai/devdchyeon/DLTHON/sweeps/z3k1w1jj</a>"
      ],
      "text/plain": [
       "<IPython.core.display.HTML object>"
      ]
     },
     "metadata": {},
     "output_type": "display_data"
    },
    {
     "data": {
      "text/html": [
       " View run at <a href='https://wandb.ai/devdchyeon/DLTHON/runs/63i5b16h' target=\"_blank\">https://wandb.ai/devdchyeon/DLTHON/runs/63i5b16h</a>"
      ],
      "text/plain": [
       "<IPython.core.display.HTML object>"
      ]
     },
     "metadata": {},
     "output_type": "display_data"
    },
    {
     "name": "stderr",
     "output_type": "stream",
     "text": [
      "Read 0M words\n",
      "Number of words:  5418\n",
      "Number of labels: 5\n",
      "Progress: 100.0% words/sec/thread:  365905 lr:  0.000000 avg.loss:  0.090600 ETA:   0h 0m 0s  5.3% words/sec/thread:  218175 lr:  0.189480 avg.loss:  1.238372 ETA:   0h 0m43s  7.3% words/sec/thread:  249742 lr:  0.185450 avg.loss:  1.049683 ETA:   0h 0m37s 10.4% words/sec/thread:  281022 lr:  0.179109 avg.loss:  0.820058 ETA:   0h 0m31s 12.5% words/sec/thread:  296412 lr:  0.174988 avg.loss:  0.695697 ETA:   0h 0m29s 16.7% words/sec/thread:  318812 lr:  0.166696 avg.loss:  0.524994 ETA:   0h 0m26s 21.0% words/sec/thread:  332013 lr:  0.157981 avg.loss:  0.427086 ETA:   0h 0m23s 23.0% words/sec/thread:  337053 lr:  0.153958 avg.loss:  0.401487 ETA:   0h 0m22s 51.3% words/sec/thread:  372605 lr:  0.097445 avg.loss:  0.172438 ETA:   0h 0m13s\n"
     ]
    },
    {
     "data": {
      "application/vnd.jupyter.widget-view+json": {
       "model_id": "",
       "version_major": 2,
       "version_minor": 0
      },
      "text/plain": [
       "VBox(children=(Label(value='0.008 MB of 0.008 MB uploaded\\r'), FloatProgress(value=1.0, max=1.0)))"
      ]
     },
     "metadata": {},
     "output_type": "display_data"
    },
    {
     "data": {
      "text/html": [
       "<style>\n",
       "    table.wandb td:nth-child(1) { padding: 0 10px; text-align: left ; width: auto;} td:nth-child(2) {text-align: left ; width: 100%}\n",
       "    .wandb-row { display: flex; flex-direction: row; flex-wrap: wrap; justify-content: flex-start; width: 100% }\n",
       "    .wandb-col { display: flex; flex-direction: column; flex-basis: 100%; flex: 1; padding: 10px; }\n",
       "    </style>\n",
       "<div class=\"wandb-row\"><div class=\"wandb-col\"><h3>Run history:</h3><br/><table class=\"wandb\"><tr><td>accuracy</td><td>▁</td></tr></table><br/></div><div class=\"wandb-col\"><h3>Run summary:</h3><br/><table class=\"wandb\"><tr><td>accuracy</td><td>1.0</td></tr></table><br/></div></div>"
      ],
      "text/plain": [
       "<IPython.core.display.HTML object>"
      ]
     },
     "metadata": {},
     "output_type": "display_data"
    },
    {
     "data": {
      "text/html": [
       " View run <strong style=\"color:#cdcd00\">mild-sweep-47</strong> at: <a href='https://wandb.ai/devdchyeon/DLTHON/runs/63i5b16h' target=\"_blank\">https://wandb.ai/devdchyeon/DLTHON/runs/63i5b16h</a><br/>Synced 5 W&B file(s), 0 media file(s), 0 artifact file(s) and 0 other file(s)"
      ],
      "text/plain": [
       "<IPython.core.display.HTML object>"
      ]
     },
     "metadata": {},
     "output_type": "display_data"
    },
    {
     "data": {
      "text/html": [
       "Find logs at: <code>./wandb/run-20240626_132503-63i5b16h/logs</code>"
      ],
      "text/plain": [
       "<IPython.core.display.HTML object>"
      ]
     },
     "metadata": {},
     "output_type": "display_data"
    },
    {
     "name": "stderr",
     "output_type": "stream",
     "text": [
      "\u001b[34m\u001b[1mwandb\u001b[0m: Agent Starting Run: 41oacjpf with config:\n",
      "\u001b[34m\u001b[1mwandb\u001b[0m: \tdim: 150\n",
      "\u001b[34m\u001b[1mwandb\u001b[0m: \tepoch: 100\n",
      "\u001b[34m\u001b[1mwandb\u001b[0m: \tlr: 0.05\n",
      "\u001b[34m\u001b[1mwandb\u001b[0m: \tminCount: 7\n",
      "\u001b[34m\u001b[1mwandb\u001b[0m: \twordNgrams: 4\n",
      "\u001b[34m\u001b[1mwandb\u001b[0m: \u001b[33mWARNING\u001b[0m Ignored wandb.init() arg project when running a sweep.\n"
     ]
    },
    {
     "data": {
      "text/html": [
       "wandb version 0.17.3 is available!  To upgrade, please run:\n",
       " $ pip install wandb --upgrade"
      ],
      "text/plain": [
       "<IPython.core.display.HTML object>"
      ]
     },
     "metadata": {},
     "output_type": "display_data"
    },
    {
     "data": {
      "text/html": [
       "Tracking run with wandb version 0.16.0"
      ],
      "text/plain": [
       "<IPython.core.display.HTML object>"
      ]
     },
     "metadata": {},
     "output_type": "display_data"
    },
    {
     "data": {
      "text/html": [
       "Run data is saved locally in <code>/aiffel/aiffel/workspace/16_dlthon_1/wandb/run-20240626_132541-41oacjpf</code>"
      ],
      "text/plain": [
       "<IPython.core.display.HTML object>"
      ]
     },
     "metadata": {},
     "output_type": "display_data"
    },
    {
     "data": {
      "text/html": [
       "Syncing run <strong><a href='https://wandb.ai/devdchyeon/DLTHON/runs/41oacjpf' target=\"_blank\">robust-sweep-48</a></strong> to <a href='https://wandb.ai/devdchyeon/DLTHON' target=\"_blank\">Weights & Biases</a> (<a href='https://wandb.me/run' target=\"_blank\">docs</a>)<br/>Sweep page: <a href='https://wandb.ai/devdchyeon/DLTHON/sweeps/z3k1w1jj' target=\"_blank\">https://wandb.ai/devdchyeon/DLTHON/sweeps/z3k1w1jj</a>"
      ],
      "text/plain": [
       "<IPython.core.display.HTML object>"
      ]
     },
     "metadata": {},
     "output_type": "display_data"
    },
    {
     "data": {
      "text/html": [
       " View project at <a href='https://wandb.ai/devdchyeon/DLTHON' target=\"_blank\">https://wandb.ai/devdchyeon/DLTHON</a>"
      ],
      "text/plain": [
       "<IPython.core.display.HTML object>"
      ]
     },
     "metadata": {},
     "output_type": "display_data"
    },
    {
     "data": {
      "text/html": [
       " View sweep at <a href='https://wandb.ai/devdchyeon/DLTHON/sweeps/z3k1w1jj' target=\"_blank\">https://wandb.ai/devdchyeon/DLTHON/sweeps/z3k1w1jj</a>"
      ],
      "text/plain": [
       "<IPython.core.display.HTML object>"
      ]
     },
     "metadata": {},
     "output_type": "display_data"
    },
    {
     "data": {
      "text/html": [
       " View run at <a href='https://wandb.ai/devdchyeon/DLTHON/runs/41oacjpf' target=\"_blank\">https://wandb.ai/devdchyeon/DLTHON/runs/41oacjpf</a>"
      ],
      "text/plain": [
       "<IPython.core.display.HTML object>"
      ]
     },
     "metadata": {},
     "output_type": "display_data"
    },
    {
     "name": "stderr",
     "output_type": "stream",
     "text": [
      "Read 0M words\n",
      "Number of words:  5418\n",
      "Number of labels: 5\n",
      "Progress: 100.0% words/sec/thread:  397000 lr:  0.000000 avg.loss:  0.254982 ETA:   0h 0m 0s  0.2% words/sec/thread:   41831 lr:  0.049912 avg.loss:  1.613358 ETA:   0h 5m40s  0.5% words/sec/thread:   63785 lr:  0.049753 avg.loss:  1.613331 ETA:   0h 3m42s% words/sec/thread:  123417 lr:  0.049306 avg.loss:  1.613299 ETA:   0h 1m53s  2.8% words/sec/thread:  188773 lr:  0.048606 avg.loss:  1.612605 ETA:   0h 1m13s  4.2% words/sec/thread:  229861 lr:  0.047899 avg.loss:  1.577672 ETA:   0h 0m59s 41.7% words/sec/thread:  380103 lr:  0.029147 avg.loss:  0.579406 ETA:   0h 0m21s words/sec/thread:  382128 lr:  0.023525 avg.loss:  0.460979 ETA:   0h 0m17s 76.1% words/sec/thread:  391883 lr:  0.011961 avg.loss:  0.324967 ETA:   0h 0m 8s\n"
     ]
    },
    {
     "data": {
      "application/vnd.jupyter.widget-view+json": {
       "model_id": "",
       "version_major": 2,
       "version_minor": 0
      },
      "text/plain": [
       "VBox(children=(Label(value='0.002 MB of 0.002 MB uploaded\\r'), FloatProgress(value=1.0, max=1.0)))"
      ]
     },
     "metadata": {},
     "output_type": "display_data"
    },
    {
     "data": {
      "text/html": [
       "<style>\n",
       "    table.wandb td:nth-child(1) { padding: 0 10px; text-align: left ; width: auto;} td:nth-child(2) {text-align: left ; width: 100%}\n",
       "    .wandb-row { display: flex; flex-direction: row; flex-wrap: wrap; justify-content: flex-start; width: 100% }\n",
       "    .wandb-col { display: flex; flex-direction: column; flex-basis: 100%; flex: 1; padding: 10px; }\n",
       "    </style>\n",
       "<div class=\"wandb-row\"><div class=\"wandb-col\"><h3>Run history:</h3><br/><table class=\"wandb\"><tr><td>accuracy</td><td>▁</td></tr></table><br/></div><div class=\"wandb-col\"><h3>Run summary:</h3><br/><table class=\"wandb\"><tr><td>accuracy</td><td>1.0</td></tr></table><br/></div></div>"
      ],
      "text/plain": [
       "<IPython.core.display.HTML object>"
      ]
     },
     "metadata": {},
     "output_type": "display_data"
    },
    {
     "data": {
      "text/html": [
       " View run <strong style=\"color:#cdcd00\">robust-sweep-48</strong> at: <a href='https://wandb.ai/devdchyeon/DLTHON/runs/41oacjpf' target=\"_blank\">https://wandb.ai/devdchyeon/DLTHON/runs/41oacjpf</a><br/>Synced 5 W&B file(s), 0 media file(s), 0 artifact file(s) and 0 other file(s)"
      ],
      "text/plain": [
       "<IPython.core.display.HTML object>"
      ]
     },
     "metadata": {},
     "output_type": "display_data"
    },
    {
     "data": {
      "text/html": [
       "Find logs at: <code>./wandb/run-20240626_132541-41oacjpf/logs</code>"
      ],
      "text/plain": [
       "<IPython.core.display.HTML object>"
      ]
     },
     "metadata": {},
     "output_type": "display_data"
    },
    {
     "name": "stderr",
     "output_type": "stream",
     "text": [
      "\u001b[34m\u001b[1mwandb\u001b[0m: Agent Starting Run: xj14brnp with config:\n",
      "\u001b[34m\u001b[1mwandb\u001b[0m: \tdim: 150\n",
      "\u001b[34m\u001b[1mwandb\u001b[0m: \tepoch: 70\n",
      "\u001b[34m\u001b[1mwandb\u001b[0m: \tlr: 0.1\n",
      "\u001b[34m\u001b[1mwandb\u001b[0m: \tminCount: 7\n",
      "\u001b[34m\u001b[1mwandb\u001b[0m: \twordNgrams: 4\n",
      "\u001b[34m\u001b[1mwandb\u001b[0m: \u001b[33mWARNING\u001b[0m Ignored wandb.init() arg project when running a sweep.\n"
     ]
    },
    {
     "data": {
      "text/html": [
       "wandb version 0.17.3 is available!  To upgrade, please run:\n",
       " $ pip install wandb --upgrade"
      ],
      "text/plain": [
       "<IPython.core.display.HTML object>"
      ]
     },
     "metadata": {},
     "output_type": "display_data"
    },
    {
     "data": {
      "text/html": [
       "Tracking run with wandb version 0.16.0"
      ],
      "text/plain": [
       "<IPython.core.display.HTML object>"
      ]
     },
     "metadata": {},
     "output_type": "display_data"
    },
    {
     "data": {
      "text/html": [
       "Run data is saved locally in <code>/aiffel/aiffel/workspace/16_dlthon_1/wandb/run-20240626_132627-xj14brnp</code>"
      ],
      "text/plain": [
       "<IPython.core.display.HTML object>"
      ]
     },
     "metadata": {},
     "output_type": "display_data"
    },
    {
     "data": {
      "text/html": [
       "Syncing run <strong><a href='https://wandb.ai/devdchyeon/DLTHON/runs/xj14brnp' target=\"_blank\">sage-sweep-49</a></strong> to <a href='https://wandb.ai/devdchyeon/DLTHON' target=\"_blank\">Weights & Biases</a> (<a href='https://wandb.me/run' target=\"_blank\">docs</a>)<br/>Sweep page: <a href='https://wandb.ai/devdchyeon/DLTHON/sweeps/z3k1w1jj' target=\"_blank\">https://wandb.ai/devdchyeon/DLTHON/sweeps/z3k1w1jj</a>"
      ],
      "text/plain": [
       "<IPython.core.display.HTML object>"
      ]
     },
     "metadata": {},
     "output_type": "display_data"
    },
    {
     "data": {
      "text/html": [
       " View project at <a href='https://wandb.ai/devdchyeon/DLTHON' target=\"_blank\">https://wandb.ai/devdchyeon/DLTHON</a>"
      ],
      "text/plain": [
       "<IPython.core.display.HTML object>"
      ]
     },
     "metadata": {},
     "output_type": "display_data"
    },
    {
     "data": {
      "text/html": [
       " View sweep at <a href='https://wandb.ai/devdchyeon/DLTHON/sweeps/z3k1w1jj' target=\"_blank\">https://wandb.ai/devdchyeon/DLTHON/sweeps/z3k1w1jj</a>"
      ],
      "text/plain": [
       "<IPython.core.display.HTML object>"
      ]
     },
     "metadata": {},
     "output_type": "display_data"
    },
    {
     "data": {
      "text/html": [
       " View run at <a href='https://wandb.ai/devdchyeon/DLTHON/runs/xj14brnp' target=\"_blank\">https://wandb.ai/devdchyeon/DLTHON/runs/xj14brnp</a>"
      ],
      "text/plain": [
       "<IPython.core.display.HTML object>"
      ]
     },
     "metadata": {},
     "output_type": "display_data"
    },
    {
     "name": "stderr",
     "output_type": "stream",
     "text": [
      "Read 0M words\n",
      "Number of words:  5418\n",
      "Number of labels: 5\n",
      "Progress: 100.0% words/sec/thread:  383907 lr:  0.000000 avg.loss:  0.154465 ETA:   0h 0m 0s\n"
     ]
    },
    {
     "data": {
      "application/vnd.jupyter.widget-view+json": {
       "model_id": "",
       "version_major": 2,
       "version_minor": 0
      },
      "text/plain": [
       "VBox(children=(Label(value='0.002 MB of 0.002 MB uploaded\\r'), FloatProgress(value=1.0, max=1.0)))"
      ]
     },
     "metadata": {},
     "output_type": "display_data"
    },
    {
     "data": {
      "text/html": [
       "<style>\n",
       "    table.wandb td:nth-child(1) { padding: 0 10px; text-align: left ; width: auto;} td:nth-child(2) {text-align: left ; width: 100%}\n",
       "    .wandb-row { display: flex; flex-direction: row; flex-wrap: wrap; justify-content: flex-start; width: 100% }\n",
       "    .wandb-col { display: flex; flex-direction: column; flex-basis: 100%; flex: 1; padding: 10px; }\n",
       "    </style>\n",
       "<div class=\"wandb-row\"><div class=\"wandb-col\"><h3>Run history:</h3><br/><table class=\"wandb\"><tr><td>accuracy</td><td>▁</td></tr></table><br/></div><div class=\"wandb-col\"><h3>Run summary:</h3><br/><table class=\"wandb\"><tr><td>accuracy</td><td>1.0</td></tr></table><br/></div></div>"
      ],
      "text/plain": [
       "<IPython.core.display.HTML object>"
      ]
     },
     "metadata": {},
     "output_type": "display_data"
    },
    {
     "data": {
      "text/html": [
       " View run <strong style=\"color:#cdcd00\">sage-sweep-49</strong> at: <a href='https://wandb.ai/devdchyeon/DLTHON/runs/xj14brnp' target=\"_blank\">https://wandb.ai/devdchyeon/DLTHON/runs/xj14brnp</a><br/>Synced 5 W&B file(s), 0 media file(s), 0 artifact file(s) and 0 other file(s)"
      ],
      "text/plain": [
       "<IPython.core.display.HTML object>"
      ]
     },
     "metadata": {},
     "output_type": "display_data"
    },
    {
     "data": {
      "text/html": [
       "Find logs at: <code>./wandb/run-20240626_132627-xj14brnp/logs</code>"
      ],
      "text/plain": [
       "<IPython.core.display.HTML object>"
      ]
     },
     "metadata": {},
     "output_type": "display_data"
    },
    {
     "name": "stderr",
     "output_type": "stream",
     "text": [
      "\u001b[34m\u001b[1mwandb\u001b[0m: Sweep Agent: Waiting for job.\n",
      "\u001b[34m\u001b[1mwandb\u001b[0m: Job received.\n",
      "\u001b[34m\u001b[1mwandb\u001b[0m: Agent Starting Run: wlzz9gmo with config:\n",
      "\u001b[34m\u001b[1mwandb\u001b[0m: \tdim: 100\n",
      "\u001b[34m\u001b[1mwandb\u001b[0m: \tepoch: 100\n",
      "\u001b[34m\u001b[1mwandb\u001b[0m: \tlr: 0.2\n",
      "\u001b[34m\u001b[1mwandb\u001b[0m: \tminCount: 7\n",
      "\u001b[34m\u001b[1mwandb\u001b[0m: \twordNgrams: 4\n",
      "\u001b[34m\u001b[1mwandb\u001b[0m: \u001b[33mWARNING\u001b[0m Ignored wandb.init() arg project when running a sweep.\n"
     ]
    },
    {
     "data": {
      "text/html": [
       "wandb version 0.17.3 is available!  To upgrade, please run:\n",
       " $ pip install wandb --upgrade"
      ],
      "text/plain": [
       "<IPython.core.display.HTML object>"
      ]
     },
     "metadata": {},
     "output_type": "display_data"
    },
    {
     "data": {
      "text/html": [
       "Tracking run with wandb version 0.16.0"
      ],
      "text/plain": [
       "<IPython.core.display.HTML object>"
      ]
     },
     "metadata": {},
     "output_type": "display_data"
    },
    {
     "data": {
      "text/html": [
       "Run data is saved locally in <code>/aiffel/aiffel/workspace/16_dlthon_1/wandb/run-20240626_132711-wlzz9gmo</code>"
      ],
      "text/plain": [
       "<IPython.core.display.HTML object>"
      ]
     },
     "metadata": {},
     "output_type": "display_data"
    },
    {
     "data": {
      "text/html": [
       "Syncing run <strong><a href='https://wandb.ai/devdchyeon/DLTHON/runs/wlzz9gmo' target=\"_blank\">zesty-sweep-50</a></strong> to <a href='https://wandb.ai/devdchyeon/DLTHON' target=\"_blank\">Weights & Biases</a> (<a href='https://wandb.me/run' target=\"_blank\">docs</a>)<br/>Sweep page: <a href='https://wandb.ai/devdchyeon/DLTHON/sweeps/z3k1w1jj' target=\"_blank\">https://wandb.ai/devdchyeon/DLTHON/sweeps/z3k1w1jj</a>"
      ],
      "text/plain": [
       "<IPython.core.display.HTML object>"
      ]
     },
     "metadata": {},
     "output_type": "display_data"
    },
    {
     "data": {
      "text/html": [
       " View project at <a href='https://wandb.ai/devdchyeon/DLTHON' target=\"_blank\">https://wandb.ai/devdchyeon/DLTHON</a>"
      ],
      "text/plain": [
       "<IPython.core.display.HTML object>"
      ]
     },
     "metadata": {},
     "output_type": "display_data"
    },
    {
     "data": {
      "text/html": [
       " View sweep at <a href='https://wandb.ai/devdchyeon/DLTHON/sweeps/z3k1w1jj' target=\"_blank\">https://wandb.ai/devdchyeon/DLTHON/sweeps/z3k1w1jj</a>"
      ],
      "text/plain": [
       "<IPython.core.display.HTML object>"
      ]
     },
     "metadata": {},
     "output_type": "display_data"
    },
    {
     "data": {
      "text/html": [
       " View run at <a href='https://wandb.ai/devdchyeon/DLTHON/runs/wlzz9gmo' target=\"_blank\">https://wandb.ai/devdchyeon/DLTHON/runs/wlzz9gmo</a>"
      ],
      "text/plain": [
       "<IPython.core.display.HTML object>"
      ]
     },
     "metadata": {},
     "output_type": "display_data"
    },
    {
     "name": "stderr",
     "output_type": "stream",
     "text": [
      "Read 0M words\n",
      "Number of words:  5418\n",
      "Number of labels: 5\n",
      "Progress: 100.0% words/sec/thread:  509176 lr:  0.000000 avg.loss:  0.069464 ETA:   0h 0m 0s  0.1% words/sec/thread:   39109 lr:  0.199835 avg.loss:  1.613349 ETA:   0h 6m 4s\n"
     ]
    },
    {
     "data": {
      "application/vnd.jupyter.widget-view+json": {
       "model_id": "",
       "version_major": 2,
       "version_minor": 0
      },
      "text/plain": [
       "VBox(children=(Label(value='0.002 MB of 0.002 MB uploaded\\r'), FloatProgress(value=1.0, max=1.0)))"
      ]
     },
     "metadata": {},
     "output_type": "display_data"
    },
    {
     "data": {
      "text/html": [
       "<style>\n",
       "    table.wandb td:nth-child(1) { padding: 0 10px; text-align: left ; width: auto;} td:nth-child(2) {text-align: left ; width: 100%}\n",
       "    .wandb-row { display: flex; flex-direction: row; flex-wrap: wrap; justify-content: flex-start; width: 100% }\n",
       "    .wandb-col { display: flex; flex-direction: column; flex-basis: 100%; flex: 1; padding: 10px; }\n",
       "    </style>\n",
       "<div class=\"wandb-row\"><div class=\"wandb-col\"><h3>Run history:</h3><br/><table class=\"wandb\"><tr><td>accuracy</td><td>▁</td></tr></table><br/></div><div class=\"wandb-col\"><h3>Run summary:</h3><br/><table class=\"wandb\"><tr><td>accuracy</td><td>1.0</td></tr></table><br/></div></div>"
      ],
      "text/plain": [
       "<IPython.core.display.HTML object>"
      ]
     },
     "metadata": {},
     "output_type": "display_data"
    },
    {
     "data": {
      "text/html": [
       " View run <strong style=\"color:#cdcd00\">zesty-sweep-50</strong> at: <a href='https://wandb.ai/devdchyeon/DLTHON/runs/wlzz9gmo' target=\"_blank\">https://wandb.ai/devdchyeon/DLTHON/runs/wlzz9gmo</a><br/>Synced 5 W&B file(s), 0 media file(s), 0 artifact file(s) and 0 other file(s)"
      ],
      "text/plain": [
       "<IPython.core.display.HTML object>"
      ]
     },
     "metadata": {},
     "output_type": "display_data"
    },
    {
     "data": {
      "text/html": [
       "Find logs at: <code>./wandb/run-20240626_132711-wlzz9gmo/logs</code>"
      ],
      "text/plain": [
       "<IPython.core.display.HTML object>"
      ]
     },
     "metadata": {},
     "output_type": "display_data"
    }
   ],
   "source": [
    "# Sweep 실행\n",
    "\n",
    "# Sweep 생성\n",
    "sweep_id = wandb.sweep(sweep_config, entity = 'devdchyeon', project=\"DLTHON\")\n",
    "\n",
    "wandb.agent(sweep_id, train, count=50)"
   ]
  },
  {
   "cell_type": "code",
   "execution_count": null,
   "id": "3144367c",
   "metadata": {},
   "outputs": [],
   "source": []
  },
  {
   "cell_type": "code",
   "execution_count": null,
   "id": "301a3d6c",
   "metadata": {},
   "outputs": [],
   "source": []
  },
  {
   "cell_type": "code",
   "execution_count": null,
   "id": "5b2c3290",
   "metadata": {},
   "outputs": [],
   "source": []
  },
  {
   "cell_type": "code",
   "execution_count": null,
   "id": "ecd13032",
   "metadata": {},
   "outputs": [],
   "source": []
  },
  {
   "cell_type": "code",
   "execution_count": null,
   "id": "ebfecae1",
   "metadata": {},
   "outputs": [],
   "source": []
  },
  {
   "cell_type": "markdown",
   "id": "c7749010",
   "metadata": {},
   "source": [
    "# test data"
   ]
  },
  {
   "cell_type": "code",
   "execution_count": null,
   "id": "9d7d49ab",
   "metadata": {},
   "outputs": [],
   "source": [
    "# {\n",
    "#     '협박 대화': 0,\n",
    "#     '갈취 대화': 1,\n",
    "#     '직장 내 괴롭힘 대화': 2,\n",
    "#     '기타 괴롭힘 대화': 3,\n",
    "#     '일반 대화': 4\n",
    "# }"
   ]
  },
  {
   "cell_type": "code",
   "execution_count": null,
   "id": "88ca9fc1",
   "metadata": {},
   "outputs": [],
   "source": [
    "test = pd.read_csv('./data/custom_test.csv')\n",
    "\n",
    "test['conversation'] = test['conversation'].apply(preprocess_sentence)\n",
    "test.head()"
   ]
  },
  {
   "cell_type": "code",
   "execution_count": null,
   "id": "261d8ed0",
   "metadata": {},
   "outputs": [],
   "source": [
    "predictions = model.predict(list(test['conversation']))\n",
    "\n",
    "# return\n",
    "# (labels, probabilities)\n",
    "\n",
    "len(predictions[0])\n"
   ]
  },
  {
   "cell_type": "code",
   "execution_count": null,
   "id": "4974bc55",
   "metadata": {},
   "outputs": [],
   "source": [
    "from collections import Counter\n",
    "\n",
    "results = []\n",
    "for pred in predictions[0]:\n",
    "    pred = pred[0].replace('__label__','')\n",
    "    results.append(pred)\n",
    "\n",
    "# print(results)\n",
    "Counter(results)"
   ]
  },
  {
   "cell_type": "code",
   "execution_count": null,
   "id": "57c7fa8d",
   "metadata": {},
   "outputs": [],
   "source": [
    "# 'label' 값을 기준으로 'class' 컬럼 추가\n",
    "class_dict = {\n",
    "    0: '협박 대화',\n",
    "    1: '갈취 대화',\n",
    "    2: '직장 내 괴롭힘 대화',\n",
    "    3: '기타 괴롭힘 대화',\n",
    "    4: '일반 대화'\n",
    "}"
   ]
  },
  {
   "cell_type": "code",
   "execution_count": null,
   "id": "c7a2afdf",
   "metadata": {},
   "outputs": [],
   "source": [
    "label_df = pd.DataFrame(columns=['label'])\n",
    "test['label'] = results\n",
    "test['label'] = test['label'].astype(int)\n",
    "test['class'] = test['label'].map(class_dict)\n",
    "\n",
    "test.head()\n"
   ]
  },
  {
   "cell_type": "code",
   "execution_count": null,
   "id": "62fb0896",
   "metadata": {},
   "outputs": [],
   "source": [
    "samples= test.sample(100)\n",
    "\n",
    "for text,class_name in zip(samples['conversation'],samples['class']):\n",
    "    print('-'*30)\n",
    "    print(text)\n",
    "    print(class_name)"
   ]
  },
  {
   "cell_type": "markdown",
   "id": "f5588afc",
   "metadata": {},
   "source": [
    "# submission"
   ]
  },
  {
   "cell_type": "code",
   "execution_count": null,
   "id": "e9911711",
   "metadata": {},
   "outputs": [],
   "source": [
    "submission = pd.read_csv('./data/submission.csv')\n",
    "submission['class'] = test['label']"
   ]
  },
  {
   "cell_type": "code",
   "execution_count": null,
   "id": "17f2a32a",
   "metadata": {},
   "outputs": [],
   "source": [
    "submission.head()"
   ]
  },
  {
   "cell_type": "code",
   "execution_count": null,
   "id": "e53cbd42",
   "metadata": {},
   "outputs": [],
   "source": [
    "submission.to_csv('my_submission.csv', index=False)"
   ]
  },
  {
   "cell_type": "code",
   "execution_count": null,
   "id": "89f60444",
   "metadata": {},
   "outputs": [],
   "source": [
    "\n",
    "text = ('장애인이라고 너무 무시하시는거 아닌가요 ? 무시라니요 . 못 따라 오는거 같아보이던데 . 지혜는 따라가려고 노력한다는데 선생님께서 기회를 안주신다고 해서요 . 무슨말이에요 . 지혜가 그래요 ? 수업시간에 활동할 때에도 친구들 도와주는 보조역할만 시키신다고 그래서요 . 네 ? 그거야 지헤는 못하잖아요 . 할줄 아는게 뭐가 있어요 . 선생님이 도와주시면 충분히 지혜도 또래들과 어울릴 수 있는데 . 아니요 . 지혜가 어떻게 일반 아이들과 따라가요 . 따라갈 수도 있죠 . 지혜가 학급에 있는건 다른 친구들에게 모욕이에요 .')\n",
    "\n",
    "labels, probabilities = model.predict(text, k=-1)  # k=-1이면 모든 클래스에 대한 확률을 반환\n",
    "\n",
    "print(f\"Text: {text}\")\n",
    "for label, probability in zip(labels, probabilities):\n",
    "    print(f\"  {label}: {probability:.4f}\")\n"
   ]
  },
  {
   "cell_type": "code",
   "execution_count": 13,
   "id": "37a75ba6",
   "metadata": {},
   "outputs": [
    {
     "ename": "NameError",
     "evalue": "name 'test' is not defined",
     "output_type": "error",
     "traceback": [
      "\u001b[0;31m---------------------------------------------------------------------------\u001b[0m",
      "\u001b[0;31mNameError\u001b[0m                                 Traceback (most recent call last)",
      "\u001b[0;32m/tmp/ipykernel_3747/3160757570.py\u001b[0m in \u001b[0;36m<module>\u001b[0;34m\u001b[0m\n\u001b[0;32m----> 1\u001b[0;31m \u001b[0mlen\u001b[0m\u001b[0;34m(\u001b[0m\u001b[0mtest\u001b[0m\u001b[0;34m[\u001b[0m\u001b[0mtest\u001b[0m\u001b[0;34m[\u001b[0m\u001b[0;34m'label'\u001b[0m\u001b[0;34m]\u001b[0m \u001b[0;34m==\u001b[0m \u001b[0;36m4\u001b[0m\u001b[0;34m]\u001b[0m\u001b[0;34m)\u001b[0m\u001b[0;34m\u001b[0m\u001b[0;34m\u001b[0m\u001b[0m\n\u001b[0m",
      "\u001b[0;31mNameError\u001b[0m: name 'test' is not defined"
     ]
    }
   ],
   "source": []
  },
  {
   "cell_type": "code",
   "execution_count": null,
   "id": "dc26183c",
   "metadata": {},
   "outputs": [],
   "source": []
  }
 ],
 "metadata": {
  "kernelspec": {
   "display_name": "Python 3 (ipykernel)",
   "language": "python",
   "name": "python3"
  },
  "language_info": {
   "codemirror_mode": {
    "name": "ipython",
    "version": 3
   },
   "file_extension": ".py",
   "mimetype": "text/x-python",
   "name": "python",
   "nbconvert_exporter": "python",
   "pygments_lexer": "ipython3",
   "version": "3.9.7"
  }
 },
 "nbformat": 4,
 "nbformat_minor": 5
}
