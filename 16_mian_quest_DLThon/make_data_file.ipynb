{
 "cells": [
  {
   "cell_type": "markdown",
   "id": "b63de8ba",
   "metadata": {},
   "source": [
    "# train data에 '일반 대화' 추가\n",
    "- 결과파일명: custom_train.csv"
   ]
  },
  {
   "cell_type": "code",
   "execution_count": 2,
   "id": "ae02f325",
   "metadata": {},
   "outputs": [
    {
     "data": {
      "text/html": [
       "<div>\n",
       "<style scoped>\n",
       "    .dataframe tbody tr th:only-of-type {\n",
       "        vertical-align: middle;\n",
       "    }\n",
       "\n",
       "    .dataframe tbody tr th {\n",
       "        vertical-align: top;\n",
       "    }\n",
       "\n",
       "    .dataframe thead th {\n",
       "        text-align: right;\n",
       "    }\n",
       "</style>\n",
       "<table border=\"1\" class=\"dataframe\">\n",
       "  <thead>\n",
       "    <tr style=\"text-align: right;\">\n",
       "      <th></th>\n",
       "      <th>idx</th>\n",
       "      <th>class</th>\n",
       "      <th>conversation</th>\n",
       "    </tr>\n",
       "  </thead>\n",
       "  <tbody>\n",
       "    <tr>\n",
       "      <th>0</th>\n",
       "      <td>0</td>\n",
       "      <td>협박 대화</td>\n",
       "      <td>지금 너 스스로를 죽여달라고 애원하는 것인가?\\n 아닙니다. 죄송합니다.\\n 죽을 ...</td>\n",
       "    </tr>\n",
       "    <tr>\n",
       "      <th>1</th>\n",
       "      <td>1</td>\n",
       "      <td>협박 대화</td>\n",
       "      <td>길동경찰서입니다.\\n9시 40분 마트에 폭발물을 설치할거다.\\n네?\\n똑바로 들어 ...</td>\n",
       "    </tr>\n",
       "    <tr>\n",
       "      <th>2</th>\n",
       "      <td>2</td>\n",
       "      <td>기타 괴롭힘 대화</td>\n",
       "      <td>너 되게 귀여운거 알지? 나보다 작은 남자는 첨봤어.\\n그만해. 니들 놀리는거 재미...</td>\n",
       "    </tr>\n",
       "    <tr>\n",
       "      <th>3</th>\n",
       "      <td>3</td>\n",
       "      <td>갈취 대화</td>\n",
       "      <td>어이 거기\\n예??\\n너 말이야 너. 이리 오라고\\n무슨 일.\\n너 옷 좋아보인다?...</td>\n",
       "    </tr>\n",
       "    <tr>\n",
       "      <th>4</th>\n",
       "      <td>4</td>\n",
       "      <td>갈취 대화</td>\n",
       "      <td>저기요 혹시 날이 너무 뜨겁잖아요? 저희 회사에서 이 선크림 파는데 한 번 손등에 ...</td>\n",
       "    </tr>\n",
       "  </tbody>\n",
       "</table>\n",
       "</div>"
      ],
      "text/plain": [
       "   idx      class                                       conversation\n",
       "0    0      협박 대화  지금 너 스스로를 죽여달라고 애원하는 것인가?\\n 아닙니다. 죄송합니다.\\n 죽을 ...\n",
       "1    1      협박 대화  길동경찰서입니다.\\n9시 40분 마트에 폭발물을 설치할거다.\\n네?\\n똑바로 들어 ...\n",
       "2    2  기타 괴롭힘 대화  너 되게 귀여운거 알지? 나보다 작은 남자는 첨봤어.\\n그만해. 니들 놀리는거 재미...\n",
       "3    3      갈취 대화  어이 거기\\n예??\\n너 말이야 너. 이리 오라고\\n무슨 일.\\n너 옷 좋아보인다?...\n",
       "4    4      갈취 대화  저기요 혹시 날이 너무 뜨겁잖아요? 저희 회사에서 이 선크림 파는데 한 번 손등에 ..."
      ]
     },
     "execution_count": 2,
     "metadata": {},
     "output_type": "execute_result"
    }
   ],
   "source": [
    "import pandas as pd\n",
    "\n",
    "base_data_path = '/aiffel/aiffel/workspace/16_dlthon_1/data/'\n",
    "\n",
    "train = pd.read_csv(base_data_path + 'train.csv')\n",
    "train.head()"
   ]
  },
  {
   "cell_type": "code",
   "execution_count": 2,
   "id": "d4a4693c",
   "metadata": {},
   "outputs": [
    {
     "name": "stdout",
     "output_type": "stream",
     "text": [
      "전체 갯수 3950\n",
      "class 종류: 직장 내 괴롭힘 대화 협박 대화 갈취 대화 기타 괴롭힘 대화\n",
      "class 협박 대화 896\n",
      "class 갈취 대화 981\n",
      "class 직장 내 괴롭힘 대화 979\n",
      "class 기타 괴롭힘 대화 1094\n"
     ]
    },
    {
     "data": {
      "text/plain": [
       "count    3950.000000\n",
       "mean      226.570886\n",
       "std       104.560310\n",
       "min        41.000000\n",
       "25%       156.000000\n",
       "50%       203.000000\n",
       "75%       270.000000\n",
       "max       874.000000\n",
       "Name: conversation, dtype: float64"
      ]
     },
     "execution_count": 2,
     "metadata": {},
     "output_type": "execute_result"
    }
   ],
   "source": [
    "print('전체 갯수',len(train))\n",
    "print('class 종류:', *set(train['class']))\n",
    "print('class 협박 대화', len(train[train['class'] == '협박 대화']))\n",
    "print('class 갈취 대화', len(train[train['class'] == '갈취 대화']))\n",
    "print('class 직장 내 괴롭힘 대화', len(train[train['class'] == '직장 내 괴롭힘 대화']))\n",
    "print('class 기타 괴롭힘 대화', len(train[train['class'] == '기타 괴롭힘 대화']))\n",
    "len(train['conversation'][0])\n",
    "train['conversation'].apply(len).describe()"
   ]
  },
  {
   "cell_type": "code",
   "execution_count": 3,
   "id": "bd0006b0",
   "metadata": {},
   "outputs": [],
   "source": [
    "import os\n",
    "\n",
    "# /aiffel/aiffel/workspace/16_dlthon_1/data/normal_conversation\n",
    "\n",
    "dirs_normal_text = ['./data/normal_conversation/02_label_data/session2/',\n",
    "                    './data/normal_conversation/02_label_data/session3/',\n",
    "                     './data/normal_conversation/02_label_data/session4/']\n",
    "\n",
    "total_path = []\n",
    "for dirs in dirs_normal_text:\n",
    "    for file_path in os.listdir(dirs):\n",
    "        total_path.append(dirs+file_path)\n",
    "        \n",
    "# total path 확인용\n",
    "# for path in total_path:\n",
    "#     print(path)"
   ]
  },
  {
   "cell_type": "code",
   "execution_count": 4,
   "id": "dd9736fc",
   "metadata": {},
   "outputs": [
    {
     "name": "stdout",
     "output_type": "stream",
     "text": [
      "1100\n",
      "안녕하세요 5주만에 만나서 반가워요네 반가워요. 요즘 영월에서 전통 민속놀이를 하고 있는데, 보신적 있나요?무슨민속놀이 하는데요 궁금해요단종의 죽음을 기리는 민속놀이라고 합니다.아 슬픈거내요 전 생소해서 그런건슬프긴 하지만 한 번쯤 가서 볼만 합니다. 보러 가세요.민속놀이는 투구던지기 알아요?투구던지기 알죠. 잘 던지시나요?잘던져요 저는 소질이 있나봐요최고 잘 던진 기록은 얼마인가요?백미터정도요 ㅋㅋ 농담이고요 \n"
     ]
    }
   ],
   "source": [
    "import json\n",
    "\n",
    "results = []\n",
    "\n",
    "for path in total_path:\n",
    "    \n",
    "    with open(path, 'r') as f:\n",
    "        json_data = json.load(f)\n",
    "\n",
    "        for session in json_data['sessionInfo']:\n",
    "\n",
    "            tmp_text = ''\n",
    "            for log in session['dialog']:\n",
    "                tmp_text += log['utterance']\n",
    "\n",
    "                # 평균 길이보다 크면 break\n",
    "                if len(tmp_text) >= 226:\n",
    "                    results.append(tmp_text)\n",
    "                    tmp_text = ''\n",
    "                    break\n",
    " \n",
    "print(len(results))\n",
    "print(results[3])\n"
   ]
  },
  {
   "cell_type": "code",
   "execution_count": 5,
   "id": "19c9b838",
   "metadata": {},
   "outputs": [],
   "source": [
    "results_df = pd.DataFrame(\n",
    "    {\n",
    "        'idx': range(3950, 3950+len(results)),\n",
    "        'class': ['일반 대화']*len(results),\n",
    "        'conversation':results\n",
    "    }\n",
    ")\n",
    "\n",
    "train = pd.concat([train, results_df], ignore_index=True)"
   ]
  },
  {
   "cell_type": "code",
   "execution_count": 6,
   "id": "187abdea",
   "metadata": {},
   "outputs": [
    {
     "name": "stdout",
     "output_type": "stream",
     "text": [
      "전체 갯수 5050\n",
      "class 종류: 기타 괴롭힘 대화 직장 내 괴롭힘 대화 일반 대화 협박 대화 갈취 대화\n",
      "class 협박 대화 896\n",
      "class 갈취 대화 981\n",
      "class 직장 내 괴롭힘 대화 979\n",
      "class 기타 괴롭힘 대화 1094\n"
     ]
    },
    {
     "data": {
      "text/plain": [
       "count    5050.000000\n",
       "mean      230.886535\n",
       "std        93.135962\n",
       "min        41.000000\n",
       "25%       169.250000\n",
       "50%       229.000000\n",
       "75%       261.000000\n",
       "max       874.000000\n",
       "Name: conversation, dtype: float64"
      ]
     },
     "execution_count": 6,
     "metadata": {},
     "output_type": "execute_result"
    }
   ],
   "source": [
    "# 확인용\n",
    "print('전체 갯수',len(train))\n",
    "print('class 종류:', *set(train['class']))\n",
    "print('class 협박 대화', len(train[train['class'] == '협박 대화']))\n",
    "print('class 갈취 대화', len(train[train['class'] == '갈취 대화']))\n",
    "print('class 직장 내 괴롭힘 대화', len(train[train['class'] == '직장 내 괴롭힘 대화']))\n",
    "print('class 기타 괴롭힘 대화', len(train[train['class'] == '기타 괴롭힘 대화']))\n",
    "len(train['conversation'][0])\n",
    "train['conversation'].apply(len).describe()"
   ]
  },
  {
   "cell_type": "code",
   "execution_count": 7,
   "id": "3fe3cdfc",
   "metadata": {},
   "outputs": [],
   "source": [
    "train.to_csv('./data/custom_train.csv', index=False)"
   ]
  },
  {
   "cell_type": "markdown",
   "id": "29cb5181",
   "metadata": {},
   "source": [
    "# test 데이터 csv로\n",
    "- 결과파일명 : custom_test.csv"
   ]
  },
  {
   "cell_type": "code",
   "execution_count": 21,
   "id": "cee624d2",
   "metadata": {},
   "outputs": [],
   "source": [
    "import json\n",
    "\n",
    "with open(base_data_path+'test.json', 'r') as read_file:\n",
    "    org_datas = json.load(read_file)\n",
    "\n",
    "test_datas = []\n",
    "\n",
    "for key in org_datas:\n",
    "    test_datas.append(org_datas[key]['text'])\n",
    "\n",
    "test = pd.DataFrame(test_datas,columns=['conversation'])\n",
    "\n",
    "test.to_csv('./data/custom_test.csv', index=False)"
   ]
  },
  {
   "cell_type": "markdown",
   "id": "2ea42ce7",
   "metadata": {},
   "source": [
    "# norm_text 파일 전처리"
   ]
  },
  {
   "cell_type": "code",
   "execution_count": 1,
   "id": "9a1fb04e",
   "metadata": {},
   "outputs": [],
   "source": [
    "import os\n",
    "\n",
    "\n",
    "base_dir = '/aiffel/aiffel/workspace/16_dlthon_1/data/normal_conversation2/test/'\n",
    "\n",
    "total_path = []\n",
    "\n",
    "for file_path in os.listdir(base_dir):\n",
    "    total_path.append(base_dir+file_path)"
   ]
  },
  {
   "cell_type": "code",
   "execution_count": 2,
   "id": "ac78af83",
   "metadata": {},
   "outputs": [
    {
     "name": "stdout",
     "output_type": "stream",
     "text": [
      "63516\n"
     ]
    }
   ],
   "source": [
    "import json\n",
    "\n",
    "results = []\n",
    "\n",
    "for path in total_path:\n",
    "    with open(path, 'r') as f:\n",
    "        json_data = json.load(f)\n",
    "\n",
    "        tmp_text = ''\n",
    "        for lines in json_data['info'][0]['annotations']['lines']:\n",
    "            tmp_text += lines['norm_text']\n",
    "    \n",
    "            # 평균 길이보다 크면 break\n",
    "            if len(tmp_text) >= 226:\n",
    "                results.append(tmp_text)\n",
    "                tmp_text = ''\n",
    "                break\n",
    "            \n",
    " \n",
    "print(len(results))\n",
    "# print(results[3])\n"
   ]
  },
  {
   "cell_type": "code",
   "execution_count": 3,
   "id": "9baefca7",
   "metadata": {},
   "outputs": [
    {
     "name": "stdout",
     "output_type": "stream",
     "text": [
      "235\n",
      "마켓컬리 할인쿠폰은 받았어?아니 어제 들어갔드니 품절이든데이거?어 그런거 같애아쉽네. 나는 어제 받았는데 보니까 적립금도 7000원이나 있더라 하하크크 좋겠다 나는 받을려고 했는데 늦었나봐 안되게근데 적립금없으면 그래도 16000원 써야되는거라서배송비가 붙어서 그리 되는건가 ?응 우리는 신규가 아니라서 4만이상 주문해야 무료배송인데4만이상이라니.그러면 별로 할인율이 안올라가지뭐살지는 골랏어 ? 마켓컬리 대부분 맛있든데\n",
      "/aiffel/aiffel/workspace/16_dlthon_1/data/normal_conversation2/test/KAKAO_1451_19.json\n"
     ]
    }
   ],
   "source": [
    "sample = results[4]\n",
    "\n",
    "print(len(sample))\n",
    "print(sample)\n",
    "\n",
    "print(total_path[0])"
   ]
  },
  {
   "cell_type": "code",
   "execution_count": 4,
   "id": "7521b90e",
   "metadata": {},
   "outputs": [
    {
     "data": {
      "text/plain": [
       "3950"
      ]
     },
     "execution_count": 4,
     "metadata": {},
     "output_type": "execute_result"
    }
   ],
   "source": [
    "import pandas as pd\n",
    "\n",
    "base_data_path = '/aiffel/aiffel/workspace/16_dlthon_1/data/'\n",
    "\n",
    "train = pd.read_csv(base_data_path + 'train.csv')\n",
    "\n",
    "import random\n",
    "\n",
    "samples = random.sample(results, 2000)\n",
    "\n",
    "len(train)"
   ]
  },
  {
   "cell_type": "code",
   "execution_count": 5,
   "id": "165d870d",
   "metadata": {},
   "outputs": [],
   "source": [
    "import re\n",
    "\n",
    "def preprocess_sentence(sentence, stopwords=None):\n",
    "    # 개행자 삭제\n",
    "    sentence = re.sub(r'[\\n\\r]', ' ', sentence)\n",
    "    \n",
    "    # 단어와 구두점(punctuation) 사이의 거리를 만듭니다.\n",
    "    # 예를 들어서 \"I am a student.\" => \"I am a student .\"와 같이\n",
    "    # student와 온점 사이에 거리를 만듭니다. \n",
    "    sentence = re.sub(r\"([?.!,])\", r\" \\1 \", sentence)\n",
    "    sentence = re.sub(r'[\" \"]+', \" \", sentence)\n",
    "\n",
    "    # (a-z, A-Z,가-힣,0-9, \".\", \"?\", \"!\", \",\")를 제외한 모든 문자를 공백인 ' '로 대체합니다.\n",
    "    sentence = re.sub(r\"[^a-zA-Z가-힣0-9\\.\\?\\!,]\", \" \", sentence)\n",
    "    sentence = sentence.strip()\n",
    "\n",
    "    # '키키'와 같이 연속된 키를 제거합니다.\n",
    "    sentence = re.sub(r'키{2,}', '', sentence)\n",
    "    sentence = re.sub(r'\\b키\\b', '', sentence)\n",
    "\n",
    "    if stopwords:\n",
    "        words = sentence.split()\n",
    "        filtered_words = [word for word in words if word not in stopwords]\n",
    "        sentence = ' '.join(filtered_words)\n",
    "\n",
    "    return sentence\n",
    "\n",
    "def augmentation(data):\n",
    "    import pandas as pd\n",
    "    def split_text(text):\n",
    "        half_index = len(text) // 2\n",
    "        return text[:half_index], text[half_index:]\n",
    "    \n",
    "    new_data = {\n",
    "        'idx': [],\n",
    "        'class': [],\n",
    "        'conversation': [],\n",
    "        'label': []\n",
    "        }\n",
    "\n",
    "    for idx, row in data.iterrows():\n",
    "        part1, part2 = split_text(row['conversation'])\n",
    "        new_data['idx'].append(row['idx'])\n",
    "        new_data['class'].append(row['class'])\n",
    "        new_data['conversation'].append(part1)\n",
    "        new_data['label'].append(row['label'])\n",
    "        \n",
    "        new_data['idx'].append(row['idx'])\n",
    "        new_data['class'].append(row['class'])\n",
    "        new_data['conversation'].append(part2)\n",
    "        new_data['label'].append(row['label'])\n",
    "\n",
    "    new_df = pd.DataFrame(new_data)\n",
    "    \n",
    "    return new_df"
   ]
  },
  {
   "cell_type": "code",
   "execution_count": 6,
   "id": "68d75efb",
   "metadata": {},
   "outputs": [],
   "source": [
    "train['conversation'] = train['conversation'].apply(preprocess_sentence)"
   ]
  },
  {
   "cell_type": "code",
   "execution_count": 7,
   "id": "f4a20c7f",
   "metadata": {},
   "outputs": [],
   "source": [
    "# 'class' 값을 기준으로 'label' 컬럼 추가\n",
    "label_dict = {\n",
    "    '협박 대화': 0,\n",
    "    '갈취 대화': 1,\n",
    "    '직장 내 괴롭힘 대화': 2,\n",
    "    '기타 괴롭힘 대화': 3,\n",
    "    '일반 대화': 4\n",
    "}\n",
    "\n",
    "train['label'] = train['class'].map(label_dict)"
   ]
  },
  {
   "cell_type": "code",
   "execution_count": 8,
   "id": "0da12f50",
   "metadata": {},
   "outputs": [],
   "source": [
    "train = augmentation(train)"
   ]
  },
  {
   "cell_type": "code",
   "execution_count": 9,
   "id": "8e56988d",
   "metadata": {},
   "outputs": [],
   "source": [
    "results_df = pd.DataFrame(\n",
    "    {\n",
    "        'idx': range(3950, 3950+len(samples)),\n",
    "        'class': ['일반 대화']*len(samples),\n",
    "        'conversation':samples\n",
    "    }\n",
    ")"
   ]
  },
  {
   "cell_type": "code",
   "execution_count": 10,
   "id": "e5581a6b",
   "metadata": {},
   "outputs": [],
   "source": [
    "results_df['conversation'] = results_df['conversation'].apply(preprocess_sentence)"
   ]
  },
  {
   "cell_type": "code",
   "execution_count": 11,
   "id": "333d2328",
   "metadata": {},
   "outputs": [
    {
     "data": {
      "text/html": [
       "<div>\n",
       "<style scoped>\n",
       "    .dataframe tbody tr th:only-of-type {\n",
       "        vertical-align: middle;\n",
       "    }\n",
       "\n",
       "    .dataframe tbody tr th {\n",
       "        vertical-align: top;\n",
       "    }\n",
       "\n",
       "    .dataframe thead th {\n",
       "        text-align: right;\n",
       "    }\n",
       "</style>\n",
       "<table border=\"1\" class=\"dataframe\">\n",
       "  <thead>\n",
       "    <tr style=\"text-align: right;\">\n",
       "      <th></th>\n",
       "      <th>idx</th>\n",
       "      <th>class</th>\n",
       "      <th>conversation</th>\n",
       "      <th>label</th>\n",
       "    </tr>\n",
       "  </thead>\n",
       "  <tbody>\n",
       "    <tr>\n",
       "      <th>0</th>\n",
       "      <td>3950</td>\n",
       "      <td>일반 대화</td>\n",
       "      <td>집에 오락실에 있는 커다란 게임기 하나 사두고 싶은데 괜찮을까 ? 남자들의 로망이지...</td>\n",
       "      <td>4</td>\n",
       "    </tr>\n",
       "    <tr>\n",
       "      <th>1</th>\n",
       "      <td>3951</td>\n",
       "      <td>일반 대화</td>\n",
       "      <td>번화가에 신호가 없어서 교통 질서가 엉망이야 . 나도 매번 갈 때 마다 느껴 . 너...</td>\n",
       "      <td>4</td>\n",
       "    </tr>\n",
       "    <tr>\n",
       "      <th>2</th>\n",
       "      <td>3952</td>\n",
       "      <td>일반 대화</td>\n",
       "      <td>수요일에 시간있어 ? 수요일엔 왜 ? 아 언니랑 조카 오거든오랜만에 만나는거 아니니...</td>\n",
       "      <td>4</td>\n",
       "    </tr>\n",
       "    <tr>\n",
       "      <th>3</th>\n",
       "      <td>3953</td>\n",
       "      <td>일반 대화</td>\n",
       "      <td>이번에 어떤 병원에서 60대 환자가 죽었대 ! 헐 어쩌다가 그렇게 된 거야 ? 완전...</td>\n",
       "      <td>4</td>\n",
       "    </tr>\n",
       "    <tr>\n",
       "      <th>4</th>\n",
       "      <td>3954</td>\n",
       "      <td>일반 대화</td>\n",
       "      <td>나 요즘 지뢰찾기 게임에 빠졌어지뢰찾기 ? 진짜 오랜만에 들어본다 . 지뢰찾기게임 ...</td>\n",
       "      <td>4</td>\n",
       "    </tr>\n",
       "  </tbody>\n",
       "</table>\n",
       "</div>"
      ],
      "text/plain": [
       "    idx  class                                       conversation  label\n",
       "0  3950  일반 대화  집에 오락실에 있는 커다란 게임기 하나 사두고 싶은데 괜찮을까 ? 남자들의 로망이지...      4\n",
       "1  3951  일반 대화  번화가에 신호가 없어서 교통 질서가 엉망이야 . 나도 매번 갈 때 마다 느껴 . 너...      4\n",
       "2  3952  일반 대화  수요일에 시간있어 ? 수요일엔 왜 ? 아 언니랑 조카 오거든오랜만에 만나는거 아니니...      4\n",
       "3  3953  일반 대화  이번에 어떤 병원에서 60대 환자가 죽었대 ! 헐 어쩌다가 그렇게 된 거야 ? 완전...      4\n",
       "4  3954  일반 대화  나 요즘 지뢰찾기 게임에 빠졌어지뢰찾기 ? 진짜 오랜만에 들어본다 . 지뢰찾기게임 ...      4"
      ]
     },
     "execution_count": 11,
     "metadata": {},
     "output_type": "execute_result"
    }
   ],
   "source": [
    "results_df['label'] = results_df['class'].map(label_dict)\n",
    "results_df.head()"
   ]
  },
  {
   "cell_type": "code",
   "execution_count": 12,
   "id": "741729a0",
   "metadata": {},
   "outputs": [],
   "source": [
    "train = pd.concat([train, results_df], ignore_index=True)"
   ]
  },
  {
   "cell_type": "code",
   "execution_count": 13,
   "id": "c2f27c9f",
   "metadata": {},
   "outputs": [
    {
     "name": "stdout",
     "output_type": "stream",
     "text": [
      "전체 갯수 9900\n",
      "class 종류: 일반 대화 갈취 대화 직장 내 괴롭힘 대화 기타 괴롭힘 대화 협박 대화\n",
      "class 협박 대화 1792\n",
      "class 갈취 대화 1962\n",
      "class 직장 내 괴롭힘 대화 1958\n",
      "class 기타 괴롭힘 대화 2188\n",
      "class 일반 대화 2000\n"
     ]
    },
    {
     "data": {
      "text/plain": [
       "count    9900.000000\n",
       "mean      143.638485\n",
       "std        70.691633\n",
       "min        20.000000\n",
       "25%        88.000000\n",
       "50%       121.000000\n",
       "75%       209.000000\n",
       "max       455.000000\n",
       "Name: conversation, dtype: float64"
      ]
     },
     "execution_count": 13,
     "metadata": {},
     "output_type": "execute_result"
    }
   ],
   "source": [
    "# 확인용\n",
    "print('전체 갯수',len(train))\n",
    "print('class 종류:', *set(train['class']))\n",
    "print('class 협박 대화', len(train[train['class'] == '협박 대화']))\n",
    "print('class 갈취 대화', len(train[train['class'] == '갈취 대화']))\n",
    "print('class 직장 내 괴롭힘 대화', len(train[train['class'] == '직장 내 괴롭힘 대화']))\n",
    "print('class 기타 괴롭힘 대화', len(train[train['class'] == '기타 괴롭힘 대화']))\n",
    "print('class 일반 대화', len(train[train['class'] == '일반 대화']))\n",
    "\n",
    "len(train['conversation'][0])\n",
    "train['conversation'].apply(len).describe()\n"
   ]
  },
  {
   "cell_type": "code",
   "execution_count": 14,
   "id": "1f82d0aa",
   "metadata": {},
   "outputs": [
    {
     "data": {
      "text/html": [
       "<div>\n",
       "<style scoped>\n",
       "    .dataframe tbody tr th:only-of-type {\n",
       "        vertical-align: middle;\n",
       "    }\n",
       "\n",
       "    .dataframe tbody tr th {\n",
       "        vertical-align: top;\n",
       "    }\n",
       "\n",
       "    .dataframe thead th {\n",
       "        text-align: right;\n",
       "    }\n",
       "</style>\n",
       "<table border=\"1\" class=\"dataframe\">\n",
       "  <thead>\n",
       "    <tr style=\"text-align: right;\">\n",
       "      <th></th>\n",
       "      <th>idx</th>\n",
       "      <th>class</th>\n",
       "      <th>conversation</th>\n",
       "      <th>label</th>\n",
       "    </tr>\n",
       "  </thead>\n",
       "  <tbody>\n",
       "    <tr>\n",
       "      <th>0</th>\n",
       "      <td>0</td>\n",
       "      <td>협박 대화</td>\n",
       "      <td>지금 너 스스로를 죽여달라고 애원하는 것인가 ? 아닙니다 . 죄송합니다 . 죽을 거...</td>\n",
       "      <td>0</td>\n",
       "    </tr>\n",
       "    <tr>\n",
       "      <th>1</th>\n",
       "      <td>0</td>\n",
       "      <td>협박 대화</td>\n",
       "      <td>. 죄송합니다 . 정말 잘못했습니다 . 너에게는 선택권이 없어 . 선택 못한다면 너...</td>\n",
       "      <td>0</td>\n",
       "    </tr>\n",
       "    <tr>\n",
       "      <th>2</th>\n",
       "      <td>1</td>\n",
       "      <td>협박 대화</td>\n",
       "      <td>길동경찰서입니다 . 9시 40분 마트에 폭발물을 설치할거다 . 네 ? 똑바로 들어 ...</td>\n",
       "      <td>0</td>\n",
       "    </tr>\n",
       "    <tr>\n",
       "      <th>3</th>\n",
       "      <td>1</td>\n",
       "      <td>협박 대화</td>\n",
       "      <td>. 장난전화는 업무방해죄에 해당됩니다 . 판단은 너에게 달려있다 . 길동경찰서에도...</td>\n",
       "      <td>0</td>\n",
       "    </tr>\n",
       "    <tr>\n",
       "      <th>4</th>\n",
       "      <td>2</td>\n",
       "      <td>기타 괴롭힘 대화</td>\n",
       "      <td>너 되게 귀여운거 알지 ? 나보다 작은 남자는 첨봤어 . 그만해 . 니들 놀리는거 ...</td>\n",
       "      <td>3</td>\n",
       "    </tr>\n",
       "  </tbody>\n",
       "</table>\n",
       "</div>"
      ],
      "text/plain": [
       "   idx      class                                       conversation  label\n",
       "0    0      협박 대화  지금 너 스스로를 죽여달라고 애원하는 것인가 ? 아닙니다 . 죄송합니다 . 죽을 거...      0\n",
       "1    0      협박 대화  . 죄송합니다 . 정말 잘못했습니다 . 너에게는 선택권이 없어 . 선택 못한다면 너...      0\n",
       "2    1      협박 대화  길동경찰서입니다 . 9시 40분 마트에 폭발물을 설치할거다 . 네 ? 똑바로 들어 ...      0\n",
       "3    1      협박 대화   . 장난전화는 업무방해죄에 해당됩니다 . 판단은 너에게 달려있다 . 길동경찰서에도...      0\n",
       "4    2  기타 괴롭힘 대화  너 되게 귀여운거 알지 ? 나보다 작은 남자는 첨봤어 . 그만해 . 니들 놀리는거 ...      3"
      ]
     },
     "execution_count": 14,
     "metadata": {},
     "output_type": "execute_result"
    }
   ],
   "source": [
    "train.head()"
   ]
  },
  {
   "cell_type": "code",
   "execution_count": 81,
   "id": "f415e25e",
   "metadata": {},
   "outputs": [],
   "source": [
    "train.to_csv('./data/custom_train_2.csv', index=False)"
   ]
  },
  {
   "cell_type": "code",
   "execution_count": null,
   "id": "2b77ea66",
   "metadata": {},
   "outputs": [],
   "source": []
  }
 ],
 "metadata": {
  "kernelspec": {
   "display_name": "Python 3 (ipykernel)",
   "language": "python",
   "name": "python3"
  },
  "language_info": {
   "codemirror_mode": {
    "name": "ipython",
    "version": 3
   },
   "file_extension": ".py",
   "mimetype": "text/x-python",
   "name": "python",
   "nbconvert_exporter": "python",
   "pygments_lexer": "ipython3",
   "version": "3.9.7"
  }
 },
 "nbformat": 4,
 "nbformat_minor": 5
}
